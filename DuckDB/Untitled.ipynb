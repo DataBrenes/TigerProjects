{
 "cells": [
  {
   "cell_type": "markdown",
   "id": "8fb8fc11",
   "metadata": {},
   "source": [
    "This Notebook is to build our the first phase of duckDB in the check new module "
   ]
  },
  {
   "cell_type": "code",
   "execution_count": 2,
   "id": "d6ef4fdc",
   "metadata": {},
   "outputs": [],
   "source": [
    "import duckdb"
   ]
  },
  {
   "cell_type": "code",
   "execution_count": 69,
   "id": "2e2fd5fa",
   "metadata": {},
   "outputs": [],
   "source": [
    "# gw_con = duckdb.connect(database='database/grandwelcome.duckdb', read_only=False)\n",
    "# gw_con.execute(\"Import DATABASE 'database'\")"
   ]
  },
  {
   "cell_type": "code",
   "execution_count": 49,
   "id": "b49519ee",
   "metadata": {},
   "outputs": [],
   "source": [
    "import duckdb\n",
    "\n",
    "def checkNewRes(res_df):\n",
    "    # create gwdb\n",
    "    gw_con = duckdb.connect(database='database/grandwelcome.db', read_only=False) \n",
    "    gw_con.execute(\"CREATE TABLE online AS SELECT * FROM res_df\")\n",
    "    new=gw_con.execute(\"Select * from online where Res_ID NOT IN (Select Res_ID from gw_res)\").df()   \n",
    "    gw_con.execute(\"drop table IF EXISTS online\")\n",
    "    if len(new) > 0:\n",
    "        new\n",
    "        addnew = gw_con.df(new)\n",
    "        # add new to database \n",
    "        addnew.insert_into(\"gw_res\")   \n",
    "        gw_con.execute(\"Export DATABASE 'database'\")\n",
    "    gw_con.close()\n",
    "    return new\n",
    "    "
   ]
  },
  {
   "cell_type": "code",
   "execution_count": 112,
   "id": "1593c0c8",
   "metadata": {},
   "outputs": [
    {
     "data": {
      "text/plain": [
       "[('breakdown_dashboard',), ('cfrm',), ('gw_res',)]"
      ]
     },
     "execution_count": 112,
     "metadata": {},
     "output_type": "execute_result"
    }
   ],
   "source": [
    "gw_con.execute(\"Show Tables\").fetchall()"
   ]
  },
  {
   "cell_type": "code",
   "execution_count": 105,
   "id": "6220c909",
   "metadata": {},
   "outputs": [
    {
     "ename": "CatalogException",
     "evalue": "Catalog Error: Table with name \"breakdown_dashboard\" already exists!",
     "output_type": "error",
     "traceback": [
      "\u001b[0;31m---------------------------------------------------------------------------\u001b[0m",
      "\u001b[0;31mCatalogException\u001b[0m                          Traceback (most recent call last)",
      "Input \u001b[0;32mIn [105]\u001b[0m, in \u001b[0;36m<cell line: 1>\u001b[0;34m()\u001b[0m\n\u001b[0;32m----> 1\u001b[0m \u001b[43mgw_con\u001b[49m\u001b[38;5;241;43m.\u001b[39;49m\u001b[43mexecute\u001b[49m\u001b[43m(\u001b[49m\u001b[38;5;124;43m\"\u001b[39;49m\u001b[38;5;124;43mImport DATABASE \u001b[39;49m\u001b[38;5;124;43m'\u001b[39;49m\u001b[38;5;124;43mdatabase\u001b[39;49m\u001b[38;5;124;43m'\u001b[39;49m\u001b[38;5;124;43m\"\u001b[39;49m\u001b[43m)\u001b[49m\n",
      "\u001b[0;31mCatalogException\u001b[0m: Catalog Error: Table with name \"breakdown_dashboard\" already exists!"
     ]
    }
   ],
   "source": [
    "gw_con.execute(\"Import DATABASE 'database'\")"
   ]
  },
  {
   "cell_type": "code",
   "execution_count": 106,
   "id": "9c7ad84c",
   "metadata": {},
   "outputs": [
    {
     "data": {
      "text/plain": [
       "<duckdb.DuckDBPyConnection at 0x7f4acd32d370>"
      ]
     },
     "execution_count": 106,
     "metadata": {},
     "output_type": "execute_result"
    }
   ],
   "source": [
    "gw_con.execute(\"Export DATABASE 'database' (FORMAT PARQUET)\")"
   ]
  },
  {
   "cell_type": "code",
   "execution_count": 121,
   "id": "185df182",
   "metadata": {},
   "outputs": [],
   "source": [
    "gw_con.close()"
   ]
  },
  {
   "cell_type": "code",
   "execution_count": 51,
   "id": "df84d9a5",
   "metadata": {},
   "outputs": [],
   "source": [
    "    # create a summary table\n",
    "#     gw_con = duckdb.connect(database='database/grandwelcome.duckdb', read_only=False)\n",
    "    summ1=gw_con.execute('Select Res_ID, \"Check-In\",Checkout, Income from gw_res').df()\n",
    "    # summ1=summ[['Res_ID','Check-In','Checkout', 'Nights', 'Income']]\n",
    "    "
   ]
  },
  {
   "cell_type": "code",
   "execution_count": 61,
   "id": "eccd6b5e",
   "metadata": {},
   "outputs": [],
   "source": [
    "# summ1\n",
    "import re\n",
    "from dateutil.parser import parse\n",
    "from datetime import timedelta\n",
    "import pandas as pd"
   ]
  },
  {
   "cell_type": "code",
   "execution_count": 74,
   "id": "b7259da1",
   "metadata": {},
   "outputs": [],
   "source": [
    "    nightly_rate = []\n",
    "    for i,b in summ1.iterrows():\n",
    "        Res_ID = b['Res_ID']\n",
    "        Arrival = parse(b['Check-In']).date()\n",
    "        Departure = parse(b['Checkout']).date()\n",
    "        Income_raw = b['Income']\n",
    "        Income= float(re.sub(r'[^\\d.]', '', Income_raw))\n",
    "        times = [Arrival + timedelta(days=x) for x in range((Departure-Arrival).days + 1)]\n",
    "        for t in times:\n",
    "            nightly = Income / len(times)\n",
    "            night_form = '{0:.2f}'.format(nightly)\n",
    "            t_stmp=pd.Timestamp(t)\n",
    "            nightly_rate.append([Res_ID,t_stmp,float(night_form)])\n",
    "    breakdown = pd.DataFrame(nightly_rate, columns = ['Res_ID','Date', 'Per Night'])\n",
    "    breakdown['Month-Year']=breakdown['Date'].dt.strftime('%m/%Y')\n",
    "        "
   ]
  },
  {
   "cell_type": "code",
   "execution_count": null,
   "id": "8e728313",
   "metadata": {},
   "outputs": [],
   "source": [
    "gw_con.execute(\"CREATE TABLE breakdown_dashboard AS SELECT * FROM breakdown\")"
   ]
  },
  {
   "cell_type": "code",
   "execution_count": 97,
   "id": "4c0f6e88",
   "metadata": {},
   "outputs": [],
   "source": [
    "addbreakdn = gw_con.df(breakdown)\n",
    "# add new to database \n",
    "addbreakdn.insert_into(\"breakdown_dashboard\")"
   ]
  },
  {
   "cell_type": "code",
   "execution_count": 99,
   "id": "4f81d843",
   "metadata": {},
   "outputs": [
    {
     "data": {
      "text/plain": [
       "[(36667491, datetime.datetime(2022, 7, 21, 0, 0), 181.26, '07/2022'),\n",
       " (36667491, datetime.datetime(2022, 7, 22, 0, 0), 181.26, '07/2022'),\n",
       " (36667491, datetime.datetime(2022, 7, 23, 0, 0), 181.26, '07/2022'),\n",
       " (36667491, datetime.datetime(2022, 7, 24, 0, 0), 181.26, '07/2022'),\n",
       " (36667491, datetime.datetime(2022, 7, 25, 0, 0), 181.26, '07/2022'),\n",
       " (36667491, datetime.datetime(2022, 7, 26, 0, 0), 181.26, '07/2022'),\n",
       " (36667491, datetime.datetime(2022, 7, 27, 0, 0), 181.26, '07/2022')]"
      ]
     },
     "execution_count": 99,
     "metadata": {},
     "output_type": "execute_result"
    }
   ],
   "source": [
    "gw_con.execute(\"Select * from breakdown_dashboard where Res_ID = 36667491\").fetchall()"
   ]
  },
  {
   "cell_type": "code",
   "execution_count": 98,
   "id": "5437d1c1",
   "metadata": {},
   "outputs": [
    {
     "data": {
      "text/plain": [
       "[(1096275, datetime.datetime(2022, 9, 23, 0, 0), 0.0, '09/2022'),\n",
       " (1096275, datetime.datetime(2022, 9, 24, 0, 0), 0.0, '09/2022'),\n",
       " (1096275, datetime.datetime(2022, 9, 25, 0, 0), 0.0, '09/2022'),\n",
       " (1096275, datetime.datetime(2022, 9, 26, 0, 0), 0.0, '09/2022'),\n",
       " (1096275, datetime.datetime(2022, 9, 27, 0, 0), 0.0, '09/2022'),\n",
       " (1096275, datetime.datetime(2022, 9, 28, 0, 0), 0.0, '09/2022'),\n",
       " (1096275, datetime.datetime(2022, 9, 29, 0, 0), 0.0, '09/2022'),\n",
       " (1096275, datetime.datetime(2022, 9, 30, 0, 0), 0.0, '09/2022'),\n",
       " (1096275, datetime.datetime(2022, 10, 1, 0, 0), 0.0, '10/2022'),\n",
       " (1096275, datetime.datetime(2022, 10, 2, 0, 0), 0.0, '10/2022'),\n",
       " (1096930, datetime.datetime(2022, 10, 14, 0, 0), 93.71, '10/2022'),\n",
       " (1096930, datetime.datetime(2022, 10, 15, 0, 0), 93.71, '10/2022'),\n",
       " (1096930, datetime.datetime(2022, 10, 16, 0, 0), 93.71, '10/2022'),\n",
       " (1096930, datetime.datetime(2022, 10, 17, 0, 0), 93.71, '10/2022'),\n",
       " (1096930, datetime.datetime(2022, 10, 18, 0, 0), 93.71, '10/2022'),\n",
       " (1096930, datetime.datetime(2022, 10, 19, 0, 0), 93.71, '10/2022'),\n",
       " (1097362, datetime.datetime(2022, 10, 6, 0, 0), 96.39, '10/2022'),\n",
       " (1097362, datetime.datetime(2022, 10, 7, 0, 0), 96.39, '10/2022'),\n",
       " (1097362, datetime.datetime(2022, 10, 8, 0, 0), 96.39, '10/2022'),\n",
       " (1097362, datetime.datetime(2022, 10, 9, 0, 0), 96.39, '10/2022'),\n",
       " (1097362, datetime.datetime(2022, 10, 10, 0, 0), 96.39, '10/2022'),\n",
       " (1097362, datetime.datetime(2022, 10, 11, 0, 0), 96.39, '10/2022'),\n",
       " (1097362, datetime.datetime(2022, 10, 12, 0, 0), 96.39, '10/2022'),\n",
       " (1098288, datetime.datetime(2023, 2, 1, 0, 0), 93.64, '02/2023'),\n",
       " (1098288, datetime.datetime(2023, 2, 2, 0, 0), 93.64, '02/2023'),\n",
       " (1098288, datetime.datetime(2023, 2, 3, 0, 0), 93.64, '02/2023'),\n",
       " (1098288, datetime.datetime(2023, 2, 4, 0, 0), 93.64, '02/2023'),\n",
       " (1098288, datetime.datetime(2023, 2, 5, 0, 0), 93.64, '02/2023'),\n",
       " (1098795, datetime.datetime(2022, 10, 22, 0, 0), 99.96, '10/2022'),\n",
       " (1098795, datetime.datetime(2022, 10, 23, 0, 0), 99.96, '10/2022'),\n",
       " (1098795, datetime.datetime(2022, 10, 24, 0, 0), 99.96, '10/2022'),\n",
       " (1098795, datetime.datetime(2022, 10, 25, 0, 0), 99.96, '10/2022'),\n",
       " (1098795, datetime.datetime(2022, 10, 26, 0, 0), 99.96, '10/2022'),\n",
       " (1098795, datetime.datetime(2022, 10, 27, 0, 0), 99.96, '10/2022'),\n",
       " (1098795, datetime.datetime(2022, 10, 28, 0, 0), 99.96, '10/2022'),\n",
       " (1098795, datetime.datetime(2022, 10, 29, 0, 0), 99.96, '10/2022'),\n",
       " (1098795, datetime.datetime(2022, 10, 30, 0, 0), 99.96, '10/2022'),\n",
       " (1099938, datetime.datetime(2022, 12, 23, 0, 0), 234.78, '12/2022'),\n",
       " (1099938, datetime.datetime(2022, 12, 24, 0, 0), 234.78, '12/2022'),\n",
       " (1099938, datetime.datetime(2022, 12, 25, 0, 0), 234.78, '12/2022'),\n",
       " (1099938, datetime.datetime(2022, 12, 26, 0, 0), 234.78, '12/2022'),\n",
       " (1099938, datetime.datetime(2022, 12, 27, 0, 0), 234.78, '12/2022'),\n",
       " (1099938, datetime.datetime(2022, 12, 28, 0, 0), 234.78, '12/2022'),\n",
       " (1099938, datetime.datetime(2022, 12, 29, 0, 0), 234.78, '12/2022'),\n",
       " (1099938, datetime.datetime(2022, 12, 30, 0, 0), 234.78, '12/2022'),\n",
       " (1099938, datetime.datetime(2022, 12, 31, 0, 0), 234.78, '12/2022'),\n",
       " (1099938, datetime.datetime(2023, 1, 1, 0, 0), 234.78, '01/2023'),\n",
       " (1099938, datetime.datetime(2023, 1, 2, 0, 0), 234.78, '01/2023'),\n",
       " (1100775, datetime.datetime(2022, 11, 23, 0, 0), 126.61, '11/2022'),\n",
       " (1100775, datetime.datetime(2022, 11, 24, 0, 0), 126.61, '11/2022'),\n",
       " (1100775, datetime.datetime(2022, 11, 25, 0, 0), 126.61, '11/2022'),\n",
       " (1100775, datetime.datetime(2022, 11, 26, 0, 0), 126.61, '11/2022'),\n",
       " (1102386, datetime.datetime(2022, 11, 19, 0, 0), 84.3, '11/2022'),\n",
       " (1102386, datetime.datetime(2022, 11, 20, 0, 0), 84.3, '11/2022'),\n",
       " (1102386, datetime.datetime(2022, 11, 21, 0, 0), 84.3, '11/2022'),\n",
       " (1102386, datetime.datetime(2022, 11, 22, 0, 0), 84.3, '11/2022'),\n",
       " (1102386, datetime.datetime(2022, 11, 23, 0, 0), 84.3, '11/2022'),\n",
       " (1102644, datetime.datetime(2022, 11, 6, 0, 0), 78.6, '11/2022'),\n",
       " (1102644, datetime.datetime(2022, 11, 7, 0, 0), 78.6, '11/2022'),\n",
       " (1102644, datetime.datetime(2022, 11, 8, 0, 0), 78.6, '11/2022'),\n",
       " (1102644, datetime.datetime(2022, 11, 9, 0, 0), 78.6, '11/2022'),\n",
       " (1102691, datetime.datetime(2022, 12, 3, 0, 0), 91.7, '12/2022'),\n",
       " (1102691, datetime.datetime(2022, 12, 4, 0, 0), 91.7, '12/2022'),\n",
       " (1102691, datetime.datetime(2022, 12, 5, 0, 0), 91.7, '12/2022'),\n",
       " (1102691, datetime.datetime(2022, 12, 6, 0, 0), 91.7, '12/2022'),\n",
       " (1102691, datetime.datetime(2022, 12, 7, 0, 0), 91.7, '12/2022'),\n",
       " (1102691, datetime.datetime(2022, 12, 8, 0, 0), 91.7, '12/2022'),\n",
       " (1102691, datetime.datetime(2022, 12, 9, 0, 0), 91.7, '12/2022'),\n",
       " (1102691, datetime.datetime(2022, 12, 10, 0, 0), 91.7, '12/2022'),\n",
       " (1103164, datetime.datetime(2023, 1, 11, 0, 0), 101.05, '01/2023'),\n",
       " (1103164, datetime.datetime(2023, 1, 12, 0, 0), 101.05, '01/2023'),\n",
       " (1103164, datetime.datetime(2023, 1, 13, 0, 0), 101.05, '01/2023'),\n",
       " (1103164, datetime.datetime(2023, 1, 14, 0, 0), 101.05, '01/2023'),\n",
       " (1103164, datetime.datetime(2023, 1, 15, 0, 0), 101.05, '01/2023'),\n",
       " (1103164, datetime.datetime(2023, 1, 16, 0, 0), 101.05, '01/2023'),\n",
       " (1103164, datetime.datetime(2023, 1, 17, 0, 0), 101.05, '01/2023'),\n",
       " (1103164, datetime.datetime(2023, 1, 18, 0, 0), 101.05, '01/2023'),\n",
       " (1103164, datetime.datetime(2023, 1, 19, 0, 0), 101.05, '01/2023'),\n",
       " (1103164, datetime.datetime(2023, 1, 20, 0, 0), 101.05, '01/2023'),\n",
       " (1103164, datetime.datetime(2023, 1, 21, 0, 0), 101.05, '01/2023'),\n",
       " (1103446, datetime.datetime(2022, 11, 10, 0, 0), 78.6, '11/2022'),\n",
       " (1103446, datetime.datetime(2022, 11, 11, 0, 0), 78.6, '11/2022'),\n",
       " (1103446, datetime.datetime(2022, 11, 12, 0, 0), 78.6, '11/2022'),\n",
       " (1103446, datetime.datetime(2022, 11, 13, 0, 0), 78.6, '11/2022'),\n",
       " (1103671, datetime.datetime(2023, 1, 2, 0, 0), 120.58, '01/2023'),\n",
       " (1103671, datetime.datetime(2023, 1, 3, 0, 0), 120.58, '01/2023'),\n",
       " (1103671, datetime.datetime(2023, 1, 4, 0, 0), 120.58, '01/2023'),\n",
       " (1103671, datetime.datetime(2023, 1, 5, 0, 0), 120.58, '01/2023'),\n",
       " (1103671, datetime.datetime(2023, 1, 6, 0, 0), 120.58, '01/2023'),\n",
       " (1103671, datetime.datetime(2023, 1, 7, 0, 0), 120.58, '01/2023'),\n",
       " (1103671, datetime.datetime(2023, 1, 8, 0, 0), 120.58, '01/2023'),\n",
       " (1103671, datetime.datetime(2023, 1, 9, 0, 0), 120.58, '01/2023'),\n",
       " (1103687, datetime.datetime(2022, 11, 14, 0, 0), 87.33, '11/2022'),\n",
       " (1103687, datetime.datetime(2022, 11, 15, 0, 0), 87.33, '11/2022'),\n",
       " (1103687, datetime.datetime(2022, 11, 16, 0, 0), 87.33, '11/2022'),\n",
       " (1103687, datetime.datetime(2022, 11, 17, 0, 0), 87.33, '11/2022'),\n",
       " (1103687, datetime.datetime(2022, 11, 18, 0, 0), 87.33, '11/2022'),\n",
       " (1103687, datetime.datetime(2022, 11, 19, 0, 0), 87.33, '11/2022'),\n",
       " (1104093, datetime.datetime(2023, 3, 3, 0, 0), 131.32, '03/2023'),\n",
       " (1104093, datetime.datetime(2023, 3, 4, 0, 0), 131.32, '03/2023'),\n",
       " (1104093, datetime.datetime(2023, 3, 5, 0, 0), 131.32, '03/2023'),\n",
       " (1104093, datetime.datetime(2023, 3, 6, 0, 0), 131.32, '03/2023'),\n",
       " (1104093, datetime.datetime(2023, 3, 7, 0, 0), 131.32, '03/2023'),\n",
       " (1104093, datetime.datetime(2023, 3, 8, 0, 0), 131.32, '03/2023'),\n",
       " (1104093, datetime.datetime(2023, 3, 9, 0, 0), 131.32, '03/2023'),\n",
       " (1104093, datetime.datetime(2023, 3, 10, 0, 0), 131.32, '03/2023'),\n",
       " (1104093, datetime.datetime(2023, 3, 11, 0, 0), 131.32, '03/2023'),\n",
       " (29764605, datetime.datetime(2021, 3, 22, 0, 0), 163.93, '03/2021'),\n",
       " (29764605, datetime.datetime(2021, 3, 23, 0, 0), 163.93, '03/2021'),\n",
       " (29764605, datetime.datetime(2021, 3, 24, 0, 0), 163.93, '03/2021'),\n",
       " (29764605, datetime.datetime(2021, 3, 25, 0, 0), 163.93, '03/2021'),\n",
       " (29764605, datetime.datetime(2021, 3, 26, 0, 0), 163.93, '03/2021'),\n",
       " (29764605, datetime.datetime(2021, 3, 27, 0, 0), 163.93, '03/2021'),\n",
       " (29764605, datetime.datetime(2021, 3, 28, 0, 0), 163.93, '03/2021'),\n",
       " (29725722, datetime.datetime(2021, 3, 28, 0, 0), 169.1, '03/2021'),\n",
       " (29725722, datetime.datetime(2021, 3, 29, 0, 0), 169.1, '03/2021'),\n",
       " (29725722, datetime.datetime(2021, 3, 30, 0, 0), 169.1, '03/2021'),\n",
       " (29725722, datetime.datetime(2021, 3, 31, 0, 0), 169.1, '03/2021'),\n",
       " (29725722, datetime.datetime(2021, 4, 1, 0, 0), 169.1, '04/2021'),\n",
       " (29725722, datetime.datetime(2021, 4, 2, 0, 0), 169.1, '04/2021'),\n",
       " (29725722, datetime.datetime(2021, 4, 3, 0, 0), 169.1, '04/2021'),\n",
       " (29725722, datetime.datetime(2021, 4, 4, 0, 0), 169.1, '04/2021'),\n",
       " (30353982, datetime.datetime(2021, 4, 4, 0, 0), 175.04, '04/2021'),\n",
       " (30353982, datetime.datetime(2021, 4, 5, 0, 0), 175.04, '04/2021'),\n",
       " (30353982, datetime.datetime(2021, 4, 6, 0, 0), 175.04, '04/2021'),\n",
       " (30353982, datetime.datetime(2021, 4, 7, 0, 0), 175.04, '04/2021'),\n",
       " (30353982, datetime.datetime(2021, 4, 8, 0, 0), 175.04, '04/2021'),\n",
       " (30353982, datetime.datetime(2021, 4, 9, 0, 0), 175.04, '04/2021'),\n",
       " (30353982, datetime.datetime(2021, 4, 10, 0, 0), 175.04, '04/2021'),\n",
       " (30573076, datetime.datetime(2021, 4, 10, 0, 0), 174.33, '04/2021'),\n",
       " (30573076, datetime.datetime(2021, 4, 11, 0, 0), 174.33, '04/2021'),\n",
       " (30573076, datetime.datetime(2021, 4, 12, 0, 0), 174.33, '04/2021'),\n",
       " (30573076, datetime.datetime(2021, 4, 13, 0, 0), 174.33, '04/2021'),\n",
       " (30573076, datetime.datetime(2021, 4, 14, 0, 0), 174.33, '04/2021'),\n",
       " (30573076, datetime.datetime(2021, 4, 15, 0, 0), 174.33, '04/2021'),\n",
       " (30573076, datetime.datetime(2021, 4, 16, 0, 0), 174.33, '04/2021'),\n",
       " (30573076, datetime.datetime(2021, 4, 17, 0, 0), 174.33, '04/2021'),\n",
       " (30627570, datetime.datetime(2021, 4, 17, 0, 0), 177.53, '04/2021'),\n",
       " (30627570, datetime.datetime(2021, 4, 18, 0, 0), 177.53, '04/2021'),\n",
       " (30627570, datetime.datetime(2021, 4, 19, 0, 0), 177.53, '04/2021'),\n",
       " (30627570, datetime.datetime(2021, 4, 20, 0, 0), 177.53, '04/2021'),\n",
       " (30627570, datetime.datetime(2021, 4, 21, 0, 0), 177.53, '04/2021'),\n",
       " (30627570, datetime.datetime(2021, 4, 22, 0, 0), 177.53, '04/2021'),\n",
       " (30627570, datetime.datetime(2021, 4, 23, 0, 0), 177.53, '04/2021'),\n",
       " (30627570, datetime.datetime(2021, 4, 24, 0, 0), 177.53, '04/2021'),\n",
       " (30627570, datetime.datetime(2021, 4, 25, 0, 0), 177.53, '04/2021'),\n",
       " (30627570, datetime.datetime(2021, 4, 26, 0, 0), 177.53, '04/2021'),\n",
       " (30627570, datetime.datetime(2021, 4, 27, 0, 0), 177.53, '04/2021'),\n",
       " (30627570, datetime.datetime(2021, 4, 28, 0, 0), 177.53, '04/2021'),\n",
       " (30627570, datetime.datetime(2021, 4, 29, 0, 0), 177.53, '04/2021'),\n",
       " (30627570, datetime.datetime(2021, 4, 30, 0, 0), 177.53, '04/2021'),\n",
       " (30627570, datetime.datetime(2021, 5, 1, 0, 0), 177.53, '05/2021'),\n",
       " (30627570, datetime.datetime(2021, 5, 2, 0, 0), 177.53, '05/2021'),\n",
       " (30627570, datetime.datetime(2021, 5, 3, 0, 0), 177.53, '05/2021'),\n",
       " (30627570, datetime.datetime(2021, 5, 4, 0, 0), 177.53, '05/2021'),\n",
       " (30905584, datetime.datetime(2021, 5, 6, 0, 0), 126.73, '05/2021'),\n",
       " (30905584, datetime.datetime(2021, 5, 7, 0, 0), 126.73, '05/2021'),\n",
       " (30905584, datetime.datetime(2021, 5, 8, 0, 0), 126.73, '05/2021'),\n",
       " (30905584, datetime.datetime(2021, 5, 9, 0, 0), 126.73, '05/2021'),\n",
       " (30905584, datetime.datetime(2021, 5, 10, 0, 0), 126.73, '05/2021'),\n",
       " (30905584, datetime.datetime(2021, 5, 11, 0, 0), 126.73, '05/2021'),\n",
       " (30905584, datetime.datetime(2021, 5, 12, 0, 0), 126.73, '05/2021'),\n",
       " (30905584, datetime.datetime(2021, 5, 13, 0, 0), 126.73, '05/2021'),\n",
       " (30905584, datetime.datetime(2021, 5, 14, 0, 0), 126.73, '05/2021'),\n",
       " (30905584, datetime.datetime(2021, 5, 15, 0, 0), 126.73, '05/2021'),\n",
       " (30905584, datetime.datetime(2021, 5, 16, 0, 0), 126.73, '05/2021'),\n",
       " (30905584, datetime.datetime(2021, 5, 17, 0, 0), 126.73, '05/2021'),\n",
       " (30905584, datetime.datetime(2021, 5, 18, 0, 0), 126.73, '05/2021'),\n",
       " (30905584, datetime.datetime(2021, 5, 19, 0, 0), 126.73, '05/2021'),\n",
       " (30905584, datetime.datetime(2021, 5, 20, 0, 0), 126.73, '05/2021'),\n",
       " (30905584, datetime.datetime(2021, 5, 21, 0, 0), 126.73, '05/2021'),\n",
       " (30905584, datetime.datetime(2021, 5, 22, 0, 0), 126.73, '05/2021'),\n",
       " (30905584, datetime.datetime(2021, 5, 23, 0, 0), 126.73, '05/2021'),\n",
       " (30905584, datetime.datetime(2021, 5, 24, 0, 0), 126.73, '05/2021'),\n",
       " (30905584, datetime.datetime(2021, 5, 25, 0, 0), 126.73, '05/2021'),\n",
       " (30905584, datetime.datetime(2021, 5, 26, 0, 0), 126.73, '05/2021'),\n",
       " (30905584, datetime.datetime(2021, 5, 27, 0, 0), 126.73, '05/2021'),\n",
       " (30905584, datetime.datetime(2021, 5, 28, 0, 0), 126.73, '05/2021'),\n",
       " (30905584, datetime.datetime(2021, 5, 29, 0, 0), 126.73, '05/2021'),\n",
       " (30905584, datetime.datetime(2021, 5, 30, 0, 0), 126.73, '05/2021'),\n",
       " (30905584, datetime.datetime(2021, 5, 31, 0, 0), 126.73, '05/2021'),\n",
       " (30905584, datetime.datetime(2021, 6, 1, 0, 0), 126.73, '06/2021'),\n",
       " (30905584, datetime.datetime(2021, 6, 2, 0, 0), 126.73, '06/2021'),\n",
       " (30905584, datetime.datetime(2021, 6, 3, 0, 0), 126.73, '06/2021'),\n",
       " (30905584, datetime.datetime(2021, 6, 4, 0, 0), 126.73, '06/2021'),\n",
       " (30905584, datetime.datetime(2021, 6, 5, 0, 0), 126.73, '06/2021'),\n",
       " (30905584, datetime.datetime(2021, 6, 6, 0, 0), 126.73, '06/2021'),\n",
       " (30905584, datetime.datetime(2021, 6, 7, 0, 0), 126.73, '06/2021'),\n",
       " (30905584, datetime.datetime(2021, 6, 8, 0, 0), 126.73, '06/2021'),\n",
       " (31677686, datetime.datetime(2021, 6, 9, 0, 0), 145.0, '06/2021'),\n",
       " (31677686, datetime.datetime(2021, 6, 10, 0, 0), 145.0, '06/2021'),\n",
       " (31677686, datetime.datetime(2021, 6, 11, 0, 0), 145.0, '06/2021'),\n",
       " (31677686, datetime.datetime(2021, 6, 12, 0, 0), 145.0, '06/2021'),\n",
       " (31677686, datetime.datetime(2021, 6, 13, 0, 0), 145.0, '06/2021'),\n",
       " (31677686, datetime.datetime(2021, 6, 14, 0, 0), 145.0, '06/2021'),\n",
       " (31677686, datetime.datetime(2021, 6, 15, 0, 0), 145.0, '06/2021'),\n",
       " (31677686, datetime.datetime(2021, 6, 16, 0, 0), 145.0, '06/2021'),\n",
       " (30502479, datetime.datetime(2021, 6, 17, 0, 0), 157.05, '06/2021'),\n",
       " (30502479, datetime.datetime(2021, 6, 18, 0, 0), 157.05, '06/2021'),\n",
       " (30502479, datetime.datetime(2021, 6, 19, 0, 0), 157.05, '06/2021'),\n",
       " (30502479, datetime.datetime(2021, 6, 20, 0, 0), 157.05, '06/2021'),\n",
       " (30502479, datetime.datetime(2021, 6, 21, 0, 0), 157.05, '06/2021'),\n",
       " (30502479, datetime.datetime(2021, 6, 22, 0, 0), 157.05, '06/2021'),\n",
       " (30502479, datetime.datetime(2021, 6, 23, 0, 0), 157.05, '06/2021'),\n",
       " (30247918, datetime.datetime(2021, 6, 26, 0, 0), 117.83, '06/2021'),\n",
       " (30247918, datetime.datetime(2021, 6, 27, 0, 0), 117.83, '06/2021'),\n",
       " (30247918, datetime.datetime(2021, 6, 28, 0, 0), 117.83, '06/2021'),\n",
       " (30247918, datetime.datetime(2021, 6, 29, 0, 0), 117.83, '06/2021'),\n",
       " (30247918, datetime.datetime(2021, 6, 30, 0, 0), 117.83, '06/2021'),\n",
       " (30247918, datetime.datetime(2021, 7, 1, 0, 0), 117.83, '07/2021'),\n",
       " (30247918, datetime.datetime(2021, 7, 2, 0, 0), 117.83, '07/2021'),\n",
       " (30247918, datetime.datetime(2021, 7, 3, 0, 0), 117.83, '07/2021'),\n",
       " (30247918, datetime.datetime(2021, 7, 4, 0, 0), 117.83, '07/2021'),\n",
       " (30247918, datetime.datetime(2021, 7, 5, 0, 0), 117.83, '07/2021'),\n",
       " (30247918, datetime.datetime(2021, 7, 6, 0, 0), 117.83, '07/2021'),\n",
       " (30247918, datetime.datetime(2021, 7, 7, 0, 0), 117.83, '07/2021'),\n",
       " (30247918, datetime.datetime(2021, 7, 8, 0, 0), 117.83, '07/2021'),\n",
       " (30247918, datetime.datetime(2021, 7, 9, 0, 0), 117.83, '07/2021'),\n",
       " (30247918, datetime.datetime(2021, 7, 10, 0, 0), 117.83, '07/2021'),\n",
       " (30247918, datetime.datetime(2021, 7, 11, 0, 0), 117.83, '07/2021'),\n",
       " (30247918, datetime.datetime(2021, 7, 12, 0, 0), 117.83, '07/2021'),\n",
       " (30247918, datetime.datetime(2021, 7, 13, 0, 0), 117.83, '07/2021'),\n",
       " (30247918, datetime.datetime(2021, 7, 14, 0, 0), 117.83, '07/2021'),\n",
       " (30247918, datetime.datetime(2021, 7, 15, 0, 0), 117.83, '07/2021'),\n",
       " (30247918, datetime.datetime(2021, 7, 16, 0, 0), 117.83, '07/2021'),\n",
       " (30247918, datetime.datetime(2021, 7, 17, 0, 0), 117.83, '07/2021'),\n",
       " (30247918, datetime.datetime(2021, 7, 18, 0, 0), 117.83, '07/2021'),\n",
       " (30247918, datetime.datetime(2021, 7, 19, 0, 0), 117.83, '07/2021'),\n",
       " (30247918, datetime.datetime(2021, 7, 20, 0, 0), 117.83, '07/2021'),\n",
       " (30247918, datetime.datetime(2021, 7, 21, 0, 0), 117.83, '07/2021'),\n",
       " (30247918, datetime.datetime(2021, 7, 22, 0, 0), 117.83, '07/2021'),\n",
       " (30247918, datetime.datetime(2021, 7, 23, 0, 0), 117.83, '07/2021'),\n",
       " (30247918, datetime.datetime(2021, 7, 24, 0, 0), 117.83, '07/2021'),\n",
       " (30247918, datetime.datetime(2021, 7, 25, 0, 0), 117.83, '07/2021'),\n",
       " (30247918, datetime.datetime(2021, 7, 26, 0, 0), 117.83, '07/2021'),\n",
       " (31704950, datetime.datetime(2021, 7, 30, 0, 0), 153.0, '07/2021'),\n",
       " (31704950, datetime.datetime(2021, 7, 31, 0, 0), 153.0, '07/2021'),\n",
       " (31704950, datetime.datetime(2021, 8, 1, 0, 0), 153.0, '08/2021'),\n",
       " (31704950, datetime.datetime(2021, 8, 2, 0, 0), 153.0, '08/2021'),\n",
       " (31704950, datetime.datetime(2021, 8, 3, 0, 0), 153.0, '08/2021'),\n",
       " (31704950, datetime.datetime(2021, 8, 4, 0, 0), 153.0, '08/2021'),\n",
       " (31704950, datetime.datetime(2021, 8, 5, 0, 0), 153.0, '08/2021'),\n",
       " (31704950, datetime.datetime(2021, 8, 6, 0, 0), 153.0, '08/2021'),\n",
       " (31704950, datetime.datetime(2021, 8, 7, 0, 0), 153.0, '08/2021'),\n",
       " (35512077, datetime.datetime(2021, 11, 20, 0, 0), 140.03, '11/2021'),\n",
       " (35512077, datetime.datetime(2021, 11, 21, 0, 0), 140.03, '11/2021'),\n",
       " (35512077, datetime.datetime(2021, 11, 22, 0, 0), 140.03, '11/2021'),\n",
       " (35512077, datetime.datetime(2021, 11, 23, 0, 0), 140.03, '11/2021'),\n",
       " (35512077, datetime.datetime(2021, 11, 24, 0, 0), 140.03, '11/2021'),\n",
       " (35512077, datetime.datetime(2021, 11, 25, 0, 0), 140.03, '11/2021'),\n",
       " (35587706, datetime.datetime(2021, 12, 20, 0, 0), 130.98, '12/2021'),\n",
       " (35587706, datetime.datetime(2021, 12, 21, 0, 0), 130.98, '12/2021'),\n",
       " (35587706, datetime.datetime(2021, 12, 22, 0, 0), 130.98, '12/2021'),\n",
       " (35587706, datetime.datetime(2021, 12, 23, 0, 0), 130.98, '12/2021'),\n",
       " (35587706, datetime.datetime(2021, 12, 24, 0, 0), 130.98, '12/2021'),\n",
       " (30054645, datetime.datetime(2021, 12, 26, 0, 0), 153.59, '12/2021'),\n",
       " (30054645, datetime.datetime(2021, 12, 27, 0, 0), 153.59, '12/2021'),\n",
       " (30054645, datetime.datetime(2021, 12, 28, 0, 0), 153.59, '12/2021'),\n",
       " (30054645, datetime.datetime(2021, 12, 29, 0, 0), 153.59, '12/2021'),\n",
       " (30054645, datetime.datetime(2021, 12, 30, 0, 0), 153.59, '12/2021'),\n",
       " (30054645, datetime.datetime(2021, 12, 31, 0, 0), 153.59, '12/2021'),\n",
       " (30054645, datetime.datetime(2022, 1, 1, 0, 0), 153.59, '01/2022'),\n",
       " (30054645, datetime.datetime(2022, 1, 2, 0, 0), 153.59, '01/2022'),\n",
       " (35383346, datetime.datetime(2022, 2, 2, 0, 0), 179.48, '02/2022'),\n",
       " (35383346, datetime.datetime(2022, 2, 3, 0, 0), 179.48, '02/2022'),\n",
       " (35383346, datetime.datetime(2022, 2, 4, 0, 0), 179.48, '02/2022'),\n",
       " (35383346, datetime.datetime(2022, 2, 5, 0, 0), 179.48, '02/2022'),\n",
       " (35383346, datetime.datetime(2022, 2, 6, 0, 0), 179.48, '02/2022'),\n",
       " (35383346, datetime.datetime(2022, 2, 7, 0, 0), 179.48, '02/2022'),\n",
       " (35383346, datetime.datetime(2022, 2, 8, 0, 0), 179.48, '02/2022'),\n",
       " (35383346, datetime.datetime(2022, 2, 9, 0, 0), 179.48, '02/2022'),\n",
       " (35383346, datetime.datetime(2022, 2, 10, 0, 0), 179.48, '02/2022'),\n",
       " (35383346, datetime.datetime(2022, 2, 11, 0, 0), 179.48, '02/2022'),\n",
       " (35383346, datetime.datetime(2022, 2, 12, 0, 0), 179.48, '02/2022'),\n",
       " (35383346, datetime.datetime(2022, 2, 13, 0, 0), 179.48, '02/2022'),\n",
       " (35383346, datetime.datetime(2022, 2, 14, 0, 0), 179.48, '02/2022'),\n",
       " (35383346, datetime.datetime(2022, 2, 15, 0, 0), 179.48, '02/2022'),\n",
       " (35383346, datetime.datetime(2022, 2, 16, 0, 0), 179.48, '02/2022'),\n",
       " (35383346, datetime.datetime(2022, 2, 17, 0, 0), 179.48, '02/2022'),\n",
       " (35383346, datetime.datetime(2022, 2, 18, 0, 0), 179.48, '02/2022'),\n",
       " (35383346, datetime.datetime(2022, 2, 19, 0, 0), 179.48, '02/2022'),\n",
       " (35383346, datetime.datetime(2022, 2, 20, 0, 0), 179.48, '02/2022'),\n",
       " (35383346, datetime.datetime(2022, 2, 21, 0, 0), 179.48, '02/2022'),\n",
       " (35383346, datetime.datetime(2022, 2, 22, 0, 0), 179.48, '02/2022'),\n",
       " (35383346, datetime.datetime(2022, 2, 23, 0, 0), 179.48, '02/2022'),\n",
       " (35383346, datetime.datetime(2022, 2, 24, 0, 0), 179.48, '02/2022'),\n",
       " (35383346, datetime.datetime(2022, 2, 25, 0, 0), 179.48, '02/2022'),\n",
       " (35383346, datetime.datetime(2022, 2, 26, 0, 0), 179.48, '02/2022'),\n",
       " (35383346, datetime.datetime(2022, 2, 27, 0, 0), 179.48, '02/2022'),\n",
       " (35383346, datetime.datetime(2022, 2, 28, 0, 0), 179.48, '02/2022'),\n",
       " (35437583, datetime.datetime(2022, 3, 5, 0, 0), 130.97, '03/2022'),\n",
       " (35437583, datetime.datetime(2022, 3, 6, 0, 0), 130.97, '03/2022'),\n",
       " (35437583, datetime.datetime(2022, 3, 7, 0, 0), 130.97, '03/2022'),\n",
       " (35437583, datetime.datetime(2022, 3, 8, 0, 0), 130.97, '03/2022'),\n",
       " (35437583, datetime.datetime(2022, 3, 9, 0, 0), 130.97, '03/2022'),\n",
       " (35437583, datetime.datetime(2022, 3, 10, 0, 0), 130.97, '03/2022'),\n",
       " (35437583, datetime.datetime(2022, 3, 11, 0, 0), 130.97, '03/2022'),\n",
       " (35437583, datetime.datetime(2022, 3, 12, 0, 0), 130.97, '03/2022'),\n",
       " (35437583, datetime.datetime(2022, 3, 13, 0, 0), 130.97, '03/2022'),\n",
       " (35437583, datetime.datetime(2022, 3, 14, 0, 0), 130.97, '03/2022'),\n",
       " (35437583, datetime.datetime(2022, 3, 15, 0, 0), 130.97, '03/2022'),\n",
       " (35437583, datetime.datetime(2022, 3, 16, 0, 0), 130.97, '03/2022'),\n",
       " (35437583, datetime.datetime(2022, 3, 17, 0, 0), 130.97, '03/2022'),\n",
       " (35437583, datetime.datetime(2022, 3, 18, 0, 0), 130.97, '03/2022'),\n",
       " (35437583, datetime.datetime(2022, 3, 19, 0, 0), 130.97, '03/2022'),\n",
       " (35437583, datetime.datetime(2022, 3, 20, 0, 0), 130.97, '03/2022'),\n",
       " (35437583, datetime.datetime(2022, 3, 21, 0, 0), 130.97, '03/2022'),\n",
       " (35437583, datetime.datetime(2022, 3, 22, 0, 0), 130.97, '03/2022'),\n",
       " (35437583, datetime.datetime(2022, 3, 23, 0, 0), 130.97, '03/2022'),\n",
       " (35437583, datetime.datetime(2022, 3, 24, 0, 0), 130.97, '03/2022'),\n",
       " (35437583, datetime.datetime(2022, 3, 25, 0, 0), 130.97, '03/2022'),\n",
       " (35437583, datetime.datetime(2022, 3, 26, 0, 0), 130.97, '03/2022'),\n",
       " (35437583, datetime.datetime(2022, 3, 27, 0, 0), 130.97, '03/2022'),\n",
       " (35437583, datetime.datetime(2022, 3, 28, 0, 0), 130.97, '03/2022'),\n",
       " (35437583, datetime.datetime(2022, 3, 29, 0, 0), 130.97, '03/2022'),\n",
       " (35437583, datetime.datetime(2022, 3, 30, 0, 0), 130.97, '03/2022'),\n",
       " (35437583, datetime.datetime(2022, 3, 31, 0, 0), 130.97, '03/2022'),\n",
       " (35437583, datetime.datetime(2022, 4, 1, 0, 0), 130.97, '04/2022'),\n",
       " (35437583, datetime.datetime(2022, 4, 2, 0, 0), 130.97, '04/2022'),\n",
       " (35437583, datetime.datetime(2022, 4, 3, 0, 0), 130.97, '04/2022'),\n",
       " (36131706, datetime.datetime(2022, 4, 5, 0, 0), 186.05, '04/2022'),\n",
       " (36131706, datetime.datetime(2022, 4, 6, 0, 0), 186.05, '04/2022'),\n",
       " (36131706, datetime.datetime(2022, 4, 7, 0, 0), 186.05, '04/2022'),\n",
       " (36131706, datetime.datetime(2022, 4, 8, 0, 0), 186.05, '04/2022'),\n",
       " (35901766, datetime.datetime(2022, 4, 13, 0, 0), 124.21, '04/2022'),\n",
       " (35901766, datetime.datetime(2022, 4, 14, 0, 0), 124.21, '04/2022'),\n",
       " (35901766, datetime.datetime(2022, 4, 15, 0, 0), 124.21, '04/2022'),\n",
       " (35901766, datetime.datetime(2022, 4, 16, 0, 0), 124.21, '04/2022'),\n",
       " (35901766, datetime.datetime(2022, 4, 17, 0, 0), 124.21, '04/2022'),\n",
       " (36051771, datetime.datetime(2022, 4, 20, 0, 0), 149.58, '04/2022'),\n",
       " (36051771, datetime.datetime(2022, 4, 21, 0, 0), 149.58, '04/2022'),\n",
       " (36051771, datetime.datetime(2022, 4, 22, 0, 0), 149.58, '04/2022'),\n",
       " (36051771, datetime.datetime(2022, 4, 23, 0, 0), 149.58, '04/2022'),\n",
       " (36051771, datetime.datetime(2022, 4, 24, 0, 0), 149.58, '04/2022'),\n",
       " (36051771, datetime.datetime(2022, 4, 25, 0, 0), 149.58, '04/2022'),\n",
       " (36292264, datetime.datetime(2022, 4, 27, 0, 0), 126.58, '04/2022'),\n",
       " (36292264, datetime.datetime(2022, 4, 28, 0, 0), 126.58, '04/2022'),\n",
       " (36292264, datetime.datetime(2022, 4, 29, 0, 0), 126.58, '04/2022'),\n",
       " (36292264, datetime.datetime(2022, 4, 30, 0, 0), 126.58, '04/2022'),\n",
       " (36292264, datetime.datetime(2022, 5, 1, 0, 0), 126.58, '05/2022'),\n",
       " (36292264, datetime.datetime(2022, 5, 2, 0, 0), 126.58, '05/2022'),\n",
       " (36292264, datetime.datetime(2022, 5, 3, 0, 0), 126.58, '05/2022'),\n",
       " (36292264, datetime.datetime(2022, 5, 4, 0, 0), 126.58, '05/2022'),\n",
       " (36292264, datetime.datetime(2022, 5, 5, 0, 0), 126.58, '05/2022'),\n",
       " (36292264, datetime.datetime(2022, 5, 6, 0, 0), 126.58, '05/2022'),\n",
       " (36292264, datetime.datetime(2022, 5, 7, 0, 0), 126.58, '05/2022'),\n",
       " (36292264, datetime.datetime(2022, 5, 8, 0, 0), 126.58, '05/2022'),\n",
       " (36292264, datetime.datetime(2022, 5, 9, 0, 0), 126.58, '05/2022'),\n",
       " (36292264, datetime.datetime(2022, 5, 10, 0, 0), 126.58, '05/2022'),\n",
       " (36292264, datetime.datetime(2022, 5, 11, 0, 0), 126.58, '05/2022'),\n",
       " (36292264, datetime.datetime(2022, 5, 12, 0, 0), 126.58, '05/2022'),\n",
       " (36292264, datetime.datetime(2022, 5, 13, 0, 0), 126.58, '05/2022'),\n",
       " (36292264, datetime.datetime(2022, 5, 14, 0, 0), 126.58, '05/2022'),\n",
       " (36292264, datetime.datetime(2022, 5, 15, 0, 0), 126.58, '05/2022'),\n",
       " (36292264, datetime.datetime(2022, 5, 16, 0, 0), 126.58, '05/2022'),\n",
       " (36292264, datetime.datetime(2022, 5, 17, 0, 0), 126.58, '05/2022'),\n",
       " (36292264, datetime.datetime(2022, 5, 18, 0, 0), 126.58, '05/2022'),\n",
       " (36292264, datetime.datetime(2022, 5, 19, 0, 0), 126.58, '05/2022'),\n",
       " (36292264, datetime.datetime(2022, 5, 20, 0, 0), 126.58, '05/2022'),\n",
       " (36292264, datetime.datetime(2022, 5, 21, 0, 0), 126.58, '05/2022'),\n",
       " (36292264, datetime.datetime(2022, 5, 22, 0, 0), 126.58, '05/2022'),\n",
       " (36292264, datetime.datetime(2022, 5, 23, 0, 0), 126.58, '05/2022'),\n",
       " (36292264, datetime.datetime(2022, 5, 24, 0, 0), 126.58, '05/2022'),\n",
       " (36292264, datetime.datetime(2022, 5, 25, 0, 0), 126.58, '05/2022'),\n",
       " (36292264, datetime.datetime(2022, 5, 26, 0, 0), 126.58, '05/2022'),\n",
       " (36292264, datetime.datetime(2022, 5, 27, 0, 0), 126.58, '05/2022'),\n",
       " (36278294, datetime.datetime(2022, 6, 1, 0, 0), 151.2, '06/2022'),\n",
       " (36278294, datetime.datetime(2022, 6, 2, 0, 0), 151.2, '06/2022'),\n",
       " (36278294, datetime.datetime(2022, 6, 3, 0, 0), 151.2, '06/2022'),\n",
       " (36278294, datetime.datetime(2022, 6, 4, 0, 0), 151.2, '06/2022'),\n",
       " (36278294, datetime.datetime(2022, 6, 5, 0, 0), 151.2, '06/2022'),\n",
       " (36278294, datetime.datetime(2022, 6, 6, 0, 0), 151.2, '06/2022'),\n",
       " (36278294, datetime.datetime(2022, 6, 7, 0, 0), 151.2, '06/2022'),\n",
       " (36278294, datetime.datetime(2022, 6, 8, 0, 0), 151.2, '06/2022'),\n",
       " (36204474, datetime.datetime(2022, 6, 13, 0, 0), 155.24, '06/2022'),\n",
       " (36204474, datetime.datetime(2022, 6, 14, 0, 0), 155.24, '06/2022'),\n",
       " (36204474, datetime.datetime(2022, 6, 15, 0, 0), 155.24, '06/2022'),\n",
       " (36204474, datetime.datetime(2022, 6, 16, 0, 0), 155.24, '06/2022'),\n",
       " (36204474, datetime.datetime(2022, 6, 17, 0, 0), 155.24, '06/2022'),\n",
       " (36204474, datetime.datetime(2022, 6, 18, 0, 0), 155.24, '06/2022'),\n",
       " (36204474, datetime.datetime(2022, 6, 19, 0, 0), 155.24, '06/2022'),\n",
       " (35761071, datetime.datetime(2022, 6, 24, 0, 0), 153.98, '06/2022'),\n",
       " (35761071, datetime.datetime(2022, 6, 25, 0, 0), 153.98, '06/2022'),\n",
       " (35761071, datetime.datetime(2022, 6, 26, 0, 0), 153.98, '06/2022'),\n",
       " (35761071, datetime.datetime(2022, 6, 27, 0, 0), 153.98, '06/2022'),\n",
       " (35761071, datetime.datetime(2022, 6, 28, 0, 0), 153.98, '06/2022'),\n",
       " (35761071, datetime.datetime(2022, 6, 29, 0, 0), 153.98, '06/2022'),\n",
       " (35761071, datetime.datetime(2022, 6, 30, 0, 0), 153.98, '06/2022'),\n",
       " (35761071, datetime.datetime(2022, 7, 1, 0, 0), 153.98, '07/2022'),\n",
       " (35761071, datetime.datetime(2022, 7, 2, 0, 0), 153.98, '07/2022'),\n",
       " (35761071, datetime.datetime(2022, 7, 3, 0, 0), 153.98, '07/2022'),\n",
       " (35761071, datetime.datetime(2022, 7, 4, 0, 0), 153.98, '07/2022'),\n",
       " (35761071, datetime.datetime(2022, 7, 5, 0, 0), 153.98, '07/2022'),\n",
       " (36066025, datetime.datetime(2022, 7, 7, 0, 0), 156.9, '07/2022'),\n",
       " (36066025, datetime.datetime(2022, 7, 8, 0, 0), 156.9, '07/2022'),\n",
       " (36066025, datetime.datetime(2022, 7, 9, 0, 0), 156.9, '07/2022'),\n",
       " (36066025, datetime.datetime(2022, 7, 10, 0, 0), 156.9, '07/2022'),\n",
       " (36066025, datetime.datetime(2022, 7, 11, 0, 0), 156.9, '07/2022'),\n",
       " (36066025, datetime.datetime(2022, 7, 12, 0, 0), 156.9, '07/2022'),\n",
       " (36066025, datetime.datetime(2022, 7, 13, 0, 0), 156.9, '07/2022'),\n",
       " (36066025, datetime.datetime(2022, 7, 14, 0, 0), 156.9, '07/2022'),\n",
       " (36066025, datetime.datetime(2022, 7, 15, 0, 0), 156.9, '07/2022'),\n",
       " (36066025, datetime.datetime(2022, 7, 16, 0, 0), 156.9, '07/2022'),\n",
       " (36667491, datetime.datetime(2022, 7, 21, 0, 0), 181.26, '07/2022'),\n",
       " (36667491, datetime.datetime(2022, 7, 22, 0, 0), 181.26, '07/2022'),\n",
       " (36667491, datetime.datetime(2022, 7, 23, 0, 0), 181.26, '07/2022'),\n",
       " (36667491, datetime.datetime(2022, 7, 24, 0, 0), 181.26, '07/2022'),\n",
       " (36667491, datetime.datetime(2022, 7, 25, 0, 0), 181.26, '07/2022'),\n",
       " (36667491, datetime.datetime(2022, 7, 26, 0, 0), 181.26, '07/2022'),\n",
       " (36667491, datetime.datetime(2022, 7, 27, 0, 0), 181.26, '07/2022')]"
      ]
     },
     "execution_count": 98,
     "metadata": {},
     "output_type": "execute_result"
    }
   ],
   "source": [
    "gw_con.execute(\"Select * from breakdown_dashboard\").fetchall()"
   ]
  },
  {
   "cell_type": "code",
   "execution_count": 81,
   "id": "9a0b39f8",
   "metadata": {},
   "outputs": [
    {
     "data": {
      "text/plain": [
       "---------------------\n",
       "--- Relation Tree ---\n",
       "---------------------\n",
       "pandas_scan(0x7f4ab5d9f8b0)\n",
       "\n",
       "---------------------\n",
       "-- Result Columns  --\n",
       "---------------------\n",
       "- Res_ID (BIGINT)\n",
       "- Date (TIMESTAMP)\n",
       "- Per Night (DOUBLE)\n",
       "- Month-Year (VARCHAR)\n",
       "\n",
       "---------------------\n",
       "-- Result Preview  --\n",
       "---------------------\n",
       "Res_ID\tDate\tPer Night\tMonth-Year\t\n",
       "BIGINT\tTIMESTAMP\tDOUBLE\tVARCHAR\t\n",
       "[ Rows: 10]\n",
       "1096275\t2022-09-23 00:00:00\t0.0\t09/2022\n",
       "1096275\t2022-09-24 00:00:00\t0.0\t09/2022\n",
       "1096275\t2022-09-25 00:00:00\t0.0\t09/2022\n",
       "1096275\t2022-09-26 00:00:00\t0.0\t09/2022\n",
       "1096275\t2022-09-27 00:00:00\t0.0\t09/2022\n",
       "1096275\t2022-09-28 00:00:00\t0.0\t09/2022\n",
       "1096275\t2022-09-29 00:00:00\t0.0\t09/2022\n",
       "1096275\t2022-09-30 00:00:00\t0.0\t09/2022\n",
       "1096275\t2022-10-01 00:00:00\t0.0\t10/2022\n",
       "1096275\t2022-10-02 00:00:00\t0.0\t10/2022\n",
       "\n"
      ]
     },
     "execution_count": 81,
     "metadata": {},
     "output_type": "execute_result"
    }
   ],
   "source": [
    "addbreakdn"
   ]
  },
  {
   "cell_type": "code",
   "execution_count": 93,
   "id": "1e5db041",
   "metadata": {},
   "outputs": [
    {
     "data": {
      "text/plain": [
       "<duckdb.DuckDBPyConnection at 0x7f4acd32d370>"
      ]
     },
     "execution_count": 93,
     "metadata": {},
     "output_type": "execute_result"
    }
   ],
   "source": [
    "gw_con.execute('CREATE OR REPLACE TABLE breakdown_dashboard(Res_ID BIGINT,Date TIMESTAMP,\"Per Night\" DOUBLE,\"Month-Year\" VARCHAR, PRIMARY KEY(Res_ID, Date,\"Per Night\", \"Month-Year\"))')"
   ]
  },
  {
   "cell_type": "code",
   "execution_count": 102,
   "id": "d38f0e0a",
   "metadata": {},
   "outputs": [
    {
     "data": {
      "text/plain": [
       "<duckdb.DuckDBPyConnection at 0x7f4acd32d370>"
      ]
     },
     "execution_count": 102,
     "metadata": {},
     "output_type": "execute_result"
    }
   ],
   "source": [
    "gw_con.execute('CREATE OR REPLACE TABLE  cfrm(\"Res_ID\" BIGINT PRIMARY KEY, \"Status\" VARCHAR, \"Unit\" VARCHAR, \"Guest\" VARCHAR, \"Booked Date\" VARCHAR, \"Check-In\" VARCHAR, \"Checkout\" VARCHAR, \"Nights\" BIGINT, \"Income\" VARCHAR)')\n",
    "gw_con.execute('CREATE OR REPLACE TABLE  gw_res(\"Res_ID\" BIGINT PRIMARY KEY, \"Status\" VARCHAR, \"Unit\" VARCHAR, \"Guest\" VARCHAR, \"Booked Date\" VARCHAR, \"Check-In\" VARCHAR, \"Checkout\" VARCHAR, \"Nights\" BIGINT, \"Income\" VARCHAR)')"
   ]
  },
  {
   "cell_type": "code",
   "execution_count": 110,
   "id": "8173d0b2",
   "metadata": {},
   "outputs": [
    {
     "ename": "ParserException",
     "evalue": "Parser Error: syntax error at or near \".\"\nLINE 1: load.sql\n            ^",
     "output_type": "error",
     "traceback": [
      "\u001b[0;31m---------------------------------------------------------------------------\u001b[0m",
      "\u001b[0;31mParserException\u001b[0m                           Traceback (most recent call last)",
      "Input \u001b[0;32mIn [110]\u001b[0m, in \u001b[0;36m<cell line: 1>\u001b[0;34m()\u001b[0m\n\u001b[0;32m----> 1\u001b[0m \u001b[43mgw_con\u001b[49m\u001b[38;5;241;43m.\u001b[39;49m\u001b[43mexecute\u001b[49m\u001b[43m(\u001b[49m\u001b[38;5;124;43m\"\u001b[39;49m\u001b[38;5;124;43mload.sql\u001b[39;49m\u001b[38;5;124;43m\"\u001b[39;49m\u001b[43m)\u001b[49m\n",
      "\u001b[0;31mParserException\u001b[0m: Parser Error: syntax error at or near \".\"\nLINE 1: load.sql\n            ^"
     ]
    }
   ],
   "source": [
    "gw_con.execute(\"load.sql\")"
   ]
  },
  {
   "cell_type": "code",
   "execution_count": 101,
   "id": "8bb9843a",
   "metadata": {},
   "outputs": [
    {
     "ename": "ParserException",
     "evalue": "Parser Error: syntax error at end of input",
     "output_type": "error",
     "traceback": [
      "\u001b[0;31m---------------------------------------------------------------------------\u001b[0m",
      "\u001b[0;31mParserException\u001b[0m                           Traceback (most recent call last)",
      "Input \u001b[0;32mIn [101]\u001b[0m, in \u001b[0;36m<cell line: 1>\u001b[0;34m()\u001b[0m\n\u001b[0;32m----> 1\u001b[0m \u001b[43mgw_con\u001b[49m\u001b[38;5;241;43m.\u001b[39;49m\u001b[43mexecute\u001b[49m\u001b[43m(\u001b[49m\u001b[38;5;124;43m'\u001b[39;49m\u001b[38;5;124;43mCREATE TABLE cfrm(\u001b[39;49m\u001b[38;5;124;43m\"\u001b[39;49m\u001b[38;5;124;43mRes_ID\u001b[39;49m\u001b[38;5;124;43m\"\u001b[39;49m\u001b[38;5;124;43m BIGINT PRIMARY KEY, \u001b[39;49m\u001b[38;5;124;43m\"\u001b[39;49m\u001b[38;5;124;43mStatus\u001b[39;49m\u001b[38;5;124;43m\"\u001b[39;49m\u001b[38;5;124;43m VARCHAR, \u001b[39;49m\u001b[38;5;124;43m\"\u001b[39;49m\u001b[38;5;124;43mUnit\u001b[39;49m\u001b[38;5;124;43m\"\u001b[39;49m\u001b[38;5;124;43m VARCHAR, \u001b[39;49m\u001b[38;5;124;43m\"\u001b[39;49m\u001b[38;5;124;43mGuest\u001b[39;49m\u001b[38;5;124;43m\"\u001b[39;49m\u001b[38;5;124;43m VARCHAR, \u001b[39;49m\u001b[38;5;124;43m\"\u001b[39;49m\u001b[38;5;124;43mBooked Date\u001b[39;49m\u001b[38;5;124;43m\"\u001b[39;49m\u001b[38;5;124;43m VARCHAR, \u001b[39;49m\u001b[38;5;124;43m\"\u001b[39;49m\u001b[38;5;124;43mCheck-In\u001b[39;49m\u001b[38;5;124;43m\"\u001b[39;49m\u001b[38;5;124;43m VARCHAR, \u001b[39;49m\u001b[38;5;124;43m\"\u001b[39;49m\u001b[38;5;124;43mCheckout\u001b[39;49m\u001b[38;5;124;43m\"\u001b[39;49m\u001b[38;5;124;43m VARCHAR, \u001b[39;49m\u001b[38;5;124;43m\"\u001b[39;49m\u001b[38;5;124;43mNights\u001b[39;49m\u001b[38;5;124;43m\"\u001b[39;49m\u001b[38;5;124;43m BIGINT, \u001b[39;49m\u001b[38;5;124;43m\"\u001b[39;49m\u001b[38;5;124;43mIncome\u001b[39;49m\u001b[38;5;124;43m\"\u001b[39;49m\u001b[38;5;124;43m VARCHAR\u001b[39;49m\u001b[38;5;124;43m'\u001b[39;49m\u001b[43m)\u001b[49m\n",
      "\u001b[0;31mParserException\u001b[0m: Parser Error: syntax error at end of input"
     ]
    }
   ],
   "source": [
    "gw_con.execute('CREATE TABLE cfrm(\"Res_ID\" BIGINT PRIMARY KEY, \"Status\" VARCHAR, \"Unit\" VARCHAR, \"Guest\" VARCHAR, \"Booked Date\" VARCHAR, \"Check-In\" VARCHAR, \"Checkout\" VARCHAR, \"Nights\" BIGINT, \"Income\" VARCHAR')"
   ]
  },
  {
   "cell_type": "code",
   "execution_count": 108,
   "id": "a9fb52fc",
   "metadata": {},
   "outputs": [
    {
     "data": {
      "text/plain": [
       "[]"
      ]
     },
     "execution_count": 108,
     "metadata": {},
     "output_type": "execute_result"
    }
   ],
   "source": [
    "gw_con.execute(\"Select * from cfrm\").fetchall()"
   ]
  },
  {
   "cell_type": "markdown",
   "id": "12192703",
   "metadata": {},
   "source": [
    "# Reload Data"
   ]
  },
  {
   "cell_type": "code",
   "execution_count": 119,
   "id": "2bc1f4a6",
   "metadata": {},
   "outputs": [
    {
     "data": {
      "text/plain": [
       "[(0,)]"
      ]
     },
     "execution_count": 119,
     "metadata": {},
     "output_type": "execute_result"
    }
   ],
   "source": [
    "\n",
    "gw_con.execute(\"COPY cfrm FROM 'database/cfrm.parquet' (FORMAT 'parquet')\").fetchall()\n"
   ]
  },
  {
   "cell_type": "code",
   "execution_count": 114,
   "id": "97afed2e",
   "metadata": {},
   "outputs": [
    {
     "data": {
      "text/plain": [
       "[]"
      ]
     },
     "execution_count": 114,
     "metadata": {},
     "output_type": "execute_result"
    }
   ],
   "source": [
    "gw_con.execute(\"Show Tables\").fetchall()\n",
    "gw_con.execute(\"Select * from cfrm\").fetchall()"
   ]
  },
  {
   "cell_type": "code",
   "execution_count": 111,
   "id": "67794caf",
   "metadata": {},
   "outputs": [
    {
     "ename": "EmptyDataError",
     "evalue": "No columns to parse from file",
     "output_type": "error",
     "traceback": [
      "\u001b[0;31m---------------------------------------------------------------------------\u001b[0m",
      "\u001b[0;31mEmptyDataError\u001b[0m                            Traceback (most recent call last)",
      "Input \u001b[0;32mIn [111]\u001b[0m, in \u001b[0;36m<cell line: 1>\u001b[0;34m()\u001b[0m\n\u001b[0;32m----> 1\u001b[0m cfrm_df \u001b[38;5;241m=\u001b[39m \u001b[43mpd\u001b[49m\u001b[38;5;241;43m.\u001b[39;49m\u001b[43mread_csv\u001b[49m\u001b[43m(\u001b[49m\u001b[38;5;124;43m'\u001b[39;49m\u001b[38;5;124;43mdatabase/cfrm.csv\u001b[39;49m\u001b[38;5;124;43m'\u001b[39;49m\u001b[43m)\u001b[49m\n\u001b[1;32m      2\u001b[0m gw_res_df \u001b[38;5;241m=\u001b[39m pd\u001b[38;5;241m.\u001b[39mread_csv(\u001b[38;5;124m'\u001b[39m\u001b[38;5;124mdatabase/gw_res.csv\u001b[39m\u001b[38;5;124m'\u001b[39m)\n\u001b[1;32m      3\u001b[0m addgw \u001b[38;5;241m=\u001b[39m gw_con\u001b[38;5;241m.\u001b[39mdf(gw_res_df)\n",
      "File \u001b[0;32m~/anaconda3/envs/scrapers/lib/python3.10/site-packages/pandas/util/_decorators.py:311\u001b[0m, in \u001b[0;36mdeprecate_nonkeyword_arguments.<locals>.decorate.<locals>.wrapper\u001b[0;34m(*args, **kwargs)\u001b[0m\n\u001b[1;32m    305\u001b[0m \u001b[38;5;28;01mif\u001b[39;00m \u001b[38;5;28mlen\u001b[39m(args) \u001b[38;5;241m>\u001b[39m num_allow_args:\n\u001b[1;32m    306\u001b[0m     warnings\u001b[38;5;241m.\u001b[39mwarn(\n\u001b[1;32m    307\u001b[0m         msg\u001b[38;5;241m.\u001b[39mformat(arguments\u001b[38;5;241m=\u001b[39marguments),\n\u001b[1;32m    308\u001b[0m         \u001b[38;5;167;01mFutureWarning\u001b[39;00m,\n\u001b[1;32m    309\u001b[0m         stacklevel\u001b[38;5;241m=\u001b[39mstacklevel,\n\u001b[1;32m    310\u001b[0m     )\n\u001b[0;32m--> 311\u001b[0m \u001b[38;5;28;01mreturn\u001b[39;00m \u001b[43mfunc\u001b[49m\u001b[43m(\u001b[49m\u001b[38;5;241;43m*\u001b[39;49m\u001b[43margs\u001b[49m\u001b[43m,\u001b[49m\u001b[43m \u001b[49m\u001b[38;5;241;43m*\u001b[39;49m\u001b[38;5;241;43m*\u001b[39;49m\u001b[43mkwargs\u001b[49m\u001b[43m)\u001b[49m\n",
      "File \u001b[0;32m~/anaconda3/envs/scrapers/lib/python3.10/site-packages/pandas/io/parsers/readers.py:680\u001b[0m, in \u001b[0;36mread_csv\u001b[0;34m(filepath_or_buffer, sep, delimiter, header, names, index_col, usecols, squeeze, prefix, mangle_dupe_cols, dtype, engine, converters, true_values, false_values, skipinitialspace, skiprows, skipfooter, nrows, na_values, keep_default_na, na_filter, verbose, skip_blank_lines, parse_dates, infer_datetime_format, keep_date_col, date_parser, dayfirst, cache_dates, iterator, chunksize, compression, thousands, decimal, lineterminator, quotechar, quoting, doublequote, escapechar, comment, encoding, encoding_errors, dialect, error_bad_lines, warn_bad_lines, on_bad_lines, delim_whitespace, low_memory, memory_map, float_precision, storage_options)\u001b[0m\n\u001b[1;32m    665\u001b[0m kwds_defaults \u001b[38;5;241m=\u001b[39m _refine_defaults_read(\n\u001b[1;32m    666\u001b[0m     dialect,\n\u001b[1;32m    667\u001b[0m     delimiter,\n\u001b[0;32m   (...)\u001b[0m\n\u001b[1;32m    676\u001b[0m     defaults\u001b[38;5;241m=\u001b[39m{\u001b[38;5;124m\"\u001b[39m\u001b[38;5;124mdelimiter\u001b[39m\u001b[38;5;124m\"\u001b[39m: \u001b[38;5;124m\"\u001b[39m\u001b[38;5;124m,\u001b[39m\u001b[38;5;124m\"\u001b[39m},\n\u001b[1;32m    677\u001b[0m )\n\u001b[1;32m    678\u001b[0m kwds\u001b[38;5;241m.\u001b[39mupdate(kwds_defaults)\n\u001b[0;32m--> 680\u001b[0m \u001b[38;5;28;01mreturn\u001b[39;00m \u001b[43m_read\u001b[49m\u001b[43m(\u001b[49m\u001b[43mfilepath_or_buffer\u001b[49m\u001b[43m,\u001b[49m\u001b[43m \u001b[49m\u001b[43mkwds\u001b[49m\u001b[43m)\u001b[49m\n",
      "File \u001b[0;32m~/anaconda3/envs/scrapers/lib/python3.10/site-packages/pandas/io/parsers/readers.py:575\u001b[0m, in \u001b[0;36m_read\u001b[0;34m(filepath_or_buffer, kwds)\u001b[0m\n\u001b[1;32m    572\u001b[0m _validate_names(kwds\u001b[38;5;241m.\u001b[39mget(\u001b[38;5;124m\"\u001b[39m\u001b[38;5;124mnames\u001b[39m\u001b[38;5;124m\"\u001b[39m, \u001b[38;5;28;01mNone\u001b[39;00m))\n\u001b[1;32m    574\u001b[0m \u001b[38;5;66;03m# Create the parser.\u001b[39;00m\n\u001b[0;32m--> 575\u001b[0m parser \u001b[38;5;241m=\u001b[39m \u001b[43mTextFileReader\u001b[49m\u001b[43m(\u001b[49m\u001b[43mfilepath_or_buffer\u001b[49m\u001b[43m,\u001b[49m\u001b[43m \u001b[49m\u001b[38;5;241;43m*\u001b[39;49m\u001b[38;5;241;43m*\u001b[39;49m\u001b[43mkwds\u001b[49m\u001b[43m)\u001b[49m\n\u001b[1;32m    577\u001b[0m \u001b[38;5;28;01mif\u001b[39;00m chunksize \u001b[38;5;129;01mor\u001b[39;00m iterator:\n\u001b[1;32m    578\u001b[0m     \u001b[38;5;28;01mreturn\u001b[39;00m parser\n",
      "File \u001b[0;32m~/anaconda3/envs/scrapers/lib/python3.10/site-packages/pandas/io/parsers/readers.py:934\u001b[0m, in \u001b[0;36mTextFileReader.__init__\u001b[0;34m(self, f, engine, **kwds)\u001b[0m\n\u001b[1;32m    931\u001b[0m     \u001b[38;5;28mself\u001b[39m\u001b[38;5;241m.\u001b[39moptions[\u001b[38;5;124m\"\u001b[39m\u001b[38;5;124mhas_index_names\u001b[39m\u001b[38;5;124m\"\u001b[39m] \u001b[38;5;241m=\u001b[39m kwds[\u001b[38;5;124m\"\u001b[39m\u001b[38;5;124mhas_index_names\u001b[39m\u001b[38;5;124m\"\u001b[39m]\n\u001b[1;32m    933\u001b[0m \u001b[38;5;28mself\u001b[39m\u001b[38;5;241m.\u001b[39mhandles: IOHandles \u001b[38;5;241m|\u001b[39m \u001b[38;5;28;01mNone\u001b[39;00m \u001b[38;5;241m=\u001b[39m \u001b[38;5;28;01mNone\u001b[39;00m\n\u001b[0;32m--> 934\u001b[0m \u001b[38;5;28mself\u001b[39m\u001b[38;5;241m.\u001b[39m_engine \u001b[38;5;241m=\u001b[39m \u001b[38;5;28;43mself\u001b[39;49m\u001b[38;5;241;43m.\u001b[39;49m\u001b[43m_make_engine\u001b[49m\u001b[43m(\u001b[49m\u001b[43mf\u001b[49m\u001b[43m,\u001b[49m\u001b[43m \u001b[49m\u001b[38;5;28;43mself\u001b[39;49m\u001b[38;5;241;43m.\u001b[39;49m\u001b[43mengine\u001b[49m\u001b[43m)\u001b[49m\n",
      "File \u001b[0;32m~/anaconda3/envs/scrapers/lib/python3.10/site-packages/pandas/io/parsers/readers.py:1236\u001b[0m, in \u001b[0;36mTextFileReader._make_engine\u001b[0;34m(self, f, engine)\u001b[0m\n\u001b[1;32m   1233\u001b[0m     \u001b[38;5;28;01mraise\u001b[39;00m \u001b[38;5;167;01mValueError\u001b[39;00m(msg)\n\u001b[1;32m   1235\u001b[0m \u001b[38;5;28;01mtry\u001b[39;00m:\n\u001b[0;32m-> 1236\u001b[0m     \u001b[38;5;28;01mreturn\u001b[39;00m \u001b[43mmapping\u001b[49m\u001b[43m[\u001b[49m\u001b[43mengine\u001b[49m\u001b[43m]\u001b[49m\u001b[43m(\u001b[49m\u001b[43mf\u001b[49m\u001b[43m,\u001b[49m\u001b[43m \u001b[49m\u001b[38;5;241;43m*\u001b[39;49m\u001b[38;5;241;43m*\u001b[39;49m\u001b[38;5;28;43mself\u001b[39;49m\u001b[38;5;241;43m.\u001b[39;49m\u001b[43moptions\u001b[49m\u001b[43m)\u001b[49m\n\u001b[1;32m   1237\u001b[0m \u001b[38;5;28;01mexcept\u001b[39;00m \u001b[38;5;167;01mException\u001b[39;00m:\n\u001b[1;32m   1238\u001b[0m     \u001b[38;5;28;01mif\u001b[39;00m \u001b[38;5;28mself\u001b[39m\u001b[38;5;241m.\u001b[39mhandles \u001b[38;5;129;01mis\u001b[39;00m \u001b[38;5;129;01mnot\u001b[39;00m \u001b[38;5;28;01mNone\u001b[39;00m:\n",
      "File \u001b[0;32m~/anaconda3/envs/scrapers/lib/python3.10/site-packages/pandas/io/parsers/c_parser_wrapper.py:75\u001b[0m, in \u001b[0;36mCParserWrapper.__init__\u001b[0;34m(self, src, **kwds)\u001b[0m\n\u001b[1;32m     72\u001b[0m     kwds\u001b[38;5;241m.\u001b[39mpop(key, \u001b[38;5;28;01mNone\u001b[39;00m)\n\u001b[1;32m     74\u001b[0m kwds[\u001b[38;5;124m\"\u001b[39m\u001b[38;5;124mdtype\u001b[39m\u001b[38;5;124m\"\u001b[39m] \u001b[38;5;241m=\u001b[39m ensure_dtype_objs(kwds\u001b[38;5;241m.\u001b[39mget(\u001b[38;5;124m\"\u001b[39m\u001b[38;5;124mdtype\u001b[39m\u001b[38;5;124m\"\u001b[39m, \u001b[38;5;28;01mNone\u001b[39;00m))\n\u001b[0;32m---> 75\u001b[0m \u001b[38;5;28mself\u001b[39m\u001b[38;5;241m.\u001b[39m_reader \u001b[38;5;241m=\u001b[39m \u001b[43mparsers\u001b[49m\u001b[38;5;241;43m.\u001b[39;49m\u001b[43mTextReader\u001b[49m\u001b[43m(\u001b[49m\u001b[43msrc\u001b[49m\u001b[43m,\u001b[49m\u001b[43m \u001b[49m\u001b[38;5;241;43m*\u001b[39;49m\u001b[38;5;241;43m*\u001b[39;49m\u001b[43mkwds\u001b[49m\u001b[43m)\u001b[49m\n\u001b[1;32m     77\u001b[0m \u001b[38;5;28mself\u001b[39m\u001b[38;5;241m.\u001b[39munnamed_cols \u001b[38;5;241m=\u001b[39m \u001b[38;5;28mself\u001b[39m\u001b[38;5;241m.\u001b[39m_reader\u001b[38;5;241m.\u001b[39munnamed_cols\n\u001b[1;32m     79\u001b[0m \u001b[38;5;66;03m# error: Cannot determine type of 'names'\u001b[39;00m\n",
      "File \u001b[0;32m~/anaconda3/envs/scrapers/lib/python3.10/site-packages/pandas/_libs/parsers.pyx:551\u001b[0m, in \u001b[0;36mpandas._libs.parsers.TextReader.__cinit__\u001b[0;34m()\u001b[0m\n",
      "\u001b[0;31mEmptyDataError\u001b[0m: No columns to parse from file"
     ]
    }
   ],
   "source": [
    "cfrm_df = pd.read_csv('database/cfrm.csv')\n",
    "gw_res_df = pd.read_csv('database/gw_res.csv')\n",
    "addgw = gw_con.df(gw_res_df)\n",
    "addcf = gw_con.df(cfrm_df)\n",
    "\n",
    "# add new to database \n",
    "addgw.insert_into(\"gw_res\")\n",
    "addcf.insert_into(\"cfrm\")"
   ]
  },
  {
   "cell_type": "code",
   "execution_count": 120,
   "id": "4817c7c4",
   "metadata": {},
   "outputs": [
    {
     "data": {
      "text/plain": [
       "[]"
      ]
     },
     "execution_count": 120,
     "metadata": {},
     "output_type": "execute_result"
    }
   ],
   "source": [
    "gw_con.execute(\"Select * from cfrm\").fetchall()\n",
    "# gw_con.execute(\"Select * from gw_res\").fetchall()"
   ]
  },
  {
   "cell_type": "code",
   "execution_count": null,
   "id": "4c53d6e6",
   "metadata": {},
   "outputs": [],
   "source": []
  }
 ],
 "metadata": {
  "kernelspec": {
   "display_name": "Python 3 (ipykernel)",
   "language": "python",
   "name": "python3"
  },
  "language_info": {
   "codemirror_mode": {
    "name": "ipython",
    "version": 3
   },
   "file_extension": ".py",
   "mimetype": "text/x-python",
   "name": "python",
   "nbconvert_exporter": "python",
   "pygments_lexer": "ipython3",
   "version": "3.10.4"
  }
 },
 "nbformat": 4,
 "nbformat_minor": 5
}
