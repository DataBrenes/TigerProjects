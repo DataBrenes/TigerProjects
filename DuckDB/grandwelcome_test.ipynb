{
 "cells": [
  {
   "cell_type": "code",
   "execution_count": 2,
   "id": "bc98844e",
   "metadata": {},
   "outputs": [],
   "source": [
    "import duckdb\n",
    "import pandas as pd\n",
    "import os"
   ]
  },
  {
   "cell_type": "code",
   "execution_count": 70,
   "id": "be07692d",
   "metadata": {},
   "outputs": [
    {
     "data": {
      "text/plain": [
       "['All_Full_reservations.csv', 'All_reservations.csv', 'oldFinal.csv']"
      ]
     },
     "execution_count": 70,
     "metadata": {},
     "output_type": "execute_result"
    }
   ],
   "source": [
    "db_dir='./database'\n",
    "os.listdir(db_dir)"
   ]
  },
  {
   "cell_type": "markdown",
   "id": "96353684",
   "metadata": {},
   "source": [
    "## Create database or database connection"
   ]
  },
  {
   "cell_type": "code",
   "execution_count": 4,
   "id": "07dfb5d8",
   "metadata": {},
   "outputs": [],
   "source": [
    "# # to start an in-memory database\n",
    "# con = duckdb.connect(database=':memory:')\n",
    "# # to use a database file (not shared between processes)\n",
    "con = duckdb.connect(database=db_dir+'/All_reservations.duckdb', read_only=False) # if doesn't exist\n",
    "# # to use a database file (shared between processes)\n",
    "# con = duckdb.connect(database='All_Full_reservations.duckdb', read_only=True) # if exists"
   ]
  },
  {
   "cell_type": "markdown",
   "id": "7dd68460",
   "metadata": {},
   "source": [
    "### Import data as dataframe"
   ]
  },
  {
   "cell_type": "code",
   "execution_count": 5,
   "id": "f16431ca",
   "metadata": {},
   "outputs": [],
   "source": [
    "res_df = pd.read_csv(db_dir+'/All_reservations.csv')"
   ]
  },
  {
   "cell_type": "markdown",
   "id": "0ffb7b2c",
   "metadata": {},
   "source": [
    "### create the table \"curr_reservations\" from the DataFrame \"res_df\""
   ]
  },
  {
   "cell_type": "code",
   "execution_count": 6,
   "id": "0970de5b",
   "metadata": {},
   "outputs": [
    {
     "data": {
      "text/plain": [
       "<duckdb.DuckDBPyConnection at 0x7f2ec80fa7f0>"
      ]
     },
     "execution_count": 6,
     "metadata": {},
     "output_type": "execute_result"
    }
   ],
   "source": [
    "con.execute(\"CREATE TABLE curr_reservations AS SELECT * FROM res_df\")"
   ]
  },
  {
   "cell_type": "markdown",
   "id": "da3bdebb",
   "metadata": {},
   "source": [
    "### Create a relation to the table to be used with other functions"
   ]
  },
  {
   "cell_type": "code",
   "execution_count": 7,
   "id": "a686fb60",
   "metadata": {},
   "outputs": [],
   "source": [
    "all_res = con.table('curr_reservations')"
   ]
  },
  {
   "cell_type": "code",
   "execution_count": null,
   "id": "1781af3b",
   "metadata": {},
   "outputs": [],
   "source": [
    "curr"
   ]
  },
  {
   "cell_type": "code",
   "execution_count": null,
   "id": "a7d035bf",
   "metadata": {},
   "outputs": [],
   "source": [
    "print(curr.columns)"
   ]
  },
  {
   "cell_type": "markdown",
   "id": "e5e399b6",
   "metadata": {},
   "source": [
    "### filter "
   ]
  },
  {
   "cell_type": "code",
   "execution_count": null,
   "id": "8b66a7aa",
   "metadata": {},
   "outputs": [],
   "source": [
    "print(curr.filter('Nights > 10'))"
   ]
  },
  {
   "cell_type": "markdown",
   "id": "392f0232",
   "metadata": {},
   "source": [
    "### Save query results as a dataframe"
   ]
  },
  {
   "cell_type": "code",
   "execution_count": null,
   "id": "c1bfcb2e",
   "metadata": {},
   "outputs": [],
   "source": [
    "long_stays=curr.filter('Nights > 10').to_df()"
   ]
  },
  {
   "cell_type": "code",
   "execution_count": null,
   "id": "1c3f80e0",
   "metadata": {},
   "outputs": [],
   "source": [
    "long_stays"
   ]
  },
  {
   "cell_type": "code",
   "execution_count": null,
   "id": "f0b7ff6e",
   "metadata": {},
   "outputs": [],
   "source": [
    "# # create a table in duckdb from the relation\n",
    "# print(rel.create(\"test_table2\"))\n",
    "\n",
    "# # insert the relation's data into an existing table\n",
    "# conn.execute(\"CREATE TABLE test_table3 (i INTEGER, j STRING)\")\n",
    "# print(rel.insert_into(\"test_table3\"))"
   ]
  },
  {
   "cell_type": "markdown",
   "id": "e9bf7213",
   "metadata": {},
   "source": [
    "# Create GrandWelcome Scenarios"
   ]
  },
  {
   "cell_type": "markdown",
   "id": "6a66671c",
   "metadata": {},
   "source": [
    "### 1 Scrape web table and save as curr_online table "
   ]
  },
  {
   "cell_type": "code",
   "execution_count": 5,
   "id": "98c6ceba",
   "metadata": {},
   "outputs": [],
   "source": [
    "# Broken update. Seems to be running but not updating. \n",
    "from webdriver_manager.chrome import ChromeDriverManager\n",
    "from selenium.webdriver.common.by import By\n",
    "from selenium.webdriver.support.ui import WebDriverWait \n",
    "from selenium.webdriver.support import expected_conditions as EC\n",
    "from selenium.webdriver.common.desired_capabilities import DesiredCapabilities\n",
    "from selenium.webdriver.support.ui import Select\n",
    "import pandas as pd\n",
    "from time import sleep\n",
    "from datetime import datetime\n",
    "from datetime import timedelta\n",
    "from selenium.webdriver.chrome.service import Service\n",
    "from selenium import webdriver\n",
    "import json\n",
    "# import get_params as gp\n",
    "# import chk_new_res as cn\n",
    "# import build_payload as bp\n",
    "# import send2cal as cal\n",
    "import logging\n",
    "import re\n",
    "from dateutil.parser import parse\n",
    "from datetime import date, timedelta\n",
    "# logging.basicConfig(filename='logs/booking.log', level=logging.INFO)\n",
    "\n",
    "def check_new(df):\n",
    "    if len(df.index) == 0:\n",
    "        logging.info('No new booking found.')\n",
    "    else:\n",
    "        logging.info('New booking found.')\n",
    "\n",
    "def CountDaysMonth(Arrival,Departure):    \n",
    "    from datetime import date, timedelta\n",
    "    from dateutil.parser import parse\n",
    "    from datetime import datetime\n",
    "    BookedDaysPerMonth = {}\n",
    "    d1 = parse(Arrival).date()\n",
    "    d2 = parse(Departure).date()\n",
    "    # this will give you a list containing all of the dates\n",
    "    times = [d1 + timedelta(days=x) for x in range((d2-d1).days + 1)]\n",
    "    # Creates a dictionary and increments if it exists \n",
    "    for t in times:\n",
    "        month = t.strftime(\"%b\")+'-'+t.strftime(\"%Y\")\n",
    "        if month in BookedDaysPerMonth:\n",
    "            BookedDaysPerMonth[month] += 1\n",
    "        else:\n",
    "            BookedDaysPerMonth[month] = 1\n",
    "    Dates_list=[]\n",
    "    for k,v in BookedDaysPerMonth.items():\n",
    "        Dates_list.append('{}-{}'.format(k,v))\n",
    "    return Dates_list"
   ]
  },
  {
   "cell_type": "code",
   "execution_count": 6,
   "id": "c5a22879",
   "metadata": {},
   "outputs": [
    {
     "name": "stdout",
     "output_type": "stream",
     "text": [
      "\n"
     ]
    }
   ],
   "source": [
    "url='https://gw.trackhs.com/owner/'\n",
    "user='4806BrierRose@brenesfinancial.com'\n",
    "pwd='MyM0n3yH0m3'   \n",
    "\n",
    "    \n",
    "browser = webdriver.Chrome(service=Service(ChromeDriverManager().install()))\n",
    "#     browser = webdriver.Remote('http://bookings:4444/wd/hub', desired_capabilities=DesiredCapabilities.CHROME)\n",
    "browser.get(url)\n",
    "\n",
    "# Login \n",
    "username=browser.find_element(by=By.XPATH, value=\"//input[@placeholder='Email']\")\n",
    "password=browser.find_element(by=By.XPATH, value=\"//input[@placeholder='Password']\")\n",
    "login=browser.find_element(by=By.XPATH, value=\"//button[@type='submit']\")\n",
    "username.send_keys(user)\n",
    "password.send_keys(pwd)\n",
    "login.submit()\n",
    "\n",
    "sleep(5)\n",
    "## click reservations tab\n",
    "restab=browser.find_element(by=By.XPATH, value=\"//span[normalize-space()='Reservations']\")\n",
    "restab.click()\n",
    "sleep(5)\n",
    "\n",
    "## Need to make sure that 100 is showing instead of 10\n",
    "select = Select(browser.find_element(by=By.XPATH, value=\"//*[@id='table_length']/label/select\"))\n",
    "# select by value \n",
    "select.select_by_value('100')\n",
    "sleep(5) #if you don't wait it will only grab 10\n",
    "# Get table \n",
    "html = browser.page_source\n",
    "table = pd.read_html(html)\n",
    "res_raw_df = table[0]\n",
    "res_df=res_raw_df[['Res. #', 'Status', 'Unit', 'Guest', 'Booked Date', 'Check-In','Checkout', 'Nights', 'Income']]\n",
    "res_df.columns = ['Res_ID', 'Status', 'Unit', 'Guest', 'Booked Date', 'Check-In','Checkout', 'Nights', 'Income']"
   ]
  },
  {
   "cell_type": "code",
   "execution_count": 7,
   "id": "962fd154",
   "metadata": {},
   "outputs": [],
   "source": [
    "# format dates to match for merging\n",
    "res_df=res_df.copy()\n",
    "res_df[\"Booked Date\"] = pd.to_datetime(res_df[\"Booked Date\"]).dt.strftime('%b/%d/%Y')\n",
    "res_df[\"Check-In\"] = pd.to_datetime(res_df[\"Check-In\"]).dt.strftime('%b/%d/%Y')\n",
    "res_df[\"Checkout\"] = pd.to_datetime(res_df[\"Checkout\"]).dt.strftime('%b/%d/%Y')\n",
    "# new_res=res_df[['Res_ID','Guest','Check-In','Checkout','Nights','Income']]"
   ]
  },
  {
   "cell_type": "code",
   "execution_count": 23,
   "id": "579452be",
   "metadata": {},
   "outputs": [],
   "source": [
    "con.execute(\"CREATE TABLE curr_online AS SELECT * FROM res_df\")\n",
    "online = con.table('curr_online')"
   ]
  },
  {
   "cell_type": "markdown",
   "id": "fa0ff266",
   "metadata": {},
   "source": [
    "# Table Names and structure\n",
    "    **online** This is the table that is scraped at run time.  \n",
    "        And dropped at end of run.\n",
    "    **gw_res** This is the table that has all the reservations from gr.  \n",
    "        This gets updated. \n",
    "    **cfrm** This is the old reservations from cfrm in gw_res format.  \n",
    "        Gets added at initial creation of 'gw_res'"
   ]
  },
  {
   "cell_type": "code",
   "execution_count": 68,
   "id": "303169c0",
   "metadata": {},
   "outputs": [],
   "source": [
    "gw_con.close()"
   ]
  },
  {
   "cell_type": "code",
   "execution_count": 24,
   "id": "e4067e8d",
   "metadata": {},
   "outputs": [
    {
     "data": {
      "text/plain": [
       "[('breakdown_dashboard',), ('cfrm',), ('gw_res',)]"
      ]
     },
     "execution_count": 24,
     "metadata": {},
     "output_type": "execute_result"
    }
   ],
   "source": [
    "gw_con.execute(\"show tables\").fetchall()"
   ]
  },
  {
   "cell_type": "code",
   "execution_count": 25,
   "id": "6e1792e1",
   "metadata": {},
   "outputs": [],
   "source": [
    "# create gwdb\n",
    "# gw_con = duckdb.connect(database='database/grandwelcome.duckdb', read_only=False) \n",
    "# # create gw_res table\n",
    "# gw_con.execute(\"CREATE TABLE gw_res AS SELECT * FROM res_df\")\n",
    "# # create cfrm from csv \n",
    "# cfrm_df = pd.read_csv('database/oldFinal.csv')\n",
    "# gw_con.execute(\"CREATE TABLE cfrm AS SELECT * FROM cfrm_df\")"
   ]
  },
  {
   "cell_type": "markdown",
   "id": "8fa403bc",
   "metadata": {},
   "source": [
    "## Check NEw"
   ]
  },
  {
   "cell_type": "code",
   "execution_count": 12,
   "id": "271ff7bc",
   "metadata": {},
   "outputs": [],
   "source": [
    "def checkNewRes(res_df):\n",
    "    # create gwdb\n",
    "    gw_con = duckdb.connect(database='database/grandwelcome.duckdb', read_only=False) \n",
    "    gw_con.execute(\"CREATE TABLE online AS SELECT * FROM res_df\")\n",
    "    new=gw_con.execute(\"Select * from online where Res_ID NOT IN (Select Res_ID from gw_res)\").df()   \n",
    "    gw_con.execute(\"drop table IF EXISTS online\")\n",
    "    if len(new) > 0:\n",
    "        addnew = gw_con.df(new)\n",
    "        # add new to database \n",
    "        addnew.insert_into(\"gw_res\")        \n",
    "    return new"
   ]
  },
  {
   "cell_type": "code",
   "execution_count": 13,
   "id": "7e959c92",
   "metadata": {},
   "outputs": [
    {
     "data": {
      "text/plain": [
       "[('cfrm',), ('gw_res',)]"
      ]
     },
     "execution_count": 13,
     "metadata": {},
     "output_type": "execute_result"
    }
   ],
   "source": [
    "gw_con.execute(\"Show tables\").fetchall()"
   ]
  },
  {
   "cell_type": "code",
   "execution_count": 27,
   "id": "e9cd02cb",
   "metadata": {},
   "outputs": [
    {
     "data": {
      "text/html": [
       "<div>\n",
       "<style scoped>\n",
       "    .dataframe tbody tr th:only-of-type {\n",
       "        vertical-align: middle;\n",
       "    }\n",
       "\n",
       "    .dataframe tbody tr th {\n",
       "        vertical-align: top;\n",
       "    }\n",
       "\n",
       "    .dataframe thead th {\n",
       "        text-align: right;\n",
       "    }\n",
       "</style>\n",
       "<table border=\"1\" class=\"dataframe\">\n",
       "  <thead>\n",
       "    <tr style=\"text-align: right;\">\n",
       "      <th></th>\n",
       "      <th>Res_ID</th>\n",
       "      <th>Status</th>\n",
       "      <th>Unit</th>\n",
       "      <th>Guest</th>\n",
       "      <th>Booked Date</th>\n",
       "      <th>Check-In</th>\n",
       "      <th>Checkout</th>\n",
       "      <th>Nights</th>\n",
       "      <th>Income</th>\n",
       "    </tr>\n",
       "  </thead>\n",
       "  <tbody>\n",
       "  </tbody>\n",
       "</table>\n",
       "</div>"
      ],
      "text/plain": [
       "Empty DataFrame\n",
       "Columns: [Res_ID, Status, Unit, Guest, Booked Date, Check-In, Checkout, Nights, Income]\n",
       "Index: []"
      ]
     },
     "execution_count": 27,
     "metadata": {},
     "output_type": "execute_result"
    }
   ],
   "source": [
    "result=checkNewRes(res_df)\n",
    "result"
   ]
  },
  {
   "cell_type": "code",
   "execution_count": 18,
   "id": "9584b409",
   "metadata": {},
   "outputs": [
    {
     "data": {
      "text/html": [
       "<div>\n",
       "<style scoped>\n",
       "    .dataframe tbody tr th:only-of-type {\n",
       "        vertical-align: middle;\n",
       "    }\n",
       "\n",
       "    .dataframe tbody tr th {\n",
       "        vertical-align: top;\n",
       "    }\n",
       "\n",
       "    .dataframe thead th {\n",
       "        text-align: right;\n",
       "    }\n",
       "</style>\n",
       "<table border=\"1\" class=\"dataframe\">\n",
       "  <thead>\n",
       "    <tr style=\"text-align: right;\">\n",
       "      <th></th>\n",
       "      <th>Res_ID</th>\n",
       "      <th>Status</th>\n",
       "      <th>Unit</th>\n",
       "      <th>Guest</th>\n",
       "      <th>Booked Date</th>\n",
       "      <th>Check-In</th>\n",
       "      <th>Checkout</th>\n",
       "      <th>Nights</th>\n",
       "      <th>Income</th>\n",
       "    </tr>\n",
       "  </thead>\n",
       "  <tbody>\n",
       "  </tbody>\n",
       "</table>\n",
       "</div>"
      ],
      "text/plain": [
       "Empty DataFrame\n",
       "Columns: [Res_ID, Status, Unit, Guest, Booked Date, Check-In, Checkout, Nights, Income]\n",
       "Index: []"
      ]
     },
     "execution_count": 18,
     "metadata": {},
     "output_type": "execute_result"
    }
   ],
   "source": [
    "result"
   ]
  },
  {
   "cell_type": "code",
   "execution_count": 27,
   "id": "6d7f121e",
   "metadata": {},
   "outputs": [],
   "source": [
    "gw_con.close()"
   ]
  },
  {
   "cell_type": "code",
   "execution_count": 28,
   "id": "d96ef7bc",
   "metadata": {},
   "outputs": [
    {
     "data": {
      "text/html": [
       "<div>\n",
       "<style scoped>\n",
       "    .dataframe tbody tr th:only-of-type {\n",
       "        vertical-align: middle;\n",
       "    }\n",
       "\n",
       "    .dataframe tbody tr th {\n",
       "        vertical-align: top;\n",
       "    }\n",
       "\n",
       "    .dataframe thead th {\n",
       "        text-align: right;\n",
       "    }\n",
       "</style>\n",
       "<table border=\"1\" class=\"dataframe\">\n",
       "  <thead>\n",
       "    <tr style=\"text-align: right;\">\n",
       "      <th></th>\n",
       "      <th>Res_ID</th>\n",
       "      <th>Status</th>\n",
       "      <th>Unit</th>\n",
       "      <th>Guest</th>\n",
       "      <th>Booked Date</th>\n",
       "      <th>Check-In</th>\n",
       "      <th>Checkout</th>\n",
       "      <th>Nights</th>\n",
       "      <th>Income</th>\n",
       "    </tr>\n",
       "  </thead>\n",
       "  <tbody>\n",
       "    <tr>\n",
       "      <th>0</th>\n",
       "      <td>1096275</td>\n",
       "      <td>Checked Out</td>\n",
       "      <td>Legendary Times at Story Lake</td>\n",
       "      <td>Brenes</td>\n",
       "      <td>Aug/24/2022</td>\n",
       "      <td>Sep/23/2022</td>\n",
       "      <td>Oct/02/2022</td>\n",
       "      <td>9</td>\n",
       "      <td>$0.00</td>\n",
       "    </tr>\n",
       "    <tr>\n",
       "      <th>1</th>\n",
       "      <td>1096930</td>\n",
       "      <td>Checked Out</td>\n",
       "      <td>Legendary Times at Story Lake</td>\n",
       "      <td>Sarousi</td>\n",
       "      <td>Aug/31/2022</td>\n",
       "      <td>Oct/14/2022</td>\n",
       "      <td>Oct/19/2022</td>\n",
       "      <td>5</td>\n",
       "      <td>$562.27</td>\n",
       "    </tr>\n",
       "    <tr>\n",
       "      <th>2</th>\n",
       "      <td>1097362</td>\n",
       "      <td>Checked Out</td>\n",
       "      <td>Legendary Times at Story Lake</td>\n",
       "      <td>Cutcher</td>\n",
       "      <td>Sep/05/2022</td>\n",
       "      <td>Oct/06/2022</td>\n",
       "      <td>Oct/12/2022</td>\n",
       "      <td>6</td>\n",
       "      <td>$674.73</td>\n",
       "    </tr>\n",
       "    <tr>\n",
       "      <th>3</th>\n",
       "      <td>1098288</td>\n",
       "      <td>Confirmed</td>\n",
       "      <td>Legendary Times at Story Lake</td>\n",
       "      <td>Hool</td>\n",
       "      <td>Sep/16/2022</td>\n",
       "      <td>Feb/01/2023</td>\n",
       "      <td>Feb/05/2023</td>\n",
       "      <td>4</td>\n",
       "      <td>$468.18</td>\n",
       "    </tr>\n",
       "    <tr>\n",
       "      <th>4</th>\n",
       "      <td>1098795</td>\n",
       "      <td>Checked Out</td>\n",
       "      <td>Legendary Times at Story Lake</td>\n",
       "      <td>Reed</td>\n",
       "      <td>Sep/22/2022</td>\n",
       "      <td>Oct/22/2022</td>\n",
       "      <td>Oct/30/2022</td>\n",
       "      <td>8</td>\n",
       "      <td>$899.64</td>\n",
       "    </tr>\n",
       "    <tr>\n",
       "      <th>5</th>\n",
       "      <td>1099938</td>\n",
       "      <td>Confirmed</td>\n",
       "      <td>Legendary Times at Story Lake</td>\n",
       "      <td>rippy</td>\n",
       "      <td>Oct/05/2022</td>\n",
       "      <td>Dec/23/2022</td>\n",
       "      <td>Jan/02/2023</td>\n",
       "      <td>10</td>\n",
       "      <td>$2,582.61</td>\n",
       "    </tr>\n",
       "    <tr>\n",
       "      <th>6</th>\n",
       "      <td>1100775</td>\n",
       "      <td>Confirmed</td>\n",
       "      <td>Legendary Times at Story Lake</td>\n",
       "      <td>Russell</td>\n",
       "      <td>Oct/14/2022</td>\n",
       "      <td>Nov/23/2022</td>\n",
       "      <td>Nov/26/2022</td>\n",
       "      <td>3</td>\n",
       "      <td>$506.43</td>\n",
       "    </tr>\n",
       "    <tr>\n",
       "      <th>7</th>\n",
       "      <td>1102386</td>\n",
       "      <td>Checked In</td>\n",
       "      <td>Legendary Times at Story Lake</td>\n",
       "      <td>Philbrook</td>\n",
       "      <td>Nov/01/2022</td>\n",
       "      <td>Nov/19/2022</td>\n",
       "      <td>Nov/23/2022</td>\n",
       "      <td>4</td>\n",
       "      <td>$421.51</td>\n",
       "    </tr>\n",
       "    <tr>\n",
       "      <th>8</th>\n",
       "      <td>1102644</td>\n",
       "      <td>Checked Out</td>\n",
       "      <td>Legendary Times at Story Lake</td>\n",
       "      <td>Figueroa</td>\n",
       "      <td>Nov/03/2022</td>\n",
       "      <td>Nov/06/2022</td>\n",
       "      <td>Nov/09/2022</td>\n",
       "      <td>3</td>\n",
       "      <td>$314.41</td>\n",
       "    </tr>\n",
       "    <tr>\n",
       "      <th>9</th>\n",
       "      <td>1102691</td>\n",
       "      <td>Confirmed</td>\n",
       "      <td>Legendary Times at Story Lake</td>\n",
       "      <td>Moore</td>\n",
       "      <td>Nov/04/2022</td>\n",
       "      <td>Dec/03/2022</td>\n",
       "      <td>Dec/10/2022</td>\n",
       "      <td>7</td>\n",
       "      <td>$733.63</td>\n",
       "    </tr>\n",
       "    <tr>\n",
       "      <th>10</th>\n",
       "      <td>1103164</td>\n",
       "      <td>Confirmed</td>\n",
       "      <td>Legendary Times at Story Lake</td>\n",
       "      <td>Peterson</td>\n",
       "      <td>Nov/07/2022</td>\n",
       "      <td>Jan/11/2023</td>\n",
       "      <td>Jan/21/2023</td>\n",
       "      <td>10</td>\n",
       "      <td>$1,111.54</td>\n",
       "    </tr>\n",
       "    <tr>\n",
       "      <th>11</th>\n",
       "      <td>1103446</td>\n",
       "      <td>Checked Out</td>\n",
       "      <td>Legendary Times at Story Lake</td>\n",
       "      <td>Roberts</td>\n",
       "      <td>Nov/09/2022</td>\n",
       "      <td>Nov/10/2022</td>\n",
       "      <td>Nov/13/2022</td>\n",
       "      <td>3</td>\n",
       "      <td>$314.40</td>\n",
       "    </tr>\n",
       "    <tr>\n",
       "      <th>12</th>\n",
       "      <td>1103671</td>\n",
       "      <td>Confirmed</td>\n",
       "      <td>Legendary Times at Story Lake</td>\n",
       "      <td>Habel</td>\n",
       "      <td>Nov/12/2022</td>\n",
       "      <td>Jan/02/2023</td>\n",
       "      <td>Jan/09/2023</td>\n",
       "      <td>7</td>\n",
       "      <td>$964.66</td>\n",
       "    </tr>\n",
       "    <tr>\n",
       "      <th>13</th>\n",
       "      <td>1103687</td>\n",
       "      <td>Checked Out</td>\n",
       "      <td>Legendary Times at Story Lake</td>\n",
       "      <td>Vazquez</td>\n",
       "      <td>Nov/12/2022</td>\n",
       "      <td>Nov/14/2022</td>\n",
       "      <td>Nov/19/2022</td>\n",
       "      <td>5</td>\n",
       "      <td>$524.00</td>\n",
       "    </tr>\n",
       "    <tr>\n",
       "      <th>14</th>\n",
       "      <td>1104093</td>\n",
       "      <td>Confirmed</td>\n",
       "      <td>Legendary Times at Story Lake</td>\n",
       "      <td>Laabs</td>\n",
       "      <td>Nov/15/2022</td>\n",
       "      <td>Mar/03/2023</td>\n",
       "      <td>Mar/11/2023</td>\n",
       "      <td>8</td>\n",
       "      <td>$1,181.92</td>\n",
       "    </tr>\n",
       "  </tbody>\n",
       "</table>\n",
       "</div>"
      ],
      "text/plain": [
       "     Res_ID       Status                           Unit      Guest  \\\n",
       "0   1096275  Checked Out  Legendary Times at Story Lake     Brenes   \n",
       "1   1096930  Checked Out  Legendary Times at Story Lake    Sarousi   \n",
       "2   1097362  Checked Out  Legendary Times at Story Lake    Cutcher   \n",
       "3   1098288    Confirmed  Legendary Times at Story Lake       Hool   \n",
       "4   1098795  Checked Out  Legendary Times at Story Lake       Reed   \n",
       "5   1099938    Confirmed  Legendary Times at Story Lake      rippy   \n",
       "6   1100775    Confirmed  Legendary Times at Story Lake    Russell   \n",
       "7   1102386   Checked In  Legendary Times at Story Lake  Philbrook   \n",
       "8   1102644  Checked Out  Legendary Times at Story Lake   Figueroa   \n",
       "9   1102691    Confirmed  Legendary Times at Story Lake      Moore   \n",
       "10  1103164    Confirmed  Legendary Times at Story Lake   Peterson   \n",
       "11  1103446  Checked Out  Legendary Times at Story Lake    Roberts   \n",
       "12  1103671    Confirmed  Legendary Times at Story Lake      Habel   \n",
       "13  1103687  Checked Out  Legendary Times at Story Lake    Vazquez   \n",
       "14  1104093    Confirmed  Legendary Times at Story Lake      Laabs   \n",
       "\n",
       "    Booked Date     Check-In     Checkout  Nights     Income  \n",
       "0   Aug/24/2022  Sep/23/2022  Oct/02/2022       9      $0.00  \n",
       "1   Aug/31/2022  Oct/14/2022  Oct/19/2022       5    $562.27  \n",
       "2   Sep/05/2022  Oct/06/2022  Oct/12/2022       6    $674.73  \n",
       "3   Sep/16/2022  Feb/01/2023  Feb/05/2023       4    $468.18  \n",
       "4   Sep/22/2022  Oct/22/2022  Oct/30/2022       8    $899.64  \n",
       "5   Oct/05/2022  Dec/23/2022  Jan/02/2023      10  $2,582.61  \n",
       "6   Oct/14/2022  Nov/23/2022  Nov/26/2022       3    $506.43  \n",
       "7   Nov/01/2022  Nov/19/2022  Nov/23/2022       4    $421.51  \n",
       "8   Nov/03/2022  Nov/06/2022  Nov/09/2022       3    $314.41  \n",
       "9   Nov/04/2022  Dec/03/2022  Dec/10/2022       7    $733.63  \n",
       "10  Nov/07/2022  Jan/11/2023  Jan/21/2023      10  $1,111.54  \n",
       "11  Nov/09/2022  Nov/10/2022  Nov/13/2022       3    $314.40  \n",
       "12  Nov/12/2022  Jan/02/2023  Jan/09/2023       7    $964.66  \n",
       "13  Nov/12/2022  Nov/14/2022  Nov/19/2022       5    $524.00  \n",
       "14  Nov/15/2022  Mar/03/2023  Mar/11/2023       8  $1,181.92  "
      ]
     },
     "execution_count": 28,
     "metadata": {},
     "output_type": "execute_result"
    }
   ],
   "source": [
    "gw_con.execute(\"Select * from gw_res\").df()"
   ]
  },
  {
   "cell_type": "code",
   "execution_count": 24,
   "id": "fa8b2abe",
   "metadata": {},
   "outputs": [
    {
     "data": {
      "text/html": [
       "<div>\n",
       "<style scoped>\n",
       "    .dataframe tbody tr th:only-of-type {\n",
       "        vertical-align: middle;\n",
       "    }\n",
       "\n",
       "    .dataframe tbody tr th {\n",
       "        vertical-align: top;\n",
       "    }\n",
       "\n",
       "    .dataframe thead th {\n",
       "        text-align: right;\n",
       "    }\n",
       "</style>\n",
       "<table border=\"1\" class=\"dataframe\">\n",
       "  <thead>\n",
       "    <tr style=\"text-align: right;\">\n",
       "      <th></th>\n",
       "      <th>Res_ID</th>\n",
       "      <th>Status</th>\n",
       "      <th>Unit</th>\n",
       "      <th>Guest</th>\n",
       "      <th>Booked Date</th>\n",
       "      <th>Check-In</th>\n",
       "      <th>Checkout</th>\n",
       "      <th>Nights</th>\n",
       "      <th>Income</th>\n",
       "    </tr>\n",
       "  </thead>\n",
       "  <tbody>\n",
       "  </tbody>\n",
       "</table>\n",
       "</div>"
      ],
      "text/plain": [
       "Empty DataFrame\n",
       "Columns: [Res_ID, Status, Unit, Guest, Booked Date, Check-In, Checkout, Nights, Income]\n",
       "Index: []"
      ]
     },
     "execution_count": 24,
     "metadata": {},
     "output_type": "execute_result"
    }
   ],
   "source": [
    "con.execute(\"Select * from curr_online  where Res_ID NOT IN (Select Res_ID from curr_reservations)\").df()"
   ]
  },
  {
   "cell_type": "code",
   "execution_count": 20,
   "id": "61c089c2",
   "metadata": {},
   "outputs": [
    {
     "data": {
      "text/plain": [
       "<duckdb.DuckDBPyConnection at 0x7f2ec80fa7f0>"
      ]
     },
     "execution_count": 20,
     "metadata": {},
     "output_type": "execute_result"
    }
   ],
   "source": [
    "# drop the temp table so it can be run again later. \n",
    "con.execute(\"drop table IF EXISTS curr_online\")"
   ]
  },
  {
   "cell_type": "code",
   "execution_count": 28,
   "id": "99b4fed7",
   "metadata": {},
   "outputs": [],
   "source": [
    "online=con.execute(\"Select * from curr_online\").df()"
   ]
  },
  {
   "cell_type": "code",
   "execution_count": 26,
   "id": "c384a5fb",
   "metadata": {},
   "outputs": [
    {
     "data": {
      "text/plain": [
       "<duckdb.DuckDBPyConnection at 0x7f2ec80fa7f0>"
      ]
     },
     "execution_count": 26,
     "metadata": {},
     "output_type": "execute_result"
    }
   ],
   "source": [
    "cfrm_df = pd.read_csv(db_dir+'/oldFinal.csv')\n",
    "con.execute(\"CREATE TABLE cfrm AS SELECT * FROM cfrm_df\")"
   ]
  },
  {
   "cell_type": "code",
   "execution_count": 32,
   "id": "99f9094b",
   "metadata": {},
   "outputs": [],
   "source": [
    "old=gw_con.execute(\"Select * from cfrm\").df()"
   ]
  },
  {
   "cell_type": "code",
   "execution_count": 31,
   "id": "05f5fac0",
   "metadata": {},
   "outputs": [],
   "source": [
    "addcf = gw_con.df(cfrm_df)\n",
    "addcf.insert_into(\"cfrm\")"
   ]
  },
  {
   "cell_type": "code",
   "execution_count": 34,
   "id": "1596202f",
   "metadata": {},
   "outputs": [],
   "source": [
    "# old"
   ]
  },
  {
   "cell_type": "code",
   "execution_count": 17,
   "id": "4326f5b1",
   "metadata": {},
   "outputs": [],
   "source": [
    "addold = gw_con.df(old)\n",
    "# add new to database \n",
    "addold.insert_into(\"gw_res\")"
   ]
  },
  {
   "cell_type": "code",
   "execution_count": 35,
   "id": "2e31da21",
   "metadata": {},
   "outputs": [
    {
     "data": {
      "text/html": [
       "<div>\n",
       "<style scoped>\n",
       "    .dataframe tbody tr th:only-of-type {\n",
       "        vertical-align: middle;\n",
       "    }\n",
       "\n",
       "    .dataframe tbody tr th {\n",
       "        vertical-align: top;\n",
       "    }\n",
       "\n",
       "    .dataframe thead th {\n",
       "        text-align: right;\n",
       "    }\n",
       "</style>\n",
       "<table border=\"1\" class=\"dataframe\">\n",
       "  <thead>\n",
       "    <tr style=\"text-align: right;\">\n",
       "      <th></th>\n",
       "      <th>Res_ID</th>\n",
       "      <th>Status</th>\n",
       "      <th>Unit</th>\n",
       "      <th>Guest</th>\n",
       "      <th>Booked Date</th>\n",
       "      <th>Check-In</th>\n",
       "      <th>Checkout</th>\n",
       "      <th>Nights</th>\n",
       "      <th>Income</th>\n",
       "    </tr>\n",
       "  </thead>\n",
       "  <tbody>\n",
       "    <tr>\n",
       "      <th>0</th>\n",
       "      <td>1096275</td>\n",
       "      <td>Checked Out</td>\n",
       "      <td>Legendary Times at Story Lake</td>\n",
       "      <td>Brenes</td>\n",
       "      <td>Aug/24/2022</td>\n",
       "      <td>Sep/23/2022</td>\n",
       "      <td>Oct/02/2022</td>\n",
       "      <td>9</td>\n",
       "      <td>$0.00</td>\n",
       "    </tr>\n",
       "    <tr>\n",
       "      <th>1</th>\n",
       "      <td>1096930</td>\n",
       "      <td>Checked Out</td>\n",
       "      <td>Legendary Times at Story Lake</td>\n",
       "      <td>Sarousi</td>\n",
       "      <td>Aug/31/2022</td>\n",
       "      <td>Oct/14/2022</td>\n",
       "      <td>Oct/19/2022</td>\n",
       "      <td>5</td>\n",
       "      <td>$562.27</td>\n",
       "    </tr>\n",
       "    <tr>\n",
       "      <th>2</th>\n",
       "      <td>1097362</td>\n",
       "      <td>Checked Out</td>\n",
       "      <td>Legendary Times at Story Lake</td>\n",
       "      <td>Cutcher</td>\n",
       "      <td>Sep/05/2022</td>\n",
       "      <td>Oct/06/2022</td>\n",
       "      <td>Oct/12/2022</td>\n",
       "      <td>6</td>\n",
       "      <td>$674.73</td>\n",
       "    </tr>\n",
       "    <tr>\n",
       "      <th>3</th>\n",
       "      <td>1098288</td>\n",
       "      <td>Confirmed</td>\n",
       "      <td>Legendary Times at Story Lake</td>\n",
       "      <td>Hool</td>\n",
       "      <td>Sep/16/2022</td>\n",
       "      <td>Feb/01/2023</td>\n",
       "      <td>Feb/05/2023</td>\n",
       "      <td>4</td>\n",
       "      <td>$468.18</td>\n",
       "    </tr>\n",
       "    <tr>\n",
       "      <th>4</th>\n",
       "      <td>1098795</td>\n",
       "      <td>Checked Out</td>\n",
       "      <td>Legendary Times at Story Lake</td>\n",
       "      <td>Reed</td>\n",
       "      <td>Sep/22/2022</td>\n",
       "      <td>Oct/22/2022</td>\n",
       "      <td>Oct/30/2022</td>\n",
       "      <td>8</td>\n",
       "      <td>$899.64</td>\n",
       "    </tr>\n",
       "    <tr>\n",
       "      <th>5</th>\n",
       "      <td>1099938</td>\n",
       "      <td>Confirmed</td>\n",
       "      <td>Legendary Times at Story Lake</td>\n",
       "      <td>rippy</td>\n",
       "      <td>Oct/05/2022</td>\n",
       "      <td>Dec/23/2022</td>\n",
       "      <td>Jan/02/2023</td>\n",
       "      <td>10</td>\n",
       "      <td>$2,582.61</td>\n",
       "    </tr>\n",
       "    <tr>\n",
       "      <th>6</th>\n",
       "      <td>1100775</td>\n",
       "      <td>Confirmed</td>\n",
       "      <td>Legendary Times at Story Lake</td>\n",
       "      <td>Russell</td>\n",
       "      <td>Oct/14/2022</td>\n",
       "      <td>Nov/23/2022</td>\n",
       "      <td>Nov/26/2022</td>\n",
       "      <td>3</td>\n",
       "      <td>$506.43</td>\n",
       "    </tr>\n",
       "    <tr>\n",
       "      <th>7</th>\n",
       "      <td>1102386</td>\n",
       "      <td>Checked In</td>\n",
       "      <td>Legendary Times at Story Lake</td>\n",
       "      <td>Philbrook</td>\n",
       "      <td>Nov/01/2022</td>\n",
       "      <td>Nov/19/2022</td>\n",
       "      <td>Nov/23/2022</td>\n",
       "      <td>4</td>\n",
       "      <td>$421.51</td>\n",
       "    </tr>\n",
       "    <tr>\n",
       "      <th>8</th>\n",
       "      <td>1102644</td>\n",
       "      <td>Checked Out</td>\n",
       "      <td>Legendary Times at Story Lake</td>\n",
       "      <td>Figueroa</td>\n",
       "      <td>Nov/03/2022</td>\n",
       "      <td>Nov/06/2022</td>\n",
       "      <td>Nov/09/2022</td>\n",
       "      <td>3</td>\n",
       "      <td>$314.41</td>\n",
       "    </tr>\n",
       "    <tr>\n",
       "      <th>9</th>\n",
       "      <td>1102691</td>\n",
       "      <td>Confirmed</td>\n",
       "      <td>Legendary Times at Story Lake</td>\n",
       "      <td>Moore</td>\n",
       "      <td>Nov/04/2022</td>\n",
       "      <td>Dec/03/2022</td>\n",
       "      <td>Dec/10/2022</td>\n",
       "      <td>7</td>\n",
       "      <td>$733.63</td>\n",
       "    </tr>\n",
       "    <tr>\n",
       "      <th>10</th>\n",
       "      <td>1103164</td>\n",
       "      <td>Confirmed</td>\n",
       "      <td>Legendary Times at Story Lake</td>\n",
       "      <td>Peterson</td>\n",
       "      <td>Nov/07/2022</td>\n",
       "      <td>Jan/11/2023</td>\n",
       "      <td>Jan/21/2023</td>\n",
       "      <td>10</td>\n",
       "      <td>$1,111.54</td>\n",
       "    </tr>\n",
       "    <tr>\n",
       "      <th>11</th>\n",
       "      <td>1103446</td>\n",
       "      <td>Checked Out</td>\n",
       "      <td>Legendary Times at Story Lake</td>\n",
       "      <td>Roberts</td>\n",
       "      <td>Nov/09/2022</td>\n",
       "      <td>Nov/10/2022</td>\n",
       "      <td>Nov/13/2022</td>\n",
       "      <td>3</td>\n",
       "      <td>$314.40</td>\n",
       "    </tr>\n",
       "    <tr>\n",
       "      <th>12</th>\n",
       "      <td>1103671</td>\n",
       "      <td>Confirmed</td>\n",
       "      <td>Legendary Times at Story Lake</td>\n",
       "      <td>Habel</td>\n",
       "      <td>Nov/12/2022</td>\n",
       "      <td>Jan/02/2023</td>\n",
       "      <td>Jan/09/2023</td>\n",
       "      <td>7</td>\n",
       "      <td>$964.66</td>\n",
       "    </tr>\n",
       "    <tr>\n",
       "      <th>13</th>\n",
       "      <td>1103687</td>\n",
       "      <td>Checked Out</td>\n",
       "      <td>Legendary Times at Story Lake</td>\n",
       "      <td>Vazquez</td>\n",
       "      <td>Nov/12/2022</td>\n",
       "      <td>Nov/14/2022</td>\n",
       "      <td>Nov/19/2022</td>\n",
       "      <td>5</td>\n",
       "      <td>$524.00</td>\n",
       "    </tr>\n",
       "    <tr>\n",
       "      <th>14</th>\n",
       "      <td>1104093</td>\n",
       "      <td>Confirmed</td>\n",
       "      <td>Legendary Times at Story Lake</td>\n",
       "      <td>Laabs</td>\n",
       "      <td>Nov/15/2022</td>\n",
       "      <td>Mar/03/2023</td>\n",
       "      <td>Mar/11/2023</td>\n",
       "      <td>8</td>\n",
       "      <td>$1,181.92</td>\n",
       "    </tr>\n",
       "  </tbody>\n",
       "</table>\n",
       "</div>"
      ],
      "text/plain": [
       "     Res_ID       Status                           Unit      Guest  \\\n",
       "0   1096275  Checked Out  Legendary Times at Story Lake     Brenes   \n",
       "1   1096930  Checked Out  Legendary Times at Story Lake    Sarousi   \n",
       "2   1097362  Checked Out  Legendary Times at Story Lake    Cutcher   \n",
       "3   1098288    Confirmed  Legendary Times at Story Lake       Hool   \n",
       "4   1098795  Checked Out  Legendary Times at Story Lake       Reed   \n",
       "5   1099938    Confirmed  Legendary Times at Story Lake      rippy   \n",
       "6   1100775    Confirmed  Legendary Times at Story Lake    Russell   \n",
       "7   1102386   Checked In  Legendary Times at Story Lake  Philbrook   \n",
       "8   1102644  Checked Out  Legendary Times at Story Lake   Figueroa   \n",
       "9   1102691    Confirmed  Legendary Times at Story Lake      Moore   \n",
       "10  1103164    Confirmed  Legendary Times at Story Lake   Peterson   \n",
       "11  1103446  Checked Out  Legendary Times at Story Lake    Roberts   \n",
       "12  1103671    Confirmed  Legendary Times at Story Lake      Habel   \n",
       "13  1103687  Checked Out  Legendary Times at Story Lake    Vazquez   \n",
       "14  1104093    Confirmed  Legendary Times at Story Lake      Laabs   \n",
       "\n",
       "    Booked Date     Check-In     Checkout  Nights     Income  \n",
       "0   Aug/24/2022  Sep/23/2022  Oct/02/2022       9      $0.00  \n",
       "1   Aug/31/2022  Oct/14/2022  Oct/19/2022       5    $562.27  \n",
       "2   Sep/05/2022  Oct/06/2022  Oct/12/2022       6    $674.73  \n",
       "3   Sep/16/2022  Feb/01/2023  Feb/05/2023       4    $468.18  \n",
       "4   Sep/22/2022  Oct/22/2022  Oct/30/2022       8    $899.64  \n",
       "5   Oct/05/2022  Dec/23/2022  Jan/02/2023      10  $2,582.61  \n",
       "6   Oct/14/2022  Nov/23/2022  Nov/26/2022       3    $506.43  \n",
       "7   Nov/01/2022  Nov/19/2022  Nov/23/2022       4    $421.51  \n",
       "8   Nov/03/2022  Nov/06/2022  Nov/09/2022       3    $314.41  \n",
       "9   Nov/04/2022  Dec/03/2022  Dec/10/2022       7    $733.63  \n",
       "10  Nov/07/2022  Jan/11/2023  Jan/21/2023      10  $1,111.54  \n",
       "11  Nov/09/2022  Nov/10/2022  Nov/13/2022       3    $314.40  \n",
       "12  Nov/12/2022  Jan/02/2023  Jan/09/2023       7    $964.66  \n",
       "13  Nov/12/2022  Nov/14/2022  Nov/19/2022       5    $524.00  \n",
       "14  Nov/15/2022  Mar/03/2023  Mar/11/2023       8  $1,181.92  "
      ]
     },
     "execution_count": 35,
     "metadata": {},
     "output_type": "execute_result"
    }
   ],
   "source": [
    "gw_con.execute(\"Select * from gw_res\").df()"
   ]
  },
  {
   "cell_type": "markdown",
   "id": "93682eb5",
   "metadata": {},
   "source": [
    "# SAVE!!!"
   ]
  },
  {
   "cell_type": "code",
   "execution_count": 36,
   "id": "d7a6d0d1",
   "metadata": {},
   "outputs": [
    {
     "data": {
      "text/plain": [
       "<duckdb.DuckDBPyConnection at 0x7f9a510bf130>"
      ]
     },
     "execution_count": 36,
     "metadata": {},
     "output_type": "execute_result"
    }
   ],
   "source": [
    "gw_con.execute(\"Export DATABASE 'database'\")"
   ]
  },
  {
   "cell_type": "code",
   "execution_count": 21,
   "id": "123ab033",
   "metadata": {},
   "outputs": [],
   "source": [
    "gw_con.close()"
   ]
  },
  {
   "cell_type": "code",
   "execution_count": null,
   "id": "fe534299",
   "metadata": {},
   "outputs": [],
   "source": []
  }
 ],
 "metadata": {
  "kernelspec": {
   "display_name": "Python 3 (ipykernel)",
   "language": "python",
   "name": "python3"
  },
  "language_info": {
   "codemirror_mode": {
    "name": "ipython",
    "version": 3
   },
   "file_extension": ".py",
   "mimetype": "text/x-python",
   "name": "python",
   "nbconvert_exporter": "python",
   "pygments_lexer": "ipython3",
   "version": "3.10.4"
  }
 },
 "nbformat": 4,
 "nbformat_minor": 5
}
