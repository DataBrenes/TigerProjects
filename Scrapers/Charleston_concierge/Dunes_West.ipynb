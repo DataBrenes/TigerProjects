{
 "cells": [
  {
   "cell_type": "code",
   "execution_count": null,
   "id": "56ab2326",
   "metadata": {},
   "outputs": [],
   "source": [
    "# This needs to be modulized but works up until entering cc info"
   ]
  },
  {
   "cell_type": "markdown",
   "id": "797f6cb5",
   "metadata": {},
   "source": [
    "## Initiate web site"
   ]
  },
  {
   "cell_type": "code",
   "execution_count": 22,
   "id": "be5659c5",
   "metadata": {},
   "outputs": [],
   "source": [
    "from selenium import webdriver\n",
    "from selenium.webdriver.chrome.service import Service\n",
    "from webdriver_manager.chrome import ChromeDriverManager\n",
    "from selenium.webdriver.common.by import By\n",
    "from selenium.webdriver.support.ui import WebDriverWait \n",
    "from selenium.webdriver.support import expected_conditions as EC\n",
    "import pandas as pd"
   ]
  },
  {
   "cell_type": "code",
   "execution_count": 24,
   "id": "bf85243f",
   "metadata": {},
   "outputs": [],
   "source": []
  },
  {
   "cell_type": "code",
   "execution_count": 28,
   "id": "3d4c99f1",
   "metadata": {},
   "outputs": [
    {
     "name": "stderr",
     "output_type": "stream",
     "text": [
      "/tmp/ipykernel_182/2448045546.py:1: DeprecationWarning: desired_capabilities has been deprecated, please pass in an Options object with options kwarg\n",
      "  driver = webdriver.Remote(command_executor='http://localhost:4444/wd/hub', desired_capabilities=caps)\n"
     ]
    }
   ],
   "source": []
  },
  {
   "cell_type": "code",
   "execution_count": 9,
   "id": "6b6e7592",
   "metadata": {},
   "outputs": [
    {
     "name": "stdout",
     "output_type": "stream",
     "text": [
      "\n"
     ]
    },
    {
     "ename": "NoSuchElementException",
     "evalue": "Message: no such element: Unable to locate element: {\"method\":\"xpath\",\"selector\":\"//iframe\"}\n  (Session info: chrome=103.0.5060.114)\nStacktrace:\n#0 0x557e0e498cd3 <unknown>\n#1 0x557e0e2a0968 <unknown>\n#2 0x557e0e2d7fd7 <unknown>\n#3 0x557e0e2d81a1 <unknown>\n#4 0x557e0e30b154 <unknown>\n#5 0x557e0e2f5bdd <unknown>\n#6 0x557e0e308ea8 <unknown>\n#7 0x557e0e2f5aa3 <unknown>\n#8 0x557e0e2cb3fa <unknown>\n#9 0x557e0e2cc555 <unknown>\n#10 0x557e0e4e02bd <unknown>\n#11 0x557e0e4e4418 <unknown>\n#12 0x557e0e4ca36e <unknown>\n#13 0x557e0e4e5078 <unknown>\n#14 0x557e0e4bebb0 <unknown>\n#15 0x557e0e501d58 <unknown>\n#16 0x557e0e501ed8 <unknown>\n#17 0x557e0e51bcfd <unknown>\n#18 0x7f70bc6d5609 <unknown>\n",
     "output_type": "error",
     "traceback": [
      "\u001b[0;31m---------------------------------------------------------------------------\u001b[0m",
      "\u001b[0;31mNoSuchElementException\u001b[0m                    Traceback (most recent call last)",
      "Input \u001b[0;32mIn [9]\u001b[0m, in \u001b[0;36m<cell line: 5>\u001b[0;34m()\u001b[0m\n\u001b[1;32m      3\u001b[0m \u001b[38;5;66;03m# switch to iframe where all the info is displayed\u001b[39;00m\n\u001b[1;32m      4\u001b[0m time\u001b[38;5;241m.\u001b[39msleep(\u001b[38;5;241m15\u001b[39m)\n\u001b[0;32m----> 5\u001b[0m find_i\u001b[38;5;241m=\u001b[39m\u001b[43mbrowser\u001b[49m\u001b[38;5;241;43m.\u001b[39;49m\u001b[43mfind_element\u001b[49m\u001b[43m(\u001b[49m\u001b[43mby\u001b[49m\u001b[38;5;241;43m=\u001b[39;49m\u001b[43mBy\u001b[49m\u001b[38;5;241;43m.\u001b[39;49m\u001b[43mXPATH\u001b[49m\u001b[43m,\u001b[49m\u001b[43m \u001b[49m\u001b[43mvalue\u001b[49m\u001b[38;5;241;43m=\u001b[39;49m\u001b[38;5;124;43m'\u001b[39;49m\u001b[38;5;124;43m//iframe\u001b[39;49m\u001b[38;5;124;43m'\u001b[39;49m\u001b[43m)\u001b[49m\n\u001b[1;32m      6\u001b[0m WebDriverWait(browser,\u001b[38;5;241m10\u001b[39m)\u001b[38;5;241m.\u001b[39muntil(EC\u001b[38;5;241m.\u001b[39mframe_to_be_available_and_switch_to_it((find_i)))\n",
      "File \u001b[0;32m~/anaconda3/envs/scrapers/lib/python3.10/site-packages/selenium/webdriver/remote/webdriver.py:857\u001b[0m, in \u001b[0;36mWebDriver.find_element\u001b[0;34m(self, by, value)\u001b[0m\n\u001b[1;32m    854\u001b[0m     by \u001b[38;5;241m=\u001b[39m By\u001b[38;5;241m.\u001b[39mCSS_SELECTOR\n\u001b[1;32m    855\u001b[0m     value \u001b[38;5;241m=\u001b[39m \u001b[38;5;124m'\u001b[39m\u001b[38;5;124m[name=\u001b[39m\u001b[38;5;124m\"\u001b[39m\u001b[38;5;132;01m%s\u001b[39;00m\u001b[38;5;124m\"\u001b[39m\u001b[38;5;124m]\u001b[39m\u001b[38;5;124m'\u001b[39m \u001b[38;5;241m%\u001b[39m value\n\u001b[0;32m--> 857\u001b[0m \u001b[38;5;28;01mreturn\u001b[39;00m \u001b[38;5;28;43mself\u001b[39;49m\u001b[38;5;241;43m.\u001b[39;49m\u001b[43mexecute\u001b[49m\u001b[43m(\u001b[49m\u001b[43mCommand\u001b[49m\u001b[38;5;241;43m.\u001b[39;49m\u001b[43mFIND_ELEMENT\u001b[49m\u001b[43m,\u001b[49m\u001b[43m \u001b[49m\u001b[43m{\u001b[49m\n\u001b[1;32m    858\u001b[0m \u001b[43m    \u001b[49m\u001b[38;5;124;43m'\u001b[39;49m\u001b[38;5;124;43musing\u001b[39;49m\u001b[38;5;124;43m'\u001b[39;49m\u001b[43m:\u001b[49m\u001b[43m \u001b[49m\u001b[43mby\u001b[49m\u001b[43m,\u001b[49m\n\u001b[1;32m    859\u001b[0m \u001b[43m    \u001b[49m\u001b[38;5;124;43m'\u001b[39;49m\u001b[38;5;124;43mvalue\u001b[39;49m\u001b[38;5;124;43m'\u001b[39;49m\u001b[43m:\u001b[49m\u001b[43m \u001b[49m\u001b[43mvalue\u001b[49m\u001b[43m}\u001b[49m\u001b[43m)\u001b[49m[\u001b[38;5;124m'\u001b[39m\u001b[38;5;124mvalue\u001b[39m\u001b[38;5;124m'\u001b[39m]\n",
      "File \u001b[0;32m~/anaconda3/envs/scrapers/lib/python3.10/site-packages/selenium/webdriver/remote/webdriver.py:435\u001b[0m, in \u001b[0;36mWebDriver.execute\u001b[0;34m(self, driver_command, params)\u001b[0m\n\u001b[1;32m    433\u001b[0m response \u001b[38;5;241m=\u001b[39m \u001b[38;5;28mself\u001b[39m\u001b[38;5;241m.\u001b[39mcommand_executor\u001b[38;5;241m.\u001b[39mexecute(driver_command, params)\n\u001b[1;32m    434\u001b[0m \u001b[38;5;28;01mif\u001b[39;00m response:\n\u001b[0;32m--> 435\u001b[0m     \u001b[38;5;28;43mself\u001b[39;49m\u001b[38;5;241;43m.\u001b[39;49m\u001b[43merror_handler\u001b[49m\u001b[38;5;241;43m.\u001b[39;49m\u001b[43mcheck_response\u001b[49m\u001b[43m(\u001b[49m\u001b[43mresponse\u001b[49m\u001b[43m)\u001b[49m\n\u001b[1;32m    436\u001b[0m     response[\u001b[38;5;124m'\u001b[39m\u001b[38;5;124mvalue\u001b[39m\u001b[38;5;124m'\u001b[39m] \u001b[38;5;241m=\u001b[39m \u001b[38;5;28mself\u001b[39m\u001b[38;5;241m.\u001b[39m_unwrap_value(\n\u001b[1;32m    437\u001b[0m         response\u001b[38;5;241m.\u001b[39mget(\u001b[38;5;124m'\u001b[39m\u001b[38;5;124mvalue\u001b[39m\u001b[38;5;124m'\u001b[39m, \u001b[38;5;28;01mNone\u001b[39;00m))\n\u001b[1;32m    438\u001b[0m     \u001b[38;5;28;01mreturn\u001b[39;00m response\n",
      "File \u001b[0;32m~/anaconda3/envs/scrapers/lib/python3.10/site-packages/selenium/webdriver/remote/errorhandler.py:247\u001b[0m, in \u001b[0;36mErrorHandler.check_response\u001b[0;34m(self, response)\u001b[0m\n\u001b[1;32m    245\u001b[0m         alert_text \u001b[38;5;241m=\u001b[39m value[\u001b[38;5;124m'\u001b[39m\u001b[38;5;124malert\u001b[39m\u001b[38;5;124m'\u001b[39m]\u001b[38;5;241m.\u001b[39mget(\u001b[38;5;124m'\u001b[39m\u001b[38;5;124mtext\u001b[39m\u001b[38;5;124m'\u001b[39m)\n\u001b[1;32m    246\u001b[0m     \u001b[38;5;28;01mraise\u001b[39;00m exception_class(message, screen, stacktrace, alert_text)  \u001b[38;5;66;03m# type: ignore[call-arg]  # mypy is not smart enough here\u001b[39;00m\n\u001b[0;32m--> 247\u001b[0m \u001b[38;5;28;01mraise\u001b[39;00m exception_class(message, screen, stacktrace)\n",
      "\u001b[0;31mNoSuchElementException\u001b[0m: Message: no such element: Unable to locate element: {\"method\":\"xpath\",\"selector\":\"//iframe\"}\n  (Session info: chrome=103.0.5060.114)\nStacktrace:\n#0 0x557e0e498cd3 <unknown>\n#1 0x557e0e2a0968 <unknown>\n#2 0x557e0e2d7fd7 <unknown>\n#3 0x557e0e2d81a1 <unknown>\n#4 0x557e0e30b154 <unknown>\n#5 0x557e0e2f5bdd <unknown>\n#6 0x557e0e308ea8 <unknown>\n#7 0x557e0e2f5aa3 <unknown>\n#8 0x557e0e2cb3fa <unknown>\n#9 0x557e0e2cc555 <unknown>\n#10 0x557e0e4e02bd <unknown>\n#11 0x557e0e4e4418 <unknown>\n#12 0x557e0e4ca36e <unknown>\n#13 0x557e0e4e5078 <unknown>\n#14 0x557e0e4bebb0 <unknown>\n#15 0x557e0e501d58 <unknown>\n#16 0x557e0e501ed8 <unknown>\n#17 0x557e0e51bcfd <unknown>\n#18 0x7f70bc6d5609 <unknown>\n"
     ]
    }
   ],
   "source": [
    "browser = webdriver.Chrome(service=Service(ChromeDriverManager().install()))\n",
    "browser.get(\"http://www.duneswestgolfclub.com/-book-a-tee-time(2)\")\n",
    "# switch to iframe where all the info is displayed\n",
    "time.sleep(15)\n",
    "find_i=browser.find_element(by=By.XPATH, value='//iframe')\n",
    "WebDriverWait(browser,10).until(EC.frame_to_be_available_and_switch_to_it((find_i)))"
   ]
  },
  {
   "cell_type": "markdown",
   "id": "33172d4c",
   "metadata": {},
   "source": [
    "## Add User Input"
   ]
  },
  {
   "cell_type": "code",
   "execution_count": 6,
   "id": "acd13a4a",
   "metadata": {},
   "outputs": [],
   "source": [
    "# Create example User Data\n",
    "from datetime import datetime\n",
    "import time\n",
    "f_name = 'Mike'\n",
    "l_name = 'Bee'\n",
    "email = 'mike@bee.com'\n",
    "phone = '843-255-2656'\n",
    "cc_num = '4266902068554848'\n",
    "# Don't pad exp mon\n",
    "Exp_mon = '4'\n",
    "Exp_yr = '2024'\n",
    "## Credit card options \n",
    "Visa='Visa'\n",
    "Master='Master Card'\n",
    "Discover='Discover'\n",
    "Amex='American Express'"
   ]
  },
  {
   "cell_type": "markdown",
   "id": "473b85ad",
   "metadata": {},
   "source": [
    "# Get All times for 7 day period and match criteria"
   ]
  },
  {
   "cell_type": "code",
   "execution_count": 7,
   "id": "d014f4e2",
   "metadata": {},
   "outputs": [
    {
     "ename": "WebDriverException",
     "evalue": "Message: chrome not reachable\n  (Session info: chrome=103.0.5060.114)\nStacktrace:\n#0 0x5575e430bcd3 <unknown>\n#1 0x5575e41137ff <unknown>\n#2 0x5575e4102ca4 <unknown>\n#3 0x5575e41036b2 <unknown>\n#4 0x5575e41054d2 <unknown>\n#5 0x5575e40fd756 <unknown>\n#6 0x5575e4114d52 <unknown>\n#7 0x5575e417b521 <unknown>\n#8 0x5575e4168aa3 <unknown>\n#9 0x5575e413e3fa <unknown>\n#10 0x5575e413f555 <unknown>\n#11 0x5575e43532bd <unknown>\n#12 0x5575e4357418 <unknown>\n#13 0x5575e433d36e <unknown>\n#14 0x5575e4358078 <unknown>\n#15 0x5575e4331bb0 <unknown>\n#16 0x5575e4374d58 <unknown>\n#17 0x5575e4374ed8 <unknown>\n#18 0x5575e438ecfd <unknown>\n#19 0x7f9c3ff22609 <unknown>\n",
     "output_type": "error",
     "traceback": [
      "\u001b[0;31m---------------------------------------------------------------------------\u001b[0m",
      "\u001b[0;31mWebDriverException\u001b[0m                        Traceback (most recent call last)",
      "Input \u001b[0;32mIn [7]\u001b[0m, in \u001b[0;36m<cell line: 5>\u001b[0;34m()\u001b[0m\n\u001b[1;32m      5\u001b[0m \u001b[38;5;28;01mfor\u001b[39;00m d \u001b[38;5;129;01min\u001b[39;00m \u001b[38;5;28mrange\u001b[39m(\u001b[38;5;241m7\u001b[39m):\n\u001b[1;32m      6\u001b[0m     day\u001b[38;5;241m=\u001b[39m\u001b[38;5;124m'\u001b[39m\u001b[38;5;124mdaytab\u001b[39m\u001b[38;5;124m'\u001b[39m\u001b[38;5;241m+\u001b[39m\u001b[38;5;28mstr\u001b[39m(d)\n\u001b[0;32m----> 7\u001b[0m     tab\u001b[38;5;241m=\u001b[39m\u001b[43mbrowser\u001b[49m\u001b[38;5;241;43m.\u001b[39;49m\u001b[43mfind_element\u001b[49m\u001b[43m(\u001b[49m\u001b[43mby\u001b[49m\u001b[38;5;241;43m=\u001b[39;49m\u001b[43mBy\u001b[49m\u001b[38;5;241;43m.\u001b[39;49m\u001b[43mID\u001b[49m\u001b[43m,\u001b[49m\u001b[43mvalue\u001b[49m\u001b[38;5;241;43m=\u001b[39;49m\u001b[43mday\u001b[49m\u001b[43m)\u001b[49m\n\u001b[1;32m      8\u001b[0m     tab\u001b[38;5;241m.\u001b[39mclick()\n\u001b[1;32m      9\u001b[0m     time\u001b[38;5;241m.\u001b[39msleep(\u001b[38;5;241m15\u001b[39m)\n",
      "File \u001b[0;32m~/anaconda3/envs/scrapers/lib/python3.10/site-packages/selenium/webdriver/remote/webdriver.py:857\u001b[0m, in \u001b[0;36mWebDriver.find_element\u001b[0;34m(self, by, value)\u001b[0m\n\u001b[1;32m    854\u001b[0m     by \u001b[38;5;241m=\u001b[39m By\u001b[38;5;241m.\u001b[39mCSS_SELECTOR\n\u001b[1;32m    855\u001b[0m     value \u001b[38;5;241m=\u001b[39m \u001b[38;5;124m'\u001b[39m\u001b[38;5;124m[name=\u001b[39m\u001b[38;5;124m\"\u001b[39m\u001b[38;5;132;01m%s\u001b[39;00m\u001b[38;5;124m\"\u001b[39m\u001b[38;5;124m]\u001b[39m\u001b[38;5;124m'\u001b[39m \u001b[38;5;241m%\u001b[39m value\n\u001b[0;32m--> 857\u001b[0m \u001b[38;5;28;01mreturn\u001b[39;00m \u001b[38;5;28;43mself\u001b[39;49m\u001b[38;5;241;43m.\u001b[39;49m\u001b[43mexecute\u001b[49m\u001b[43m(\u001b[49m\u001b[43mCommand\u001b[49m\u001b[38;5;241;43m.\u001b[39;49m\u001b[43mFIND_ELEMENT\u001b[49m\u001b[43m,\u001b[49m\u001b[43m \u001b[49m\u001b[43m{\u001b[49m\n\u001b[1;32m    858\u001b[0m \u001b[43m    \u001b[49m\u001b[38;5;124;43m'\u001b[39;49m\u001b[38;5;124;43musing\u001b[39;49m\u001b[38;5;124;43m'\u001b[39;49m\u001b[43m:\u001b[49m\u001b[43m \u001b[49m\u001b[43mby\u001b[49m\u001b[43m,\u001b[49m\n\u001b[1;32m    859\u001b[0m \u001b[43m    \u001b[49m\u001b[38;5;124;43m'\u001b[39;49m\u001b[38;5;124;43mvalue\u001b[39;49m\u001b[38;5;124;43m'\u001b[39;49m\u001b[43m:\u001b[49m\u001b[43m \u001b[49m\u001b[43mvalue\u001b[49m\u001b[43m}\u001b[49m\u001b[43m)\u001b[49m[\u001b[38;5;124m'\u001b[39m\u001b[38;5;124mvalue\u001b[39m\u001b[38;5;124m'\u001b[39m]\n",
      "File \u001b[0;32m~/anaconda3/envs/scrapers/lib/python3.10/site-packages/selenium/webdriver/remote/webdriver.py:435\u001b[0m, in \u001b[0;36mWebDriver.execute\u001b[0;34m(self, driver_command, params)\u001b[0m\n\u001b[1;32m    433\u001b[0m response \u001b[38;5;241m=\u001b[39m \u001b[38;5;28mself\u001b[39m\u001b[38;5;241m.\u001b[39mcommand_executor\u001b[38;5;241m.\u001b[39mexecute(driver_command, params)\n\u001b[1;32m    434\u001b[0m \u001b[38;5;28;01mif\u001b[39;00m response:\n\u001b[0;32m--> 435\u001b[0m     \u001b[38;5;28;43mself\u001b[39;49m\u001b[38;5;241;43m.\u001b[39;49m\u001b[43merror_handler\u001b[49m\u001b[38;5;241;43m.\u001b[39;49m\u001b[43mcheck_response\u001b[49m\u001b[43m(\u001b[49m\u001b[43mresponse\u001b[49m\u001b[43m)\u001b[49m\n\u001b[1;32m    436\u001b[0m     response[\u001b[38;5;124m'\u001b[39m\u001b[38;5;124mvalue\u001b[39m\u001b[38;5;124m'\u001b[39m] \u001b[38;5;241m=\u001b[39m \u001b[38;5;28mself\u001b[39m\u001b[38;5;241m.\u001b[39m_unwrap_value(\n\u001b[1;32m    437\u001b[0m         response\u001b[38;5;241m.\u001b[39mget(\u001b[38;5;124m'\u001b[39m\u001b[38;5;124mvalue\u001b[39m\u001b[38;5;124m'\u001b[39m, \u001b[38;5;28;01mNone\u001b[39;00m))\n\u001b[1;32m    438\u001b[0m     \u001b[38;5;28;01mreturn\u001b[39;00m response\n",
      "File \u001b[0;32m~/anaconda3/envs/scrapers/lib/python3.10/site-packages/selenium/webdriver/remote/errorhandler.py:247\u001b[0m, in \u001b[0;36mErrorHandler.check_response\u001b[0;34m(self, response)\u001b[0m\n\u001b[1;32m    245\u001b[0m         alert_text \u001b[38;5;241m=\u001b[39m value[\u001b[38;5;124m'\u001b[39m\u001b[38;5;124malert\u001b[39m\u001b[38;5;124m'\u001b[39m]\u001b[38;5;241m.\u001b[39mget(\u001b[38;5;124m'\u001b[39m\u001b[38;5;124mtext\u001b[39m\u001b[38;5;124m'\u001b[39m)\n\u001b[1;32m    246\u001b[0m     \u001b[38;5;28;01mraise\u001b[39;00m exception_class(message, screen, stacktrace, alert_text)  \u001b[38;5;66;03m# type: ignore[call-arg]  # mypy is not smart enough here\u001b[39;00m\n\u001b[0;32m--> 247\u001b[0m \u001b[38;5;28;01mraise\u001b[39;00m exception_class(message, screen, stacktrace)\n",
      "\u001b[0;31mWebDriverException\u001b[0m: Message: chrome not reachable\n  (Session info: chrome=103.0.5060.114)\nStacktrace:\n#0 0x5575e430bcd3 <unknown>\n#1 0x5575e41137ff <unknown>\n#2 0x5575e4102ca4 <unknown>\n#3 0x5575e41036b2 <unknown>\n#4 0x5575e41054d2 <unknown>\n#5 0x5575e40fd756 <unknown>\n#6 0x5575e4114d52 <unknown>\n#7 0x5575e417b521 <unknown>\n#8 0x5575e4168aa3 <unknown>\n#9 0x5575e413e3fa <unknown>\n#10 0x5575e413f555 <unknown>\n#11 0x5575e43532bd <unknown>\n#12 0x5575e4357418 <unknown>\n#13 0x5575e433d36e <unknown>\n#14 0x5575e4358078 <unknown>\n#15 0x5575e4331bb0 <unknown>\n#16 0x5575e4374d58 <unknown>\n#17 0x5575e4374ed8 <unknown>\n#18 0x5575e438ecfd <unknown>\n#19 0x7f9c3ff22609 <unknown>\n"
     ]
    }
   ],
   "source": [
    "# Loops through each day, grabs the table, adds the book url and tab location to df\n",
    "# saves it to dictionray of key=date, value=df\n",
    "import time\n",
    "dunes ={}\n",
    "for d in range(7):\n",
    "    day='daytab'+str(d)\n",
    "    tab=browser.find_element(by=By.ID,value=day)\n",
    "    tab.click()\n",
    "    time.sleep(15)\n",
    "    date=get_date(browser)\n",
    "    df=get_dataframe(browser,date)\n",
    "    df['Tab'] = day\n",
    "    dunes[date] = df\n",
    "#     WebDriverWait(tab,10).click\n"
   ]
  },
  {
   "cell_type": "code",
   "execution_count": 257,
   "id": "d1ae4f33",
   "metadata": {},
   "outputs": [],
   "source": [
    "# filter based on input \n",
    "dune_avail=dunes_availbility(dunes,Desired_date,Desired_time,Desired_players,Number_of_Ttimes)"
   ]
  },
  {
   "cell_type": "markdown",
   "id": "055f14f1",
   "metadata": {},
   "source": [
    "# Book criteria matched"
   ]
  },
  {
   "cell_type": "code",
   "execution_count": 258,
   "id": "5572ae9e",
   "metadata": {},
   "outputs": [],
   "source": [
    "for i,a in dune_avail.iterrows():\n",
    "    book_tab=browser.find_element(by=By.ID,value=a['Tab'])\n",
    "    # This has to be set after the tab click or it gets stale. \n",
    "#     booklink=browser.find_element(by=By.XPATH, value=a['BookLink'])"
   ]
  },
  {
   "cell_type": "code",
   "execution_count": 260,
   "id": "4940efcd",
   "metadata": {},
   "outputs": [],
   "source": [
    "book_tab.click()\n",
    "time.sleep(25)\n",
    "booklink=browser.find_element(by=By.XPATH, value=a['BookLink'])\n",
    "booklink.click()"
   ]
  },
  {
   "cell_type": "markdown",
   "id": "f58139ad",
   "metadata": {},
   "source": [
    "## Check out"
   ]
  },
  {
   "cell_type": "code",
   "execution_count": 261,
   "id": "87634dbe",
   "metadata": {},
   "outputs": [],
   "source": [
    "ck_val='//*[@id=\"bookinginfo\"]/div[2]/form/input[8]'\n",
    "ck_out=browser.find_element(by=By.XPATH, value=ck_val)\n",
    "# This will open a new window\n",
    "ck_out.click()"
   ]
  },
  {
   "cell_type": "code",
   "execution_count": 287,
   "id": "d92ab694",
   "metadata": {},
   "outputs": [],
   "source": [
    "\n"
   ]
  },
  {
   "cell_type": "code",
   "execution_count": 264,
   "id": "1ef446b2",
   "metadata": {},
   "outputs": [],
   "source": [
    "# Find form window\n",
    "original_window = browser.current_window_handle\n",
    "for window_handle in browser.window_handles:\n",
    "    if window_handle != original_window:\n",
    "        browser.switch_to.window(window_handle)"
   ]
  },
  {
   "cell_type": "code",
   "execution_count": 273,
   "id": "4719aff7",
   "metadata": {},
   "outputs": [],
   "source": [
    "fname = browser.find_element(by=By.XPATH, value='/html/body/center/div[1]/form/div[2]/table/tbody/tr[1]/td[2]/input')\n",
    "lname = browser.find_element(by=By.XPATH, value='//*[@id=\"lname\"]')\n",
    "tel = browser.find_element(by=By.XPATH, value='//*[@id=\"phone\"]')\n",
    "mail = browser.find_element(by=By.XPATH, value='//*[@id=\"email\"]')\n",
    "card_num = browser.find_element(by=By.XPATH, value='//*[@id=\"main\"]/form/div[3]/p[3]/input')"
   ]
  },
  {
   "cell_type": "code",
   "execution_count": 280,
   "id": "a6b15bac",
   "metadata": {},
   "outputs": [],
   "source": [
    "# Send Values to Form \n",
    "fname.send_keys(f_name)\n",
    "lname.send_keys(l_name)\n",
    "tel.send_keys(phone)\n",
    "mail.send_keys(email)\n",
    "card_num.send_keys(cc_num)"
   ]
  },
  {
   "cell_type": "code",
   "execution_count": 285,
   "id": "b5e8a177",
   "metadata": {},
   "outputs": [],
   "source": [
    "# Select Credit card type\n",
    "cc_sel=browser.find_element(by=By.XPATH, value='//*[@id=\"main\"]/form/div[3]/p[2]/select')\n",
    "cc_sel.send_keys(Amex)"
   ]
  },
  {
   "cell_type": "code",
   "execution_count": 288,
   "id": "f0ef7b26",
   "metadata": {},
   "outputs": [],
   "source": [
    "# Expiration \n",
    "cc_month=browser.find_element(by=By.XPATH, value='//*[@id=\"main\"]/form/div[3]/p[4]/select[1]')\n",
    "cc_year=browser.find_element(by=By.XPATH, value='//*[@id=\"main\"]/form/div[3]/p[4]/select[2]')\n",
    "cc_month.send_keys(Exp_mon)\n",
    "cc_year.send_keys(Exp_yr)"
   ]
  },
  {
   "cell_type": "code",
   "execution_count": 289,
   "id": "9d1a3e17",
   "metadata": {},
   "outputs": [],
   "source": [
    "# Cancellation policy \n",
    "accpt=browser.find_element(by=By.XPATH, value='//*[@id=\"main\"]/form/div[3]/input')\n",
    "accpt.click()"
   ]
  },
  {
   "cell_type": "code",
   "execution_count": 290,
   "id": "39974f0f",
   "metadata": {},
   "outputs": [],
   "source": [
    "# submit \n",
    "submit=browser.find_element(by=By.XPATH, value='//*[@id=\"main\"]/form/div[3]/p[6]/input')\n",
    "submit.click()"
   ]
  },
  {
   "cell_type": "code",
   "execution_count": 3,
   "id": "ff19db9b",
   "metadata": {},
   "outputs": [],
   "source": [
    "def dunes_availbility(crse_dict,Desired_date,Desired_time,Desired_players,Number_of_Ttimes):\n",
    "    from datetime import datetime\n",
    "    import time\n",
    "    # convert to time objects\n",
    "    date = datetime.strptime(Desired_date, '%m-%d-%Y').date().strftime(\"%A\"+', '+\"%B\"+' '+\"%d\")\n",
    "    time = datetime.strptime(Desired_time, '%I:%M %p').time()\n",
    "    # grab df from dictionary\n",
    "    df=crse_dict[date]\n",
    "    # convert tee_time to datetime time function and save as filter col\n",
    "    df['filter']= pd.to_datetime(df['Tee_Time']).dt.time\n",
    "    # grab just the number from players col\n",
    "    df['filter2']=df['Players'].str.split(' ',expand=False).str[0]\n",
    "    # Grab all times greater than input time\n",
    "    \n",
    "    avail=df[(df['filter'] > time) & (df['filter2'] == str(Desired_players)) ]\n",
    "    # grab the number of available times \n",
    "    avail_final=avail[:Number_of_Ttimes]\n",
    "    return avail_final\n"
   ]
  },
  {
   "cell_type": "code",
   "execution_count": 4,
   "id": "472a9fee",
   "metadata": {},
   "outputs": [],
   "source": [
    "# Add long wait\n",
    "def get_date(browser):\n",
    "    # Get Date\n",
    "#     tbl_val='//*[@id=\"tee_time_table_container\"]/table'\n",
    "#     date=browser.find_element(by=By.XPATH,value=tbl_val)\n",
    "    dt_val='//*[@id=\"tee_time_table_container\"]/table/tbody/tr[1]/td[1]/span'\n",
    "    date=browser.find_element(by=By.XPATH,value=dt_val).text\n",
    "    return date\n",
    "def get_dataframe(browser,date):\n",
    "    from selenium.webdriver.common.by import By\n",
    "    import pandas as pd\n",
    "    \n",
    "    def add_book_url(row):\n",
    "        bk_id=row.name+1\n",
    "        b_url='//*[@id=\"tee_time_table_container\"]/table/tbody/tr['+str(bk_id)+']/td[4]/div/div[2]/a/img'\n",
    "        return b_url\n",
    "    # Get Table\n",
    "    tbl_val='//*[@id=\"tee_time_table_container\"]/table'\n",
    "    tbl=browser.find_element(by=By.XPATH,value=tbl_val)\n",
    "    tee_html=pd.read_html(tbl.get_attribute('outerHTML'))\n",
    "    tee_tble=tee_html[0]\n",
    "\n",
    "    # Drop blank\n",
    "    tee_tble=tee_tble.dropna(how='all').copy()\n",
    "    # Split date and time into seperate columns\n",
    "    tee_tble[['delete','Tee_Time']]=tee_tble['Tee Time'].str.split(date,expand=True)\n",
    "    tee_tble['Tee_Date']= date \n",
    "    # Select new columns and reset index \n",
    "    tee_tble=tee_tble[['Tee_Date','Tee_Time','Course','Players','Price']]\n",
    "    tee_tble=tee_tble.reset_index(drop=True)\n",
    "    \n",
    "    tee_tble['BookLink'] = tee_tble.apply(lambda row: add_book_url(row), axis=1)\n",
    "    return tee_tble\n",
    "\n",
    "def add_book_url(row):\n",
    "    bk_id=row.name+1\n",
    "    b_url='//*[@id=\"tee_time_table_container\"]/table/tbody/tr['+str(bk_id)+']/td[4]/div/div[2]/a/img'\n",
    "    return b_url\n",
    "\n"
   ]
  },
  {
   "cell_type": "code",
   "execution_count": 5,
   "id": "676f87d8",
   "metadata": {},
   "outputs": [],
   "source": [
    "def Dunes_West():\n",
    "    browser = webdriver.Chrome(service=Service(ChromeDriverManager().install()))\n",
    "    browser.get(\"http://www.duneswestgolfclub.com/-book-a-tee-time(2)\")\n",
    "    # switch to iframe where all the info is displayed\n",
    "    find_i=browser.find_element(by=By.XPATH, value='//iframe')\n",
    "    WebDriverWait(browser,10).until(EC.frame_to_be_available_and_switch_to_it((find_i)))\n",
    "\n",
    "def dunes_day(rownum):\n",
    "    # Tee Time \n",
    "    time_val = '//*[@id=\"tee_time_table_container\"]/table/tbody/tr['+str(rownum)+']/td[1]/a'\n",
    "    time=browser.find_element(by=By.XPATH, value=time_val)\n",
    "    tee_time=str(time.get_attribute('outerHTML').split('>')[1].split('<')[0])\n",
    "    # Date \n",
    "    date=str(time.get_attribute('onclick').split(',')[0].split('(')[1].strip(\"'\"))\n",
    "    hour=str(time.get_attribute('onclick').split(',')[2])\n",
    "    minute=str(time.get_attribute('onclick').split(',')[3])\n",
    "    # Course \n",
    "    crs_val='//*[@id=\"tee_time_table_container\"]/table/tbody/tr['+str(rownum)+']/td[2]/span'\n",
    "    course=browser.find_element(by=By.XPATH,value=crs_val).text\n",
    "    # Players\n",
    "    play_val='//*[@id=\"tee_time_table_container\"]/table/tbody/tr['+str(rownum)+']/td[3]/span'\n",
    "    players=browser.find_element(by=By.XPATH,value=play_val).text\n",
    "    # Price \n",
    "    price_val='//*[@id=\"tee_time_table_container\"]/table/tbody/tr['+str(rownum)+']/td[4]/div/div[1]/span'\n",
    "    price=browser.find_element(by=By.XPATH,value=price_val).text\n",
    "    \n",
    "    day_row = [date,tee_time,course,players,price]\n",
    "    return day_row"
   ]
  },
  {
   "cell_type": "code",
   "execution_count": null,
   "id": "f50f6a90",
   "metadata": {},
   "outputs": [],
   "source": []
  },
  {
   "cell_type": "code",
   "execution_count": null,
   "id": "cb2d8228",
   "metadata": {},
   "outputs": [],
   "source": []
  },
  {
   "cell_type": "code",
   "execution_count": 338,
   "id": "5510d744",
   "metadata": {},
   "outputs": [],
   "source": []
  },
  {
   "cell_type": "code",
   "execution_count": 6,
   "id": "475625a0",
   "metadata": {},
   "outputs": [],
   "source": [
    "def find_all_iframes(driver):\n",
    "    iframes = driver.find_element(by=By.XPATH, value=\"//iframe\")\n",
    "    for index, iframe in enumerate(iframes):\n",
    "        # Your sweet business logic applied to iframe goes here.\n",
    "        driver.switch_to.frame(index)\n",
    "        find_all_iframes(driver)\n",
    "        driver.switch_to.parent_frame()"
   ]
  },
  {
   "cell_type": "markdown",
   "id": "9c2fdba6",
   "metadata": {},
   "source": [
    "# Testing for rivertowne"
   ]
  },
  {
   "cell_type": "code",
   "execution_count": 7,
   "id": "244270f7",
   "metadata": {},
   "outputs": [],
   "source": [
    "day='daytab0'\n",
    "tab=browser.find_element(by=By.ID,value=day)\n",
    "tab.click()\n"
   ]
  },
  {
   "cell_type": "code",
   "execution_count": 8,
   "id": "8b2a804c",
   "metadata": {},
   "outputs": [
    {
     "data": {
      "text/plain": [
       "'Tuesday, September 6'"
      ]
     },
     "execution_count": 8,
     "metadata": {},
     "output_type": "execute_result"
    }
   ],
   "source": [
    "date=get_date(browser)\n",
    "date"
   ]
  },
  {
   "cell_type": "code",
   "execution_count": 10,
   "id": "7aebfa42",
   "metadata": {},
   "outputs": [
    {
     "data": {
      "text/html": [
       "<div>\n",
       "<style scoped>\n",
       "    .dataframe tbody tr th:only-of-type {\n",
       "        vertical-align: middle;\n",
       "    }\n",
       "\n",
       "    .dataframe tbody tr th {\n",
       "        vertical-align: top;\n",
       "    }\n",
       "\n",
       "    .dataframe thead th {\n",
       "        text-align: right;\n",
       "    }\n",
       "</style>\n",
       "<table border=\"1\" class=\"dataframe\">\n",
       "  <thead>\n",
       "    <tr style=\"text-align: right;\">\n",
       "      <th></th>\n",
       "      <th>Tee_Date</th>\n",
       "      <th>Tee_Time</th>\n",
       "      <th>Course</th>\n",
       "      <th>Players</th>\n",
       "      <th>Price</th>\n",
       "      <th>BookLink</th>\n",
       "    </tr>\n",
       "  </thead>\n",
       "  <tbody>\n",
       "    <tr>\n",
       "      <th>0</th>\n",
       "      <td>Tuesday, September 6</td>\n",
       "      <td>8:09 AM</td>\n",
       "      <td>Dunes West Golf Club</td>\n",
       "      <td>4 players</td>\n",
       "      <td>$93.45</td>\n",
       "      <td>//*[@id=\"tee_time_table_container\"]/table/tbod...</td>\n",
       "    </tr>\n",
       "    <tr>\n",
       "      <th>1</th>\n",
       "      <td>Tuesday, September 6</td>\n",
       "      <td>8:18 AM</td>\n",
       "      <td>Dunes West Golf Club</td>\n",
       "      <td>4 players</td>\n",
       "      <td>$93.45</td>\n",
       "      <td>//*[@id=\"tee_time_table_container\"]/table/tbod...</td>\n",
       "    </tr>\n",
       "    <tr>\n",
       "      <th>2</th>\n",
       "      <td>Tuesday, September 6</td>\n",
       "      <td>10:06 AM</td>\n",
       "      <td>Dunes West Golf Club</td>\n",
       "      <td>4 players</td>\n",
       "      <td>$93.45</td>\n",
       "      <td>//*[@id=\"tee_time_table_container\"]/table/tbod...</td>\n",
       "    </tr>\n",
       "    <tr>\n",
       "      <th>3</th>\n",
       "      <td>Tuesday, September 6</td>\n",
       "      <td>11:45 AM</td>\n",
       "      <td>Dunes West Golf Club</td>\n",
       "      <td>4 players</td>\n",
       "      <td>$93.45</td>\n",
       "      <td>//*[@id=\"tee_time_table_container\"]/table/tbod...</td>\n",
       "    </tr>\n",
       "    <tr>\n",
       "      <th>4</th>\n",
       "      <td>Tuesday, September 6</td>\n",
       "      <td>11:54 AM</td>\n",
       "      <td>Dunes West Golf Club</td>\n",
       "      <td>4 players</td>\n",
       "      <td>$93.45</td>\n",
       "      <td>//*[@id=\"tee_time_table_container\"]/table/tbod...</td>\n",
       "    </tr>\n",
       "    <tr>\n",
       "      <th>5</th>\n",
       "      <td>Tuesday, September 6</td>\n",
       "      <td>12:03 PM</td>\n",
       "      <td>Dunes West Golf Club</td>\n",
       "      <td>4 players</td>\n",
       "      <td>$93.45</td>\n",
       "      <td>//*[@id=\"tee_time_table_container\"]/table/tbod...</td>\n",
       "    </tr>\n",
       "    <tr>\n",
       "      <th>6</th>\n",
       "      <td>Tuesday, September 6</td>\n",
       "      <td>12:12 PM</td>\n",
       "      <td>Dunes West Golf Club</td>\n",
       "      <td>4 players</td>\n",
       "      <td>$93.45</td>\n",
       "      <td>//*[@id=\"tee_time_table_container\"]/table/tbod...</td>\n",
       "    </tr>\n",
       "    <tr>\n",
       "      <th>7</th>\n",
       "      <td>Tuesday, September 6</td>\n",
       "      <td>12:30 PM</td>\n",
       "      <td>Dunes West Golf Club</td>\n",
       "      <td>4 players</td>\n",
       "      <td>$93.45</td>\n",
       "      <td>//*[@id=\"tee_time_table_container\"]/table/tbod...</td>\n",
       "    </tr>\n",
       "    <tr>\n",
       "      <th>8</th>\n",
       "      <td>Tuesday, September 6</td>\n",
       "      <td>12:39 PM</td>\n",
       "      <td>Dunes West Golf Club</td>\n",
       "      <td>4 players</td>\n",
       "      <td>$93.45</td>\n",
       "      <td>//*[@id=\"tee_time_table_container\"]/table/tbod...</td>\n",
       "    </tr>\n",
       "    <tr>\n",
       "      <th>9</th>\n",
       "      <td>Tuesday, September 6</td>\n",
       "      <td>1:24 PM</td>\n",
       "      <td>Dunes West Golf Club</td>\n",
       "      <td>4 players</td>\n",
       "      <td>$93.45</td>\n",
       "      <td>//*[@id=\"tee_time_table_container\"]/table/tbod...</td>\n",
       "    </tr>\n",
       "    <tr>\n",
       "      <th>10</th>\n",
       "      <td>Tuesday, September 6</td>\n",
       "      <td>1:42 PM</td>\n",
       "      <td>Dunes West Golf Club</td>\n",
       "      <td>4 players</td>\n",
       "      <td>$93.45</td>\n",
       "      <td>//*[@id=\"tee_time_table_container\"]/table/tbod...</td>\n",
       "    </tr>\n",
       "    <tr>\n",
       "      <th>11</th>\n",
       "      <td>Tuesday, September 6</td>\n",
       "      <td>1:51 PM</td>\n",
       "      <td>Dunes West Golf Club</td>\n",
       "      <td>4 players</td>\n",
       "      <td>$93.45</td>\n",
       "      <td>//*[@id=\"tee_time_table_container\"]/table/tbod...</td>\n",
       "    </tr>\n",
       "    <tr>\n",
       "      <th>12</th>\n",
       "      <td>Tuesday, September 6</td>\n",
       "      <td>2:00 PM</td>\n",
       "      <td>Dunes West Golf Club</td>\n",
       "      <td>4 players</td>\n",
       "      <td>$93.45</td>\n",
       "      <td>//*[@id=\"tee_time_table_container\"]/table/tbod...</td>\n",
       "    </tr>\n",
       "    <tr>\n",
       "      <th>13</th>\n",
       "      <td>Tuesday, September 6</td>\n",
       "      <td>2:18 PM</td>\n",
       "      <td>Dunes West Golf Club</td>\n",
       "      <td>4 players</td>\n",
       "      <td>$93.45</td>\n",
       "      <td>//*[@id=\"tee_time_table_container\"]/table/tbod...</td>\n",
       "    </tr>\n",
       "    <tr>\n",
       "      <th>14</th>\n",
       "      <td>Tuesday, September 6</td>\n",
       "      <td>2:27 PM</td>\n",
       "      <td>Dunes West Golf Club</td>\n",
       "      <td>4 players</td>\n",
       "      <td>$93.45</td>\n",
       "      <td>//*[@id=\"tee_time_table_container\"]/table/tbod...</td>\n",
       "    </tr>\n",
       "    <tr>\n",
       "      <th>15</th>\n",
       "      <td>Tuesday, September 6</td>\n",
       "      <td>2:54 PM</td>\n",
       "      <td>Dunes West Golf Club</td>\n",
       "      <td>4 players</td>\n",
       "      <td>$93.45</td>\n",
       "      <td>//*[@id=\"tee_time_table_container\"]/table/tbod...</td>\n",
       "    </tr>\n",
       "    <tr>\n",
       "      <th>16</th>\n",
       "      <td>Tuesday, September 6</td>\n",
       "      <td>3:03 PM</td>\n",
       "      <td>Dunes West Golf Club</td>\n",
       "      <td>4 players</td>\n",
       "      <td>$93.45</td>\n",
       "      <td>//*[@id=\"tee_time_table_container\"]/table/tbod...</td>\n",
       "    </tr>\n",
       "    <tr>\n",
       "      <th>17</th>\n",
       "      <td>Tuesday, September 6</td>\n",
       "      <td>3:12 PM</td>\n",
       "      <td>Dunes West Golf Club</td>\n",
       "      <td>4 players</td>\n",
       "      <td>$93.45</td>\n",
       "      <td>//*[@id=\"tee_time_table_container\"]/table/tbod...</td>\n",
       "    </tr>\n",
       "    <tr>\n",
       "      <th>18</th>\n",
       "      <td>Tuesday, September 6</td>\n",
       "      <td>3:21 PM</td>\n",
       "      <td>Dunes West Golf Club</td>\n",
       "      <td>4 players</td>\n",
       "      <td>$93.45</td>\n",
       "      <td>//*[@id=\"tee_time_table_container\"]/table/tbod...</td>\n",
       "    </tr>\n",
       "    <tr>\n",
       "      <th>19</th>\n",
       "      <td>Tuesday, September 6</td>\n",
       "      <td>4:51 PM</td>\n",
       "      <td>Dunes West Golf Club</td>\n",
       "      <td>4 players</td>\n",
       "      <td>$51.45</td>\n",
       "      <td>//*[@id=\"tee_time_table_container\"]/table/tbod...</td>\n",
       "    </tr>\n",
       "    <tr>\n",
       "      <th>20</th>\n",
       "      <td>Tuesday, September 6</td>\n",
       "      <td>5:00 PM</td>\n",
       "      <td>Dunes West Golf Club</td>\n",
       "      <td>4 players</td>\n",
       "      <td>$51.45</td>\n",
       "      <td>//*[@id=\"tee_time_table_container\"]/table/tbod...</td>\n",
       "    </tr>\n",
       "  </tbody>\n",
       "</table>\n",
       "</div>"
      ],
      "text/plain": [
       "                Tee_Date  Tee_Time                Course    Players   Price  \\\n",
       "0   Tuesday, September 6   8:09 AM  Dunes West Golf Club  4 players  $93.45   \n",
       "1   Tuesday, September 6   8:18 AM  Dunes West Golf Club  4 players  $93.45   \n",
       "2   Tuesday, September 6  10:06 AM  Dunes West Golf Club  4 players  $93.45   \n",
       "3   Tuesday, September 6  11:45 AM  Dunes West Golf Club  4 players  $93.45   \n",
       "4   Tuesday, September 6  11:54 AM  Dunes West Golf Club  4 players  $93.45   \n",
       "5   Tuesday, September 6  12:03 PM  Dunes West Golf Club  4 players  $93.45   \n",
       "6   Tuesday, September 6  12:12 PM  Dunes West Golf Club  4 players  $93.45   \n",
       "7   Tuesday, September 6  12:30 PM  Dunes West Golf Club  4 players  $93.45   \n",
       "8   Tuesday, September 6  12:39 PM  Dunes West Golf Club  4 players  $93.45   \n",
       "9   Tuesday, September 6   1:24 PM  Dunes West Golf Club  4 players  $93.45   \n",
       "10  Tuesday, September 6   1:42 PM  Dunes West Golf Club  4 players  $93.45   \n",
       "11  Tuesday, September 6   1:51 PM  Dunes West Golf Club  4 players  $93.45   \n",
       "12  Tuesday, September 6   2:00 PM  Dunes West Golf Club  4 players  $93.45   \n",
       "13  Tuesday, September 6   2:18 PM  Dunes West Golf Club  4 players  $93.45   \n",
       "14  Tuesday, September 6   2:27 PM  Dunes West Golf Club  4 players  $93.45   \n",
       "15  Tuesday, September 6   2:54 PM  Dunes West Golf Club  4 players  $93.45   \n",
       "16  Tuesday, September 6   3:03 PM  Dunes West Golf Club  4 players  $93.45   \n",
       "17  Tuesday, September 6   3:12 PM  Dunes West Golf Club  4 players  $93.45   \n",
       "18  Tuesday, September 6   3:21 PM  Dunes West Golf Club  4 players  $93.45   \n",
       "19  Tuesday, September 6   4:51 PM  Dunes West Golf Club  4 players  $51.45   \n",
       "20  Tuesday, September 6   5:00 PM  Dunes West Golf Club  4 players  $51.45   \n",
       "\n",
       "                                             BookLink  \n",
       "0   //*[@id=\"tee_time_table_container\"]/table/tbod...  \n",
       "1   //*[@id=\"tee_time_table_container\"]/table/tbod...  \n",
       "2   //*[@id=\"tee_time_table_container\"]/table/tbod...  \n",
       "3   //*[@id=\"tee_time_table_container\"]/table/tbod...  \n",
       "4   //*[@id=\"tee_time_table_container\"]/table/tbod...  \n",
       "5   //*[@id=\"tee_time_table_container\"]/table/tbod...  \n",
       "6   //*[@id=\"tee_time_table_container\"]/table/tbod...  \n",
       "7   //*[@id=\"tee_time_table_container\"]/table/tbod...  \n",
       "8   //*[@id=\"tee_time_table_container\"]/table/tbod...  \n",
       "9   //*[@id=\"tee_time_table_container\"]/table/tbod...  \n",
       "10  //*[@id=\"tee_time_table_container\"]/table/tbod...  \n",
       "11  //*[@id=\"tee_time_table_container\"]/table/tbod...  \n",
       "12  //*[@id=\"tee_time_table_container\"]/table/tbod...  \n",
       "13  //*[@id=\"tee_time_table_container\"]/table/tbod...  \n",
       "14  //*[@id=\"tee_time_table_container\"]/table/tbod...  \n",
       "15  //*[@id=\"tee_time_table_container\"]/table/tbod...  \n",
       "16  //*[@id=\"tee_time_table_container\"]/table/tbod...  \n",
       "17  //*[@id=\"tee_time_table_container\"]/table/tbod...  \n",
       "18  //*[@id=\"tee_time_table_container\"]/table/tbod...  \n",
       "19  //*[@id=\"tee_time_table_container\"]/table/tbod...  \n",
       "20  //*[@id=\"tee_time_table_container\"]/table/tbod...  "
      ]
     },
     "execution_count": 10,
     "metadata": {},
     "output_type": "execute_result"
    }
   ],
   "source": [
    "df=get_dataframe(browser,date)\n",
    "df"
   ]
  },
  {
   "cell_type": "code",
   "execution_count": null,
   "id": "19d92c42",
   "metadata": {},
   "outputs": [],
   "source": [
    "df['Tab'] = day\n",
    "dunes[date] = df"
   ]
  }
 ],
 "metadata": {
  "kernelspec": {
   "display_name": "Python 3 (ipykernel)",
   "language": "python",
   "name": "python3"
  },
  "language_info": {
   "codemirror_mode": {
    "name": "ipython",
    "version": 3
   },
   "file_extension": ".py",
   "mimetype": "text/x-python",
   "name": "python",
   "nbconvert_exporter": "python",
   "pygments_lexer": "ipython3",
   "version": "3.10.4"
  }
 },
 "nbformat": 4,
 "nbformat_minor": 5
}
