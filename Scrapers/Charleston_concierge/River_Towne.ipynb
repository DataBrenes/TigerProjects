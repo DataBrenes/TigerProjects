{
 "cells": [
  {
   "cell_type": "code",
   "execution_count": null,
   "id": "56ab2326",
   "metadata": {},
   "outputs": [],
   "source": [
    "# This needs to be modulized but works up until entering cc info"
   ]
  },
  {
   "cell_type": "markdown",
   "id": "df73de53",
   "metadata": {},
   "source": [
    "# TODO\n",
    "* Works now up to clicking submit for credit card. \n",
    "* right now only one is getting booked which is the latest one. \n",
    "* need to modulize"
   ]
  },
  {
   "cell_type": "code",
   "execution_count": null,
   "id": "08ec8a4b",
   "metadata": {},
   "outputs": [],
   "source": []
  },
  {
   "cell_type": "markdown",
   "id": "797f6cb5",
   "metadata": {},
   "source": [
    "## Initiate web site"
   ]
  },
  {
   "cell_type": "code",
   "execution_count": 3,
   "id": "be5659c5",
   "metadata": {},
   "outputs": [],
   "source": [
    "from selenium import webdriver\n",
    "from selenium.webdriver.chrome.service import Service\n",
    "from webdriver_manager.chrome import ChromeDriverManager\n",
    "from selenium.webdriver.common.by import By\n",
    "from selenium.webdriver.support.ui import WebDriverWait \n",
    "from selenium.webdriver.support import expected_conditions as EC\n",
    "import pandas as pd"
   ]
  },
  {
   "cell_type": "code",
   "execution_count": 4,
   "id": "6b6e7592",
   "metadata": {},
   "outputs": [
    {
     "name": "stdout",
     "output_type": "stream",
     "text": [
      "\n"
     ]
    },
    {
     "ename": "NoSuchElementException",
     "evalue": "Message: no such element: Unable to locate element: {\"method\":\"xpath\",\"selector\":\"//iframe\"}\n  (Session info: chrome=103.0.5060.114)\nStacktrace:\n#0 0x55d696e7fcd3 <unknown>\n#1 0x55d696c87968 <unknown>\n#2 0x55d696cbefd7 <unknown>\n#3 0x55d696cbf1a1 <unknown>\n#4 0x55d696cf2154 <unknown>\n#5 0x55d696cdcbdd <unknown>\n#6 0x55d696cefea8 <unknown>\n#7 0x55d696cdcaa3 <unknown>\n#8 0x55d696cb23fa <unknown>\n#9 0x55d696cb3555 <unknown>\n#10 0x55d696ec72bd <unknown>\n#11 0x55d696ecb418 <unknown>\n#12 0x55d696eb136e <unknown>\n#13 0x55d696ecc078 <unknown>\n#14 0x55d696ea5bb0 <unknown>\n#15 0x55d696ee8d58 <unknown>\n#16 0x55d696ee8ed8 <unknown>\n#17 0x55d696f02cfd <unknown>\n#18 0x7fe00dee9609 <unknown>\n",
     "output_type": "error",
     "traceback": [
      "\u001b[0;31m---------------------------------------------------------------------------\u001b[0m",
      "\u001b[0;31mNoSuchElementException\u001b[0m                    Traceback (most recent call last)",
      "Input \u001b[0;32mIn [4]\u001b[0m, in \u001b[0;36m<cell line: 4>\u001b[0;34m()\u001b[0m\n\u001b[1;32m      2\u001b[0m browser\u001b[38;5;241m.\u001b[39mget(\u001b[38;5;124m\"\u001b[39m\u001b[38;5;124mhttp://rivertownecountryclub.com/-online-tee-times\u001b[39m\u001b[38;5;124m\"\u001b[39m)\n\u001b[1;32m      3\u001b[0m \u001b[38;5;66;03m# switch to iframe where all the info is displayed\u001b[39;00m\n\u001b[0;32m----> 4\u001b[0m find_i\u001b[38;5;241m=\u001b[39m\u001b[43mbrowser\u001b[49m\u001b[38;5;241;43m.\u001b[39;49m\u001b[43mfind_element\u001b[49m\u001b[43m(\u001b[49m\u001b[43mby\u001b[49m\u001b[38;5;241;43m=\u001b[39;49m\u001b[43mBy\u001b[49m\u001b[38;5;241;43m.\u001b[39;49m\u001b[43mXPATH\u001b[49m\u001b[43m,\u001b[49m\u001b[43m \u001b[49m\u001b[43mvalue\u001b[49m\u001b[38;5;241;43m=\u001b[39;49m\u001b[38;5;124;43m'\u001b[39;49m\u001b[38;5;124;43m//iframe\u001b[39;49m\u001b[38;5;124;43m'\u001b[39;49m\u001b[43m)\u001b[49m\n\u001b[1;32m      5\u001b[0m WebDriverWait(browser,\u001b[38;5;241m10\u001b[39m)\u001b[38;5;241m.\u001b[39muntil(EC\u001b[38;5;241m.\u001b[39mframe_to_be_available_and_switch_to_it((find_i)))\n",
      "File \u001b[0;32m~/anaconda3/envs/scrapers/lib/python3.10/site-packages/selenium/webdriver/remote/webdriver.py:857\u001b[0m, in \u001b[0;36mWebDriver.find_element\u001b[0;34m(self, by, value)\u001b[0m\n\u001b[1;32m    854\u001b[0m     by \u001b[38;5;241m=\u001b[39m By\u001b[38;5;241m.\u001b[39mCSS_SELECTOR\n\u001b[1;32m    855\u001b[0m     value \u001b[38;5;241m=\u001b[39m \u001b[38;5;124m'\u001b[39m\u001b[38;5;124m[name=\u001b[39m\u001b[38;5;124m\"\u001b[39m\u001b[38;5;132;01m%s\u001b[39;00m\u001b[38;5;124m\"\u001b[39m\u001b[38;5;124m]\u001b[39m\u001b[38;5;124m'\u001b[39m \u001b[38;5;241m%\u001b[39m value\n\u001b[0;32m--> 857\u001b[0m \u001b[38;5;28;01mreturn\u001b[39;00m \u001b[38;5;28;43mself\u001b[39;49m\u001b[38;5;241;43m.\u001b[39;49m\u001b[43mexecute\u001b[49m\u001b[43m(\u001b[49m\u001b[43mCommand\u001b[49m\u001b[38;5;241;43m.\u001b[39;49m\u001b[43mFIND_ELEMENT\u001b[49m\u001b[43m,\u001b[49m\u001b[43m \u001b[49m\u001b[43m{\u001b[49m\n\u001b[1;32m    858\u001b[0m \u001b[43m    \u001b[49m\u001b[38;5;124;43m'\u001b[39;49m\u001b[38;5;124;43musing\u001b[39;49m\u001b[38;5;124;43m'\u001b[39;49m\u001b[43m:\u001b[49m\u001b[43m \u001b[49m\u001b[43mby\u001b[49m\u001b[43m,\u001b[49m\n\u001b[1;32m    859\u001b[0m \u001b[43m    \u001b[49m\u001b[38;5;124;43m'\u001b[39;49m\u001b[38;5;124;43mvalue\u001b[39;49m\u001b[38;5;124;43m'\u001b[39;49m\u001b[43m:\u001b[49m\u001b[43m \u001b[49m\u001b[43mvalue\u001b[49m\u001b[43m}\u001b[49m\u001b[43m)\u001b[49m[\u001b[38;5;124m'\u001b[39m\u001b[38;5;124mvalue\u001b[39m\u001b[38;5;124m'\u001b[39m]\n",
      "File \u001b[0;32m~/anaconda3/envs/scrapers/lib/python3.10/site-packages/selenium/webdriver/remote/webdriver.py:435\u001b[0m, in \u001b[0;36mWebDriver.execute\u001b[0;34m(self, driver_command, params)\u001b[0m\n\u001b[1;32m    433\u001b[0m response \u001b[38;5;241m=\u001b[39m \u001b[38;5;28mself\u001b[39m\u001b[38;5;241m.\u001b[39mcommand_executor\u001b[38;5;241m.\u001b[39mexecute(driver_command, params)\n\u001b[1;32m    434\u001b[0m \u001b[38;5;28;01mif\u001b[39;00m response:\n\u001b[0;32m--> 435\u001b[0m     \u001b[38;5;28;43mself\u001b[39;49m\u001b[38;5;241;43m.\u001b[39;49m\u001b[43merror_handler\u001b[49m\u001b[38;5;241;43m.\u001b[39;49m\u001b[43mcheck_response\u001b[49m\u001b[43m(\u001b[49m\u001b[43mresponse\u001b[49m\u001b[43m)\u001b[49m\n\u001b[1;32m    436\u001b[0m     response[\u001b[38;5;124m'\u001b[39m\u001b[38;5;124mvalue\u001b[39m\u001b[38;5;124m'\u001b[39m] \u001b[38;5;241m=\u001b[39m \u001b[38;5;28mself\u001b[39m\u001b[38;5;241m.\u001b[39m_unwrap_value(\n\u001b[1;32m    437\u001b[0m         response\u001b[38;5;241m.\u001b[39mget(\u001b[38;5;124m'\u001b[39m\u001b[38;5;124mvalue\u001b[39m\u001b[38;5;124m'\u001b[39m, \u001b[38;5;28;01mNone\u001b[39;00m))\n\u001b[1;32m    438\u001b[0m     \u001b[38;5;28;01mreturn\u001b[39;00m response\n",
      "File \u001b[0;32m~/anaconda3/envs/scrapers/lib/python3.10/site-packages/selenium/webdriver/remote/errorhandler.py:247\u001b[0m, in \u001b[0;36mErrorHandler.check_response\u001b[0;34m(self, response)\u001b[0m\n\u001b[1;32m    245\u001b[0m         alert_text \u001b[38;5;241m=\u001b[39m value[\u001b[38;5;124m'\u001b[39m\u001b[38;5;124malert\u001b[39m\u001b[38;5;124m'\u001b[39m]\u001b[38;5;241m.\u001b[39mget(\u001b[38;5;124m'\u001b[39m\u001b[38;5;124mtext\u001b[39m\u001b[38;5;124m'\u001b[39m)\n\u001b[1;32m    246\u001b[0m     \u001b[38;5;28;01mraise\u001b[39;00m exception_class(message, screen, stacktrace, alert_text)  \u001b[38;5;66;03m# type: ignore[call-arg]  # mypy is not smart enough here\u001b[39;00m\n\u001b[0;32m--> 247\u001b[0m \u001b[38;5;28;01mraise\u001b[39;00m exception_class(message, screen, stacktrace)\n",
      "\u001b[0;31mNoSuchElementException\u001b[0m: Message: no such element: Unable to locate element: {\"method\":\"xpath\",\"selector\":\"//iframe\"}\n  (Session info: chrome=103.0.5060.114)\nStacktrace:\n#0 0x55d696e7fcd3 <unknown>\n#1 0x55d696c87968 <unknown>\n#2 0x55d696cbefd7 <unknown>\n#3 0x55d696cbf1a1 <unknown>\n#4 0x55d696cf2154 <unknown>\n#5 0x55d696cdcbdd <unknown>\n#6 0x55d696cefea8 <unknown>\n#7 0x55d696cdcaa3 <unknown>\n#8 0x55d696cb23fa <unknown>\n#9 0x55d696cb3555 <unknown>\n#10 0x55d696ec72bd <unknown>\n#11 0x55d696ecb418 <unknown>\n#12 0x55d696eb136e <unknown>\n#13 0x55d696ecc078 <unknown>\n#14 0x55d696ea5bb0 <unknown>\n#15 0x55d696ee8d58 <unknown>\n#16 0x55d696ee8ed8 <unknown>\n#17 0x55d696f02cfd <unknown>\n#18 0x7fe00dee9609 <unknown>\n"
     ]
    }
   ],
   "source": [
    "browser = webdriver.Chrome(service=Service(ChromeDriverManager().install()))\n",
    "browser.get(\"http://rivertownecountryclub.com/-online-tee-times\")\n",
    "# switch to iframe where all the info is displayed\n",
    "find_i=browser.find_element(by=By.XPATH, value='//iframe')\n",
    "WebDriverWait(browser,10).until(EC.frame_to_be_available_and_switch_to_it((find_i)))"
   ]
  },
  {
   "cell_type": "markdown",
   "id": "33172d4c",
   "metadata": {},
   "source": [
    "## Add User Input"
   ]
  },
  {
   "cell_type": "code",
   "execution_count": 72,
   "id": "e1599cb2",
   "metadata": {},
   "outputs": [],
   "source": [
    "Desired_date='09-11-2022'\n",
    "Desired_time='12:40 PM'\n",
    "Desired_players=4\n",
    "Number_of_Ttimes=2"
   ]
  },
  {
   "cell_type": "code",
   "execution_count": 83,
   "id": "acd13a4a",
   "metadata": {},
   "outputs": [],
   "source": [
    "# Create example User Data\n",
    "from datetime import datetime\n",
    "import time\n",
    "f_name = 'Mike'\n",
    "l_name = 'Bee'\n",
    "email = 'mike@bee.com'\n",
    "phone = '843-255-2656'\n",
    "cc_num = '4266902068554848'\n",
    "# Don't pad exp mon\n",
    "Exp_mon = '4'\n",
    "Exp_yr = '2024'\n",
    "## Credit card options \n",
    "Visa='Visa'\n",
    "Master='Master Card'\n",
    "Discover='Discover'\n",
    "Amex='American Express'"
   ]
  },
  {
   "cell_type": "markdown",
   "id": "473b85ad",
   "metadata": {},
   "source": [
    "# Get All times for 7 day period and match criteria"
   ]
  },
  {
   "cell_type": "code",
   "execution_count": 74,
   "id": "d014f4e2",
   "metadata": {},
   "outputs": [],
   "source": [
    "# Loops through each day, grabs the table, adds the book url and tab location to df\n",
    "# saves it to dictionray of key=date, value=df\n",
    "import time\n",
    "rivtown ={}\n",
    "for d in range(7):\n",
    "    day='daytab'+str(d)\n",
    "    tab=browser.find_element(by=By.ID,value=day)\n",
    "    tab.click()\n",
    "    time.sleep(15)\n",
    "    try:\n",
    "        date=get_river_date(browser)\n",
    "        df=get_rvdataframe(browser,date)\n",
    "        df['Tab'] = day\n",
    "        rivtown[date] = df\n",
    "    except:\n",
    "        print(\"No info for \"+ day)\n",
    "#     WebDriverWait(tab,10).click\n"
   ]
  },
  {
   "cell_type": "markdown",
   "id": "560dd9a5",
   "metadata": {},
   "source": [
    "# Find criteria matches"
   ]
  },
  {
   "cell_type": "code",
   "execution_count": 75,
   "id": "d1ae4f33",
   "metadata": {},
   "outputs": [],
   "source": [
    "# filter based on input \n",
    "avail=rv_availbility(rivtown,Desired_date,Desired_time,Desired_players,Number_of_Ttimes)"
   ]
  },
  {
   "cell_type": "markdown",
   "id": "055f14f1",
   "metadata": {},
   "source": [
    "# Book criteria matched"
   ]
  },
  {
   "cell_type": "code",
   "execution_count": 76,
   "id": "5572ae9e",
   "metadata": {},
   "outputs": [
    {
     "name": "stdout",
     "output_type": "stream",
     "text": [
      "daytab6\n",
      "daytab6\n"
     ]
    }
   ],
   "source": [
    "for i,a in avail.iterrows():\n",
    "    book_tab=browser.find_element(by=By.ID,value=a['Tab'])\n",
    "    # This has to be set after the tab click or it gets stale. \n",
    "#     booklink=browser.find_element(by=By.XPATH, value=a['BookLink'])"
   ]
  },
  {
   "cell_type": "code",
   "execution_count": 77,
   "id": "4940efcd",
   "metadata": {},
   "outputs": [],
   "source": [
    "book_tab.click()\n",
    "time.sleep(25)\n",
    "booklink=browser.find_element(by=By.XPATH, value=a['BookLink'])\n",
    "booklink.click()"
   ]
  },
  {
   "cell_type": "code",
   "execution_count": 78,
   "id": "26639e5d",
   "metadata": {},
   "outputs": [],
   "source": [
    "# //*[@id=\"tee_time_table_container\"]/table/tbody/tr[12]/td[5]/div/a/img"
   ]
  },
  {
   "cell_type": "code",
   "execution_count": 79,
   "id": "a331913c",
   "metadata": {},
   "outputs": [],
   "source": [
    "# booklink.click()"
   ]
  },
  {
   "cell_type": "markdown",
   "id": "f58139ad",
   "metadata": {},
   "source": [
    "## Check out"
   ]
  },
  {
   "cell_type": "code",
   "execution_count": 80,
   "id": "87634dbe",
   "metadata": {},
   "outputs": [],
   "source": [
    "ck_val='//*[@id=\"bookinginfo\"]/div[2]/form/input[8]'\n",
    "ck_out=browser.find_element(by=By.XPATH, value=ck_val)\n",
    "# This will open a new window\n",
    "ck_out.click()"
   ]
  },
  {
   "cell_type": "code",
   "execution_count": null,
   "id": "d92ab694",
   "metadata": {},
   "outputs": [],
   "source": [
    "\n"
   ]
  },
  {
   "cell_type": "code",
   "execution_count": 81,
   "id": "1ef446b2",
   "metadata": {},
   "outputs": [],
   "source": [
    "# Find form window\n",
    "original_window = browser.current_window_handle\n",
    "for window_handle in browser.window_handles:\n",
    "    if window_handle != original_window:\n",
    "        browser.switch_to.window(window_handle)"
   ]
  },
  {
   "cell_type": "code",
   "execution_count": 82,
   "id": "4719aff7",
   "metadata": {},
   "outputs": [],
   "source": [
    "fname = browser.find_element(by=By.XPATH, value='/html/body/center/div[1]/form/div[2]/table/tbody/tr[1]/td[2]/input')\n",
    "lname = browser.find_element(by=By.XPATH, value='//*[@id=\"lname\"]')\n",
    "tel = browser.find_element(by=By.XPATH, value='//*[@id=\"phone\"]')\n",
    "mail = browser.find_element(by=By.XPATH, value='//*[@id=\"email\"]')\n",
    "card_num = browser.find_element(by=By.XPATH, value='//*[@id=\"main\"]/form/div[3]/p[3]/input')"
   ]
  },
  {
   "cell_type": "code",
   "execution_count": 84,
   "id": "a6b15bac",
   "metadata": {},
   "outputs": [],
   "source": [
    "# Send Values to Form \n",
    "fname.send_keys(f_name)\n",
    "lname.send_keys(l_name)\n",
    "tel.send_keys(phone)\n",
    "mail.send_keys(email)\n",
    "card_num.send_keys(cc_num)"
   ]
  },
  {
   "cell_type": "code",
   "execution_count": 85,
   "id": "b5e8a177",
   "metadata": {},
   "outputs": [],
   "source": [
    "# Select Credit card type\n",
    "cc_sel=browser.find_element(by=By.XPATH, value='//*[@id=\"main\"]/form/div[3]/p[2]/select')\n",
    "cc_sel.send_keys(Amex)"
   ]
  },
  {
   "cell_type": "code",
   "execution_count": 86,
   "id": "f0ef7b26",
   "metadata": {},
   "outputs": [],
   "source": [
    "# Expiration \n",
    "cc_month=browser.find_element(by=By.XPATH, value='//*[@id=\"main\"]/form/div[3]/p[4]/select[1]')\n",
    "cc_year=browser.find_element(by=By.XPATH, value='//*[@id=\"main\"]/form/div[3]/p[4]/select[2]')\n",
    "cc_month.send_keys(Exp_mon)\n",
    "cc_year.send_keys(Exp_yr)"
   ]
  },
  {
   "cell_type": "code",
   "execution_count": 87,
   "id": "9d1a3e17",
   "metadata": {},
   "outputs": [],
   "source": [
    "# Cancellation policy \n",
    "accpt=browser.find_element(by=By.XPATH, value='//*[@id=\"main\"]/form/div[3]/input')\n",
    "accpt.click()"
   ]
  },
  {
   "cell_type": "code",
   "execution_count": 290,
   "id": "39974f0f",
   "metadata": {},
   "outputs": [],
   "source": [
    "# submit \n",
    "submit=browser.find_element(by=By.XPATH, value='//*[@id=\"main\"]/form/div[3]/p[6]/input')\n",
    "submit.click()"
   ]
  },
  {
   "cell_type": "code",
   "execution_count": 10,
   "id": "ff19db9b",
   "metadata": {},
   "outputs": [],
   "source": [
    "def rv_availbility(crse_dict,Desired_date,Desired_time,Desired_players,Number_of_Ttimes):\n",
    "    from datetime import datetime\n",
    "    import time\n",
    "    # convert to time objects\n",
    "    date = datetime.strptime(Desired_date, '%m-%d-%Y').date().strftime(\"%A\"+', '+\"%B\"+' '+\"%d\")\n",
    "    time = datetime.strptime(Desired_time, '%I:%M %p').time()\n",
    "    # grab df from dictionary\n",
    "    df=crse_dict[date]\n",
    "    # convert tee_time to datetime time function and save as filter col\n",
    "    df['filter']= pd.to_datetime(df['Tee_Time']).dt.time\n",
    "    # grab just the number from players col\n",
    "    df['filter2']=df['Players'].str.split(' ',expand=False).str[0]\n",
    "    # Grab all times greater than input time\n",
    "    \n",
    "    avail=df[(df['filter'] > time) & (df['filter2'] == str(Desired_players)) ]\n",
    "    # grab the number of available times \n",
    "    avail_final=avail[:Number_of_Ttimes]\n",
    "    return avail_final\n"
   ]
  },
  {
   "cell_type": "code",
   "execution_count": 54,
   "id": "472a9fee",
   "metadata": {},
   "outputs": [],
   "source": [
    "# Add long wait\n",
    "def get_river_time(browser):\n",
    "    dt_val='//*[@id=\"tee_time_table_container\"]/table/tbody/tr[1]/td[1]'\n",
    "    date=browser.find_element(by=By.XPATH,value=dt_val).text\n",
    "    date=date.split('\\n')[1]\n",
    "    return time\n",
    "    \n",
    "def get_river_date(browser):\n",
    "    # Get Date\n",
    "#     tbl_val='//*[@id=\"tee_time_table_container\"]/table'\n",
    "#     date=browser.find_element(by=By.XPATH,value=tbl_val)\n",
    "#     dt_val='//*[@id=\"tee_time_table_container\"]/table/tbody/tr[1]/td[1]/span'\n",
    "    dt_val='//*[@id=\"tee_time_table_container\"]/table/tbody/tr[1]/td[1]'\n",
    "    date=browser.find_element(by=By.XPATH,value=dt_val).text\n",
    "    date=date.split('\\n')[0]\n",
    "    return date\n",
    "\n",
    "def get_rvdataframe(browser,date):\n",
    "    from selenium.webdriver.common.by import By\n",
    "    import pandas as pd\n",
    "    \n",
    "    def add_rvbook_url(row):\n",
    "        bk_id=row.name+1\n",
    "        rvb_url='//*[@id=\"tee_time_table_container\"]/table/tbody/tr['+str(bk_id)+']/td[5]/div/a/img'\n",
    "        return rvb_url\n",
    "    # Get Table\n",
    "    tbl_val='//*[@id=\"tee_time_table_container\"]/table'\n",
    "    tbl=browser.find_element(by=By.XPATH,value=tbl_val)\n",
    "    tee_html=pd.read_html(tbl.get_attribute('outerHTML'))\n",
    "    tee_tble=tee_html[0]\n",
    "\n",
    "    # Drop blank\n",
    "    tee_tble=tee_tble.dropna(how='all').copy()\n",
    "    # Split date and time into seperate columns\n",
    "    tee_tble[['delete','Tee_Time']]=tee_tble['Tee Time'].str.split(date,expand=True)\n",
    "    tee_tble['Tee_Date']= date\n",
    "    tee_tble['18 Holes']=tee_tble['18 Holes'][1].split('18 Holes',1)[0]\n",
    "    tee_tble['Local Rates']=tee_tble['Local Rates'][1].split('Local Rates',1)[0]\n",
    "    # Select new columns and reset index \n",
    "    tee_tble=tee_tble[['Tee_Date','Tee_Time','Course','Players','18 Holes','Local Rates']]\n",
    "    tee_tble=tee_tble.reset_index(drop=True)\n",
    "    \n",
    "    tee_tble['BookLink'] = tee_tble.apply(lambda row: add_rvbook_url(row), axis=1)\n",
    "    return tee_tble\n",
    "\n",
    "def add_rvbook_url(row):\n",
    "    bk_id=row.name+1\n",
    "#     b_url='//*[@id=\"tee_time_table_container\"]/table/tbody/tr['+str(bk_id)+']/td[4]/div/div[2]/a/img'\n",
    "    rvb_url='//*[@id=\"tee_time_table_container\"]/table/tbody/tr['+str(bk_id)+']/td[5]/div/a/img'\n",
    "    return rvb_url\n",
    "\n"
   ]
  },
  {
   "cell_type": "code",
   "execution_count": 12,
   "id": "676f87d8",
   "metadata": {},
   "outputs": [],
   "source": [
    "def River_towne():\n",
    "    browser = webdriver.Chrome(service=Service(ChromeDriverManager().install()))\n",
    "    browser.get(\"http://rivertownecountryclub.com/-online-tee-times\")\n",
    "    # switch to iframe where all the info is displayed\n",
    "    find_i=browser.find_element(by=By.XPATH, value='//iframe')\n",
    "    WebDriverWait(browser,10).until(EC.frame_to_be_available_and_switch_to_it((find_i)))\n",
    "\n",
    "def golf_day(rownum):\n",
    "    # Tee Time \n",
    "    time_val = '//*[@id=\"tee_time_table_container\"]/table/tbody/tr['+str(rownum)+']/td[1]/a'\n",
    "    time=browser.find_element(by=By.XPATH, value=time_val)\n",
    "    tee_time=str(time.get_attribute('outerHTML').split('>')[1].split('<')[0])\n",
    "    # Date \n",
    "    date=str(time.get_attribute('onclick').split(',')[0].split('(')[1].strip(\"'\"))\n",
    "    hour=str(time.get_attribute('onclick').split(',')[2])\n",
    "    minute=str(time.get_attribute('onclick').split(',')[3])\n",
    "    # Course \n",
    "    crs_val='//*[@id=\"tee_time_table_container\"]/table/tbody/tr['+str(rownum)+']/td[2]/span'\n",
    "    course=browser.find_element(by=By.XPATH,value=crs_val).text\n",
    "    # Players\n",
    "    play_val='//*[@id=\"tee_time_table_container\"]/table/tbody/tr['+str(rownum)+']/td[3]/span'\n",
    "    players=browser.find_element(by=By.XPATH,value=play_val).text\n",
    "    # Price \n",
    "    price_val='//*[@id=\"tee_time_table_container\"]/table/tbody/tr['+str(rownum)+']/td[4]/div/div[1]/span'\n",
    "    price=browser.find_element(by=By.XPATH,value=price_val).text\n",
    "    \n",
    "    day_row = [date,tee_time,course,players,price]\n",
    "    return day_row"
   ]
  },
  {
   "cell_type": "code",
   "execution_count": null,
   "id": "f50f6a90",
   "metadata": {},
   "outputs": [],
   "source": []
  },
  {
   "cell_type": "code",
   "execution_count": null,
   "id": "cb2d8228",
   "metadata": {},
   "outputs": [],
   "source": []
  },
  {
   "cell_type": "code",
   "execution_count": 338,
   "id": "5510d744",
   "metadata": {},
   "outputs": [],
   "source": []
  },
  {
   "cell_type": "code",
   "execution_count": 20,
   "id": "475625a0",
   "metadata": {},
   "outputs": [],
   "source": [
    "def find_all_iframes(driver):\n",
    "    iframes = driver.find_element(by=By.XPATH, value=\"//iframe\")\n",
    "    for index, iframe in enumerate(iframes):\n",
    "        # Your sweet business logic applied to iframe goes here.\n",
    "        driver.switch_to.frame(index)\n",
    "        find_all_iframes(driver)\n",
    "        driver.switch_to.parent_frame()"
   ]
  },
  {
   "cell_type": "code",
   "execution_count": null,
   "id": "b7adbb41",
   "metadata": {},
   "outputs": [],
   "source": []
  },
  {
   "cell_type": "code",
   "execution_count": null,
   "id": "1e12dad3",
   "metadata": {},
   "outputs": [],
   "source": []
  },
  {
   "cell_type": "markdown",
   "id": "5a66f482",
   "metadata": {},
   "source": [
    "# Refactoring"
   ]
  },
  {
   "cell_type": "markdown",
   "id": "90ff7a92",
   "metadata": {},
   "source": [
    "## Fix time "
   ]
  },
  {
   "cell_type": "code",
   "execution_count": 47,
   "id": "98bc42d2",
   "metadata": {},
   "outputs": [],
   "source": [
    "day='daytab2'\n",
    "tab=browser.find_element(by=By.ID,value=day)\n",
    "tab.click()"
   ]
  },
  {
   "cell_type": "code",
   "execution_count": 49,
   "id": "57c449c8",
   "metadata": {},
   "outputs": [
    {
     "data": {
      "text/plain": [
       "'Wednesday, September 7'"
      ]
     },
     "execution_count": 49,
     "metadata": {},
     "output_type": "execute_result"
    }
   ],
   "source": [
    "date=get_river_date(browser)\n",
    "date\n",
    "# df=get_rvdataframe(browser,date)\n",
    "# df['Tab'] = day\n",
    "# rivtown[date] = df"
   ]
  },
  {
   "cell_type": "code",
   "execution_count": 53,
   "id": "3fa28585",
   "metadata": {},
   "outputs": [
    {
     "data": {
      "text/html": [
       "<div>\n",
       "<style scoped>\n",
       "    .dataframe tbody tr th:only-of-type {\n",
       "        vertical-align: middle;\n",
       "    }\n",
       "\n",
       "    .dataframe tbody tr th {\n",
       "        vertical-align: top;\n",
       "    }\n",
       "\n",
       "    .dataframe thead th {\n",
       "        text-align: right;\n",
       "    }\n",
       "</style>\n",
       "<table border=\"1\" class=\"dataframe\">\n",
       "  <thead>\n",
       "    <tr style=\"text-align: right;\">\n",
       "      <th></th>\n",
       "      <th>Tee_Date</th>\n",
       "      <th>Tee_Time</th>\n",
       "      <th>Course</th>\n",
       "      <th>Players</th>\n",
       "      <th>18 Holes</th>\n",
       "      <th>Local Rates</th>\n",
       "    </tr>\n",
       "  </thead>\n",
       "  <tbody>\n",
       "    <tr>\n",
       "      <th>0</th>\n",
       "      <td>Wednesday, September 7</td>\n",
       "      <td>9:20 AM</td>\n",
       "      <td>RiverTowne Country Club</td>\n",
       "      <td>4 players</td>\n",
       "      <td>$99</td>\n",
       "      <td>$84</td>\n",
       "    </tr>\n",
       "    <tr>\n",
       "      <th>1</th>\n",
       "      <td>Wednesday, September 7</td>\n",
       "      <td>10:30 AM</td>\n",
       "      <td>RiverTowne Country Club</td>\n",
       "      <td>1 players</td>\n",
       "      <td>$99</td>\n",
       "      <td>$84</td>\n",
       "    </tr>\n",
       "    <tr>\n",
       "      <th>2</th>\n",
       "      <td>Wednesday, September 7</td>\n",
       "      <td>10:40 AM</td>\n",
       "      <td>RiverTowne Country Club</td>\n",
       "      <td>4 players</td>\n",
       "      <td>$99</td>\n",
       "      <td>$84</td>\n",
       "    </tr>\n",
       "    <tr>\n",
       "      <th>3</th>\n",
       "      <td>Wednesday, September 7</td>\n",
       "      <td>10:50 AM</td>\n",
       "      <td>RiverTowne Country Club</td>\n",
       "      <td>4 players</td>\n",
       "      <td>$99</td>\n",
       "      <td>$84</td>\n",
       "    </tr>\n",
       "    <tr>\n",
       "      <th>4</th>\n",
       "      <td>Wednesday, September 7</td>\n",
       "      <td>11:00 AM</td>\n",
       "      <td>RiverTowne Country Club</td>\n",
       "      <td>4 players</td>\n",
       "      <td>$99</td>\n",
       "      <td>$84</td>\n",
       "    </tr>\n",
       "    <tr>\n",
       "      <th>5</th>\n",
       "      <td>Wednesday, September 7</td>\n",
       "      <td>11:10 AM</td>\n",
       "      <td>RiverTowne Country Club</td>\n",
       "      <td>4 players</td>\n",
       "      <td>$99</td>\n",
       "      <td>$84</td>\n",
       "    </tr>\n",
       "    <tr>\n",
       "      <th>6</th>\n",
       "      <td>Wednesday, September 7</td>\n",
       "      <td>11:20 AM</td>\n",
       "      <td>RiverTowne Country Club</td>\n",
       "      <td>4 players</td>\n",
       "      <td>$99</td>\n",
       "      <td>$84</td>\n",
       "    </tr>\n",
       "    <tr>\n",
       "      <th>7</th>\n",
       "      <td>Wednesday, September 7</td>\n",
       "      <td>11:30 AM</td>\n",
       "      <td>RiverTowne Country Club</td>\n",
       "      <td>4 players</td>\n",
       "      <td>$99</td>\n",
       "      <td>$84</td>\n",
       "    </tr>\n",
       "    <tr>\n",
       "      <th>8</th>\n",
       "      <td>Wednesday, September 7</td>\n",
       "      <td>11:40 AM</td>\n",
       "      <td>RiverTowne Country Club</td>\n",
       "      <td>4 players</td>\n",
       "      <td>$99</td>\n",
       "      <td>$84</td>\n",
       "    </tr>\n",
       "    <tr>\n",
       "      <th>9</th>\n",
       "      <td>Wednesday, September 7</td>\n",
       "      <td>11:50 AM</td>\n",
       "      <td>RiverTowne Country Club</td>\n",
       "      <td>4 players</td>\n",
       "      <td>$99</td>\n",
       "      <td>$84</td>\n",
       "    </tr>\n",
       "    <tr>\n",
       "      <th>10</th>\n",
       "      <td>Wednesday, September 7</td>\n",
       "      <td>12:00 PM</td>\n",
       "      <td>RiverTowne Country Club</td>\n",
       "      <td>4 players</td>\n",
       "      <td>$99</td>\n",
       "      <td>$84</td>\n",
       "    </tr>\n",
       "    <tr>\n",
       "      <th>11</th>\n",
       "      <td>Wednesday, September 7</td>\n",
       "      <td>12:10 PM</td>\n",
       "      <td>RiverTowne Country Club</td>\n",
       "      <td>4 players</td>\n",
       "      <td>$99</td>\n",
       "      <td>$84</td>\n",
       "    </tr>\n",
       "    <tr>\n",
       "      <th>12</th>\n",
       "      <td>Wednesday, September 7</td>\n",
       "      <td>12:30 PM</td>\n",
       "      <td>RiverTowne Country Club</td>\n",
       "      <td>4 players</td>\n",
       "      <td>$99</td>\n",
       "      <td>$84</td>\n",
       "    </tr>\n",
       "    <tr>\n",
       "      <th>13</th>\n",
       "      <td>Wednesday, September 7</td>\n",
       "      <td>1:30 PM</td>\n",
       "      <td>RiverTowne Country Club</td>\n",
       "      <td>4 players</td>\n",
       "      <td>$99</td>\n",
       "      <td>$84</td>\n",
       "    </tr>\n",
       "    <tr>\n",
       "      <th>14</th>\n",
       "      <td>Wednesday, September 7</td>\n",
       "      <td>1:40 PM</td>\n",
       "      <td>RiverTowne Country Club</td>\n",
       "      <td>4 players</td>\n",
       "      <td>$99</td>\n",
       "      <td>$84</td>\n",
       "    </tr>\n",
       "    <tr>\n",
       "      <th>15</th>\n",
       "      <td>Wednesday, September 7</td>\n",
       "      <td>1:50 PM</td>\n",
       "      <td>RiverTowne Country Club</td>\n",
       "      <td>4 players</td>\n",
       "      <td>$99</td>\n",
       "      <td>$84</td>\n",
       "    </tr>\n",
       "    <tr>\n",
       "      <th>16</th>\n",
       "      <td>Wednesday, September 7</td>\n",
       "      <td>2:00 PM</td>\n",
       "      <td>RiverTowne Country Club</td>\n",
       "      <td>4 players</td>\n",
       "      <td>$99</td>\n",
       "      <td>$84</td>\n",
       "    </tr>\n",
       "    <tr>\n",
       "      <th>17</th>\n",
       "      <td>Wednesday, September 7</td>\n",
       "      <td>2:10 PM</td>\n",
       "      <td>RiverTowne Country Club</td>\n",
       "      <td>4 players</td>\n",
       "      <td>$99</td>\n",
       "      <td>$84</td>\n",
       "    </tr>\n",
       "    <tr>\n",
       "      <th>18</th>\n",
       "      <td>Wednesday, September 7</td>\n",
       "      <td>2:20 PM</td>\n",
       "      <td>RiverTowne Country Club</td>\n",
       "      <td>4 players</td>\n",
       "      <td>$99</td>\n",
       "      <td>$84</td>\n",
       "    </tr>\n",
       "    <tr>\n",
       "      <th>19</th>\n",
       "      <td>Wednesday, September 7</td>\n",
       "      <td>2:30 PM</td>\n",
       "      <td>RiverTowne Country Club</td>\n",
       "      <td>4 players</td>\n",
       "      <td>$99</td>\n",
       "      <td>$84</td>\n",
       "    </tr>\n",
       "    <tr>\n",
       "      <th>20</th>\n",
       "      <td>Wednesday, September 7</td>\n",
       "      <td>2:40 PM</td>\n",
       "      <td>RiverTowne Country Club</td>\n",
       "      <td>4 players</td>\n",
       "      <td>$99</td>\n",
       "      <td>$84</td>\n",
       "    </tr>\n",
       "    <tr>\n",
       "      <th>21</th>\n",
       "      <td>Wednesday, September 7</td>\n",
       "      <td>2:50 PM</td>\n",
       "      <td>RiverTowne Country Club</td>\n",
       "      <td>4 players</td>\n",
       "      <td>$99</td>\n",
       "      <td>$84</td>\n",
       "    </tr>\n",
       "    <tr>\n",
       "      <th>22</th>\n",
       "      <td>Wednesday, September 7</td>\n",
       "      <td>3:00 PM</td>\n",
       "      <td>RiverTowne Country Club</td>\n",
       "      <td>4 players</td>\n",
       "      <td>$99</td>\n",
       "      <td>$84</td>\n",
       "    </tr>\n",
       "    <tr>\n",
       "      <th>23</th>\n",
       "      <td>Wednesday, September 7</td>\n",
       "      <td>3:10 PM</td>\n",
       "      <td>RiverTowne Country Club</td>\n",
       "      <td>4 players</td>\n",
       "      <td>$99</td>\n",
       "      <td>$84</td>\n",
       "    </tr>\n",
       "    <tr>\n",
       "      <th>24</th>\n",
       "      <td>Wednesday, September 7</td>\n",
       "      <td>3:20 PM</td>\n",
       "      <td>RiverTowne Country Club</td>\n",
       "      <td>4 players</td>\n",
       "      <td>$99</td>\n",
       "      <td>$84</td>\n",
       "    </tr>\n",
       "  </tbody>\n",
       "</table>\n",
       "</div>"
      ],
      "text/plain": [
       "                  Tee_Date  Tee_Time                   Course    Players  \\\n",
       "0   Wednesday, September 7   9:20 AM  RiverTowne Country Club  4 players   \n",
       "1   Wednesday, September 7  10:30 AM  RiverTowne Country Club  1 players   \n",
       "2   Wednesday, September 7  10:40 AM  RiverTowne Country Club  4 players   \n",
       "3   Wednesday, September 7  10:50 AM  RiverTowne Country Club  4 players   \n",
       "4   Wednesday, September 7  11:00 AM  RiverTowne Country Club  4 players   \n",
       "5   Wednesday, September 7  11:10 AM  RiverTowne Country Club  4 players   \n",
       "6   Wednesday, September 7  11:20 AM  RiverTowne Country Club  4 players   \n",
       "7   Wednesday, September 7  11:30 AM  RiverTowne Country Club  4 players   \n",
       "8   Wednesday, September 7  11:40 AM  RiverTowne Country Club  4 players   \n",
       "9   Wednesday, September 7  11:50 AM  RiverTowne Country Club  4 players   \n",
       "10  Wednesday, September 7  12:00 PM  RiverTowne Country Club  4 players   \n",
       "11  Wednesday, September 7  12:10 PM  RiverTowne Country Club  4 players   \n",
       "12  Wednesday, September 7  12:30 PM  RiverTowne Country Club  4 players   \n",
       "13  Wednesday, September 7   1:30 PM  RiverTowne Country Club  4 players   \n",
       "14  Wednesday, September 7   1:40 PM  RiverTowne Country Club  4 players   \n",
       "15  Wednesday, September 7   1:50 PM  RiverTowne Country Club  4 players   \n",
       "16  Wednesday, September 7   2:00 PM  RiverTowne Country Club  4 players   \n",
       "17  Wednesday, September 7   2:10 PM  RiverTowne Country Club  4 players   \n",
       "18  Wednesday, September 7   2:20 PM  RiverTowne Country Club  4 players   \n",
       "19  Wednesday, September 7   2:30 PM  RiverTowne Country Club  4 players   \n",
       "20  Wednesday, September 7   2:40 PM  RiverTowne Country Club  4 players   \n",
       "21  Wednesday, September 7   2:50 PM  RiverTowne Country Club  4 players   \n",
       "22  Wednesday, September 7   3:00 PM  RiverTowne Country Club  4 players   \n",
       "23  Wednesday, September 7   3:10 PM  RiverTowne Country Club  4 players   \n",
       "24  Wednesday, September 7   3:20 PM  RiverTowne Country Club  4 players   \n",
       "\n",
       "   18 Holes Local Rates  \n",
       "0       $99         $84  \n",
       "1       $99         $84  \n",
       "2       $99         $84  \n",
       "3       $99         $84  \n",
       "4       $99         $84  \n",
       "5       $99         $84  \n",
       "6       $99         $84  \n",
       "7       $99         $84  \n",
       "8       $99         $84  \n",
       "9       $99         $84  \n",
       "10      $99         $84  \n",
       "11      $99         $84  \n",
       "12      $99         $84  \n",
       "13      $99         $84  \n",
       "14      $99         $84  \n",
       "15      $99         $84  \n",
       "16      $99         $84  \n",
       "17      $99         $84  \n",
       "18      $99         $84  \n",
       "19      $99         $84  \n",
       "20      $99         $84  \n",
       "21      $99         $84  \n",
       "22      $99         $84  \n",
       "23      $99         $84  \n",
       "24      $99         $84  "
      ]
     },
     "execution_count": 53,
     "metadata": {},
     "output_type": "execute_result"
    }
   ],
   "source": [
    "# Get Table\n",
    "tbl_val='//*[@id=\"tee_time_table_container\"]/table'\n",
    "tbl=browser.find_element(by=By.XPATH,value=tbl_val)\n",
    "tee_html=pd.read_html(tbl.get_attribute('outerHTML'))\n",
    "tee_tble=tee_html[0]\n",
    "\n",
    "# Split date and time into seperate columns\n",
    "tee_tble[['delete','Tee_Time']]=tee_tble['Tee Time'].str.split(date,expand=True)\n",
    "tee_tble['Tee_Date']= date\n",
    "tee_tble['18 Holes']=tee_tble['18 Holes'][1].split('18 Holes',1)[0]\n",
    "tee_tble['Local Rates']=tee_tble['Local Rates'][1].split('Local Rates',1)[0]\n",
    "# Select new columns and reset index \n",
    "tee_tble=tee_tble[['Tee_Date','Tee_Time','Course','Players','18 Holes','Local Rates']]\n",
    "tee_tble=tee_tble.reset_index(drop=True)\n",
    "tee_tble\n"
   ]
  },
  {
   "cell_type": "code",
   "execution_count": 47,
   "id": "c57e852d",
   "metadata": {},
   "outputs": [],
   "source": [
    "def get_dataframe(browser,date):\n",
    "    from selenium.webdriver.common.by import By\n",
    "    import pandas as pd\n",
    "    \n",
    "    def add_book_url(row):\n",
    "        bk_id=row.name+1\n",
    "        b_url='//*[@id=\"tee_time_table_container\"]/table/tbody/tr['+str(bk_id)+']/td[4]/div/div[2]/a/img'\n",
    "        return b_url\n",
    "    # Get Table\n",
    "    tbl_val='//*[@id=\"tee_time_table_container\"]/table'\n",
    "    tbl=browser.find_element(by=By.XPATH,value=tbl_val)\n",
    "    tee_html=pd.read_html(tbl.get_attribute('outerHTML'))\n",
    "    tee_tble=tee_html[0]\n",
    "\n",
    "    # Drop blank\n",
    "    tee_tble=tee_tble.dropna(how='all').copy()\n",
    "    # Split date and time into seperate columns\n",
    "    # unlike dunes data can be split on the new line character\n",
    "#     tee_tble[['delete','Tee_Time']]=tee_tble['Tee Time'].str.split(date,expand=True)\n",
    "    tee_tble['Tee_Date']= date.split('\\n')[0]\n",
    "    tee_tble['Tee_Time']= date.split('\\n')[1]\n",
    "    tee_tble['18 Holes']=tee_tble['18 Holes'][1].split('18 Holes',1)[0]\n",
    "    tee_tble['Local Rates']=tee_tble['Local Rates'][1].split('Local Rates',1)[0]\n",
    "    \n",
    "    \n",
    "    # Select new columns and reset index \n",
    "    tee_tble=tee_tble[['Tee_Date','Tee_Time','Course','Players','18 Holes','Local Rates']]\n",
    "    tee_tble=tee_tble.reset_index(drop=True)\n",
    "    \n",
    "    tee_tble['BookLink'] = tee_tble.apply(lambda row: add_book_url(row), axis=1)\n",
    "    return tee_tble"
   ]
  },
  {
   "cell_type": "code",
   "execution_count": 29,
   "id": "fe681a8b",
   "metadata": {},
   "outputs": [],
   "source": [
    "    tbl_val='//*[@id=\"tee_time_table_container\"]/table'\n",
    "    tbl=browser.find_element(by=By.XPATH,value=tbl_val)\n",
    "    tee_html=pd.read_html(tbl.get_attribute('outerHTML'))\n",
    "    tee_tble=tee_html[0]    \n",
    "        # Drop blank\n",
    "    tee_tble=tee_tble.dropna(how='all').copy()\n",
    "    \n"
   ]
  },
  {
   "cell_type": "code",
   "execution_count": null,
   "id": "14a4f0c1",
   "metadata": {},
   "outputs": [],
   "source": [
    "# Split date and time into seperate columns\n",
    "tee_tble[['delete','Tee_Time']]=tee_tble['Tee Time'].str.split(date,expand=True)\n",
    "tee_tble['Tee_Date']= date "
   ]
  },
  {
   "cell_type": "code",
   "execution_count": 34,
   "id": "22e66bbe",
   "metadata": {},
   "outputs": [
    {
     "data": {
      "text/plain": [
       "'10:30 AM'"
      ]
     },
     "execution_count": 34,
     "metadata": {},
     "output_type": "execute_result"
    }
   ],
   "source": [
    "date.split('\\n')[1]"
   ]
  },
  {
   "cell_type": "code",
   "execution_count": 42,
   "id": "7784efc3",
   "metadata": {},
   "outputs": [
    {
     "data": {
      "text/plain": [
       "'$99'"
      ]
     },
     "execution_count": 42,
     "metadata": {},
     "output_type": "execute_result"
    }
   ],
   "source": [
    "tee_tble['18 Holes'][1].split('18 Holes',1)[0]"
   ]
  },
  {
   "cell_type": "code",
   "execution_count": 44,
   "id": "c3461739",
   "metadata": {},
   "outputs": [
    {
     "data": {
      "text/plain": [
       "'$84'"
      ]
     },
     "execution_count": 44,
     "metadata": {},
     "output_type": "execute_result"
    }
   ],
   "source": [
    "tee_tble['Local Rates'][1].split('Local Rates',1)[0]"
   ]
  },
  {
   "cell_type": "code",
   "execution_count": 50,
   "id": "2b08b6c2",
   "metadata": {},
   "outputs": [],
   "source": [
    "#         bk_id=row.name+1\n",
    "#         b_url='//*[@id=\"tee_time_table_container\"]/table/tbody/tr['+str(bk_id)+']/td[4]/div/div[2]/a/img'\n",
    "b_url='//*[@id=\"tee_time_table_container\"]/table/tbody/tr[1]/td[5]/div/a/img'\n",
    "#         return b_url"
   ]
  },
  {
   "cell_type": "code",
   "execution_count": 56,
   "id": "b627edbb",
   "metadata": {},
   "outputs": [
    {
     "ename": "AttributeError",
     "evalue": "'WebElement' object has no attribute 'txt'",
     "output_type": "error",
     "traceback": [
      "\u001b[0;31m---------------------------------------------------------------------------\u001b[0m",
      "\u001b[0;31mAttributeError\u001b[0m                            Traceback (most recent call last)",
      "Input \u001b[0;32mIn [56]\u001b[0m, in \u001b[0;36m<cell line: 1>\u001b[0;34m()\u001b[0m\n\u001b[0;32m----> 1\u001b[0m \u001b[43mbooklink\u001b[49m\u001b[38;5;241;43m.\u001b[39;49m\u001b[43mtxt\u001b[49m\n",
      "\u001b[0;31mAttributeError\u001b[0m: 'WebElement' object has no attribute 'txt'"
     ]
    }
   ],
   "source": [
    "booklink"
   ]
  },
  {
   "cell_type": "code",
   "execution_count": 57,
   "id": "15060c8d",
   "metadata": {},
   "outputs": [
    {
     "ename": "NoSuchElementException",
     "evalue": "Message: no such element: Unable to locate element: {\"method\":\"xpath\",\"selector\":\"//*[@id=\"tee_time_table_container\"]/table/tbody/tr[1]/td[5]/div/a/img\"}\n  (Session info: chrome=103.0.5060.114)\nStacktrace:\n#0 0x55a279e2bcd3 <unknown>\n#1 0x55a279c33968 <unknown>\n#2 0x55a279c6afd7 <unknown>\n#3 0x55a279c6b1a1 <unknown>\n#4 0x55a279c9e154 <unknown>\n#5 0x55a279c88bdd <unknown>\n#6 0x55a279c9bea8 <unknown>\n#7 0x55a279c88aa3 <unknown>\n#8 0x55a279c5e3fa <unknown>\n#9 0x55a279c5f555 <unknown>\n#10 0x55a279e732bd <unknown>\n#11 0x55a279e77418 <unknown>\n#12 0x55a279e5d36e <unknown>\n#13 0x55a279e78078 <unknown>\n#14 0x55a279e51bb0 <unknown>\n#15 0x55a279e94d58 <unknown>\n#16 0x55a279e94ed8 <unknown>\n#17 0x55a279eaecfd <unknown>\n#18 0x7f709b1f8609 <unknown>\n",
     "output_type": "error",
     "traceback": [
      "\u001b[0;31m---------------------------------------------------------------------------\u001b[0m",
      "\u001b[0;31mNoSuchElementException\u001b[0m                    Traceback (most recent call last)",
      "Input \u001b[0;32mIn [57]\u001b[0m, in \u001b[0;36m<cell line: 1>\u001b[0;34m()\u001b[0m\n\u001b[0;32m----> 1\u001b[0m booklink\u001b[38;5;241m=\u001b[39m\u001b[43mbrowser\u001b[49m\u001b[38;5;241;43m.\u001b[39;49m\u001b[43mfind_element\u001b[49m\u001b[43m(\u001b[49m\u001b[43mby\u001b[49m\u001b[38;5;241;43m=\u001b[39;49m\u001b[43mBy\u001b[49m\u001b[38;5;241;43m.\u001b[39;49m\u001b[43mXPATH\u001b[49m\u001b[43m,\u001b[49m\u001b[43m \u001b[49m\u001b[43mvalue\u001b[49m\u001b[38;5;241;43m=\u001b[39;49m\u001b[43mb_url\u001b[49m\u001b[43m)\u001b[49m\n\u001b[1;32m      2\u001b[0m booklink\u001b[38;5;241m.\u001b[39mclick()\n",
      "File \u001b[0;32m~/anaconda3/envs/scrapers/lib/python3.10/site-packages/selenium/webdriver/remote/webdriver.py:857\u001b[0m, in \u001b[0;36mWebDriver.find_element\u001b[0;34m(self, by, value)\u001b[0m\n\u001b[1;32m    854\u001b[0m     by \u001b[38;5;241m=\u001b[39m By\u001b[38;5;241m.\u001b[39mCSS_SELECTOR\n\u001b[1;32m    855\u001b[0m     value \u001b[38;5;241m=\u001b[39m \u001b[38;5;124m'\u001b[39m\u001b[38;5;124m[name=\u001b[39m\u001b[38;5;124m\"\u001b[39m\u001b[38;5;132;01m%s\u001b[39;00m\u001b[38;5;124m\"\u001b[39m\u001b[38;5;124m]\u001b[39m\u001b[38;5;124m'\u001b[39m \u001b[38;5;241m%\u001b[39m value\n\u001b[0;32m--> 857\u001b[0m \u001b[38;5;28;01mreturn\u001b[39;00m \u001b[38;5;28;43mself\u001b[39;49m\u001b[38;5;241;43m.\u001b[39;49m\u001b[43mexecute\u001b[49m\u001b[43m(\u001b[49m\u001b[43mCommand\u001b[49m\u001b[38;5;241;43m.\u001b[39;49m\u001b[43mFIND_ELEMENT\u001b[49m\u001b[43m,\u001b[49m\u001b[43m \u001b[49m\u001b[43m{\u001b[49m\n\u001b[1;32m    858\u001b[0m \u001b[43m    \u001b[49m\u001b[38;5;124;43m'\u001b[39;49m\u001b[38;5;124;43musing\u001b[39;49m\u001b[38;5;124;43m'\u001b[39;49m\u001b[43m:\u001b[49m\u001b[43m \u001b[49m\u001b[43mby\u001b[49m\u001b[43m,\u001b[49m\n\u001b[1;32m    859\u001b[0m \u001b[43m    \u001b[49m\u001b[38;5;124;43m'\u001b[39;49m\u001b[38;5;124;43mvalue\u001b[39;49m\u001b[38;5;124;43m'\u001b[39;49m\u001b[43m:\u001b[49m\u001b[43m \u001b[49m\u001b[43mvalue\u001b[49m\u001b[43m}\u001b[49m\u001b[43m)\u001b[49m[\u001b[38;5;124m'\u001b[39m\u001b[38;5;124mvalue\u001b[39m\u001b[38;5;124m'\u001b[39m]\n",
      "File \u001b[0;32m~/anaconda3/envs/scrapers/lib/python3.10/site-packages/selenium/webdriver/remote/webdriver.py:435\u001b[0m, in \u001b[0;36mWebDriver.execute\u001b[0;34m(self, driver_command, params)\u001b[0m\n\u001b[1;32m    433\u001b[0m response \u001b[38;5;241m=\u001b[39m \u001b[38;5;28mself\u001b[39m\u001b[38;5;241m.\u001b[39mcommand_executor\u001b[38;5;241m.\u001b[39mexecute(driver_command, params)\n\u001b[1;32m    434\u001b[0m \u001b[38;5;28;01mif\u001b[39;00m response:\n\u001b[0;32m--> 435\u001b[0m     \u001b[38;5;28;43mself\u001b[39;49m\u001b[38;5;241;43m.\u001b[39;49m\u001b[43merror_handler\u001b[49m\u001b[38;5;241;43m.\u001b[39;49m\u001b[43mcheck_response\u001b[49m\u001b[43m(\u001b[49m\u001b[43mresponse\u001b[49m\u001b[43m)\u001b[49m\n\u001b[1;32m    436\u001b[0m     response[\u001b[38;5;124m'\u001b[39m\u001b[38;5;124mvalue\u001b[39m\u001b[38;5;124m'\u001b[39m] \u001b[38;5;241m=\u001b[39m \u001b[38;5;28mself\u001b[39m\u001b[38;5;241m.\u001b[39m_unwrap_value(\n\u001b[1;32m    437\u001b[0m         response\u001b[38;5;241m.\u001b[39mget(\u001b[38;5;124m'\u001b[39m\u001b[38;5;124mvalue\u001b[39m\u001b[38;5;124m'\u001b[39m, \u001b[38;5;28;01mNone\u001b[39;00m))\n\u001b[1;32m    438\u001b[0m     \u001b[38;5;28;01mreturn\u001b[39;00m response\n",
      "File \u001b[0;32m~/anaconda3/envs/scrapers/lib/python3.10/site-packages/selenium/webdriver/remote/errorhandler.py:247\u001b[0m, in \u001b[0;36mErrorHandler.check_response\u001b[0;34m(self, response)\u001b[0m\n\u001b[1;32m    245\u001b[0m         alert_text \u001b[38;5;241m=\u001b[39m value[\u001b[38;5;124m'\u001b[39m\u001b[38;5;124malert\u001b[39m\u001b[38;5;124m'\u001b[39m]\u001b[38;5;241m.\u001b[39mget(\u001b[38;5;124m'\u001b[39m\u001b[38;5;124mtext\u001b[39m\u001b[38;5;124m'\u001b[39m)\n\u001b[1;32m    246\u001b[0m     \u001b[38;5;28;01mraise\u001b[39;00m exception_class(message, screen, stacktrace, alert_text)  \u001b[38;5;66;03m# type: ignore[call-arg]  # mypy is not smart enough here\u001b[39;00m\n\u001b[0;32m--> 247\u001b[0m \u001b[38;5;28;01mraise\u001b[39;00m exception_class(message, screen, stacktrace)\n",
      "\u001b[0;31mNoSuchElementException\u001b[0m: Message: no such element: Unable to locate element: {\"method\":\"xpath\",\"selector\":\"//*[@id=\"tee_time_table_container\"]/table/tbody/tr[1]/td[5]/div/a/img\"}\n  (Session info: chrome=103.0.5060.114)\nStacktrace:\n#0 0x55a279e2bcd3 <unknown>\n#1 0x55a279c33968 <unknown>\n#2 0x55a279c6afd7 <unknown>\n#3 0x55a279c6b1a1 <unknown>\n#4 0x55a279c9e154 <unknown>\n#5 0x55a279c88bdd <unknown>\n#6 0x55a279c9bea8 <unknown>\n#7 0x55a279c88aa3 <unknown>\n#8 0x55a279c5e3fa <unknown>\n#9 0x55a279c5f555 <unknown>\n#10 0x55a279e732bd <unknown>\n#11 0x55a279e77418 <unknown>\n#12 0x55a279e5d36e <unknown>\n#13 0x55a279e78078 <unknown>\n#14 0x55a279e51bb0 <unknown>\n#15 0x55a279e94d58 <unknown>\n#16 0x55a279e94ed8 <unknown>\n#17 0x55a279eaecfd <unknown>\n#18 0x7f709b1f8609 <unknown>\n"
     ]
    }
   ],
   "source": [
    "booklink=browser.find_element(by=By.XPATH, value=b_url)\n",
    "booklink.click()"
   ]
  }
 ],
 "metadata": {
  "kernelspec": {
   "display_name": "Python 3 (ipykernel)",
   "language": "python",
   "name": "python3"
  },
  "language_info": {
   "codemirror_mode": {
    "name": "ipython",
    "version": 3
   },
   "file_extension": ".py",
   "mimetype": "text/x-python",
   "name": "python",
   "nbconvert_exporter": "python",
   "pygments_lexer": "ipython3",
   "version": "3.10.4"
  }
 },
 "nbformat": 4,
 "nbformat_minor": 5
}
