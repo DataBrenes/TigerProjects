{
 "cells": [
  {
   "cell_type": "code",
   "execution_count": 1,
   "id": "b860bd3a",
   "metadata": {},
   "outputs": [],
   "source": [
    "from selenium import webdriver\n",
    "from selenium.webdriver.chrome.service import Service\n",
    "from webdriver_manager.chrome import ChromeDriverManager\n",
    "from selenium.webdriver.common.by import By\n",
    "from selenium.webdriver.support.ui import WebDriverWait \n",
    "from selenium.webdriver.support import expected_conditions as EC\n",
    "import pandas as pd"
   ]
  },
  {
   "cell_type": "code",
   "execution_count": 2,
   "id": "29bf4f5d",
   "metadata": {},
   "outputs": [
    {
     "name": "stdout",
     "output_type": "stream",
     "text": [
      "\n"
     ]
    }
   ],
   "source": [
    "browser = webdriver.Chrome(service=Service(ChromeDriverManager().install()))\n",
    "browser.get(\"https://patriotspoint.ezlinksgolf.com/index.html#/search\")"
   ]
  },
  {
   "cell_type": "code",
   "execution_count": 6,
   "id": "8a6babb1",
   "metadata": {},
   "outputs": [],
   "source": [
    "# find calendar picker\n",
    "cal_link=browser.find_element(by=By.XPATH, value='//*[@id=\"sidebar\"]/ul/li[1]/div/label[1]/i')\n",
    "cal_link.click()"
   ]
  },
  {
   "cell_type": "code",
   "execution_count": 4,
   "id": "1c9f9bc8",
   "metadata": {},
   "outputs": [],
   "source": [
    "day1=browser.find_element(by=By.XPATH, value='//*[@id=\"ui-datepicker-div\"]/table/tbody/tr[2]/td[2]')\n",
    "day2=browser.find_element(by=By.XPATH, value='//*[@id=\"ui-datepicker-div\"]/table/tbody/tr[2]/td[2]')"
   ]
  },
  {
   "cell_type": "code",
   "execution_count": 7,
   "id": "a14089de",
   "metadata": {},
   "outputs": [
    {
     "ename": "StaleElementReferenceException",
     "evalue": "Message: stale element reference: element is not attached to the page document\n  (Session info: chrome=103.0.5060.114)\nStacktrace:\n#0 0x5621cbe04cd3 <unknown>\n#1 0x5621cbc0c968 <unknown>\n#2 0x5621cbc0f7c7 <unknown>\n#3 0x5621cbc0f66b <unknown>\n#4 0x5621cbc0f92c <unknown>\n#5 0x5621cbc45b8a <unknown>\n#6 0x5621cbc39086 <unknown>\n#7 0x5621cbc61bb2 <unknown>\n#8 0x5621cbc38a43 <unknown>\n#9 0x5621cbc61cbe <unknown>\n#10 0x5621cbc74ea8 <unknown>\n#11 0x5621cbc61aa3 <unknown>\n#12 0x5621cbc373fa <unknown>\n#13 0x5621cbc38555 <unknown>\n#14 0x5621cbe4c2bd <unknown>\n#15 0x5621cbe50418 <unknown>\n#16 0x5621cbe3636e <unknown>\n#17 0x5621cbe51078 <unknown>\n#18 0x5621cbe2abb0 <unknown>\n#19 0x5621cbe6dd58 <unknown>\n#20 0x5621cbe6ded8 <unknown>\n#21 0x5621cbe87cfd <unknown>\n#22 0x7f69c85cb609 <unknown>\n",
     "output_type": "error",
     "traceback": [
      "\u001b[0;31m---------------------------------------------------------------------------\u001b[0m",
      "\u001b[0;31mStaleElementReferenceException\u001b[0m            Traceback (most recent call last)",
      "Input \u001b[0;32mIn [7]\u001b[0m, in \u001b[0;36m<cell line: 1>\u001b[0;34m()\u001b[0m\n\u001b[0;32m----> 1\u001b[0m \u001b[43mday1\u001b[49m\u001b[38;5;241;43m.\u001b[39;49m\u001b[43mclick\u001b[49m\u001b[43m(\u001b[49m\u001b[43m)\u001b[49m\n",
      "File \u001b[0;32m~/anaconda3/envs/scrapers/lib/python3.10/site-packages/selenium/webdriver/remote/webelement.py:88\u001b[0m, in \u001b[0;36mWebElement.click\u001b[0;34m(self)\u001b[0m\n\u001b[1;32m     86\u001b[0m \u001b[38;5;28;01mdef\u001b[39;00m \u001b[38;5;21mclick\u001b[39m(\u001b[38;5;28mself\u001b[39m) \u001b[38;5;241m-\u001b[39m\u001b[38;5;241m>\u001b[39m \u001b[38;5;28;01mNone\u001b[39;00m:\n\u001b[1;32m     87\u001b[0m     \u001b[38;5;124;03m\"\"\"Clicks the element.\"\"\"\u001b[39;00m\n\u001b[0;32m---> 88\u001b[0m     \u001b[38;5;28;43mself\u001b[39;49m\u001b[38;5;241;43m.\u001b[39;49m\u001b[43m_execute\u001b[49m\u001b[43m(\u001b[49m\u001b[43mCommand\u001b[49m\u001b[38;5;241;43m.\u001b[39;49m\u001b[43mCLICK_ELEMENT\u001b[49m\u001b[43m)\u001b[49m\n",
      "File \u001b[0;32m~/anaconda3/envs/scrapers/lib/python3.10/site-packages/selenium/webdriver/remote/webelement.py:396\u001b[0m, in \u001b[0;36mWebElement._execute\u001b[0;34m(self, command, params)\u001b[0m\n\u001b[1;32m    394\u001b[0m     params \u001b[38;5;241m=\u001b[39m {}\n\u001b[1;32m    395\u001b[0m params[\u001b[38;5;124m'\u001b[39m\u001b[38;5;124mid\u001b[39m\u001b[38;5;124m'\u001b[39m] \u001b[38;5;241m=\u001b[39m \u001b[38;5;28mself\u001b[39m\u001b[38;5;241m.\u001b[39m_id\n\u001b[0;32m--> 396\u001b[0m \u001b[38;5;28;01mreturn\u001b[39;00m \u001b[38;5;28;43mself\u001b[39;49m\u001b[38;5;241;43m.\u001b[39;49m\u001b[43m_parent\u001b[49m\u001b[38;5;241;43m.\u001b[39;49m\u001b[43mexecute\u001b[49m\u001b[43m(\u001b[49m\u001b[43mcommand\u001b[49m\u001b[43m,\u001b[49m\u001b[43m \u001b[49m\u001b[43mparams\u001b[49m\u001b[43m)\u001b[49m\n",
      "File \u001b[0;32m~/anaconda3/envs/scrapers/lib/python3.10/site-packages/selenium/webdriver/remote/webdriver.py:435\u001b[0m, in \u001b[0;36mWebDriver.execute\u001b[0;34m(self, driver_command, params)\u001b[0m\n\u001b[1;32m    433\u001b[0m response \u001b[38;5;241m=\u001b[39m \u001b[38;5;28mself\u001b[39m\u001b[38;5;241m.\u001b[39mcommand_executor\u001b[38;5;241m.\u001b[39mexecute(driver_command, params)\n\u001b[1;32m    434\u001b[0m \u001b[38;5;28;01mif\u001b[39;00m response:\n\u001b[0;32m--> 435\u001b[0m     \u001b[38;5;28;43mself\u001b[39;49m\u001b[38;5;241;43m.\u001b[39;49m\u001b[43merror_handler\u001b[49m\u001b[38;5;241;43m.\u001b[39;49m\u001b[43mcheck_response\u001b[49m\u001b[43m(\u001b[49m\u001b[43mresponse\u001b[49m\u001b[43m)\u001b[49m\n\u001b[1;32m    436\u001b[0m     response[\u001b[38;5;124m'\u001b[39m\u001b[38;5;124mvalue\u001b[39m\u001b[38;5;124m'\u001b[39m] \u001b[38;5;241m=\u001b[39m \u001b[38;5;28mself\u001b[39m\u001b[38;5;241m.\u001b[39m_unwrap_value(\n\u001b[1;32m    437\u001b[0m         response\u001b[38;5;241m.\u001b[39mget(\u001b[38;5;124m'\u001b[39m\u001b[38;5;124mvalue\u001b[39m\u001b[38;5;124m'\u001b[39m, \u001b[38;5;28;01mNone\u001b[39;00m))\n\u001b[1;32m    438\u001b[0m     \u001b[38;5;28;01mreturn\u001b[39;00m response\n",
      "File \u001b[0;32m~/anaconda3/envs/scrapers/lib/python3.10/site-packages/selenium/webdriver/remote/errorhandler.py:247\u001b[0m, in \u001b[0;36mErrorHandler.check_response\u001b[0;34m(self, response)\u001b[0m\n\u001b[1;32m    245\u001b[0m         alert_text \u001b[38;5;241m=\u001b[39m value[\u001b[38;5;124m'\u001b[39m\u001b[38;5;124malert\u001b[39m\u001b[38;5;124m'\u001b[39m]\u001b[38;5;241m.\u001b[39mget(\u001b[38;5;124m'\u001b[39m\u001b[38;5;124mtext\u001b[39m\u001b[38;5;124m'\u001b[39m)\n\u001b[1;32m    246\u001b[0m     \u001b[38;5;28;01mraise\u001b[39;00m exception_class(message, screen, stacktrace, alert_text)  \u001b[38;5;66;03m# type: ignore[call-arg]  # mypy is not smart enough here\u001b[39;00m\n\u001b[0;32m--> 247\u001b[0m \u001b[38;5;28;01mraise\u001b[39;00m exception_class(message, screen, stacktrace)\n",
      "\u001b[0;31mStaleElementReferenceException\u001b[0m: Message: stale element reference: element is not attached to the page document\n  (Session info: chrome=103.0.5060.114)\nStacktrace:\n#0 0x5621cbe04cd3 <unknown>\n#1 0x5621cbc0c968 <unknown>\n#2 0x5621cbc0f7c7 <unknown>\n#3 0x5621cbc0f66b <unknown>\n#4 0x5621cbc0f92c <unknown>\n#5 0x5621cbc45b8a <unknown>\n#6 0x5621cbc39086 <unknown>\n#7 0x5621cbc61bb2 <unknown>\n#8 0x5621cbc38a43 <unknown>\n#9 0x5621cbc61cbe <unknown>\n#10 0x5621cbc74ea8 <unknown>\n#11 0x5621cbc61aa3 <unknown>\n#12 0x5621cbc373fa <unknown>\n#13 0x5621cbc38555 <unknown>\n#14 0x5621cbe4c2bd <unknown>\n#15 0x5621cbe50418 <unknown>\n#16 0x5621cbe3636e <unknown>\n#17 0x5621cbe51078 <unknown>\n#18 0x5621cbe2abb0 <unknown>\n#19 0x5621cbe6dd58 <unknown>\n#20 0x5621cbe6ded8 <unknown>\n#21 0x5621cbe87cfd <unknown>\n#22 0x7f69c85cb609 <unknown>\n"
     ]
    }
   ],
   "source": [
    "day1.click()"
   ]
  },
  {
   "cell_type": "code",
   "execution_count": 5,
   "id": "4890ec7e",
   "metadata": {},
   "outputs": [
    {
     "ename": "StaleElementReferenceException",
     "evalue": "Message: stale element reference: element is not attached to the page document\n  (Session info: chrome=103.0.5060.114)\nStacktrace:\n#0 0x5621cbe04cd3 <unknown>\n#1 0x5621cbc0c968 <unknown>\n#2 0x5621cbc0f7c7 <unknown>\n#3 0x5621cbc0f66b <unknown>\n#4 0x5621cbc0f92c <unknown>\n#5 0x5621cbc45b8a <unknown>\n#6 0x5621cbc39086 <unknown>\n#7 0x5621cbc61bb2 <unknown>\n#8 0x5621cbc38a43 <unknown>\n#9 0x5621cbc61cbe <unknown>\n#10 0x5621cbc74ea8 <unknown>\n#11 0x5621cbc61aa3 <unknown>\n#12 0x5621cbc373fa <unknown>\n#13 0x5621cbc38555 <unknown>\n#14 0x5621cbe4c2bd <unknown>\n#15 0x5621cbe50418 <unknown>\n#16 0x5621cbe3636e <unknown>\n#17 0x5621cbe51078 <unknown>\n#18 0x5621cbe2abb0 <unknown>\n#19 0x5621cbe6dd58 <unknown>\n#20 0x5621cbe6ded8 <unknown>\n#21 0x5621cbe87cfd <unknown>\n#22 0x7f69c85cb609 <unknown>\n",
     "output_type": "error",
     "traceback": [
      "\u001b[0;31m---------------------------------------------------------------------------\u001b[0m",
      "\u001b[0;31mStaleElementReferenceException\u001b[0m            Traceback (most recent call last)",
      "Input \u001b[0;32mIn [5]\u001b[0m, in \u001b[0;36m<cell line: 2>\u001b[0;34m()\u001b[0m\n\u001b[1;32m      1\u001b[0m cal_link\u001b[38;5;241m.\u001b[39mclick()\n\u001b[0;32m----> 2\u001b[0m \u001b[43mday2\u001b[49m\u001b[38;5;241;43m.\u001b[39;49m\u001b[43mclick\u001b[49m\u001b[43m(\u001b[49m\u001b[43m)\u001b[49m\n",
      "File \u001b[0;32m~/anaconda3/envs/scrapers/lib/python3.10/site-packages/selenium/webdriver/remote/webelement.py:88\u001b[0m, in \u001b[0;36mWebElement.click\u001b[0;34m(self)\u001b[0m\n\u001b[1;32m     86\u001b[0m \u001b[38;5;28;01mdef\u001b[39;00m \u001b[38;5;21mclick\u001b[39m(\u001b[38;5;28mself\u001b[39m) \u001b[38;5;241m-\u001b[39m\u001b[38;5;241m>\u001b[39m \u001b[38;5;28;01mNone\u001b[39;00m:\n\u001b[1;32m     87\u001b[0m     \u001b[38;5;124;03m\"\"\"Clicks the element.\"\"\"\u001b[39;00m\n\u001b[0;32m---> 88\u001b[0m     \u001b[38;5;28;43mself\u001b[39;49m\u001b[38;5;241;43m.\u001b[39;49m\u001b[43m_execute\u001b[49m\u001b[43m(\u001b[49m\u001b[43mCommand\u001b[49m\u001b[38;5;241;43m.\u001b[39;49m\u001b[43mCLICK_ELEMENT\u001b[49m\u001b[43m)\u001b[49m\n",
      "File \u001b[0;32m~/anaconda3/envs/scrapers/lib/python3.10/site-packages/selenium/webdriver/remote/webelement.py:396\u001b[0m, in \u001b[0;36mWebElement._execute\u001b[0;34m(self, command, params)\u001b[0m\n\u001b[1;32m    394\u001b[0m     params \u001b[38;5;241m=\u001b[39m {}\n\u001b[1;32m    395\u001b[0m params[\u001b[38;5;124m'\u001b[39m\u001b[38;5;124mid\u001b[39m\u001b[38;5;124m'\u001b[39m] \u001b[38;5;241m=\u001b[39m \u001b[38;5;28mself\u001b[39m\u001b[38;5;241m.\u001b[39m_id\n\u001b[0;32m--> 396\u001b[0m \u001b[38;5;28;01mreturn\u001b[39;00m \u001b[38;5;28;43mself\u001b[39;49m\u001b[38;5;241;43m.\u001b[39;49m\u001b[43m_parent\u001b[49m\u001b[38;5;241;43m.\u001b[39;49m\u001b[43mexecute\u001b[49m\u001b[43m(\u001b[49m\u001b[43mcommand\u001b[49m\u001b[43m,\u001b[49m\u001b[43m \u001b[49m\u001b[43mparams\u001b[49m\u001b[43m)\u001b[49m\n",
      "File \u001b[0;32m~/anaconda3/envs/scrapers/lib/python3.10/site-packages/selenium/webdriver/remote/webdriver.py:435\u001b[0m, in \u001b[0;36mWebDriver.execute\u001b[0;34m(self, driver_command, params)\u001b[0m\n\u001b[1;32m    433\u001b[0m response \u001b[38;5;241m=\u001b[39m \u001b[38;5;28mself\u001b[39m\u001b[38;5;241m.\u001b[39mcommand_executor\u001b[38;5;241m.\u001b[39mexecute(driver_command, params)\n\u001b[1;32m    434\u001b[0m \u001b[38;5;28;01mif\u001b[39;00m response:\n\u001b[0;32m--> 435\u001b[0m     \u001b[38;5;28;43mself\u001b[39;49m\u001b[38;5;241;43m.\u001b[39;49m\u001b[43merror_handler\u001b[49m\u001b[38;5;241;43m.\u001b[39;49m\u001b[43mcheck_response\u001b[49m\u001b[43m(\u001b[49m\u001b[43mresponse\u001b[49m\u001b[43m)\u001b[49m\n\u001b[1;32m    436\u001b[0m     response[\u001b[38;5;124m'\u001b[39m\u001b[38;5;124mvalue\u001b[39m\u001b[38;5;124m'\u001b[39m] \u001b[38;5;241m=\u001b[39m \u001b[38;5;28mself\u001b[39m\u001b[38;5;241m.\u001b[39m_unwrap_value(\n\u001b[1;32m    437\u001b[0m         response\u001b[38;5;241m.\u001b[39mget(\u001b[38;5;124m'\u001b[39m\u001b[38;5;124mvalue\u001b[39m\u001b[38;5;124m'\u001b[39m, \u001b[38;5;28;01mNone\u001b[39;00m))\n\u001b[1;32m    438\u001b[0m     \u001b[38;5;28;01mreturn\u001b[39;00m response\n",
      "File \u001b[0;32m~/anaconda3/envs/scrapers/lib/python3.10/site-packages/selenium/webdriver/remote/errorhandler.py:247\u001b[0m, in \u001b[0;36mErrorHandler.check_response\u001b[0;34m(self, response)\u001b[0m\n\u001b[1;32m    245\u001b[0m         alert_text \u001b[38;5;241m=\u001b[39m value[\u001b[38;5;124m'\u001b[39m\u001b[38;5;124malert\u001b[39m\u001b[38;5;124m'\u001b[39m]\u001b[38;5;241m.\u001b[39mget(\u001b[38;5;124m'\u001b[39m\u001b[38;5;124mtext\u001b[39m\u001b[38;5;124m'\u001b[39m)\n\u001b[1;32m    246\u001b[0m     \u001b[38;5;28;01mraise\u001b[39;00m exception_class(message, screen, stacktrace, alert_text)  \u001b[38;5;66;03m# type: ignore[call-arg]  # mypy is not smart enough here\u001b[39;00m\n\u001b[0;32m--> 247\u001b[0m \u001b[38;5;28;01mraise\u001b[39;00m exception_class(message, screen, stacktrace)\n",
      "\u001b[0;31mStaleElementReferenceException\u001b[0m: Message: stale element reference: element is not attached to the page document\n  (Session info: chrome=103.0.5060.114)\nStacktrace:\n#0 0x5621cbe04cd3 <unknown>\n#1 0x5621cbc0c968 <unknown>\n#2 0x5621cbc0f7c7 <unknown>\n#3 0x5621cbc0f66b <unknown>\n#4 0x5621cbc0f92c <unknown>\n#5 0x5621cbc45b8a <unknown>\n#6 0x5621cbc39086 <unknown>\n#7 0x5621cbc61bb2 <unknown>\n#8 0x5621cbc38a43 <unknown>\n#9 0x5621cbc61cbe <unknown>\n#10 0x5621cbc74ea8 <unknown>\n#11 0x5621cbc61aa3 <unknown>\n#12 0x5621cbc373fa <unknown>\n#13 0x5621cbc38555 <unknown>\n#14 0x5621cbe4c2bd <unknown>\n#15 0x5621cbe50418 <unknown>\n#16 0x5621cbe3636e <unknown>\n#17 0x5621cbe51078 <unknown>\n#18 0x5621cbe2abb0 <unknown>\n#19 0x5621cbe6dd58 <unknown>\n#20 0x5621cbe6ded8 <unknown>\n#21 0x5621cbe87cfd <unknown>\n#22 0x7f69c85cb609 <unknown>\n"
     ]
    }
   ],
   "source": [
    "cal_link.click()\n",
    "day2.click()"
   ]
  },
  {
   "cell_type": "code",
   "execution_count": null,
   "id": "659e9d70",
   "metadata": {},
   "outputs": [],
   "source": []
  }
 ],
 "metadata": {
  "kernelspec": {
   "display_name": "Python 3 (ipykernel)",
   "language": "python",
   "name": "python3"
  },
  "language_info": {
   "codemirror_mode": {
    "name": "ipython",
    "version": 3
   },
   "file_extension": ".py",
   "mimetype": "text/x-python",
   "name": "python",
   "nbconvert_exporter": "python",
   "pygments_lexer": "ipython3",
   "version": "3.10.4"
  }
 },
 "nbformat": 4,
 "nbformat_minor": 5
}
