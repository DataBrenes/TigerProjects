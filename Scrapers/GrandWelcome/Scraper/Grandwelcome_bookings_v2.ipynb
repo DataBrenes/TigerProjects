{
 "cells": [
  {
   "cell_type": "markdown",
   "id": "15401407",
   "metadata": {},
   "source": [
    "# TODO \n",
    "    1) Move Credentials into config  Done\n",
    "    2) Break out all the modules Done\n",
    "    3) Configure for selenium Done\n",
    "    4) Deploy to pi Done\n",
    "    #####\n",
    "    5) add Last booked and booking chart"
   ]
  },
  {
   "cell_type": "code",
   "execution_count": 1,
   "id": "05058bcb",
   "metadata": {},
   "outputs": [],
   "source": [
    "from selenium import webdriver\n",
    "from selenium.webdriver.chrome.service import Service\n",
    "from webdriver_manager.chrome import ChromeDriverManager\n",
    "from selenium.webdriver.common.by import By\n",
    "from selenium.webdriver.support.ui import WebDriverWait \n",
    "from selenium.webdriver.support import expected_conditions as EC\n",
    "import pandas as pd\n",
    "from time import sleep\n",
    "import json"
   ]
  },
  {
   "cell_type": "code",
   "execution_count": 2,
   "id": "15ad03df",
   "metadata": {},
   "outputs": [
    {
     "ename": "ModuleNotFoundError",
     "evalue": "No module named 'get_params'",
     "output_type": "error",
     "traceback": [
      "\u001b[0;31m---------------------------------------------------------------------------\u001b[0m",
      "\u001b[0;31mModuleNotFoundError\u001b[0m                       Traceback (most recent call last)",
      "Input \u001b[0;32mIn [2]\u001b[0m, in \u001b[0;36m<cell line: 1>\u001b[0;34m()\u001b[0m\n\u001b[0;32m----> 1\u001b[0m \u001b[38;5;28;01mimport\u001b[39;00m \u001b[38;5;21;01mget_params\u001b[39;00m \u001b[38;5;28;01mas\u001b[39;00m \u001b[38;5;21;01mgp\u001b[39;00m\n",
      "\u001b[0;31mModuleNotFoundError\u001b[0m: No module named 'get_params'"
     ]
    }
   ],
   "source": [
    "import get_params as gp"
   ]
  },
  {
   "cell_type": "code",
   "execution_count": 42,
   "id": "6b5942e5",
   "metadata": {},
   "outputs": [
    {
     "data": {
      "text/plain": [
       "['.ipynb_checkpoints', 'apps', 'GrandWelcome_scraper.ipynb', 'Untitled1.ipynb']"
      ]
     },
     "execution_count": 42,
     "metadata": {},
     "output_type": "execute_result"
    }
   ],
   "source": [
    " os.listdir()"
   ]
  },
  {
   "cell_type": "code",
   "execution_count": 18,
   "id": "f2006638",
   "metadata": {},
   "outputs": [],
   "source": []
  },
  {
   "cell_type": "code",
   "execution_count": 19,
   "id": "5ed84781",
   "metadata": {},
   "outputs": [
    {
     "data": {
      "text/plain": [
       "'https://gw.trackhs.com/owner/'"
      ]
     },
     "execution_count": 19,
     "metadata": {},
     "output_type": "execute_result"
    }
   ],
   "source": [
    "login = get_params('login')\n",
    "browser = webdriver.Chrome(service=Service(ChromeDriverManager().install()))\n",
    "browser.get(login['url'])\n",
    "# Login \n",
    "username=browser.find_element(by=By.XPATH, value=\"//input[@placeholder='Email']\")\n",
    "password=browser.find_element(by=By.XPATH, value=\"//input[@placeholder='Password']\")\n",
    "login=browser.find_element(by=By.XPATH, value=\"//button[@type='submit']\")\n",
    "username.send_keys(login['user'])\n",
    "password.send_keys(login['password'])\n",
    "login.submit()"
   ]
  },
  {
   "cell_type": "code",
   "execution_count": null,
   "id": "6e609236",
   "metadata": {},
   "outputs": [],
   "source": [
    "# get reservations \n",
    "restab=browser.find_element(by=By.XPATH, value=\"//span[normalize-space()='Reservations']\")\n",
    "restab.click()\n",
    "sleep(5)\n",
    "export=browser.find_element(by=By.XPATH, value=\"//input[@value='Export']\")\n",
    "export.click()\n",
    "# get reservations from web\n",
    "html = browser.page_source\n",
    "table = pd.read_html(html)\n",
    "res_df = table[0]"
   ]
  },
  {
   "cell_type": "code",
   "execution_count": 6,
   "id": "e24d889c",
   "metadata": {},
   "outputs": [
    {
     "data": {
      "text/plain": [
       "['GrandWelcome.ini', 'token.pkl']"
      ]
     },
     "execution_count": 6,
     "metadata": {},
     "output_type": "execute_result"
    }
   ],
   "source": []
  },
  {
   "cell_type": "code",
   "execution_count": 39,
   "id": "37892e60",
   "metadata": {},
   "outputs": [
    {
     "ename": "NameError",
     "evalue": "name 'res_df' is not defined",
     "output_type": "error",
     "traceback": [
      "\u001b[0;31m---------------------------------------------------------------------------\u001b[0m",
      "\u001b[0;31mNameError\u001b[0m                                 Traceback (most recent call last)",
      "Input \u001b[0;32mIn [39]\u001b[0m, in \u001b[0;36m<cell line: 4>\u001b[0;34m()\u001b[0m\n\u001b[1;32m      2\u001b[0m \u001b[38;5;66;03m# check if res id exists\u001b[39;00m\n\u001b[1;32m      3\u001b[0m curr \u001b[38;5;241m=\u001b[39m pd\u001b[38;5;241m.\u001b[39mread_csv(res_file[\u001b[38;5;124m'\u001b[39m\u001b[38;5;124mall_res\u001b[39m\u001b[38;5;124m'\u001b[39m])\n\u001b[0;32m----> 4\u001b[0m new_res\u001b[38;5;241m=\u001b[39m\u001b[43mres_df\u001b[49m[[\u001b[38;5;124m'\u001b[39m\u001b[38;5;124mRes. #\u001b[39m\u001b[38;5;124m'\u001b[39m,\u001b[38;5;124m'\u001b[39m\u001b[38;5;124mGuest\u001b[39m\u001b[38;5;124m'\u001b[39m,\u001b[38;5;124m'\u001b[39m\u001b[38;5;124mCheck-In\u001b[39m\u001b[38;5;124m'\u001b[39m,\u001b[38;5;124m'\u001b[39m\u001b[38;5;124mCheckout\u001b[39m\u001b[38;5;124m'\u001b[39m,\u001b[38;5;124m'\u001b[39m\u001b[38;5;124mNights\u001b[39m\u001b[38;5;124m'\u001b[39m]]\n\u001b[1;32m      5\u001b[0m new_res\u001b[38;5;241m.\u001b[39mcolumns \u001b[38;5;241m=\u001b[39m [\u001b[38;5;124m'\u001b[39m\u001b[38;5;124mRes_ID\u001b[39m\u001b[38;5;124m'\u001b[39m,\u001b[38;5;124m'\u001b[39m\u001b[38;5;124mGuest\u001b[39m\u001b[38;5;124m'\u001b[39m,\u001b[38;5;124m'\u001b[39m\u001b[38;5;124mCheckIn\u001b[39m\u001b[38;5;124m'\u001b[39m,\u001b[38;5;124m'\u001b[39m\u001b[38;5;124mCheckOut\u001b[39m\u001b[38;5;124m'\u001b[39m,\u001b[38;5;124m'\u001b[39m\u001b[38;5;124mNights\u001b[39m\u001b[38;5;124m'\u001b[39m]\n\u001b[1;32m      6\u001b[0m n_df\u001b[38;5;241m=\u001b[39mcheckNewRes(curr,new_res)\n",
      "\u001b[0;31mNameError\u001b[0m: name 'res_df' is not defined"
     ]
    }
   ],
   "source": [
    "res_file=get_params('reservations')\n",
    "# check if res id exists\n",
    "curr = pd.read_csv(res_file['all_res'])\n",
    "new_res=res_df[['Res. #','Guest','Check-In','Checkout','Nights']]\n",
    "new_res.columns = ['Res_ID','Guest','CheckIn','CheckOut','Nights']\n",
    "n_df=checkNewRes(curr,new_res)"
   ]
  },
  {
   "cell_type": "code",
   "execution_count": null,
   "id": "4285462c",
   "metadata": {},
   "outputs": [],
   "source": [
    "# save updated list to csv "
   ]
  }
 ],
 "metadata": {
  "kernelspec": {
   "display_name": "Python [conda env:scrapers] *",
   "language": "python",
   "name": "conda-env-scrapers-py"
  },
  "language_info": {
   "codemirror_mode": {
    "name": "ipython",
    "version": 3
   },
   "file_extension": ".py",
   "mimetype": "text/x-python",
   "name": "python",
   "nbconvert_exporter": "python",
   "pygments_lexer": "ipython3",
   "version": "3.10.4"
  }
 },
 "nbformat": 4,
 "nbformat_minor": 5
}
