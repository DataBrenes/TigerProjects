{
 "cells": [
  {
   "cell_type": "markdown",
   "id": "02b60324",
   "metadata": {},
   "source": [
    "### This is a notbook that just lets me see running code and test out new updates and features. before adding them to production"
   ]
  },
  {
   "cell_type": "code",
   "execution_count": null,
   "id": "9d43e645",
   "metadata": {},
   "outputs": [],
   "source": [
    "# Need to add reservation id to the breakdown and then remove duplices before saving down for the dashboard\n"
   ]
  }
 ],
 "metadata": {
  "kernelspec": {
   "display_name": "Python 3 (ipykernel)",
   "language": "python",
   "name": "python3"
  },
  "language_info": {
   "codemirror_mode": {
    "name": "ipython",
    "version": 3
   },
   "file_extension": ".py",
   "mimetype": "text/x-python",
   "name": "python",
   "nbconvert_exporter": "python",
   "pygments_lexer": "ipython3",
   "version": "3.10.6"
  }
 },
 "nbformat": 4,
 "nbformat_minor": 5
}
