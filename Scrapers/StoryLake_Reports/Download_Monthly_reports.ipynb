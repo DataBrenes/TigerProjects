{
 "cells": [
  {
   "cell_type": "markdown",
   "id": "108792d6",
   "metadata": {},
   "source": [
    "### This is the older original code. Use the updated one for selenium 4"
   ]
  },
  {
   "cell_type": "code",
   "execution_count": 1,
   "id": "4ea0ab9e",
   "metadata": {},
   "outputs": [],
   "source": [
    "def Download_Monthly(month,date):\n",
    "    Download_dir = '/home/mbrenes/Downloads'\n",
    "    import os\n",
    "    import sys\n",
    "    import pandas as pd\n",
    "    from time import sleep\n",
    "    from selenium import webdriver\n",
    "    from selenium.webdriver.support.ui import Select\n",
    "    import datetime as dt\n",
    "\n",
    "    browser = webdriver.Chrome()\n",
    "    browser.get('https://owners.ciirus.com/Account/Login')\n",
    "    sleep(5)\n",
    "    # Login\n",
    "    username= browser.find_element_by_xpath(\"//input[@class='form-control'][@placeholder='Username']\")\n",
    "    password= browser.find_element_by_xpath(\"//input[@class='form-control'][@placeholder='Password']\")\n",
    "    submit = browser.find_element_by_xpath(\"//input[@type='submit']\")\n",
    "    username.send_keys(\"Mike1\")\n",
    "    password.send_keys(\"20Emily21@\")\n",
    "    submit.click()\n",
    "    sleep(10)\n",
    "    # Go to monthly report page and select month and year\n",
    "    browser.get('https://owners.ciirus.com/Owner/OwnerMonthlyAccount')\n",
    "    sleep(10)\n",
    "    browser.get('https://owners.ciirus.com/Owner/OwnerMonthlyAccount')\n",
    "    sleep(5)\n",
    "    # get current window handle\n",
    "    p = browser.current_window_handle\n",
    "    # select month and year for report\n",
    "    reportMonth =Select(browser.find_element_by_id(\"AccountMonth\"))\n",
    "    \n",
    "    reportYear =Select(browser.find_element_by_id(\"AccountYear\"))\n",
    "    refresh =browser.find_element_by_id(\"OwnerLoadMonthlyAccount\")\n",
    "    reportMonth.select_by_value(month)\n",
    "    reportYear.select_by_value(year)\n",
    "    refresh.click()\n",
    "    sleep(4)\n",
    "    # Download report \n",
    "    PrintReport =browser.find_element_by_id(\"OwnerPrintMonthlyAccount\")\n",
    "    PrintReport.click()\n",
    "    # takes a long time to load\n",
    "    sleep(20)\n",
    "    #Make print window active\n",
    "    chwd = browser.window_handles\n",
    "    for w in chwd:\n",
    "        if w!=p:\n",
    "            browser.switch_to.window(w)\n",
    "    sleep(0.9)\n",
    "    export=browser.find_element_by_xpath(\"//div[@title='Export To']\")\n",
    "    export.click()\n",
    "    XLS=browser.find_element_by_xpath(\"//div[@title='XLS']\")\n",
    "    XLS.click()\n",
    "    sleep(5)\n",
    "    # looks for all files in download folder created today. \n",
    "    newfile = 'Nothing '\n",
    "    for file in os.listdir(Download_dir):\n",
    "        if file == 'DxOwnerAccountMonthly.xls':\n",
    "            oldfile = Download_dir+'/' + file\n",
    "            newfile =month+'_'+year+'_Monthly_Report_Download.xls'\n",
    "            os.rename(Download_dir+'/' + file, newfile )\n",
    "            print(newfile +' downloaded')\n",
    "#             # if created today and has this name, rename in this jupyter directory\n",
    "#     today = dt.datetime.now().date()\n",
    "    \n",
    "#         filetime = dt.datetime.fromtimestamp(\n",
    "#                 os.path.getctime(Download_dir+'/' + file))\n",
    "#         if filetime.date() == today:\n",
    "# CHECK IF TODAY NOT CONSISTENT            \n"
   ]
  },
  {
   "cell_type": "code",
   "execution_count": 171,
   "id": "ba2913d0",
   "metadata": {},
   "outputs": [
    {
     "name": "stdout",
     "output_type": "stream",
     "text": [
      "1_2022_Monthly_Report_Download.xls downloaded\n"
     ]
    }
   ],
   "source": [
    "Download_Monthly('1','2022')"
   ]
  },
  {
   "cell_type": "markdown",
   "id": "80e8db12",
   "metadata": {},
   "source": [
    "## Download all "
   ]
  },
  {
   "cell_type": "code",
   "execution_count": 2,
   "id": "675f6b2b",
   "metadata": {},
   "outputs": [
    {
     "ename": "AttributeError",
     "evalue": "'WebDriver' object has no attribute 'find_element_by_xpath'",
     "output_type": "error",
     "traceback": [
      "\u001b[0;31m---------------------------------------------------------------------------\u001b[0m",
      "\u001b[0;31mAttributeError\u001b[0m                            Traceback (most recent call last)",
      "Input \u001b[0;32mIn [2]\u001b[0m, in \u001b[0;36m<cell line: 3>\u001b[0;34m()\u001b[0m\n\u001b[1;32m      4\u001b[0m     m \u001b[38;5;241m=\u001b[39m d\u001b[38;5;241m+\u001b[39m\u001b[38;5;241m1\u001b[39m    \n\u001b[1;32m      5\u001b[0m \u001b[38;5;66;03m#     print(\"Download_Monthly(\"+str(m)+\",\"+year+\")\")\u001b[39;00m\n\u001b[0;32m----> 6\u001b[0m     \u001b[43mDownload_Monthly\u001b[49m\u001b[43m(\u001b[49m\u001b[38;5;28;43mstr\u001b[39;49m\u001b[43m(\u001b[49m\u001b[43mm\u001b[49m\u001b[43m)\u001b[49m\u001b[43m,\u001b[49m\u001b[43myear\u001b[49m\u001b[43m)\u001b[49m\n",
      "Input \u001b[0;32mIn [1]\u001b[0m, in \u001b[0;36mDownload_Monthly\u001b[0;34m(month, date)\u001b[0m\n\u001b[1;32m     13\u001b[0m sleep(\u001b[38;5;241m5\u001b[39m)\n\u001b[1;32m     14\u001b[0m \u001b[38;5;66;03m# Login\u001b[39;00m\n\u001b[0;32m---> 15\u001b[0m username\u001b[38;5;241m=\u001b[39m \u001b[43mbrowser\u001b[49m\u001b[38;5;241;43m.\u001b[39;49m\u001b[43mfind_element_by_xpath\u001b[49m(\u001b[38;5;124m\"\u001b[39m\u001b[38;5;124m//input[@class=\u001b[39m\u001b[38;5;124m'\u001b[39m\u001b[38;5;124mform-control\u001b[39m\u001b[38;5;124m'\u001b[39m\u001b[38;5;124m][@placeholder=\u001b[39m\u001b[38;5;124m'\u001b[39m\u001b[38;5;124mUsername\u001b[39m\u001b[38;5;124m'\u001b[39m\u001b[38;5;124m]\u001b[39m\u001b[38;5;124m\"\u001b[39m)\n\u001b[1;32m     16\u001b[0m password\u001b[38;5;241m=\u001b[39m browser\u001b[38;5;241m.\u001b[39mfind_element_by_xpath(\u001b[38;5;124m\"\u001b[39m\u001b[38;5;124m//input[@class=\u001b[39m\u001b[38;5;124m'\u001b[39m\u001b[38;5;124mform-control\u001b[39m\u001b[38;5;124m'\u001b[39m\u001b[38;5;124m][@placeholder=\u001b[39m\u001b[38;5;124m'\u001b[39m\u001b[38;5;124mPassword\u001b[39m\u001b[38;5;124m'\u001b[39m\u001b[38;5;124m]\u001b[39m\u001b[38;5;124m\"\u001b[39m)\n\u001b[1;32m     17\u001b[0m submit \u001b[38;5;241m=\u001b[39m browser\u001b[38;5;241m.\u001b[39mfind_element_by_xpath(\u001b[38;5;124m\"\u001b[39m\u001b[38;5;124m//input[@type=\u001b[39m\u001b[38;5;124m'\u001b[39m\u001b[38;5;124msubmit\u001b[39m\u001b[38;5;124m'\u001b[39m\u001b[38;5;124m]\u001b[39m\u001b[38;5;124m\"\u001b[39m)\n",
      "\u001b[0;31mAttributeError\u001b[0m: 'WebDriver' object has no attribute 'find_element_by_xpath'"
     ]
    }
   ],
   "source": [
    "month = range(12)\n",
    "year = '2021'\n",
    "for d in month:\n",
    "    m = d+1    \n",
    "#     print(\"Download_Monthly(\"+str(m)+\",\"+year+\")\")\n",
    "    Download_Monthly(str(m),year)"
   ]
  },
  {
   "cell_type": "code",
   "execution_count": null,
   "id": "449ae0b1",
   "metadata": {},
   "outputs": [],
   "source": []
  },
  {
   "cell_type": "code",
   "execution_count": 167,
   "id": "02151102",
   "metadata": {},
   "outputs": [
    {
     "ename": "SyntaxError",
     "evalue": "'return' outside function (<ipython-input-167-5c03918d9179>, line 7)",
     "output_type": "error",
     "traceback": [
      "\u001b[0;36m  File \u001b[0;32m\"<ipython-input-167-5c03918d9179>\"\u001b[0;36m, line \u001b[0;32m7\u001b[0m\n\u001b[0;31m    return print(newfile +' downloaded')\u001b[0m\n\u001b[0m    ^\u001b[0m\n\u001b[0;31mSyntaxError\u001b[0m\u001b[0;31m:\u001b[0m 'return' outside function\n"
     ]
    }
   ],
   "source": [
    "for file in os.listdir(Download_dir):\n",
    "    if file == 'DxOwnerAccountMonthly.xls':\n",
    "        oldfile = Download_dir+'/' + file\n",
    "        newfile = month+'_'+year+'_Monthly_Report_Download.xls'\n",
    "        print(oldfile, newfile)\n",
    "        os.rename(oldfile, newfile )\n",
    "    return print(newfile +' downloaded')"
   ]
  },
  {
   "cell_type": "code",
   "execution_count": 139,
   "id": "1a30487d",
   "metadata": {},
   "outputs": [],
   "source": [
    "month = '4'\n",
    "year = '2022'"
   ]
  },
  {
   "cell_type": "markdown",
   "id": "6ad65e57",
   "metadata": {},
   "source": [
    "# Login"
   ]
  },
  {
   "cell_type": "code",
   "execution_count": 83,
   "id": "7e55e8aa",
   "metadata": {},
   "outputs": [],
   "source": [
    "username= browser.find_element_by_xpath(\"//input[@class='form-control'][@placeholder='Username']\")\n",
    "password= browser.find_element_by_xpath(\"//input[@class='form-control'][@placeholder='Password']\")\n",
    "submit = browser.find_element_by_xpath(\"//input[@type='submit']\")\n",
    "username.send_keys(\"Mike1\")\n",
    "password.send_keys(\"20Emily21@\")\n",
    "submit.click()"
   ]
  },
  {
   "cell_type": "markdown",
   "id": "6aeeb517",
   "metadata": {},
   "source": [
    "## Go to monthly report page and select month and year"
   ]
  },
  {
   "cell_type": "code",
   "execution_count": 102,
   "id": "5108d191",
   "metadata": {},
   "outputs": [],
   "source": [
    "browser.get('https://owners.ciirus.com/Owner/OwnerMonthlyAccount')\n",
    "sleep(4)\n",
    "browser.get('https://owners.ciirus.com/Owner/OwnerMonthlyAccount')\n",
    "# get current window handle\n",
    "p = browser.current_window_handle"
   ]
  },
  {
   "cell_type": "code",
   "execution_count": 103,
   "id": "a5e1b81e",
   "metadata": {},
   "outputs": [],
   "source": [
    "\n",
    "reportMonth =Select(browser.find_element_by_id(\"AccountMonth\"))\n",
    "reportYear =Select(browser.find_element_by_id(\"AccountYear\"))\n",
    "refresh =browser.find_element_by_id(\"OwnerLoadMonthlyAccount\")\n",
    "# select by visible text\n",
    "######################################################################################3\n",
    "# reportMonth.select_by_visible_text('April')\n",
    "######################################################################################\n",
    "# or select by value \n",
    "reportMonth.select_by_value(month)\n",
    "reportYear.select_by_value(year)\n",
    "refresh.click()\n",
    "sleep(2)"
   ]
  },
  {
   "cell_type": "code",
   "execution_count": null,
   "id": "9740a77b",
   "metadata": {},
   "outputs": [],
   "source": [
    "PrintReport =browser.find_element_by_id(\"OwnerPrintMonthlyAccount\")\n",
    "PrintReport.click()\n",
    "# takes a long time to load\n",
    "sleep(20)"
   ]
  },
  {
   "cell_type": "code",
   "execution_count": 114,
   "id": "43919831",
   "metadata": {},
   "outputs": [
    {
     "name": "stdout",
     "output_type": "stream",
     "text": [
      "CDwindow-A06E2B0BC9D0F2AF1C586F050FE02637\n",
      "Child window title: Ciirus - Owner Account: March 2022\n"
     ]
    }
   ],
   "source": [
    "#switch to print window\n",
    "chwd = browser.window_handles\n",
    "for w in chwd:\n",
    "    if w!=p:\n",
    "        browser.switch_to.window(w)\n",
    "sleep(0.9)"
   ]
  },
  {
   "cell_type": "markdown",
   "id": "9ea15cd5",
   "metadata": {},
   "source": [
    "## Download the report"
   ]
  },
  {
   "cell_type": "code",
   "execution_count": 137,
   "id": "d59701d6",
   "metadata": {},
   "outputs": [],
   "source": [
    "export=browser.find_element_by_xpath(\"//div[@title='Export To']\")\n",
    "export.click()\n",
    "XLS=browser.find_element_by_xpath(\"//div[@title='XLS']\")\n",
    "XLS.click()"
   ]
  },
  {
   "cell_type": "markdown",
   "id": "b7183263",
   "metadata": {},
   "source": [
    "## Rename the report"
   ]
  },
  {
   "cell_type": "code",
   "execution_count": 145,
   "id": "637a8f7c",
   "metadata": {},
   "outputs": [],
   "source": [
    "# looks for all files in download folder created today. \n",
    "\n",
    "today = dt.datetime.now().date()\n",
    "for file in os.listdir(Download_dir):\n",
    "    filetime = dt.datetime.fromtimestamp(\n",
    "            os.path.getctime(Download_dir+'/' + file))\n",
    "    if filetime.date() == today:\n",
    "        # if created today and has this name, rename in this jupyter directory\n",
    "        if file == 'DxOwnerAccountMonthly.xls':\n",
    "            os.rename(Download_dir+'/' + file, month+'_'+year+'_Monthly_Report_Download.xls' )"
   ]
  },
  {
   "cell_type": "markdown",
   "id": "1c6b2ddd",
   "metadata": {},
   "source": [
    "    1) Owner Account -> Monthly - done \n",
    "    2) Select month  - done \n",
    "    3) Select Year - done \n",
    "    4) Print - done \n",
    "    5) save as  - done "
   ]
  },
  {
   "cell_type": "code",
   "execution_count": null,
   "id": "92719825",
   "metadata": {},
   "outputs": [],
   "source": []
  }
 ],
 "metadata": {
  "kernelspec": {
   "display_name": "Python 3 (ipykernel)",
   "language": "python",
   "name": "python3"
  },
  "language_info": {
   "codemirror_mode": {
    "name": "ipython",
    "version": 3
   },
   "file_extension": ".py",
   "mimetype": "text/x-python",
   "name": "python",
   "nbconvert_exporter": "python",
   "pygments_lexer": "ipython3",
   "version": "3.10.4"
  }
 },
 "nbformat": 4,
 "nbformat_minor": 5
}
