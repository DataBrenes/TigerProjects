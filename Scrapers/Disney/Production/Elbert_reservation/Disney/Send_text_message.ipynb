{
 "cells": [
  {
   "cell_type": "code",
   "execution_count": 1,
   "id": "02e78d74",
   "metadata": {},
   "outputs": [],
   "source": [
    "import email, smtplib, ssl\n",
    "from providers import PROVIDERS"
   ]
  },
  {
   "cell_type": "code",
   "execution_count": 2,
   "id": "d7f76f41",
   "metadata": {},
   "outputs": [],
   "source": [
    "def send(num_list,message):\n",
    "    import email, smtplib, ssl\n",
    "    from providers import PROVIDERS\n",
    "    for n in num_list:\n",
    "        number = n[0]\n",
    "        provider = n[1]\n",
    "        receiver_email = f'{number}@{PROVIDERS.get(provider).get(\"sms\")}'\n",
    "        subject = \"/\",\n",
    "        sender_email = '4806BrierRose@brenesfinancial.com'\n",
    "        email_password = 'M0n3yH0m3'\n",
    "\n",
    "        email_message = f\"Subject:{subject}\\nTo:{receiver_email}\\n{message}\"\n",
    "        with smtplib.SMTP_SSL(\n",
    "            \"smtp.gmail.com\", 465, context=ssl.create_default_context()\n",
    "        ) as email:\n",
    "            email.login(sender_email, email_password)\n",
    "            email.sendmail(sender_email, receiver_email, email_message)    "
   ]
  }
 ],
 "metadata": {
  "kernelspec": {
   "display_name": "Python 3 (ipykernel)",
   "language": "python",
   "name": "python3"
  },
  "language_info": {
   "codemirror_mode": {
    "name": "ipython",
    "version": 3
   },
   "file_extension": ".py",
   "mimetype": "text/x-python",
   "name": "python",
   "nbconvert_exporter": "python",
   "pygments_lexer": "ipython3",
   "version": "3.8.10"
  }
 },
 "nbformat": 4,
 "nbformat_minor": 5
}
