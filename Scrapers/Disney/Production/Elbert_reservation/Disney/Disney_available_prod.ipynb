{
 "cells": [
  {
   "cell_type": "code",
   "execution_count": 10,
   "id": "5ebf0be6",
   "metadata": {},
   "outputs": [],
   "source": [
    "from providers import PROVIDERS\n",
    "import check_available as ck\n",
    "from time import sleep\n",
    "from selenium import webdriver\n",
    "import send_text as txt\n",
    "# from importlib import reload\n",
    "# reload(ck)\n",
    "\n",
    "# instatiate browser and open page\n",
    "browser = webdriver.Chrome()\n",
    "URL = 'https://disneyworld.disney.go.com/availability-calendar/?segments=tickets,resort,passholder&defaultSegment=tickets'\n",
    "browser.get(URL)\n",
    "sleep(20)\n",
    "\n",
    "num_list = [['7346455056',\"T-Mobile\"],['7346455056',\"T-Mobile\"]]\n",
    "Sunday= ck.available(browser,'Sunday','epcot')\n",
    "Monday= ck.available(browser,'Monday','epcot') \n",
    "\n",
    "if Sunday:\n",
    "    txt.send(num_list,Sunday.encode('utf-8'))\n",
    "if Monday:\n",
    "    txt.send(num_list,Monday.encode('utf-8'))\n",
    "\n",
    "browser.close()\n",
    "# if Sunday:\n",
    "#     print(Sunday)\n",
    "# if Monday:\n",
    "#     print(Monday)"
   ]
  },
  {
   "cell_type": "code",
   "execution_count": 1,
   "id": "5869d181",
   "metadata": {},
   "outputs": [],
   "source": [
    "from platform import python_version"
   ]
  },
  {
   "cell_type": "code",
   "execution_count": 2,
   "id": "a35e0698",
   "metadata": {},
   "outputs": [
    {
     "data": {
      "text/plain": [
       "'3.8.10'"
      ]
     },
     "execution_count": 2,
     "metadata": {},
     "output_type": "execute_result"
    }
   ],
   "source": [
    "python_version()"
   ]
  },
  {
   "cell_type": "code",
   "execution_count": 3,
   "id": "2e17109f",
   "metadata": {},
   "outputs": [
    {
     "name": "stdout",
     "output_type": "stream",
     "text": [
      "/home/ubuntu/.local/lib/python3.8/site-packages/pkg_resources/__init__.py:123: PkgResourcesDeprecationWarning: 0.23ubuntu1 is an invalid version and will not be supported in a future release\r\n",
      "  warnings.warn(\r\n",
      "/home/ubuntu/.local/lib/python3.8/site-packages/pkg_resources/__init__.py:123: PkgResourcesDeprecationWarning: 1.13.1-unknown is an invalid version and will not be supported in a future release\r\n",
      "  warnings.warn(\r\n"
     ]
    }
   ],
   "source": [
    "!pip freeze > '../dis_requirements.txt'"
   ]
  },
  {
   "cell_type": "code",
   "execution_count": 4,
   "id": "8536de3b",
   "metadata": {},
   "outputs": [
    {
     "data": {
      "text/plain": [
       "'/home/ubuntu/selenium/Scrapers/Disney'"
      ]
     },
     "execution_count": 4,
     "metadata": {},
     "output_type": "execute_result"
    }
   ],
   "source": [
    "pwd"
   ]
  },
  {
   "cell_type": "code",
   "execution_count": null,
   "id": "aff330ca",
   "metadata": {},
   "outputs": [],
   "source": []
  }
 ],
 "metadata": {
  "kernelspec": {
   "display_name": "Python 3 (ipykernel)",
   "language": "python",
   "name": "python3"
  },
  "language_info": {
   "codemirror_mode": {
    "name": "ipython",
    "version": 3
   },
   "file_extension": ".py",
   "mimetype": "text/x-python",
   "name": "python",
   "nbconvert_exporter": "python",
   "pygments_lexer": "ipython3",
   "version": "3.10.4"
  }
 },
 "nbformat": 4,
 "nbformat_minor": 5
}
