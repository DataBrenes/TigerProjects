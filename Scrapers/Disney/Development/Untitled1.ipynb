{
 "cells": [
  {
   "cell_type": "markdown",
   "id": "4fee7a15",
   "metadata": {},
   "source": [
    "# Put the pieces together. "
   ]
  },
  {
   "cell_type": "code",
   "execution_count": 62,
   "id": "a10f0561",
   "metadata": {},
   "outputs": [],
   "source": [
    "from selenium import webdriver\n",
    "from selenium.webdriver.chrome.service import Service\n",
    "from webdriver_manager.chrome import ChromeDriverManager\n",
    "from providers import PROVIDERS\n",
    "import check_available as ck\n",
    "from time import sleep\n",
    "import send_text as txt\n",
    "import datetime"
   ]
  },
  {
   "cell_type": "markdown",
   "id": "adf3494c",
   "metadata": {},
   "source": [
    "### Connect"
   ]
  },
  {
   "cell_type": "code",
   "execution_count": 63,
   "id": "a5593fdf",
   "metadata": {},
   "outputs": [
    {
     "name": "stdout",
     "output_type": "stream",
     "text": [
      "\n"
     ]
    }
   ],
   "source": [
    "browser = webdriver.Chrome(service=Service(ChromeDriverManager().install()))\n",
    "URL = 'https://disneyworld.disney.go.com/availability-calendar/?segments=tickets,resort,passholder&defaultSegment=tickets'\n",
    "browser.get(URL)\n",
    "driver = browser\n",
    "sleep(2)"
   ]
  },
  {
   "cell_type": "markdown",
   "id": "0620edcf",
   "metadata": {},
   "source": [
    "### Pick Vacation Date Range "
   ]
  },
  {
   "cell_type": "code",
   "execution_count": 64,
   "id": "e8025067",
   "metadata": {},
   "outputs": [
    {
     "name": "stdout",
     "output_type": "stream",
     "text": [
      "What is the the first day of Disney?  mm/dd/yyyy\n",
      "07/13/2022\n"
     ]
    }
   ],
   "source": [
    "firstday = input('What is the the first day of Disney?  mm/dd/yyyy\\n')     # \\n ---> newline  ---> It causes a line break\n",
    "first = datetime.datetime.strptime(firstday, '%m/%d/%Y')"
   ]
  },
  {
   "cell_type": "code",
   "execution_count": 65,
   "id": "e0b17436",
   "metadata": {},
   "outputs": [
    {
     "name": "stdout",
     "output_type": "stream",
     "text": [
      "What is the the first day of Disney?  mm/dd/yyyy\n",
      "07/16/2022\n"
     ]
    }
   ],
   "source": [
    "lastday = input('What is the the first day of Disney?  mm/dd/yyyy\\n')     # \\n ---> newline  ---> It causes a line break\n",
    "last = datetime.datetime.strptime(lastday, '%m/%d/%Y')"
   ]
  },
  {
   "cell_type": "markdown",
   "id": "e144d063",
   "metadata": {},
   "source": [
    "### Extract the dates "
   ]
  },
  {
   "cell_type": "code",
   "execution_count": 66,
   "id": "f5ac1731",
   "metadata": {},
   "outputs": [],
   "source": [
    "def diz_range(start,stop):\n",
    "#     global diz_dates # If you want to use this outside of functions     \n",
    "    diz_dates = []\n",
    "    diff = (stop-start).days\n",
    "    for i in range(diff+1):\n",
    "        day = start + datetime.timedelta(days=i)\n",
    "        diz_dates.append(day)\n",
    "    return diz_dates"
   ]
  },
  {
   "cell_type": "code",
   "execution_count": 67,
   "id": "eb74b83c",
   "metadata": {},
   "outputs": [
    {
     "data": {
      "text/plain": [
       "[datetime.datetime(2022, 7, 13, 0, 0),\n",
       " datetime.datetime(2022, 7, 14, 0, 0),\n",
       " datetime.datetime(2022, 7, 15, 0, 0),\n",
       " datetime.datetime(2022, 7, 16, 0, 0)]"
      ]
     },
     "execution_count": 67,
     "metadata": {},
     "output_type": "execute_result"
    }
   ],
   "source": [
    "diz_dates = diz_range(first,last)\n",
    "diz_dates"
   ]
  },
  {
   "cell_type": "markdown",
   "id": "05c0a1e2",
   "metadata": {},
   "source": [
    "### Add date full names to dates "
   ]
  },
  {
   "cell_type": "code",
   "execution_count": 68,
   "id": "b47cef39",
   "metadata": {},
   "outputs": [],
   "source": [
    "def Park_Picker(diz_dates):\n",
    "    global park_dates\n",
    "    park_dates ={}    \n",
    "    num = len(diz_dates)\n",
    "    while num > 0:\n",
    "        for d in diz_dates:\n",
    "            num=-1\n",
    "            p_date = d.strftime(\"%A, %B %d, %Y\")\n",
    "            park = input('What park are you going to on ' + str(p_date)+'?  MK , EP , AK , HS \\n') \n",
    "            if park.upper() == 'MK':\n",
    "                park_dates[p_date] = 'Magic Kingdom'\n",
    "            elif park.upper() == 'EP':\n",
    "                park_dates[p_date] = 'EPCOT'\n",
    "            elif park.upper() == 'AK':\n",
    "                park_dates[p_date] = 'Animal Kingdom'\n",
    "            elif park.upper() == 'HS':\n",
    "                park_dates[p_date] = 'Hollywood Studios'        \n",
    "            next\n",
    "    return park_dates"
   ]
  },
  {
   "cell_type": "code",
   "execution_count": 69,
   "id": "5520465e",
   "metadata": {},
   "outputs": [
    {
     "name": "stdout",
     "output_type": "stream",
     "text": [
      "What park are you going to on Wednesday, July 13, 2022?  MK , EP , AK , HS \n",
      "AK\n",
      "What park are you going to on Thursday, July 14, 2022?  MK , EP , AK , HS \n",
      "MK\n",
      "What park are you going to on Friday, July 15, 2022?  MK , EP , AK , HS \n",
      "HS\n",
      "What park are you going to on Saturday, July 16, 2022?  MK , EP , AK , HS \n",
      "EP\n"
     ]
    },
    {
     "data": {
      "text/plain": [
       "{'Wednesday, July 13, 2022': 'Animal Kingdom',\n",
       " 'Thursday, July 14, 2022': 'Magic Kingdom',\n",
       " 'Friday, July 15, 2022': 'Hollywood Studios',\n",
       " 'Saturday, July 16, 2022': 'EPCOT'}"
      ]
     },
     "execution_count": 69,
     "metadata": {},
     "output_type": "execute_result"
    }
   ],
   "source": [
    "Park_Picker(diz_dates)"
   ]
  },
  {
   "cell_type": "markdown",
   "id": "e1215d9d",
   "metadata": {},
   "source": [
    "### Query all dates on the calendar"
   ]
  },
  {
   "cell_type": "code",
   "execution_count": 70,
   "id": "7dabe347",
   "metadata": {},
   "outputs": [],
   "source": [
    "# def available(driver,day,park):\n",
    "alert = None\n",
    "park_list = []\n",
    "\n",
    "CheckAll = \"\"\" return document\n",
    ".querySelector(\"#container > app-availability-calendar > awakening-calendar\").shadowRoot\n",
    ".querySelectorAll(\"#calendarContainer > wdat-calendar > wdat-date\")\"\"\"\n",
    "\n",
    "all_dates= driver.execute_script(CheckAll)"
   ]
  },
  {
   "cell_type": "markdown",
   "id": "15b96b53",
   "metadata": {},
   "source": [
    "### create dictionary of all dates -> click_elements based on vacation date"
   ]
  },
  {
   "cell_type": "code",
   "execution_count": 71,
   "id": "2973f232",
   "metadata": {},
   "outputs": [],
   "source": [
    "# Need to check in this value is IN the date list \n",
    "pdlist = park_dates.keys()\n",
    "# this creates the list of elements to click per day\n",
    "date_ele = {}\n",
    "for date in all_dates:\n",
    "    new = date.get_attribute(\"aria-label\").replace('selected ','')\n",
    "    if new in pdlist:\n",
    "        # if the value is in the list then save as key date and element\n",
    "        date_ele[new] = date"
   ]
  },
  {
   "cell_type": "markdown",
   "id": "95468d37",
   "metadata": {},
   "source": [
    "### click dates in date_ele click and check availability  returns park_avail"
   ]
  },
  {
   "cell_type": "code",
   "execution_count": 95,
   "id": "c23c35e1",
   "metadata": {},
   "outputs": [],
   "source": [
    "# takes in the date list and selenium elements\n",
    "# clicks on each day returns days that have reservations and days that done\n",
    "# returns globals park_avail and not_avail\n",
    "def find_park_avail(pdlist,date_ele):\n",
    "    global park_avail\n",
    "    global not_avail\n",
    "    park_avail = {} # for each date click \n",
    "    for d in pdlist:\n",
    "        availpark_list = []\n",
    "        not_list = []\n",
    "        try:\n",
    "            date_ele[d].click()\n",
    "            # if does not save to not_avail, else save to park_avail\n",
    "            for i in range(1,5):     \n",
    "                sub = 'does not have'\n",
    "                query= \"\"\"return document\n",
    "                .querySelector(\"#container > app-availability-calendar > awakening-availability-information\").shadowRoot\n",
    "                .querySelector(\"#parkAvailabilityContainer > div:nth-child(\"\"\"+str(i)+\"\"\") > dprd-icon\")\"\"\"\n",
    "                status = driver.execute_script(query).get_attribute(\"aria-label\")\n",
    "                if sub not in status:\n",
    "                    availpark_list.append(status)\n",
    "                else:\n",
    "                    not_list.append(status)\n",
    "            # save availibility and date dictionary\n",
    "            park_avail[d] = availpark_list\n",
    "            not_avail[d] = not_list\n",
    "        except: \n",
    "            None "
   ]
  },
  {
   "cell_type": "code",
   "execution_count": 96,
   "id": "1fb1e13d",
   "metadata": {},
   "outputs": [],
   "source": [
    "find_park_avail(pdlist,date_ele)"
   ]
  },
  {
   "cell_type": "markdown",
   "id": "334dc77a",
   "metadata": {},
   "source": [
    "### Find days that are not available that you wanted"
   ]
  },
  {
   "cell_type": "code",
   "execution_count": 98,
   "id": "0bfd4d3d",
   "metadata": {},
   "outputs": [],
   "source": [
    "def alert_needed(park_dates,not_avail):\n",
    "    alert = {}\n",
    "    for d in park_dates.keys():\n",
    "        park_pick = park_dates[d]\n",
    "        for n in not_avail[d]:\n",
    "            if park_pick in n:\n",
    "                alert[d] = park_pick\n",
    "    return alert"
   ]
  },
  {
   "cell_type": "code",
   "execution_count": 103,
   "id": "0e7c55a4",
   "metadata": {},
   "outputs": [],
   "source": [
    "Create_alert = alert_needed(park_dates,not_avail)"
   ]
  },
  {
   "cell_type": "markdown",
   "id": "5239880d",
   "metadata": {},
   "source": [
    "### Need to create the actual alert"
   ]
  },
  {
   "cell_type": "code",
   "execution_count": 101,
   "id": "d6f2ffed",
   "metadata": {},
   "outputs": [],
   "source": [
    "# So unlike the other one this one needs state. So when it runs every 5 min it needs to pull this alert up. "
   ]
  },
  {
   "cell_type": "code",
   "execution_count": 104,
   "id": "b0de4405",
   "metadata": {},
   "outputs": [],
   "source": [
    "import json "
   ]
  },
  {
   "cell_type": "code",
   "execution_count": 106,
   "id": "45e4e3fe",
   "metadata": {},
   "outputs": [],
   "source": [
    "# save to file \n",
    "alert_file = json.dumps(alert_needed(park_dates,not_avail))\n",
    "avail_file = json.dumps(park_avail)\n",
    "not_avail_file = json.dumps(not_avail, ensure_ascii=False).encode('utf8')"
   ]
  },
  {
   "cell_type": "code",
   "execution_count": 117,
   "id": "eb872895",
   "metadata": {},
   "outputs": [
    {
     "name": "stdout",
     "output_type": "stream",
     "text": [
      "b'{\"Wednesday, July 13, 2022\": [\"Magic Kingdom does not have reservations available.\", \"Disney\\xe2\\x80\\x99s Animal Kingdom does not have reservations available.\", \"Disney\\xe2\\x80\\x99s Hollywood Studios does not have reservations available.\"], \"Thursday, July 14, 2022\": [\"Magic Kingdom does not have reservations available.\", \"Disney\\xe2\\x80\\x99s Animal Kingdom does not have reservations available.\", \"Disney\\xe2\\x80\\x99s Hollywood Studios does not have reservations available.\"], \"Friday, July 15, 2022\": [\"Magic Kingdom does not have reservations available.\", \"Disney\\xe2\\x80\\x99s Hollywood Studios does not have reservations available.\"], \"Saturday, July 16, 2022\": []}'\n"
     ]
    }
   ],
   "source": [
    "not_avail_file = json.dumps(not_avail, ensure_ascii=False).encode('utf8')\n",
    "print(not_avail_file)"
   ]
  },
  {
   "cell_type": "markdown",
   "id": "06a7347c",
   "metadata": {},
   "source": [
    "# This should be the new script that runs in cron / airflow"
   ]
  },
  {
   "cell_type": "code",
   "execution_count": null,
   "id": "dcdc484e",
   "metadata": {},
   "outputs": [],
   "source": []
  }
 ],
 "metadata": {
  "kernelspec": {
   "display_name": "Python 3 (ipykernel)",
   "language": "python",
   "name": "python3"
  },
  "language_info": {
   "codemirror_mode": {
    "name": "ipython",
    "version": 3
   },
   "file_extension": ".py",
   "mimetype": "text/x-python",
   "name": "python",
   "nbconvert_exporter": "python",
   "pygments_lexer": "ipython3",
   "version": "3.10.4"
  }
 },
 "nbformat": 4,
 "nbformat_minor": 5
}
