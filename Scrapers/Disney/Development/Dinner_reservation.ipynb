{
 "cells": [
  {
   "cell_type": "code",
   "execution_count": 136,
   "id": "76f8c731",
   "metadata": {},
   "outputs": [
    {
     "name": "stdout",
     "output_type": "stream",
     "text": [
      "\n"
     ]
    }
   ],
   "source": [
    "from selenium import webdriver\n",
    "from selenium.webdriver.common.by import By\n",
    "from selenium.webdriver.chrome.service import Service\n",
    "from webdriver_manager.chrome import ChromeDriverManager\n",
    "from providers import PROVIDERS\n",
    "import check_available as ck\n",
    "from time import sleep\n",
    "import send_text as mtxt\n",
    "import datetime\n",
    "import time \n",
    "# disney log in is in an iframe so need these steps first then you can do by xpath \n",
    "from selenium.webdriver.support.ui import WebDriverWait\n",
    "from selenium.webdriver.common.by import By\n",
    "from selenium.webdriver.support import expected_conditions as EC\n",
    "browser = webdriver.Chrome(service=Service(ChromeDriverManager().install()))\n",
    "URL = 'https://disneyworld.disney.go.com/dining/wilderness-lodge-resort/artist-point'\n",
    "Login = 'https://disneyworld.disney.go.com/login'\n",
    "# num_list = [['7346455056',\"T-Mobile\"],['8432599611',\"T-Mobile\"]]\n",
    "num_list = [['7346455056',\"T-Mobile\"],['7346455056',\"T-Mobile\"]]\n",
    "\n",
    "# intiate iframe and login\n",
    "browser.get('https://disneyworld.disney.go.com/login?appRedirect=%2F')\n",
    "WebDriverWait(browser, 20).until(EC.frame_to_be_available_and_switch_to_it((By.XPATH,\"//iframe[@id='disneyid-iframe']\")))\n",
    "username = WebDriverWait(browser, 20).until(EC.element_to_be_clickable((By.XPATH, \"//input[@aria-label='Username or Email Address']\")))\n",
    "password = WebDriverWait(browser, 20).until(EC.element_to_be_clickable((By.XPATH,\"//input[@type='password']\" )))\n",
    "username.send_keys(\"house@brenesfinancial.com\")\n",
    "password.send_keys(\"MyStr3@m437\")\n",
    "submit=browser.find_element(by=By.XPATH, value='//*[@id=\"did-ui-view\"]/div/section/section/form/section/div[3]/button')\n",
    "submit.click()\n",
    "sleep(10)"
   ]
  },
  {
   "cell_type": "code",
   "execution_count": 137,
   "id": "ae1bb0b6",
   "metadata": {},
   "outputs": [
    {
     "name": "stdout",
     "output_type": "stream",
     "text": [
      "Start Time : 19:25:57.968213\n",
      "Last Complete Time : 19:27:24.224716\n",
      "Last Complete Time : 19:27:49.487373\n",
      "Last Complete Time : 19:28:45.182520\n",
      "Last Complete Time : 19:29:38.823325\n",
      "Last Complete Time : 19:30:31.392925\n",
      "Last Complete Time : 19:31:27.786589\n",
      "Last Complete Time : 19:32:14.922538\n"
     ]
    },
    {
     "ename": "ElementNotInteractableException",
     "evalue": "Message: element not interactable\n  (Session info: chrome=103.0.5060.114)\nStacktrace:\n#0 0x55b916366b13 <unknown>\n#1 0x55b91616d51f <unknown>\n#2 0x55b9161a5d87 <unknown>\n#3 0x55b916199e59 <unknown>\n#4 0x55b9161c28b2 <unknown>\n#5 0x55b916199713 <unknown>\n#6 0x55b9161c29be <unknown>\n#7 0x55b9161d5b94 <unknown>\n#8 0x55b9161c27a3 <unknown>\n#9 0x55b9161980ea <unknown>\n#10 0x55b916199225 <unknown>\n#11 0x55b9163ae2dd <unknown>\n#12 0x55b9163b22c7 <unknown>\n#13 0x55b91639822e <unknown>\n#14 0x55b9163b30a8 <unknown>\n#15 0x55b91638cbc0 <unknown>\n#16 0x55b9163cf6c8 <unknown>\n#17 0x55b9163cf848 <unknown>\n#18 0x55b9163e9c0d <unknown>\n#19 0x7f65a334f609 <unknown>\n",
     "output_type": "error",
     "traceback": [
      "\u001b[0;31m---------------------------------------------------------------------------\u001b[0m",
      "\u001b[0;31mElementNotInteractableException\u001b[0m           Traceback (most recent call last)",
      "Input \u001b[0;32mIn [137]\u001b[0m, in \u001b[0;36m<cell line: 47>\u001b[0;34m()\u001b[0m\n\u001b[1;32m     50\u001b[0m sleep(\u001b[38;5;241m5\u001b[39m)\n\u001b[1;32m     51\u001b[0m search \u001b[38;5;241m=\u001b[39m driver\u001b[38;5;241m.\u001b[39mfind_element(by\u001b[38;5;241m=\u001b[39mBy\u001b[38;5;241m.\u001b[39mXPATH, value\u001b[38;5;241m=\u001b[39m\u001b[38;5;124m'\u001b[39m\u001b[38;5;124m//*[@id=\u001b[39m\u001b[38;5;124m\"\u001b[39m\u001b[38;5;124msearch-time-button\u001b[39m\u001b[38;5;124m\"\u001b[39m\u001b[38;5;124m]/button\u001b[39m\u001b[38;5;124m'\u001b[39m)\n\u001b[0;32m---> 52\u001b[0m \u001b[43msearch\u001b[49m\u001b[38;5;241;43m.\u001b[39;49m\u001b[43mclick\u001b[49m\u001b[43m(\u001b[49m\u001b[43m)\u001b[49m\n\u001b[1;32m     53\u001b[0m sleep(\u001b[38;5;241m5\u001b[39m)\n\u001b[1;32m     54\u001b[0m response\u001b[38;5;241m=\u001b[39mdriver\u001b[38;5;241m.\u001b[39mfind_element(by\u001b[38;5;241m=\u001b[39mBy\u001b[38;5;241m.\u001b[39mXPATH, value\u001b[38;5;241m=\u001b[39m\u001b[38;5;124m\"\u001b[39m\u001b[38;5;124m(//div[@class=\u001b[39m\u001b[38;5;124m'\u001b[39m\u001b[38;5;124mhead\u001b[39m\u001b[38;5;124m'\u001b[39m\u001b[38;5;124m])[1]\u001b[39m\u001b[38;5;124m\"\u001b[39m)\n",
      "File \u001b[0;32m~/anaconda3/envs/disney/lib/python3.10/site-packages/selenium/webdriver/remote/webelement.py:88\u001b[0m, in \u001b[0;36mWebElement.click\u001b[0;34m(self)\u001b[0m\n\u001b[1;32m     86\u001b[0m \u001b[38;5;28;01mdef\u001b[39;00m \u001b[38;5;21mclick\u001b[39m(\u001b[38;5;28mself\u001b[39m) \u001b[38;5;241m-\u001b[39m\u001b[38;5;241m>\u001b[39m \u001b[38;5;28;01mNone\u001b[39;00m:\n\u001b[1;32m     87\u001b[0m     \u001b[38;5;124;03m\"\"\"Clicks the element.\"\"\"\u001b[39;00m\n\u001b[0;32m---> 88\u001b[0m     \u001b[38;5;28;43mself\u001b[39;49m\u001b[38;5;241;43m.\u001b[39;49m\u001b[43m_execute\u001b[49m\u001b[43m(\u001b[49m\u001b[43mCommand\u001b[49m\u001b[38;5;241;43m.\u001b[39;49m\u001b[43mCLICK_ELEMENT\u001b[49m\u001b[43m)\u001b[49m\n",
      "File \u001b[0;32m~/anaconda3/envs/disney/lib/python3.10/site-packages/selenium/webdriver/remote/webelement.py:396\u001b[0m, in \u001b[0;36mWebElement._execute\u001b[0;34m(self, command, params)\u001b[0m\n\u001b[1;32m    394\u001b[0m     params \u001b[38;5;241m=\u001b[39m {}\n\u001b[1;32m    395\u001b[0m params[\u001b[38;5;124m'\u001b[39m\u001b[38;5;124mid\u001b[39m\u001b[38;5;124m'\u001b[39m] \u001b[38;5;241m=\u001b[39m \u001b[38;5;28mself\u001b[39m\u001b[38;5;241m.\u001b[39m_id\n\u001b[0;32m--> 396\u001b[0m \u001b[38;5;28;01mreturn\u001b[39;00m \u001b[38;5;28;43mself\u001b[39;49m\u001b[38;5;241;43m.\u001b[39;49m\u001b[43m_parent\u001b[49m\u001b[38;5;241;43m.\u001b[39;49m\u001b[43mexecute\u001b[49m\u001b[43m(\u001b[49m\u001b[43mcommand\u001b[49m\u001b[43m,\u001b[49m\u001b[43m \u001b[49m\u001b[43mparams\u001b[49m\u001b[43m)\u001b[49m\n",
      "File \u001b[0;32m~/anaconda3/envs/disney/lib/python3.10/site-packages/selenium/webdriver/remote/webdriver.py:435\u001b[0m, in \u001b[0;36mWebDriver.execute\u001b[0;34m(self, driver_command, params)\u001b[0m\n\u001b[1;32m    433\u001b[0m response \u001b[38;5;241m=\u001b[39m \u001b[38;5;28mself\u001b[39m\u001b[38;5;241m.\u001b[39mcommand_executor\u001b[38;5;241m.\u001b[39mexecute(driver_command, params)\n\u001b[1;32m    434\u001b[0m \u001b[38;5;28;01mif\u001b[39;00m response:\n\u001b[0;32m--> 435\u001b[0m     \u001b[38;5;28;43mself\u001b[39;49m\u001b[38;5;241;43m.\u001b[39;49m\u001b[43merror_handler\u001b[49m\u001b[38;5;241;43m.\u001b[39;49m\u001b[43mcheck_response\u001b[49m\u001b[43m(\u001b[49m\u001b[43mresponse\u001b[49m\u001b[43m)\u001b[49m\n\u001b[1;32m    436\u001b[0m     response[\u001b[38;5;124m'\u001b[39m\u001b[38;5;124mvalue\u001b[39m\u001b[38;5;124m'\u001b[39m] \u001b[38;5;241m=\u001b[39m \u001b[38;5;28mself\u001b[39m\u001b[38;5;241m.\u001b[39m_unwrap_value(\n\u001b[1;32m    437\u001b[0m         response\u001b[38;5;241m.\u001b[39mget(\u001b[38;5;124m'\u001b[39m\u001b[38;5;124mvalue\u001b[39m\u001b[38;5;124m'\u001b[39m, \u001b[38;5;28;01mNone\u001b[39;00m))\n\u001b[1;32m    438\u001b[0m     \u001b[38;5;28;01mreturn\u001b[39;00m response\n",
      "File \u001b[0;32m~/anaconda3/envs/disney/lib/python3.10/site-packages/selenium/webdriver/remote/errorhandler.py:247\u001b[0m, in \u001b[0;36mErrorHandler.check_response\u001b[0;34m(self, response)\u001b[0m\n\u001b[1;32m    245\u001b[0m         alert_text \u001b[38;5;241m=\u001b[39m value[\u001b[38;5;124m'\u001b[39m\u001b[38;5;124malert\u001b[39m\u001b[38;5;124m'\u001b[39m]\u001b[38;5;241m.\u001b[39mget(\u001b[38;5;124m'\u001b[39m\u001b[38;5;124mtext\u001b[39m\u001b[38;5;124m'\u001b[39m)\n\u001b[1;32m    246\u001b[0m     \u001b[38;5;28;01mraise\u001b[39;00m exception_class(message, screen, stacktrace, alert_text)  \u001b[38;5;66;03m# type: ignore[call-arg]  # mypy is not smart enough here\u001b[39;00m\n\u001b[0;32m--> 247\u001b[0m \u001b[38;5;28;01mraise\u001b[39;00m exception_class(message, screen, stacktrace)\n",
      "\u001b[0;31mElementNotInteractableException\u001b[0m: Message: element not interactable\n  (Session info: chrome=103.0.5060.114)\nStacktrace:\n#0 0x55b916366b13 <unknown>\n#1 0x55b91616d51f <unknown>\n#2 0x55b9161a5d87 <unknown>\n#3 0x55b916199e59 <unknown>\n#4 0x55b9161c28b2 <unknown>\n#5 0x55b916199713 <unknown>\n#6 0x55b9161c29be <unknown>\n#7 0x55b9161d5b94 <unknown>\n#8 0x55b9161c27a3 <unknown>\n#9 0x55b9161980ea <unknown>\n#10 0x55b916199225 <unknown>\n#11 0x55b9163ae2dd <unknown>\n#12 0x55b9163b22c7 <unknown>\n#13 0x55b91639822e <unknown>\n#14 0x55b9163b30a8 <unknown>\n#15 0x55b91638cbc0 <unknown>\n#16 0x55b9163cf6c8 <unknown>\n#17 0x55b9163cf848 <unknown>\n#18 0x55b9163e9c0d <unknown>\n#19 0x7f65a334f609 <unknown>\n"
     ]
    }
   ],
   "source": [
    "\n",
    "    print(\"Start Time : \"+str(datetime.datetime.now().time()))\n",
    "    # browser.get(Login)\n",
    "    browser.get(URL)\n",
    "    driver = browser\n",
    "    sleep(10)\n",
    "    # open calendar \n",
    "    OpenCal = \"\"\" return document\n",
    "    .querySelector(\"#calendar > button\")\"\"\"\n",
    "    OpenCal=driver.execute_script(OpenCal)\n",
    "    OpenCal.click()\n",
    "    # click date \n",
    "    select_date = driver.find_element(by=By.XPATH, value='//*[@id=\"finderDetailsContainer-90001248;entityType=restaurant\"]/div[1]/finder-aag/div/div[2]/div/div[2]/finder-date-picker-wrapper/div/finder-calendar/div/div[2]/table/tbody/tr[3]/td[7]/a')\n",
    "    select_date.click()\n",
    "    sleep(7)\n",
    "    # open availbility \n",
    "    Check = driver.find_element(by=By.XPATH, value='//*[@id=\"finderDetailsContainer-90001248;entityType=restaurant\"]/div[1]/finder-aag/div/div[2]/div/finder-button/button')\n",
    "    Check.click()\n",
    "    sleep(2)\n",
    "\n",
    "    # gets the party size button and adds 2\n",
    "    plus = \"\"\" return document\n",
    "    .querySelector(\"#modal-content-0 > div.body.ng-tns-c17-5 > finder-availability-modal > div > div.availability-section > div.party-size > wdpr-counter\")\n",
    "    .shadowRoot.querySelector(\"#plusButton\")\"\"\"\n",
    "    push=driver.execute_script(plus)\n",
    "    push.click()\n",
    "    push.click()\n",
    "    # search time \n",
    "    search = driver.find_element(by=By.XPATH, value='//*[@id=\"search-time-button\"]/button')\n",
    "    search.click()\n",
    "    sleep(5)\n",
    "    # print(\"setting time\")\n",
    "    # # # sets time to 8pm \n",
    "    # browser.find_element(By.CSS_SELECTOR,  \"wdpr-single-select[value='20:00:00']\")\n",
    "    # # Select\n",
    "    # submit = driver.find_element(by=By.XPATH, value=\"//button[normalize-space()='Search Times']\")\n",
    "    # submit.click()\n",
    "    # sleep(5)\n",
    "    response=driver.find_element(by=By.XPATH, value=\"(//div[@class='head'])[1]\")\n",
    "    response.text\n",
    "    sleep(5)\n",
    "    if response.text == 'Sorry!':\n",
    "        driver.find_element(by=By.XPATH, value='//*[@id=\"modal-content-0\"]/button[1]/finder-font-icon/span').click()\n",
    "    else:\n",
    "        mtxt.send(num_list,'testing')\n",
    "    print(\"Last Complete Time : \"+str(datetime.datetime.now().time()))\n",
    "    sleep(5)\n",
    "    while(True):    \n",
    "        Check = driver.find_element(by=By.XPATH, value='//*[@id=\"finderDetailsContainer-90001248;entityType=restaurant\"]/div[1]/finder-aag/div/div[2]/div/finder-button/button')\n",
    "        Check.click()\n",
    "        sleep(5)\n",
    "        search = driver.find_element(by=By.XPATH, value='//*[@id=\"search-time-button\"]/button')\n",
    "        search.click()\n",
    "        sleep(5)\n",
    "        response=driver.find_element(by=By.XPATH, value=\"(//div[@class='head'])[1]\")\n",
    "        response.text\n",
    "        sleep(2)\n",
    "        if response.text == 'Sorry!':\n",
    "            driver.find_element(by=By.XPATH, value='//*[@id=\"modal-content-0\"]/button[1]/finder-font-icon/span').click()\n",
    "        else:\n",
    "            mtxt.send(num_list,'testing')\n",
    "        print(\"Last Complete Time : \"+str(datetime.datetime.now().time()))\n",
    "        time.sleep(30)"
   ]
  },
  {
   "cell_type": "code",
   "execution_count": 101,
   "id": "85bbe8be",
   "metadata": {},
   "outputs": [
    {
     "name": "stdout",
     "output_type": "stream",
     "text": [
      "Last Complete Time : 16:19:59.783381\n"
     ]
    }
   ],
   "source": []
  },
  {
   "cell_type": "code",
   "execution_count": 114,
   "id": "b18efbe9",
   "metadata": {},
   "outputs": [],
   "source": [
    "browser.get(URL)"
   ]
  },
  {
   "cell_type": "code",
   "execution_count": 123,
   "id": "489fa969",
   "metadata": {},
   "outputs": [],
   "source": [
    "    driver = browser\n",
    "    OpenCal = \"\"\" return document\n",
    "    .querySelector(\"#calendar > button\")\"\"\"\n",
    "    OpenCal=driver.execute_script(OpenCal)\n",
    "    OpenCal.click()\n",
    "    # click date \n",
    "    select_date = driver.find_element(by=By.XPATH, value='//*[@id=\"finderDetailsContainer-90001248;entityType=restaurant\"]/div[1]/finder-aag/div/div[2]/div/div[2]/finder-date-picker-wrapper/div/finder-calendar/div/div[2]/table/tbody/tr[3]/td[7]/a')\n",
    "    select_date.click()\n",
    "    sleep(7)\n",
    "    # open availbility \n",
    "    Check = driver.find_element(by=By.XPATH, value='//*[@id=\"finderDetailsContainer-90001248;entityType=restaurant\"]/div[1]/finder-aag/div/div[2]/div/finder-button/button')\n",
    "    Check.click()\n",
    "    sleep(2)"
   ]
  },
  {
   "cell_type": "code",
   "execution_count": 118,
   "id": "edb7a1fd",
   "metadata": {},
   "outputs": [],
   "source": [
    "    # gets the party size button and adds 2\n",
    "    plus = \"\"\" return document\n",
    "    .querySelector(\"#modal-content-0 > div.body.ng-tns-c17-5 > finder-availability-modal > div > div.availability-section > div.party-size > wdpr-counter\")\n",
    "    .shadowRoot.querySelector(\"#plusButton\")\"\"\"\n",
    "    push=driver.execute_script(plus)\n",
    "    push.click()\n",
    "    push.click()\n",
    "    # search time \n",
    "    search = driver.find_element(by=By.XPATH, value='//*[@id=\"search-time-button\"]/button')\n",
    "    search.click()\n",
    "    sleep(5)"
   ]
  },
  {
   "cell_type": "code",
   "execution_count": 120,
   "id": "22edfd4d",
   "metadata": {},
   "outputs": [],
   "source": []
  },
  {
   "cell_type": "code",
   "execution_count": 128,
   "id": "a6ac4394",
   "metadata": {},
   "outputs": [],
   "source": [
    "x.click()"
   ]
  },
  {
   "cell_type": "code",
   "execution_count": 129,
   "id": "254245ef",
   "metadata": {},
   "outputs": [],
   "source": []
  },
  {
   "cell_type": "code",
   "execution_count": 127,
   "id": "54b05fa1",
   "metadata": {},
   "outputs": [],
   "source": []
  },
  {
   "cell_type": "code",
   "execution_count": null,
   "id": "e61a5102",
   "metadata": {},
   "outputs": [],
   "source": []
  },
  {
   "cell_type": "code",
   "execution_count": 49,
   "id": "392cbbdb",
   "metadata": {},
   "outputs": [
    {
     "ename": "AttributeError",
     "evalue": "'NoneType' object has no attribute 'click'",
     "output_type": "error",
     "traceback": [
      "\u001b[0;31m---------------------------------------------------------------------------\u001b[0m",
      "\u001b[0;31mAttributeError\u001b[0m                            Traceback (most recent call last)",
      "Input \u001b[0;32mIn [49]\u001b[0m, in \u001b[0;36m<cell line: 9>\u001b[0;34m()\u001b[0m\n\u001b[1;32m      2\u001b[0m timelist \u001b[38;5;241m=\u001b[39m \u001b[38;5;124m\"\"\"\u001b[39m\u001b[38;5;124m return document\u001b[39m\n\u001b[1;32m      3\u001b[0m \u001b[38;5;124m.querySelector(\u001b[39m\u001b[38;5;124m\"\u001b[39m\u001b[38;5;124m#modal-content-0 > div.body.ng-tns-c17-5 > finder-availability-modal > div > div.availability-section > wdpr-single-select\u001b[39m\u001b[38;5;124m\"\u001b[39m\u001b[38;5;124m).shadowRoot\u001b[39m\n\u001b[1;32m      4\u001b[0m \u001b[38;5;124m.querySelector(\u001b[39m\u001b[38;5;124m\"\u001b[39m\u001b[38;5;124m#custom-dropdown-button > div.button-text-container > i\u001b[39m\u001b[38;5;124m\"\u001b[39m\u001b[38;5;124m)\u001b[39m\n\u001b[1;32m      5\u001b[0m \u001b[38;5;124m.querySelector(\u001b[39m\u001b[38;5;124m\"\u001b[39m\u001b[38;5;124mdiv:nth-child(3) > ul:nth-child(2) > li:nth-child(10)\u001b[39m\u001b[38;5;124m\"\u001b[39m\u001b[38;5;124m)\u001b[39m\n\u001b[1;32m      6\u001b[0m \u001b[38;5;124m\"\"\"\u001b[39m\n\u001b[1;32m      8\u001b[0m tlist\u001b[38;5;241m=\u001b[39mdriver\u001b[38;5;241m.\u001b[39mexecute_script(timelist)\n\u001b[0;32m----> 9\u001b[0m \u001b[43mtlist\u001b[49m\u001b[38;5;241;43m.\u001b[39;49m\u001b[43mclick\u001b[49m()\n",
      "\u001b[0;31mAttributeError\u001b[0m: 'NoneType' object has no attribute 'click'"
     ]
    }
   ],
   "source": [
    "# OpenCal.click()\n",
    "timelist = \"\"\" return document\n",
    ".querySelector(\"#modal-content-0 > div.body.ng-tns-c17-5 > finder-availability-modal > div > div.availability-section > wdpr-single-select\").shadowRoot\n",
    ".querySelector(\"#custom-dropdown-button > div.button-text-container > i\")\n",
    "\n",
    "\"\"\"\n",
    "\n",
    "tlist=driver.execute_script(timelist)\n",
    "tlist.click()"
   ]
  },
  {
   "cell_type": "code",
   "execution_count": 47,
   "id": "a8302b84",
   "metadata": {},
   "outputs": [],
   "source": [
    "eight = \"\"\" return document\n",
    ".querySelector(\"div:nth-child(3) > ul:nth-child(2) > li:nth-child(10)\")\"\"\"\n",
    "t=driver.execute_script(eight)\n"
   ]
  },
  {
   "cell_type": "code",
   "execution_count": 26,
   "id": "9972fb3a",
   "metadata": {},
   "outputs": [
    {
     "ename": "NoSuchElementException",
     "evalue": "Message: no such element: Unable to locate element: {\"method\":\"css selector\",\"selector\":\" div:nth-child(3) > button:nth-child(1) > div:nth-child(2) > i:nth-child(3)\"}\n  (Session info: chrome=103.0.5060.114)\nStacktrace:\n#0 0x55e439feab13 <unknown>\n#1 0x55e439df1688 <unknown>\n#2 0x55e439e28cc7 <unknown>\n#3 0x55e439e28e91 <unknown>\n#4 0x55e439e5be34 <unknown>\n#5 0x55e439e468dd <unknown>\n#6 0x55e439e59b94 <unknown>\n#7 0x55e439e467a3 <unknown>\n#8 0x55e439e1c0ea <unknown>\n#9 0x55e439e1d225 <unknown>\n#10 0x55e43a0322dd <unknown>\n#11 0x55e43a0362c7 <unknown>\n#12 0x55e43a01c22e <unknown>\n#13 0x55e43a0370a8 <unknown>\n#14 0x55e43a010bc0 <unknown>\n#15 0x55e43a0536c8 <unknown>\n#16 0x55e43a053848 <unknown>\n#17 0x55e43a06dc0d <unknown>\n#18 0x7f64ee7f0609 <unknown>\n",
     "output_type": "error",
     "traceback": [
      "\u001b[0;31m---------------------------------------------------------------------------\u001b[0m",
      "\u001b[0;31mNoSuchElementException\u001b[0m                    Traceback (most recent call last)",
      "Input \u001b[0;32mIn [26]\u001b[0m, in \u001b[0;36m<cell line: 1>\u001b[0;34m()\u001b[0m\n\u001b[0;32m----> 1\u001b[0m \u001b[43mbrowser\u001b[49m\u001b[38;5;241;43m.\u001b[39;49m\u001b[43mfind_element\u001b[49m\u001b[43m(\u001b[49m\u001b[43mBy\u001b[49m\u001b[38;5;241;43m.\u001b[39;49m\u001b[43mCSS_SELECTOR\u001b[49m\u001b[43m,\u001b[49m\u001b[38;5;124;43m\"\u001b[39;49m\u001b[38;5;124;43m div:nth-child(3) > button:nth-child(1) > div:nth-child(2) > i:nth-child(3)\u001b[39;49m\u001b[38;5;124;43m\"\u001b[39;49m\u001b[43m)\u001b[49m\n",
      "File \u001b[0;32m~/anaconda3/envs/disney/lib/python3.10/site-packages/selenium/webdriver/remote/webdriver.py:857\u001b[0m, in \u001b[0;36mWebDriver.find_element\u001b[0;34m(self, by, value)\u001b[0m\n\u001b[1;32m    854\u001b[0m     by \u001b[38;5;241m=\u001b[39m By\u001b[38;5;241m.\u001b[39mCSS_SELECTOR\n\u001b[1;32m    855\u001b[0m     value \u001b[38;5;241m=\u001b[39m \u001b[38;5;124m'\u001b[39m\u001b[38;5;124m[name=\u001b[39m\u001b[38;5;124m\"\u001b[39m\u001b[38;5;132;01m%s\u001b[39;00m\u001b[38;5;124m\"\u001b[39m\u001b[38;5;124m]\u001b[39m\u001b[38;5;124m'\u001b[39m \u001b[38;5;241m%\u001b[39m value\n\u001b[0;32m--> 857\u001b[0m \u001b[38;5;28;01mreturn\u001b[39;00m \u001b[38;5;28;43mself\u001b[39;49m\u001b[38;5;241;43m.\u001b[39;49m\u001b[43mexecute\u001b[49m\u001b[43m(\u001b[49m\u001b[43mCommand\u001b[49m\u001b[38;5;241;43m.\u001b[39;49m\u001b[43mFIND_ELEMENT\u001b[49m\u001b[43m,\u001b[49m\u001b[43m \u001b[49m\u001b[43m{\u001b[49m\n\u001b[1;32m    858\u001b[0m \u001b[43m    \u001b[49m\u001b[38;5;124;43m'\u001b[39;49m\u001b[38;5;124;43musing\u001b[39;49m\u001b[38;5;124;43m'\u001b[39;49m\u001b[43m:\u001b[49m\u001b[43m \u001b[49m\u001b[43mby\u001b[49m\u001b[43m,\u001b[49m\n\u001b[1;32m    859\u001b[0m \u001b[43m    \u001b[49m\u001b[38;5;124;43m'\u001b[39;49m\u001b[38;5;124;43mvalue\u001b[39;49m\u001b[38;5;124;43m'\u001b[39;49m\u001b[43m:\u001b[49m\u001b[43m \u001b[49m\u001b[43mvalue\u001b[49m\u001b[43m}\u001b[49m\u001b[43m)\u001b[49m[\u001b[38;5;124m'\u001b[39m\u001b[38;5;124mvalue\u001b[39m\u001b[38;5;124m'\u001b[39m]\n",
      "File \u001b[0;32m~/anaconda3/envs/disney/lib/python3.10/site-packages/selenium/webdriver/remote/webdriver.py:435\u001b[0m, in \u001b[0;36mWebDriver.execute\u001b[0;34m(self, driver_command, params)\u001b[0m\n\u001b[1;32m    433\u001b[0m response \u001b[38;5;241m=\u001b[39m \u001b[38;5;28mself\u001b[39m\u001b[38;5;241m.\u001b[39mcommand_executor\u001b[38;5;241m.\u001b[39mexecute(driver_command, params)\n\u001b[1;32m    434\u001b[0m \u001b[38;5;28;01mif\u001b[39;00m response:\n\u001b[0;32m--> 435\u001b[0m     \u001b[38;5;28;43mself\u001b[39;49m\u001b[38;5;241;43m.\u001b[39;49m\u001b[43merror_handler\u001b[49m\u001b[38;5;241;43m.\u001b[39;49m\u001b[43mcheck_response\u001b[49m\u001b[43m(\u001b[49m\u001b[43mresponse\u001b[49m\u001b[43m)\u001b[49m\n\u001b[1;32m    436\u001b[0m     response[\u001b[38;5;124m'\u001b[39m\u001b[38;5;124mvalue\u001b[39m\u001b[38;5;124m'\u001b[39m] \u001b[38;5;241m=\u001b[39m \u001b[38;5;28mself\u001b[39m\u001b[38;5;241m.\u001b[39m_unwrap_value(\n\u001b[1;32m    437\u001b[0m         response\u001b[38;5;241m.\u001b[39mget(\u001b[38;5;124m'\u001b[39m\u001b[38;5;124mvalue\u001b[39m\u001b[38;5;124m'\u001b[39m, \u001b[38;5;28;01mNone\u001b[39;00m))\n\u001b[1;32m    438\u001b[0m     \u001b[38;5;28;01mreturn\u001b[39;00m response\n",
      "File \u001b[0;32m~/anaconda3/envs/disney/lib/python3.10/site-packages/selenium/webdriver/remote/errorhandler.py:247\u001b[0m, in \u001b[0;36mErrorHandler.check_response\u001b[0;34m(self, response)\u001b[0m\n\u001b[1;32m    245\u001b[0m         alert_text \u001b[38;5;241m=\u001b[39m value[\u001b[38;5;124m'\u001b[39m\u001b[38;5;124malert\u001b[39m\u001b[38;5;124m'\u001b[39m]\u001b[38;5;241m.\u001b[39mget(\u001b[38;5;124m'\u001b[39m\u001b[38;5;124mtext\u001b[39m\u001b[38;5;124m'\u001b[39m)\n\u001b[1;32m    246\u001b[0m     \u001b[38;5;28;01mraise\u001b[39;00m exception_class(message, screen, stacktrace, alert_text)  \u001b[38;5;66;03m# type: ignore[call-arg]  # mypy is not smart enough here\u001b[39;00m\n\u001b[0;32m--> 247\u001b[0m \u001b[38;5;28;01mraise\u001b[39;00m exception_class(message, screen, stacktrace)\n",
      "\u001b[0;31mNoSuchElementException\u001b[0m: Message: no such element: Unable to locate element: {\"method\":\"css selector\",\"selector\":\" div:nth-child(3) > button:nth-child(1) > div:nth-child(2) > i:nth-child(3)\"}\n  (Session info: chrome=103.0.5060.114)\nStacktrace:\n#0 0x55e439feab13 <unknown>\n#1 0x55e439df1688 <unknown>\n#2 0x55e439e28cc7 <unknown>\n#3 0x55e439e28e91 <unknown>\n#4 0x55e439e5be34 <unknown>\n#5 0x55e439e468dd <unknown>\n#6 0x55e439e59b94 <unknown>\n#7 0x55e439e467a3 <unknown>\n#8 0x55e439e1c0ea <unknown>\n#9 0x55e439e1d225 <unknown>\n#10 0x55e43a0322dd <unknown>\n#11 0x55e43a0362c7 <unknown>\n#12 0x55e43a01c22e <unknown>\n#13 0x55e43a0370a8 <unknown>\n#14 0x55e43a010bc0 <unknown>\n#15 0x55e43a0536c8 <unknown>\n#16 0x55e43a053848 <unknown>\n#17 0x55e43a06dc0d <unknown>\n#18 0x7f64ee7f0609 <unknown>\n"
     ]
    }
   ],
   "source": [
    "browser.find_element(By.CSS_SELECTOR,\" div:nth-child(3) > button:nth-child(1) > div:nth-child(2) > i:nth-child(3)\")"
   ]
  },
  {
   "cell_type": "code",
   "execution_count": null,
   "id": "e65e8b26",
   "metadata": {},
   "outputs": [],
   "source": [
    "\"\"\"return document\n",
    ".querySelector(\"#modal-content-0 > div.body.ng-tns-c17-5 > finder-availability-modal > div > div.availability-section > wdpr-single-select\").shadowroot\n"
   ]
  },
  {
   "cell_type": "code",
   "execution_count": 58,
   "id": "b10c8fdc",
   "metadata": {},
   "outputs": [],
   "source": [
    "# this works only if alreay selected. need to hit the button first. fix. \n",
    "dinner =browser.find_element(By.CSS_SELECTOR,  \"wdpr-single-select[value='80000714']\")\n",
    "dinner.click()\n",
    "# browser.find_element(By.CSS_SELECTOR,  \"wdpr-single-select[value='20:00:00']\")"
   ]
  },
  {
   "cell_type": "code",
   "execution_count": 71,
   "id": "9a1a244e",
   "metadata": {},
   "outputs": [
    {
     "ename": "InvalidElementStateException",
     "evalue": "Message: invalid element state: Failed to execute 'querySelector' on 'DocumentFragment': '#option-20:00:00' is not a valid selector.\n  (Session info: chrome=103.0.5060.114)\nStacktrace:\n#0 0x55eb73375b13 <unknown>\n#1 0x55eb7317c688 <unknown>\n#2 0x55eb7317f4e7 <unknown>\n#3 0x55eb7317f38b <unknown>\n#4 0x55eb7317ff22 <unknown>\n#5 0x55eb731e5773 <unknown>\n#6 0x55eb731d18b2 <unknown>\n#7 0x55eb731e4b94 <unknown>\n#8 0x55eb731d17a3 <unknown>\n#9 0x55eb731a70ea <unknown>\n#10 0x55eb731a8225 <unknown>\n#11 0x55eb733bd2dd <unknown>\n#12 0x55eb733c12c7 <unknown>\n#13 0x55eb733a722e <unknown>\n#14 0x55eb733c20a8 <unknown>\n#15 0x55eb7339bbc0 <unknown>\n#16 0x55eb733de6c8 <unknown>\n#17 0x55eb733de848 <unknown>\n#18 0x55eb733f8c0d <unknown>\n#19 0x7f2bdddba609 <unknown>\n",
     "output_type": "error",
     "traceback": [
      "\u001b[0;31m---------------------------------------------------------------------------\u001b[0m",
      "\u001b[0;31mInvalidElementStateException\u001b[0m              Traceback (most recent call last)",
      "Input \u001b[0;32mIn [71]\u001b[0m, in \u001b[0;36m<cell line: 6>\u001b[0;34m()\u001b[0m\n\u001b[1;32m      1\u001b[0m gt \u001b[38;5;241m=\u001b[39m \u001b[38;5;124m\"\"\"\u001b[39m\u001b[38;5;124m return document\u001b[39m\n\u001b[1;32m      2\u001b[0m \u001b[38;5;124m.querySelector(\u001b[39m\u001b[38;5;124m\"\u001b[39m\u001b[38;5;124m#modal-content-0 > div.body.ng-tns-c17-5 > finder-availability-modal > div > div.availability-section > wdpr-single-select\u001b[39m\u001b[38;5;124m\"\u001b[39m\u001b[38;5;124m).shadowRoot\u001b[39m\n\u001b[1;32m      3\u001b[0m \u001b[38;5;124m.querySelector(\u001b[39m\u001b[38;5;124m\"\u001b[39m\u001b[38;5;124m#option-20\u001b[39m\u001b[38;5;124m\\\u001b[39m\u001b[38;5;124m:00\u001b[39m\u001b[38;5;124m\\\u001b[39m\u001b[38;5;124m:00\u001b[39m\u001b[38;5;124m\"\u001b[39m\u001b[38;5;124m)\u001b[39m\u001b[38;5;124m\"\"\"\u001b[39m\n\u001b[1;32m      5\u001b[0m \u001b[38;5;66;03m# document.querySelector(\"#modal-content-0 > div.body.ng-tns-c17-5 > finder-availability-modal > div > div.availability-section > wdpr-single-select\").shadowRoot.querySelector(\"#option-20\\\\:00\\\\:00\")\u001b[39;00m\n\u001b[0;32m----> 6\u001b[0m gtt\u001b[38;5;241m=\u001b[39m\u001b[43mdriver\u001b[49m\u001b[38;5;241;43m.\u001b[39;49m\u001b[43mexecute_script\u001b[49m\u001b[43m(\u001b[49m\u001b[43mgt\u001b[49m\u001b[43m)\u001b[49m\n\u001b[1;32m      7\u001b[0m dinner\u001b[38;5;241m.\u001b[39mclick()\n",
      "File \u001b[0;32m~/anaconda3/envs/disney/lib/python3.10/site-packages/selenium/webdriver/remote/webdriver.py:493\u001b[0m, in \u001b[0;36mWebDriver.execute_script\u001b[0;34m(self, script, *args)\u001b[0m\n\u001b[1;32m    490\u001b[0m converted_args \u001b[38;5;241m=\u001b[39m \u001b[38;5;28mlist\u001b[39m(args)\n\u001b[1;32m    491\u001b[0m command \u001b[38;5;241m=\u001b[39m Command\u001b[38;5;241m.\u001b[39mW3C_EXECUTE_SCRIPT\n\u001b[0;32m--> 493\u001b[0m \u001b[38;5;28;01mreturn\u001b[39;00m \u001b[38;5;28;43mself\u001b[39;49m\u001b[38;5;241;43m.\u001b[39;49m\u001b[43mexecute\u001b[49m\u001b[43m(\u001b[49m\u001b[43mcommand\u001b[49m\u001b[43m,\u001b[49m\u001b[43m \u001b[49m\u001b[43m{\u001b[49m\n\u001b[1;32m    494\u001b[0m \u001b[43m    \u001b[49m\u001b[38;5;124;43m'\u001b[39;49m\u001b[38;5;124;43mscript\u001b[39;49m\u001b[38;5;124;43m'\u001b[39;49m\u001b[43m:\u001b[49m\u001b[43m \u001b[49m\u001b[43mscript\u001b[49m\u001b[43m,\u001b[49m\n\u001b[1;32m    495\u001b[0m \u001b[43m    \u001b[49m\u001b[38;5;124;43m'\u001b[39;49m\u001b[38;5;124;43margs\u001b[39;49m\u001b[38;5;124;43m'\u001b[39;49m\u001b[43m:\u001b[49m\u001b[43m \u001b[49m\u001b[43mconverted_args\u001b[49m\u001b[43m}\u001b[49m\u001b[43m)\u001b[49m[\u001b[38;5;124m'\u001b[39m\u001b[38;5;124mvalue\u001b[39m\u001b[38;5;124m'\u001b[39m]\n",
      "File \u001b[0;32m~/anaconda3/envs/disney/lib/python3.10/site-packages/selenium/webdriver/remote/webdriver.py:435\u001b[0m, in \u001b[0;36mWebDriver.execute\u001b[0;34m(self, driver_command, params)\u001b[0m\n\u001b[1;32m    433\u001b[0m response \u001b[38;5;241m=\u001b[39m \u001b[38;5;28mself\u001b[39m\u001b[38;5;241m.\u001b[39mcommand_executor\u001b[38;5;241m.\u001b[39mexecute(driver_command, params)\n\u001b[1;32m    434\u001b[0m \u001b[38;5;28;01mif\u001b[39;00m response:\n\u001b[0;32m--> 435\u001b[0m     \u001b[38;5;28;43mself\u001b[39;49m\u001b[38;5;241;43m.\u001b[39;49m\u001b[43merror_handler\u001b[49m\u001b[38;5;241;43m.\u001b[39;49m\u001b[43mcheck_response\u001b[49m\u001b[43m(\u001b[49m\u001b[43mresponse\u001b[49m\u001b[43m)\u001b[49m\n\u001b[1;32m    436\u001b[0m     response[\u001b[38;5;124m'\u001b[39m\u001b[38;5;124mvalue\u001b[39m\u001b[38;5;124m'\u001b[39m] \u001b[38;5;241m=\u001b[39m \u001b[38;5;28mself\u001b[39m\u001b[38;5;241m.\u001b[39m_unwrap_value(\n\u001b[1;32m    437\u001b[0m         response\u001b[38;5;241m.\u001b[39mget(\u001b[38;5;124m'\u001b[39m\u001b[38;5;124mvalue\u001b[39m\u001b[38;5;124m'\u001b[39m, \u001b[38;5;28;01mNone\u001b[39;00m))\n\u001b[1;32m    438\u001b[0m     \u001b[38;5;28;01mreturn\u001b[39;00m response\n",
      "File \u001b[0;32m~/anaconda3/envs/disney/lib/python3.10/site-packages/selenium/webdriver/remote/errorhandler.py:247\u001b[0m, in \u001b[0;36mErrorHandler.check_response\u001b[0;34m(self, response)\u001b[0m\n\u001b[1;32m    245\u001b[0m         alert_text \u001b[38;5;241m=\u001b[39m value[\u001b[38;5;124m'\u001b[39m\u001b[38;5;124malert\u001b[39m\u001b[38;5;124m'\u001b[39m]\u001b[38;5;241m.\u001b[39mget(\u001b[38;5;124m'\u001b[39m\u001b[38;5;124mtext\u001b[39m\u001b[38;5;124m'\u001b[39m)\n\u001b[1;32m    246\u001b[0m     \u001b[38;5;28;01mraise\u001b[39;00m exception_class(message, screen, stacktrace, alert_text)  \u001b[38;5;66;03m# type: ignore[call-arg]  # mypy is not smart enough here\u001b[39;00m\n\u001b[0;32m--> 247\u001b[0m \u001b[38;5;28;01mraise\u001b[39;00m exception_class(message, screen, stacktrace)\n",
      "\u001b[0;31mInvalidElementStateException\u001b[0m: Message: invalid element state: Failed to execute 'querySelector' on 'DocumentFragment': '#option-20:00:00' is not a valid selector.\n  (Session info: chrome=103.0.5060.114)\nStacktrace:\n#0 0x55eb73375b13 <unknown>\n#1 0x55eb7317c688 <unknown>\n#2 0x55eb7317f4e7 <unknown>\n#3 0x55eb7317f38b <unknown>\n#4 0x55eb7317ff22 <unknown>\n#5 0x55eb731e5773 <unknown>\n#6 0x55eb731d18b2 <unknown>\n#7 0x55eb731e4b94 <unknown>\n#8 0x55eb731d17a3 <unknown>\n#9 0x55eb731a70ea <unknown>\n#10 0x55eb731a8225 <unknown>\n#11 0x55eb733bd2dd <unknown>\n#12 0x55eb733c12c7 <unknown>\n#13 0x55eb733a722e <unknown>\n#14 0x55eb733c20a8 <unknown>\n#15 0x55eb7339bbc0 <unknown>\n#16 0x55eb733de6c8 <unknown>\n#17 0x55eb733de848 <unknown>\n#18 0x55eb733f8c0d <unknown>\n#19 0x7f2bdddba609 <unknown>\n"
     ]
    }
   ],
   "source": [
    "gt = \"\"\" return document\n",
    ".querySelector(\"#modal-content-0 > div.body.ng-tns-c17-5 > finder-availability-modal > div > div.availability-section > wdpr-single-select\").shadowRoot\n",
    ".querySelector(\"#option-20\\:00\\:00\")\"\"\"\n",
    "\n",
    "# document.querySelector(\"#modal-content-0 > div.body.ng-tns-c17-5 > finder-availability-modal > div > div.availability-section > wdpr-single-select\").shadowRoot.querySelector(\"#option-20\\\\:00\\\\:00\")\n",
    "gtt=driver.execute_script(gt)\n",
    "dinner.click()\n",
    "# gtt.click()"
   ]
  },
  {
   "cell_type": "code",
   "execution_count": null,
   "id": "dfdcaf97",
   "metadata": {},
   "outputs": [],
   "source": [
    "//*[@id=\"option-20:00:00\"]"
   ]
  },
  {
   "cell_type": "code",
   "execution_count": 56,
   "id": "5cee441b",
   "metadata": {},
   "outputs": [
    {
     "ename": "NoSuchElementException",
     "evalue": "Message: no such element: Unable to locate element: {\"method\":\"css selector\",\"selector\":\"wdpr-single-select[value='20:00:00']\"}\n  (Session info: chrome=103.0.5060.114)\nStacktrace:\n#0 0x55eb73375b13 <unknown>\n#1 0x55eb7317c688 <unknown>\n#2 0x55eb731b3cc7 <unknown>\n#3 0x55eb731b3e91 <unknown>\n#4 0x55eb731e6e34 <unknown>\n#5 0x55eb731d18dd <unknown>\n#6 0x55eb731e4b94 <unknown>\n#7 0x55eb731d17a3 <unknown>\n#8 0x55eb731a70ea <unknown>\n#9 0x55eb731a8225 <unknown>\n#10 0x55eb733bd2dd <unknown>\n#11 0x55eb733c12c7 <unknown>\n#12 0x55eb733a722e <unknown>\n#13 0x55eb733c20a8 <unknown>\n#14 0x55eb7339bbc0 <unknown>\n#15 0x55eb733de6c8 <unknown>\n#16 0x55eb733de848 <unknown>\n#17 0x55eb733f8c0d <unknown>\n#18 0x7f2bdddba609 <unknown>\n",
     "output_type": "error",
     "traceback": [
      "\u001b[0;31m---------------------------------------------------------------------------\u001b[0m",
      "\u001b[0;31mNoSuchElementException\u001b[0m                    Traceback (most recent call last)",
      "Input \u001b[0;32mIn [56]\u001b[0m, in \u001b[0;36m<cell line: 2>\u001b[0;34m()\u001b[0m\n\u001b[1;32m      1\u001b[0m \u001b[38;5;66;03m# this works only if alreay selected. need to hit the button first. fix. \u001b[39;00m\n\u001b[0;32m----> 2\u001b[0m \u001b[43mbrowser\u001b[49m\u001b[38;5;241;43m.\u001b[39;49m\u001b[43mfind_element\u001b[49m\u001b[43m(\u001b[49m\u001b[43mBy\u001b[49m\u001b[38;5;241;43m.\u001b[39;49m\u001b[43mCSS_SELECTOR\u001b[49m\u001b[43m,\u001b[49m\u001b[43m  \u001b[49m\u001b[38;5;124;43m\"\u001b[39;49m\u001b[38;5;124;43mwdpr-single-select[value=\u001b[39;49m\u001b[38;5;124;43m'\u001b[39;49m\u001b[38;5;124;43m20:00:00\u001b[39;49m\u001b[38;5;124;43m'\u001b[39;49m\u001b[38;5;124;43m]\u001b[39;49m\u001b[38;5;124;43m\"\u001b[39;49m\u001b[43m)\u001b[49m\n",
      "File \u001b[0;32m~/anaconda3/envs/disney/lib/python3.10/site-packages/selenium/webdriver/remote/webdriver.py:857\u001b[0m, in \u001b[0;36mWebDriver.find_element\u001b[0;34m(self, by, value)\u001b[0m\n\u001b[1;32m    854\u001b[0m     by \u001b[38;5;241m=\u001b[39m By\u001b[38;5;241m.\u001b[39mCSS_SELECTOR\n\u001b[1;32m    855\u001b[0m     value \u001b[38;5;241m=\u001b[39m \u001b[38;5;124m'\u001b[39m\u001b[38;5;124m[name=\u001b[39m\u001b[38;5;124m\"\u001b[39m\u001b[38;5;132;01m%s\u001b[39;00m\u001b[38;5;124m\"\u001b[39m\u001b[38;5;124m]\u001b[39m\u001b[38;5;124m'\u001b[39m \u001b[38;5;241m%\u001b[39m value\n\u001b[0;32m--> 857\u001b[0m \u001b[38;5;28;01mreturn\u001b[39;00m \u001b[38;5;28;43mself\u001b[39;49m\u001b[38;5;241;43m.\u001b[39;49m\u001b[43mexecute\u001b[49m\u001b[43m(\u001b[49m\u001b[43mCommand\u001b[49m\u001b[38;5;241;43m.\u001b[39;49m\u001b[43mFIND_ELEMENT\u001b[49m\u001b[43m,\u001b[49m\u001b[43m \u001b[49m\u001b[43m{\u001b[49m\n\u001b[1;32m    858\u001b[0m \u001b[43m    \u001b[49m\u001b[38;5;124;43m'\u001b[39;49m\u001b[38;5;124;43musing\u001b[39;49m\u001b[38;5;124;43m'\u001b[39;49m\u001b[43m:\u001b[49m\u001b[43m \u001b[49m\u001b[43mby\u001b[49m\u001b[43m,\u001b[49m\n\u001b[1;32m    859\u001b[0m \u001b[43m    \u001b[49m\u001b[38;5;124;43m'\u001b[39;49m\u001b[38;5;124;43mvalue\u001b[39;49m\u001b[38;5;124;43m'\u001b[39;49m\u001b[43m:\u001b[49m\u001b[43m \u001b[49m\u001b[43mvalue\u001b[49m\u001b[43m}\u001b[49m\u001b[43m)\u001b[49m[\u001b[38;5;124m'\u001b[39m\u001b[38;5;124mvalue\u001b[39m\u001b[38;5;124m'\u001b[39m]\n",
      "File \u001b[0;32m~/anaconda3/envs/disney/lib/python3.10/site-packages/selenium/webdriver/remote/webdriver.py:435\u001b[0m, in \u001b[0;36mWebDriver.execute\u001b[0;34m(self, driver_command, params)\u001b[0m\n\u001b[1;32m    433\u001b[0m response \u001b[38;5;241m=\u001b[39m \u001b[38;5;28mself\u001b[39m\u001b[38;5;241m.\u001b[39mcommand_executor\u001b[38;5;241m.\u001b[39mexecute(driver_command, params)\n\u001b[1;32m    434\u001b[0m \u001b[38;5;28;01mif\u001b[39;00m response:\n\u001b[0;32m--> 435\u001b[0m     \u001b[38;5;28;43mself\u001b[39;49m\u001b[38;5;241;43m.\u001b[39;49m\u001b[43merror_handler\u001b[49m\u001b[38;5;241;43m.\u001b[39;49m\u001b[43mcheck_response\u001b[49m\u001b[43m(\u001b[49m\u001b[43mresponse\u001b[49m\u001b[43m)\u001b[49m\n\u001b[1;32m    436\u001b[0m     response[\u001b[38;5;124m'\u001b[39m\u001b[38;5;124mvalue\u001b[39m\u001b[38;5;124m'\u001b[39m] \u001b[38;5;241m=\u001b[39m \u001b[38;5;28mself\u001b[39m\u001b[38;5;241m.\u001b[39m_unwrap_value(\n\u001b[1;32m    437\u001b[0m         response\u001b[38;5;241m.\u001b[39mget(\u001b[38;5;124m'\u001b[39m\u001b[38;5;124mvalue\u001b[39m\u001b[38;5;124m'\u001b[39m, \u001b[38;5;28;01mNone\u001b[39;00m))\n\u001b[1;32m    438\u001b[0m     \u001b[38;5;28;01mreturn\u001b[39;00m response\n",
      "File \u001b[0;32m~/anaconda3/envs/disney/lib/python3.10/site-packages/selenium/webdriver/remote/errorhandler.py:247\u001b[0m, in \u001b[0;36mErrorHandler.check_response\u001b[0;34m(self, response)\u001b[0m\n\u001b[1;32m    245\u001b[0m         alert_text \u001b[38;5;241m=\u001b[39m value[\u001b[38;5;124m'\u001b[39m\u001b[38;5;124malert\u001b[39m\u001b[38;5;124m'\u001b[39m]\u001b[38;5;241m.\u001b[39mget(\u001b[38;5;124m'\u001b[39m\u001b[38;5;124mtext\u001b[39m\u001b[38;5;124m'\u001b[39m)\n\u001b[1;32m    246\u001b[0m     \u001b[38;5;28;01mraise\u001b[39;00m exception_class(message, screen, stacktrace, alert_text)  \u001b[38;5;66;03m# type: ignore[call-arg]  # mypy is not smart enough here\u001b[39;00m\n\u001b[0;32m--> 247\u001b[0m \u001b[38;5;28;01mraise\u001b[39;00m exception_class(message, screen, stacktrace)\n",
      "\u001b[0;31mNoSuchElementException\u001b[0m: Message: no such element: Unable to locate element: {\"method\":\"css selector\",\"selector\":\"wdpr-single-select[value='20:00:00']\"}\n  (Session info: chrome=103.0.5060.114)\nStacktrace:\n#0 0x55eb73375b13 <unknown>\n#1 0x55eb7317c688 <unknown>\n#2 0x55eb731b3cc7 <unknown>\n#3 0x55eb731b3e91 <unknown>\n#4 0x55eb731e6e34 <unknown>\n#5 0x55eb731d18dd <unknown>\n#6 0x55eb731e4b94 <unknown>\n#7 0x55eb731d17a3 <unknown>\n#8 0x55eb731a70ea <unknown>\n#9 0x55eb731a8225 <unknown>\n#10 0x55eb733bd2dd <unknown>\n#11 0x55eb733c12c7 <unknown>\n#12 0x55eb733a722e <unknown>\n#13 0x55eb733c20a8 <unknown>\n#14 0x55eb7339bbc0 <unknown>\n#15 0x55eb733de6c8 <unknown>\n#16 0x55eb733de848 <unknown>\n#17 0x55eb733f8c0d <unknown>\n#18 0x7f2bdddba609 <unknown>\n"
     ]
    }
   ],
   "source": [
    "# this works only if alreay selected. need to hit the button first. fix. \n",
    "browser.find_element(By.CSS_SELECTOR,  \"wdpr-single-select[value='20:00:00']\")\n",
    "   document.querySelector(\"#modal-content-0 > div.body.ng-tns-c17-5 > finder-availability-modal > div > div.availability-section > wdpr-single-select\").shadowRoot.querySelector(\"#custom-dropdown-options-list\")"
   ]
  },
  {
   "cell_type": "code",
   "execution_count": 233,
   "id": "7d617ca8",
   "metadata": {},
   "outputs": [
    {
     "ename": "ElementClickInterceptedException",
     "evalue": "Message: element click intercepted: Element <button _ngcontent-jhp-c23=\"\" type=\"button\" finderlinkid=\"\" class=\"finder-button primary ng-star-inserted\" name=\"&amp;amp;lid=WDW_Detail_Dining_CheckAvailability\">...</button> is not clickable at point (1257, 823). Other element would receive the click: <div _ngcontent-jhp-c17=\"\" class=\"modal-content-wrapper ng-tns-c17-5\">...</div>\n  (Session info: chrome=103.0.5060.114)\nStacktrace:\n#0 0x55fab1b07b13 <unknown>\n#1 0x55fab190e688 <unknown>\n#2 0x55fab194d375 <unknown>\n#3 0x55fab194af02 <unknown>\n#4 0x55fab1948554 <unknown>\n#5 0x55fab19472e2 <unknown>\n#6 0x55fab193ae59 <unknown>\n#7 0x55fab19638b2 <unknown>\n#8 0x55fab193a713 <unknown>\n#9 0x55fab19639be <unknown>\n#10 0x55fab1976b94 <unknown>\n#11 0x55fab19637a3 <unknown>\n#12 0x55fab19390ea <unknown>\n#13 0x55fab193a225 <unknown>\n#14 0x55fab1b4f2dd <unknown>\n#15 0x55fab1b532c7 <unknown>\n#16 0x55fab1b3922e <unknown>\n#17 0x55fab1b540a8 <unknown>\n#18 0x55fab1b2dbc0 <unknown>\n#19 0x55fab1b706c8 <unknown>\n#20 0x55fab1b70848 <unknown>\n#21 0x55fab1b8ac0d <unknown>\n#22 0x7f8e0836e609 <unknown>\n",
     "output_type": "error",
     "traceback": [
      "\u001b[0;31m---------------------------------------------------------------------------\u001b[0m",
      "\u001b[0;31mElementClickInterceptedException\u001b[0m          Traceback (most recent call last)",
      "Input \u001b[0;32mIn [233]\u001b[0m, in \u001b[0;36m<cell line: 1>\u001b[0;34m()\u001b[0m\n\u001b[0;32m----> 1\u001b[0m \u001b[43mCheck\u001b[49m\u001b[38;5;241;43m.\u001b[39;49m\u001b[43mclick\u001b[49m\u001b[43m(\u001b[49m\u001b[43m)\u001b[49m\n",
      "File \u001b[0;32m~/anaconda3/envs/disney/lib/python3.10/site-packages/selenium/webdriver/remote/webelement.py:88\u001b[0m, in \u001b[0;36mWebElement.click\u001b[0;34m(self)\u001b[0m\n\u001b[1;32m     86\u001b[0m \u001b[38;5;28;01mdef\u001b[39;00m \u001b[38;5;21mclick\u001b[39m(\u001b[38;5;28mself\u001b[39m) \u001b[38;5;241m-\u001b[39m\u001b[38;5;241m>\u001b[39m \u001b[38;5;28;01mNone\u001b[39;00m:\n\u001b[1;32m     87\u001b[0m     \u001b[38;5;124;03m\"\"\"Clicks the element.\"\"\"\u001b[39;00m\n\u001b[0;32m---> 88\u001b[0m     \u001b[38;5;28;43mself\u001b[39;49m\u001b[38;5;241;43m.\u001b[39;49m\u001b[43m_execute\u001b[49m\u001b[43m(\u001b[49m\u001b[43mCommand\u001b[49m\u001b[38;5;241;43m.\u001b[39;49m\u001b[43mCLICK_ELEMENT\u001b[49m\u001b[43m)\u001b[49m\n",
      "File \u001b[0;32m~/anaconda3/envs/disney/lib/python3.10/site-packages/selenium/webdriver/remote/webelement.py:396\u001b[0m, in \u001b[0;36mWebElement._execute\u001b[0;34m(self, command, params)\u001b[0m\n\u001b[1;32m    394\u001b[0m     params \u001b[38;5;241m=\u001b[39m {}\n\u001b[1;32m    395\u001b[0m params[\u001b[38;5;124m'\u001b[39m\u001b[38;5;124mid\u001b[39m\u001b[38;5;124m'\u001b[39m] \u001b[38;5;241m=\u001b[39m \u001b[38;5;28mself\u001b[39m\u001b[38;5;241m.\u001b[39m_id\n\u001b[0;32m--> 396\u001b[0m \u001b[38;5;28;01mreturn\u001b[39;00m \u001b[38;5;28;43mself\u001b[39;49m\u001b[38;5;241;43m.\u001b[39;49m\u001b[43m_parent\u001b[49m\u001b[38;5;241;43m.\u001b[39;49m\u001b[43mexecute\u001b[49m\u001b[43m(\u001b[49m\u001b[43mcommand\u001b[49m\u001b[43m,\u001b[49m\u001b[43m \u001b[49m\u001b[43mparams\u001b[49m\u001b[43m)\u001b[49m\n",
      "File \u001b[0;32m~/anaconda3/envs/disney/lib/python3.10/site-packages/selenium/webdriver/remote/webdriver.py:435\u001b[0m, in \u001b[0;36mWebDriver.execute\u001b[0;34m(self, driver_command, params)\u001b[0m\n\u001b[1;32m    433\u001b[0m response \u001b[38;5;241m=\u001b[39m \u001b[38;5;28mself\u001b[39m\u001b[38;5;241m.\u001b[39mcommand_executor\u001b[38;5;241m.\u001b[39mexecute(driver_command, params)\n\u001b[1;32m    434\u001b[0m \u001b[38;5;28;01mif\u001b[39;00m response:\n\u001b[0;32m--> 435\u001b[0m     \u001b[38;5;28;43mself\u001b[39;49m\u001b[38;5;241;43m.\u001b[39;49m\u001b[43merror_handler\u001b[49m\u001b[38;5;241;43m.\u001b[39;49m\u001b[43mcheck_response\u001b[49m\u001b[43m(\u001b[49m\u001b[43mresponse\u001b[49m\u001b[43m)\u001b[49m\n\u001b[1;32m    436\u001b[0m     response[\u001b[38;5;124m'\u001b[39m\u001b[38;5;124mvalue\u001b[39m\u001b[38;5;124m'\u001b[39m] \u001b[38;5;241m=\u001b[39m \u001b[38;5;28mself\u001b[39m\u001b[38;5;241m.\u001b[39m_unwrap_value(\n\u001b[1;32m    437\u001b[0m         response\u001b[38;5;241m.\u001b[39mget(\u001b[38;5;124m'\u001b[39m\u001b[38;5;124mvalue\u001b[39m\u001b[38;5;124m'\u001b[39m, \u001b[38;5;28;01mNone\u001b[39;00m))\n\u001b[1;32m    438\u001b[0m     \u001b[38;5;28;01mreturn\u001b[39;00m response\n",
      "File \u001b[0;32m~/anaconda3/envs/disney/lib/python3.10/site-packages/selenium/webdriver/remote/errorhandler.py:247\u001b[0m, in \u001b[0;36mErrorHandler.check_response\u001b[0;34m(self, response)\u001b[0m\n\u001b[1;32m    245\u001b[0m         alert_text \u001b[38;5;241m=\u001b[39m value[\u001b[38;5;124m'\u001b[39m\u001b[38;5;124malert\u001b[39m\u001b[38;5;124m'\u001b[39m]\u001b[38;5;241m.\u001b[39mget(\u001b[38;5;124m'\u001b[39m\u001b[38;5;124mtext\u001b[39m\u001b[38;5;124m'\u001b[39m)\n\u001b[1;32m    246\u001b[0m     \u001b[38;5;28;01mraise\u001b[39;00m exception_class(message, screen, stacktrace, alert_text)  \u001b[38;5;66;03m# type: ignore[call-arg]  # mypy is not smart enough here\u001b[39;00m\n\u001b[0;32m--> 247\u001b[0m \u001b[38;5;28;01mraise\u001b[39;00m exception_class(message, screen, stacktrace)\n",
      "\u001b[0;31mElementClickInterceptedException\u001b[0m: Message: element click intercepted: Element <button _ngcontent-jhp-c23=\"\" type=\"button\" finderlinkid=\"\" class=\"finder-button primary ng-star-inserted\" name=\"&amp;amp;lid=WDW_Detail_Dining_CheckAvailability\">...</button> is not clickable at point (1257, 823). Other element would receive the click: <div _ngcontent-jhp-c17=\"\" class=\"modal-content-wrapper ng-tns-c17-5\">...</div>\n  (Session info: chrome=103.0.5060.114)\nStacktrace:\n#0 0x55fab1b07b13 <unknown>\n#1 0x55fab190e688 <unknown>\n#2 0x55fab194d375 <unknown>\n#3 0x55fab194af02 <unknown>\n#4 0x55fab1948554 <unknown>\n#5 0x55fab19472e2 <unknown>\n#6 0x55fab193ae59 <unknown>\n#7 0x55fab19638b2 <unknown>\n#8 0x55fab193a713 <unknown>\n#9 0x55fab19639be <unknown>\n#10 0x55fab1976b94 <unknown>\n#11 0x55fab19637a3 <unknown>\n#12 0x55fab19390ea <unknown>\n#13 0x55fab193a225 <unknown>\n#14 0x55fab1b4f2dd <unknown>\n#15 0x55fab1b532c7 <unknown>\n#16 0x55fab1b3922e <unknown>\n#17 0x55fab1b540a8 <unknown>\n#18 0x55fab1b2dbc0 <unknown>\n#19 0x55fab1b706c8 <unknown>\n#20 0x55fab1b70848 <unknown>\n#21 0x55fab1b8ac0d <unknown>\n#22 0x7f8e0836e609 <unknown>\n"
     ]
    }
   ],
   "source": [
    "Check.click()"
   ]
  },
  {
   "cell_type": "code",
   "execution_count": null,
   "id": "6604a90c",
   "metadata": {},
   "outputs": [],
   "source": []
  },
  {
   "cell_type": "code",
   "execution_count": 205,
   "id": "5d17d12e",
   "metadata": {},
   "outputs": [],
   "source": []
  },
  {
   "cell_type": "code",
   "execution_count": 210,
   "id": "0203905a",
   "metadata": {},
   "outputs": [],
   "source": []
  },
  {
   "cell_type": "code",
   "execution_count": 211,
   "id": "7ed231a6",
   "metadata": {},
   "outputs": [],
   "source": []
  },
  {
   "cell_type": "code",
   "execution_count": 214,
   "id": "1d3d046f",
   "metadata": {},
   "outputs": [
    {
     "data": {
      "text/plain": [
       "'Sorry!'"
      ]
     },
     "execution_count": 214,
     "metadata": {},
     "output_type": "execute_result"
    }
   ],
   "source": []
  },
  {
   "cell_type": "code",
   "execution_count": null,
   "id": "02609da2",
   "metadata": {},
   "outputs": [],
   "source": [
    "driver.find_element(by=By.XPATH, value=\"(//div[@class='times ng-star-inserted'])[1]\")"
   ]
  },
  {
   "cell_type": "code",
   "execution_count": null,
   "id": "fd65f335",
   "metadata": {},
   "outputs": [],
   "source": []
  },
  {
   "cell_type": "code",
   "execution_count": 166,
   "id": "287ab040",
   "metadata": {},
   "outputs": [],
   "source": [
    "# WebDriverWait(driver, 20).until(EC.frame_to_be_available_and_switch_to_it((By.TAG_NAME, \"iframe\")))\n",
    "driver.findElement(By.id(\"parentId\")).getShadowRoot().findElement(By.cssSelector( \"label\" )).findElement(By.tagName(\"input\"))"
   ]
  },
  {
   "cell_type": "code",
   "execution_count": null,
   "id": "57ebc719",
   "metadata": {},
   "outputs": [],
   "source": [
    "# time = \"\"\" return document\n",
    "# .querySelector(\"#modal-content-0 > div.body.ng-tns-c17-5 > finder-availability-modal > div > div.availability-section > wdpr-single-select\").shadowRoot\n",
    "# .querySelector(\"#custom-dropdown-button > div.button-text-container\")\"\"\"\n",
    "\n",
    "#custom-dropdown-button > div.button-text-container\n",
    "time = \"\"\" return document\n",
    ".querySelector(\"#modal-content-0 > div.body.ng-tns-c17-5 > finder-availability-modal > div > div.availability-section > wdpr-single-select\").shadowRoot.querySelector(\"#custom-dropdown-button > div.button-text-container\")\"\"\""
   ]
  },
  {
   "cell_type": "code",
   "execution_count": null,
   "id": "38d7a8db",
   "metadata": {},
   "outputs": [],
   "source": [
    "driver.execute_script(time)"
   ]
  },
  {
   "cell_type": "code",
   "execution_count": null,
   "id": "8fcf243e",
   "metadata": {},
   "outputs": [],
   "source": [
    "time = WebDriverWait(driver, 20).until(EC.element_to_be_clickable((By.XPATH, '//*[@id=\"custom-dropdown-button\"]')))"
   ]
  },
  {
   "cell_type": "code",
   "execution_count": null,
   "id": "b155cce9",
   "metadata": {},
   "outputs": [],
   "source": [
    "//*[@id=\"modal-content-0\"]/div[2]/finder-availability-modal/div/div[1]/wdpr-single-select"
   ]
  },
  {
   "cell_type": "code",
   "execution_count": 167,
   "id": "f0989ba1",
   "metadata": {},
   "outputs": [
    {
     "ename": "AttributeError",
     "evalue": "'WebDriver' object has no attribute 'find_element_by_css_selector'",
     "output_type": "error",
     "traceback": [
      "\u001b[0;31m---------------------------------------------------------------------------\u001b[0m",
      "\u001b[0;31mAttributeError\u001b[0m                            Traceback (most recent call last)",
      "Input \u001b[0;32mIn [167]\u001b[0m, in \u001b[0;36m<cell line: 1>\u001b[0;34m()\u001b[0m\n\u001b[0;32m----> 1\u001b[0m shadow_host \u001b[38;5;241m=\u001b[39m \u001b[43mdriver\u001b[49m\u001b[38;5;241;43m.\u001b[39;49m\u001b[43mfind_element_by_css_selector\u001b[49m(\u001b[38;5;124m'\u001b[39m\u001b[38;5;124m#shadow_host\u001b[39m\u001b[38;5;124m'\u001b[39m)\n\u001b[1;32m      3\u001b[0m shadow_root_dict \u001b[38;5;241m=\u001b[39m driver\u001b[38;5;241m.\u001b[39mexecute_script(\u001b[38;5;124m'\u001b[39m\u001b[38;5;124mreturn arguments[0].shadowRoot\u001b[39m\u001b[38;5;124m'\u001b[39m, shadow_host)\n\u001b[1;32m      4\u001b[0m shadow_root_id \u001b[38;5;241m=\u001b[39m shadow_root_dict[\u001b[38;5;124m'\u001b[39m\u001b[38;5;124mshadow-6066-11e4-a52e-4f735466cecf\u001b[39m\u001b[38;5;124m'\u001b[39m]\n",
      "\u001b[0;31mAttributeError\u001b[0m: 'WebDriver' object has no attribute 'find_element_by_css_selector'"
     ]
    }
   ],
   "source": [
    "shadow_host = driver.find_element('#shadow_host')\n",
    "\n",
    "shadow_root_dict = driver.execute_script('return arguments[0].shadowRoot', shadow_host)\n",
    "shadow_root_id = shadow_root_dict['shadow-6066-11e4-a52e-4f735466cecf']\n",
    "shadow_root = WebElement(driver, shadow_root_id, w3c=True)\n",
    "\n",
    "shadow_content = shadow_root.find_element_by_css_selector('#shadow_content')"
   ]
  },
  {
   "cell_type": "code",
   "execution_count": 169,
   "id": "aca02d4c",
   "metadata": {},
   "outputs": [],
   "source": [
    "time = \"\"\" return document.querySelector(\".button-text-container\")\"\"\"\n",
    "times= driver.execute_script(time)\n",
    "# document.querySelector(\".button-text-container\") \n",
    "# driver.findElement(By.cssSelector(\".button-text-container\"))"
   ]
  },
  {
   "cell_type": "code",
   "execution_count": 175,
   "id": "5b2e4d6f",
   "metadata": {},
   "outputs": [
    {
     "ename": "SyntaxError",
     "evalue": "invalid syntax (3458995949.py, line 2)",
     "output_type": "error",
     "traceback": [
      "\u001b[0;36m  Input \u001b[0;32mIn [175]\u001b[0;36m\u001b[0m\n\u001b[0;31m    String cssSelectorForHost1 = \"wdpr-single-select[value='20:00:00']\";\u001b[0m\n\u001b[0m           ^\u001b[0m\n\u001b[0;31mSyntaxError\u001b[0m\u001b[0;31m:\u001b[0m invalid syntax\n"
     ]
    }
   ],
   "source": [
    "# //This Element is inside single shadow DOM.\n",
    "String cssSelectorForHost1 = \"wdpr-single-select[value='20:00:00']\";\n",
    "Thread.sleep(1000);\n",
    "SearchContext shadow = driver.findElement(By.cssSelector(\"wdpr-single-select[value='20:00:00']\")).getShadowRoot();\n",
    "Thread.sleep(1000);\n",
    "shadow.findElement(By.cssSelector(\".button-text-container\"));"
   ]
  },
  {
   "cell_type": "code",
   "execution_count": 168,
   "id": "db7f57b3",
   "metadata": {},
   "outputs": [
    {
     "ename": "NoSuchElementException",
     "evalue": "Message: no such element: Unable to locate element: {\"method\":\"xpath\",\"selector\":\"//*[@id=\"modal-content-0\"]/div[2]/finder-availability-modal/div/div[1]/wdpr-single-select\"}\n  (Session info: chrome=103.0.5060.114)\nStacktrace:\n#0 0x555562098b13 <unknown>\n#1 0x555561e9f688 <unknown>\n#2 0x555561ed6cc7 <unknown>\n#3 0x555561ed6e91 <unknown>\n#4 0x555561f09e34 <unknown>\n#5 0x555561ef48dd <unknown>\n#6 0x555561f07b94 <unknown>\n#7 0x555561ef47a3 <unknown>\n#8 0x555561eca0ea <unknown>\n#9 0x555561ecb225 <unknown>\n#10 0x5555620e02dd <unknown>\n#11 0x5555620e42c7 <unknown>\n#12 0x5555620ca22e <unknown>\n#13 0x5555620e50a8 <unknown>\n#14 0x5555620bebc0 <unknown>\n#15 0x5555621016c8 <unknown>\n#16 0x555562101848 <unknown>\n#17 0x55556211bc0d <unknown>\n#18 0x7f76738b0609 <unknown>\n",
     "output_type": "error",
     "traceback": [
      "\u001b[0;31m---------------------------------------------------------------------------\u001b[0m",
      "\u001b[0;31mNoSuchElementException\u001b[0m                    Traceback (most recent call last)",
      "Input \u001b[0;32mIn [168]\u001b[0m, in \u001b[0;36m<cell line: 1>\u001b[0;34m()\u001b[0m\n\u001b[0;32m----> 1\u001b[0m \u001b[43mdriver\u001b[49m\u001b[38;5;241;43m.\u001b[39;49m\u001b[43mfind_element\u001b[49m\u001b[43m(\u001b[49m\u001b[43mby\u001b[49m\u001b[38;5;241;43m=\u001b[39;49m\u001b[43mBy\u001b[49m\u001b[38;5;241;43m.\u001b[39;49m\u001b[43mXPATH\u001b[49m\u001b[43m,\u001b[49m\u001b[43m \u001b[49m\u001b[43mvalue\u001b[49m\u001b[38;5;241;43m=\u001b[39;49m\u001b[38;5;124;43m'\u001b[39;49m\u001b[38;5;124;43m//*[@id=\u001b[39;49m\u001b[38;5;124;43m\"\u001b[39;49m\u001b[38;5;124;43mmodal-content-0\u001b[39;49m\u001b[38;5;124;43m\"\u001b[39;49m\u001b[38;5;124;43m]/div[2]/finder-availability-modal/div/div[1]/wdpr-single-select\u001b[39;49m\u001b[38;5;124;43m'\u001b[39;49m\u001b[43m)\u001b[49m\u001b[38;5;241m.\u001b[39mgetShadowRoot()\n",
      "File \u001b[0;32m~/anaconda3/envs/disney/lib/python3.10/site-packages/selenium/webdriver/remote/webdriver.py:857\u001b[0m, in \u001b[0;36mWebDriver.find_element\u001b[0;34m(self, by, value)\u001b[0m\n\u001b[1;32m    854\u001b[0m     by \u001b[38;5;241m=\u001b[39m By\u001b[38;5;241m.\u001b[39mCSS_SELECTOR\n\u001b[1;32m    855\u001b[0m     value \u001b[38;5;241m=\u001b[39m \u001b[38;5;124m'\u001b[39m\u001b[38;5;124m[name=\u001b[39m\u001b[38;5;124m\"\u001b[39m\u001b[38;5;132;01m%s\u001b[39;00m\u001b[38;5;124m\"\u001b[39m\u001b[38;5;124m]\u001b[39m\u001b[38;5;124m'\u001b[39m \u001b[38;5;241m%\u001b[39m value\n\u001b[0;32m--> 857\u001b[0m \u001b[38;5;28;01mreturn\u001b[39;00m \u001b[38;5;28;43mself\u001b[39;49m\u001b[38;5;241;43m.\u001b[39;49m\u001b[43mexecute\u001b[49m\u001b[43m(\u001b[49m\u001b[43mCommand\u001b[49m\u001b[38;5;241;43m.\u001b[39;49m\u001b[43mFIND_ELEMENT\u001b[49m\u001b[43m,\u001b[49m\u001b[43m \u001b[49m\u001b[43m{\u001b[49m\n\u001b[1;32m    858\u001b[0m \u001b[43m    \u001b[49m\u001b[38;5;124;43m'\u001b[39;49m\u001b[38;5;124;43musing\u001b[39;49m\u001b[38;5;124;43m'\u001b[39;49m\u001b[43m:\u001b[49m\u001b[43m \u001b[49m\u001b[43mby\u001b[49m\u001b[43m,\u001b[49m\n\u001b[1;32m    859\u001b[0m \u001b[43m    \u001b[49m\u001b[38;5;124;43m'\u001b[39;49m\u001b[38;5;124;43mvalue\u001b[39;49m\u001b[38;5;124;43m'\u001b[39;49m\u001b[43m:\u001b[49m\u001b[43m \u001b[49m\u001b[43mvalue\u001b[49m\u001b[43m}\u001b[49m\u001b[43m)\u001b[49m[\u001b[38;5;124m'\u001b[39m\u001b[38;5;124mvalue\u001b[39m\u001b[38;5;124m'\u001b[39m]\n",
      "File \u001b[0;32m~/anaconda3/envs/disney/lib/python3.10/site-packages/selenium/webdriver/remote/webdriver.py:435\u001b[0m, in \u001b[0;36mWebDriver.execute\u001b[0;34m(self, driver_command, params)\u001b[0m\n\u001b[1;32m    433\u001b[0m response \u001b[38;5;241m=\u001b[39m \u001b[38;5;28mself\u001b[39m\u001b[38;5;241m.\u001b[39mcommand_executor\u001b[38;5;241m.\u001b[39mexecute(driver_command, params)\n\u001b[1;32m    434\u001b[0m \u001b[38;5;28;01mif\u001b[39;00m response:\n\u001b[0;32m--> 435\u001b[0m     \u001b[38;5;28;43mself\u001b[39;49m\u001b[38;5;241;43m.\u001b[39;49m\u001b[43merror_handler\u001b[49m\u001b[38;5;241;43m.\u001b[39;49m\u001b[43mcheck_response\u001b[49m\u001b[43m(\u001b[49m\u001b[43mresponse\u001b[49m\u001b[43m)\u001b[49m\n\u001b[1;32m    436\u001b[0m     response[\u001b[38;5;124m'\u001b[39m\u001b[38;5;124mvalue\u001b[39m\u001b[38;5;124m'\u001b[39m] \u001b[38;5;241m=\u001b[39m \u001b[38;5;28mself\u001b[39m\u001b[38;5;241m.\u001b[39m_unwrap_value(\n\u001b[1;32m    437\u001b[0m         response\u001b[38;5;241m.\u001b[39mget(\u001b[38;5;124m'\u001b[39m\u001b[38;5;124mvalue\u001b[39m\u001b[38;5;124m'\u001b[39m, \u001b[38;5;28;01mNone\u001b[39;00m))\n\u001b[1;32m    438\u001b[0m     \u001b[38;5;28;01mreturn\u001b[39;00m response\n",
      "File \u001b[0;32m~/anaconda3/envs/disney/lib/python3.10/site-packages/selenium/webdriver/remote/errorhandler.py:247\u001b[0m, in \u001b[0;36mErrorHandler.check_response\u001b[0;34m(self, response)\u001b[0m\n\u001b[1;32m    245\u001b[0m         alert_text \u001b[38;5;241m=\u001b[39m value[\u001b[38;5;124m'\u001b[39m\u001b[38;5;124malert\u001b[39m\u001b[38;5;124m'\u001b[39m]\u001b[38;5;241m.\u001b[39mget(\u001b[38;5;124m'\u001b[39m\u001b[38;5;124mtext\u001b[39m\u001b[38;5;124m'\u001b[39m)\n\u001b[1;32m    246\u001b[0m     \u001b[38;5;28;01mraise\u001b[39;00m exception_class(message, screen, stacktrace, alert_text)  \u001b[38;5;66;03m# type: ignore[call-arg]  # mypy is not smart enough here\u001b[39;00m\n\u001b[0;32m--> 247\u001b[0m \u001b[38;5;28;01mraise\u001b[39;00m exception_class(message, screen, stacktrace)\n",
      "\u001b[0;31mNoSuchElementException\u001b[0m: Message: no such element: Unable to locate element: {\"method\":\"xpath\",\"selector\":\"//*[@id=\"modal-content-0\"]/div[2]/finder-availability-modal/div/div[1]/wdpr-single-select\"}\n  (Session info: chrome=103.0.5060.114)\nStacktrace:\n#0 0x555562098b13 <unknown>\n#1 0x555561e9f688 <unknown>\n#2 0x555561ed6cc7 <unknown>\n#3 0x555561ed6e91 <unknown>\n#4 0x555561f09e34 <unknown>\n#5 0x555561ef48dd <unknown>\n#6 0x555561f07b94 <unknown>\n#7 0x555561ef47a3 <unknown>\n#8 0x555561eca0ea <unknown>\n#9 0x555561ecb225 <unknown>\n#10 0x5555620e02dd <unknown>\n#11 0x5555620e42c7 <unknown>\n#12 0x5555620ca22e <unknown>\n#13 0x5555620e50a8 <unknown>\n#14 0x5555620bebc0 <unknown>\n#15 0x5555621016c8 <unknown>\n#16 0x555562101848 <unknown>\n#17 0x55556211bc0d <unknown>\n#18 0x7f76738b0609 <unknown>\n"
     ]
    }
   ],
   "source": [
    "driver.find_element(by=By.XPATH, value='//*[@id=\"modal-content-0\"]/div[2]/finder-availability-modal/div/div[1]/wdpr-single-select').getShadowRoot()"
   ]
  },
  {
   "cell_type": "code",
   "execution_count": 150,
   "id": "9eff59f8",
   "metadata": {},
   "outputs": [
    {
     "ename": "TimeoutException",
     "evalue": "Message: \nStacktrace:\n#0 0x555562098b13 <unknown>\n#1 0x555561e9f688 <unknown>\n#2 0x555561ed6cc7 <unknown>\n#3 0x555561ed6e91 <unknown>\n#4 0x555561f09e34 <unknown>\n#5 0x555561ef48dd <unknown>\n#6 0x555561f07b94 <unknown>\n#7 0x555561ef47a3 <unknown>\n#8 0x555561eca0ea <unknown>\n#9 0x555561ecb225 <unknown>\n#10 0x5555620e02dd <unknown>\n#11 0x5555620e42c7 <unknown>\n#12 0x5555620ca22e <unknown>\n#13 0x5555620e50a8 <unknown>\n#14 0x5555620bebc0 <unknown>\n#15 0x5555621016c8 <unknown>\n#16 0x555562101848 <unknown>\n#17 0x55556211bc0d <unknown>\n#18 0x7f76738b0609 <unknown>\n",
     "output_type": "error",
     "traceback": [
      "\u001b[0;31m---------------------------------------------------------------------------\u001b[0m",
      "\u001b[0;31mTimeoutException\u001b[0m                          Traceback (most recent call last)",
      "Input \u001b[0;32mIn [150]\u001b[0m, in \u001b[0;36m<cell line: 3>\u001b[0;34m()\u001b[0m\n\u001b[1;32m      1\u001b[0m \u001b[38;5;66;03m# time and party size are in a shadow-root\u001b[39;00m\n\u001b[1;32m      2\u001b[0m WebDriverWait(driver, \u001b[38;5;241m20\u001b[39m)\u001b[38;5;241m.\u001b[39muntil(EC\u001b[38;5;241m.\u001b[39mframe_to_be_available_and_switch_to_it((By\u001b[38;5;241m.\u001b[39mTAG_NAME, \u001b[38;5;124m\"\u001b[39m\u001b[38;5;124miframe\u001b[39m\u001b[38;5;124m\"\u001b[39m)))\n\u001b[0;32m----> 3\u001b[0m time \u001b[38;5;241m=\u001b[39m \u001b[43mWebDriverWait\u001b[49m\u001b[43m(\u001b[49m\u001b[43mdriver\u001b[49m\u001b[43m,\u001b[49m\u001b[43m \u001b[49m\u001b[38;5;241;43m20\u001b[39;49m\u001b[43m)\u001b[49m\u001b[38;5;241;43m.\u001b[39;49m\u001b[43muntil\u001b[49m\u001b[43m(\u001b[49m\u001b[43mEC\u001b[49m\u001b[38;5;241;43m.\u001b[39;49m\u001b[43melement_to_be_clickable\u001b[49m\u001b[43m(\u001b[49m\u001b[43m(\u001b[49m\u001b[43mBy\u001b[49m\u001b[38;5;241;43m.\u001b[39;49m\u001b[43mXPATH\u001b[49m\u001b[43m,\u001b[49m\u001b[43m \u001b[49m\u001b[38;5;124;43m'\u001b[39;49m\u001b[38;5;124;43m//*[@id=\u001b[39;49m\u001b[38;5;124;43m\"\u001b[39;49m\u001b[38;5;124;43mcustom-dropdown-button\u001b[39;49m\u001b[38;5;124;43m\"\u001b[39;49m\u001b[38;5;124;43m]\u001b[39;49m\u001b[38;5;124;43m'\u001b[39;49m\u001b[43m)\u001b[49m\u001b[43m)\u001b[49m\u001b[43m)\u001b[49m\n",
      "File \u001b[0;32m~/anaconda3/envs/disney/lib/python3.10/site-packages/selenium/webdriver/support/wait.py:90\u001b[0m, in \u001b[0;36mWebDriverWait.until\u001b[0;34m(self, method, message)\u001b[0m\n\u001b[1;32m     88\u001b[0m     \u001b[38;5;28;01mif\u001b[39;00m time\u001b[38;5;241m.\u001b[39mmonotonic() \u001b[38;5;241m>\u001b[39m end_time:\n\u001b[1;32m     89\u001b[0m         \u001b[38;5;28;01mbreak\u001b[39;00m\n\u001b[0;32m---> 90\u001b[0m \u001b[38;5;28;01mraise\u001b[39;00m TimeoutException(message, screen, stacktrace)\n",
      "\u001b[0;31mTimeoutException\u001b[0m: Message: \nStacktrace:\n#0 0x555562098b13 <unknown>\n#1 0x555561e9f688 <unknown>\n#2 0x555561ed6cc7 <unknown>\n#3 0x555561ed6e91 <unknown>\n#4 0x555561f09e34 <unknown>\n#5 0x555561ef48dd <unknown>\n#6 0x555561f07b94 <unknown>\n#7 0x555561ef47a3 <unknown>\n#8 0x555561eca0ea <unknown>\n#9 0x555561ecb225 <unknown>\n#10 0x5555620e02dd <unknown>\n#11 0x5555620e42c7 <unknown>\n#12 0x5555620ca22e <unknown>\n#13 0x5555620e50a8 <unknown>\n#14 0x5555620bebc0 <unknown>\n#15 0x5555621016c8 <unknown>\n#16 0x555562101848 <unknown>\n#17 0x55556211bc0d <unknown>\n#18 0x7f76738b0609 <unknown>\n"
     ]
    }
   ],
   "source": [
    "# time and party size are in a shadow-root\n",
    "# works but does not work \n",
    "# WebDriverWait(driver, 20).until(EC.frame_to_be_available_and_switch_to_it((By.TAG_NAME, \"iframe\")))\n",
    "driver.findElement(By.id(\"parentId\")).getShadowRoot().findElement(By.cssSelector( \"label\" )).findElement(By.tagName(\"input\"))"
   ]
  },
  {
   "cell_type": "code",
   "execution_count": 142,
   "id": "5d19929f",
   "metadata": {},
   "outputs": [
    {
     "ename": "TimeoutException",
     "evalue": "Message: \nStacktrace:\n#0 0x555562098b13 <unknown>\n#1 0x555561e9f688 <unknown>\n#2 0x555561ed6cc7 <unknown>\n#3 0x555561ed6e91 <unknown>\n#4 0x555561f09e34 <unknown>\n#5 0x555561ef48dd <unknown>\n#6 0x555561f07b94 <unknown>\n#7 0x555561ef47a3 <unknown>\n#8 0x555561eca0ea <unknown>\n#9 0x555561ecb225 <unknown>\n#10 0x5555620e02dd <unknown>\n#11 0x5555620e42c7 <unknown>\n#12 0x5555620ca22e <unknown>\n#13 0x5555620e50a8 <unknown>\n#14 0x5555620bebc0 <unknown>\n#15 0x5555621016c8 <unknown>\n#16 0x555562101848 <unknown>\n#17 0x55556211bc0d <unknown>\n#18 0x7f76738b0609 <unknown>\n",
     "output_type": "error",
     "traceback": [
      "\u001b[0;31m---------------------------------------------------------------------------\u001b[0m",
      "\u001b[0;31mTimeoutException\u001b[0m                          Traceback (most recent call last)",
      "Input \u001b[0;32mIn [142]\u001b[0m, in \u001b[0;36m<cell line: 1>\u001b[0;34m()\u001b[0m\n\u001b[0;32m----> 1\u001b[0m \u001b[43mWebDriverWait\u001b[49m\u001b[43m(\u001b[49m\u001b[43mdriver\u001b[49m\u001b[43m,\u001b[49m\u001b[43m \u001b[49m\u001b[38;5;241;43m20\u001b[39;49m\u001b[43m)\u001b[49m\u001b[38;5;241;43m.\u001b[39;49m\u001b[43muntil\u001b[49m\u001b[43m(\u001b[49m\u001b[43mEC\u001b[49m\u001b[38;5;241;43m.\u001b[39;49m\u001b[43mframe_to_be_available_and_switch_to_it\u001b[49m\u001b[43m(\u001b[49m\u001b[43m(\u001b[49m\u001b[43mBy\u001b[49m\u001b[38;5;241;43m.\u001b[39;49m\u001b[43mXPATH\u001b[49m\u001b[43m,\u001b[49m\u001b[38;5;124;43m\"\u001b[39;49m\u001b[38;5;124;43m//iframe[@id=\u001b[39;49m\u001b[38;5;124;43m'\u001b[39;49m\u001b[38;5;124;43mdisneyid-iframe\u001b[39;49m\u001b[38;5;124;43m'\u001b[39;49m\u001b[38;5;124;43m]\u001b[39;49m\u001b[38;5;124;43m\"\u001b[39;49m\u001b[43m)\u001b[49m\u001b[43m)\u001b[49m\u001b[43m)\u001b[49m\n\u001b[1;32m      2\u001b[0m time \u001b[38;5;241m=\u001b[39m WebDriverWait(driver, \u001b[38;5;241m20\u001b[39m)\u001b[38;5;241m.\u001b[39muntil(EC\u001b[38;5;241m.\u001b[39melement_to_be_clickable((By\u001b[38;5;241m.\u001b[39mXPATH, \u001b[38;5;124m'\u001b[39m\u001b[38;5;124m//*[@id=\u001b[39m\u001b[38;5;124m\"\u001b[39m\u001b[38;5;124mcustom-dropdown-button\u001b[39m\u001b[38;5;124m\"\u001b[39m\u001b[38;5;124m]\u001b[39m\u001b[38;5;124m'\u001b[39m)))\n",
      "File \u001b[0;32m~/anaconda3/envs/disney/lib/python3.10/site-packages/selenium/webdriver/support/wait.py:90\u001b[0m, in \u001b[0;36mWebDriverWait.until\u001b[0;34m(self, method, message)\u001b[0m\n\u001b[1;32m     88\u001b[0m     \u001b[38;5;28;01mif\u001b[39;00m time\u001b[38;5;241m.\u001b[39mmonotonic() \u001b[38;5;241m>\u001b[39m end_time:\n\u001b[1;32m     89\u001b[0m         \u001b[38;5;28;01mbreak\u001b[39;00m\n\u001b[0;32m---> 90\u001b[0m \u001b[38;5;28;01mraise\u001b[39;00m TimeoutException(message, screen, stacktrace)\n",
      "\u001b[0;31mTimeoutException\u001b[0m: Message: \nStacktrace:\n#0 0x555562098b13 <unknown>\n#1 0x555561e9f688 <unknown>\n#2 0x555561ed6cc7 <unknown>\n#3 0x555561ed6e91 <unknown>\n#4 0x555561f09e34 <unknown>\n#5 0x555561ef48dd <unknown>\n#6 0x555561f07b94 <unknown>\n#7 0x555561ef47a3 <unknown>\n#8 0x555561eca0ea <unknown>\n#9 0x555561ecb225 <unknown>\n#10 0x5555620e02dd <unknown>\n#11 0x5555620e42c7 <unknown>\n#12 0x5555620ca22e <unknown>\n#13 0x5555620e50a8 <unknown>\n#14 0x5555620bebc0 <unknown>\n#15 0x5555621016c8 <unknown>\n#16 0x555562101848 <unknown>\n#17 0x55556211bc0d <unknown>\n#18 0x7f76738b0609 <unknown>\n"
     ]
    }
   ],
   "source": [
    "WebDriverWait(driver, 20).until(EC.frame_to_be_available_and_switch_to_it((By.XPATH,\"//iframe[@id='disneyid-iframe']\")))\n",
    "time = WebDriverWait(driver, 20).until(EC.element_to_be_clickable((By.XPATH, '//*[@id=\"custom-dropdown-button\"]')))\n",
    "# time = driver.find_element(by=By.XPATH, value='//*[@id=\"custom-dropdown-button\"]')"
   ]
  },
  {
   "cell_type": "code",
   "execution_count": 139,
   "id": "b1217fa3",
   "metadata": {},
   "outputs": [],
   "source": []
  },
  {
   "cell_type": "code",
   "execution_count": 129,
   "id": "e5989cdb",
   "metadata": {},
   "outputs": [],
   "source": []
  },
  {
   "cell_type": "code",
   "execution_count": 131,
   "id": "36939999",
   "metadata": {},
   "outputs": [],
   "source": []
  },
  {
   "cell_type": "code",
   "execution_count": 120,
   "id": "6718e2e4",
   "metadata": {},
   "outputs": [
    {
     "ename": "AttributeError",
     "evalue": "'WebDriver' object has no attribute 'find_elements_by_css_selector'",
     "output_type": "error",
     "traceback": [
      "\u001b[0;31m---------------------------------------------------------------------------\u001b[0m",
      "\u001b[0;31mAttributeError\u001b[0m                            Traceback (most recent call last)",
      "Input \u001b[0;32mIn [120]\u001b[0m, in \u001b[0;36m<cell line: 4>\u001b[0;34m()\u001b[0m\n\u001b[1;32m      1\u001b[0m \u001b[38;5;66;03m#  un = \"\"\" return document\u001b[39;00m\n\u001b[1;32m      2\u001b[0m \u001b[38;5;66;03m# .querySelector('[aria-label=Username or Email Address]')\"\"\"\u001b[39;00m\n\u001b[1;32m      3\u001b[0m \u001b[38;5;66;03m# work=browser.execute_script(un)\u001b[39;00m\n\u001b[0;32m----> 4\u001b[0m \u001b[43mdriver\u001b[49m\u001b[38;5;241;43m.\u001b[39;49m\u001b[43mfind_elements_by_css_selector\u001b[49m(\u001b[38;5;124m\"\u001b[39m\u001b[38;5;124m[aria-label=Username or Email Address]\u001b[39m\u001b[38;5;124m\"\u001b[39m)\n\u001b[1;32m      5\u001b[0m \u001b[38;5;66;03m# # un = \"\"\" return document\u001b[39;00m\n\u001b[1;32m      6\u001b[0m \u001b[38;5;66;03m# .querySelector(\"/html/body/div[1]/div/div/section/section/form/section/div[1]/div/label/span[2]/input\")\u001b[39;00m\n\u001b[1;32m      7\u001b[0m \u001b[38;5;66;03m# \"\"\"\u001b[39;00m\n\u001b[1;32m      8\u001b[0m work\u001b[38;5;241m=\u001b[39mdriver\u001b[38;5;241m.\u001b[39mexecute_script(un)\n",
      "\u001b[0;31mAttributeError\u001b[0m: 'WebDriver' object has no attribute 'find_elements_by_css_selector'"
     ]
    }
   ],
   "source": [
    "#  un = \"\"\" return document\n",
    "# .querySelector('[aria-label=Username or Email Address]')\"\"\"\n",
    "# work=browser.execute_script(un)\n",
    "driver.find_elements_by_css_selector(\"[aria-label=Username or Email Address]\")\n",
    "# # un = \"\"\" return document\n",
    "# .querySelector(\"/html/body/div[1]/div/div/section/section/form/section/div[1]/div/label/span[2]/input\")\n",
    "# \"\"\"\n",
    "work=driver.execute_script(un)\n",
    "# work.send_keys(\"house@brenesfinancial.com\")"
   ]
  },
  {
   "cell_type": "code",
   "execution_count": 117,
   "id": "5a83e207",
   "metadata": {},
   "outputs": [
    {
     "name": "stdout",
     "output_type": "stream",
     "text": [
      "None\n"
     ]
    }
   ],
   "source": [
    "print(work)"
   ]
  },
  {
   "cell_type": "code",
   "execution_count": null,
   "id": "24ef6cd2",
   "metadata": {},
   "outputs": [],
   "source": [
    "browser.find_element(by=By.XPATH, value='//')\n",
    "browser.find_element(by=By.XPATH, value='//')"
   ]
  },
  {
   "cell_type": "code",
   "execution_count": 111,
   "id": "c489f266",
   "metadata": {},
   "outputs": [
    {
     "ename": "NoSuchElementException",
     "evalue": "Message: no such element: Unable to locate element: {\"method\":\"xpath\",\"selector\":\"//*[@id=\"did-ui-view\"]/div/section/section/form\"}\n  (Session info: chrome=103.0.5060.114)\nStacktrace:\n#0 0x555562098b13 <unknown>\n#1 0x555561e9f688 <unknown>\n#2 0x555561ed6cc7 <unknown>\n#3 0x555561ed6e91 <unknown>\n#4 0x555561f09e34 <unknown>\n#5 0x555561ef48dd <unknown>\n#6 0x555561f07b94 <unknown>\n#7 0x555561ef47a3 <unknown>\n#8 0x555561eca0ea <unknown>\n#9 0x555561ecb225 <unknown>\n#10 0x5555620e02dd <unknown>\n#11 0x5555620e42c7 <unknown>\n#12 0x5555620ca22e <unknown>\n#13 0x5555620e50a8 <unknown>\n#14 0x5555620bebc0 <unknown>\n#15 0x5555621016c8 <unknown>\n#16 0x555562101848 <unknown>\n#17 0x55556211bc0d <unknown>\n#18 0x7f76738b0609 <unknown>\n",
     "output_type": "error",
     "traceback": [
      "\u001b[0;31m---------------------------------------------------------------------------\u001b[0m",
      "\u001b[0;31mNoSuchElementException\u001b[0m                    Traceback (most recent call last)",
      "Input \u001b[0;32mIn [111]\u001b[0m, in \u001b[0;36m<cell line: 1>\u001b[0;34m()\u001b[0m\n\u001b[0;32m----> 1\u001b[0m username\u001b[38;5;241m=\u001b[39m \u001b[43mbrowser\u001b[49m\u001b[38;5;241;43m.\u001b[39;49m\u001b[43mfind_element\u001b[49m\u001b[43m(\u001b[49m\u001b[43mby\u001b[49m\u001b[38;5;241;43m=\u001b[39;49m\u001b[43mBy\u001b[49m\u001b[38;5;241;43m.\u001b[39;49m\u001b[43mXPATH\u001b[49m\u001b[43m,\u001b[49m\u001b[43m \u001b[49m\u001b[43mvalue\u001b[49m\u001b[38;5;241;43m=\u001b[39;49m\u001b[38;5;124;43m'\u001b[39;49m\u001b[38;5;124;43m//*[@id=\u001b[39;49m\u001b[38;5;124;43m\"\u001b[39;49m\u001b[38;5;124;43mdid-ui-view\u001b[39;49m\u001b[38;5;124;43m\"\u001b[39;49m\u001b[38;5;124;43m]/div/section/section/form\u001b[39;49m\u001b[38;5;124;43m'\u001b[39;49m\u001b[43m)\u001b[49m\n",
      "File \u001b[0;32m~/anaconda3/envs/disney/lib/python3.10/site-packages/selenium/webdriver/remote/webdriver.py:857\u001b[0m, in \u001b[0;36mWebDriver.find_element\u001b[0;34m(self, by, value)\u001b[0m\n\u001b[1;32m    854\u001b[0m     by \u001b[38;5;241m=\u001b[39m By\u001b[38;5;241m.\u001b[39mCSS_SELECTOR\n\u001b[1;32m    855\u001b[0m     value \u001b[38;5;241m=\u001b[39m \u001b[38;5;124m'\u001b[39m\u001b[38;5;124m[name=\u001b[39m\u001b[38;5;124m\"\u001b[39m\u001b[38;5;132;01m%s\u001b[39;00m\u001b[38;5;124m\"\u001b[39m\u001b[38;5;124m]\u001b[39m\u001b[38;5;124m'\u001b[39m \u001b[38;5;241m%\u001b[39m value\n\u001b[0;32m--> 857\u001b[0m \u001b[38;5;28;01mreturn\u001b[39;00m \u001b[38;5;28;43mself\u001b[39;49m\u001b[38;5;241;43m.\u001b[39;49m\u001b[43mexecute\u001b[49m\u001b[43m(\u001b[49m\u001b[43mCommand\u001b[49m\u001b[38;5;241;43m.\u001b[39;49m\u001b[43mFIND_ELEMENT\u001b[49m\u001b[43m,\u001b[49m\u001b[43m \u001b[49m\u001b[43m{\u001b[49m\n\u001b[1;32m    858\u001b[0m \u001b[43m    \u001b[49m\u001b[38;5;124;43m'\u001b[39;49m\u001b[38;5;124;43musing\u001b[39;49m\u001b[38;5;124;43m'\u001b[39;49m\u001b[43m:\u001b[49m\u001b[43m \u001b[49m\u001b[43mby\u001b[49m\u001b[43m,\u001b[49m\n\u001b[1;32m    859\u001b[0m \u001b[43m    \u001b[49m\u001b[38;5;124;43m'\u001b[39;49m\u001b[38;5;124;43mvalue\u001b[39;49m\u001b[38;5;124;43m'\u001b[39;49m\u001b[43m:\u001b[49m\u001b[43m \u001b[49m\u001b[43mvalue\u001b[49m\u001b[43m}\u001b[49m\u001b[43m)\u001b[49m[\u001b[38;5;124m'\u001b[39m\u001b[38;5;124mvalue\u001b[39m\u001b[38;5;124m'\u001b[39m]\n",
      "File \u001b[0;32m~/anaconda3/envs/disney/lib/python3.10/site-packages/selenium/webdriver/remote/webdriver.py:435\u001b[0m, in \u001b[0;36mWebDriver.execute\u001b[0;34m(self, driver_command, params)\u001b[0m\n\u001b[1;32m    433\u001b[0m response \u001b[38;5;241m=\u001b[39m \u001b[38;5;28mself\u001b[39m\u001b[38;5;241m.\u001b[39mcommand_executor\u001b[38;5;241m.\u001b[39mexecute(driver_command, params)\n\u001b[1;32m    434\u001b[0m \u001b[38;5;28;01mif\u001b[39;00m response:\n\u001b[0;32m--> 435\u001b[0m     \u001b[38;5;28;43mself\u001b[39;49m\u001b[38;5;241;43m.\u001b[39;49m\u001b[43merror_handler\u001b[49m\u001b[38;5;241;43m.\u001b[39;49m\u001b[43mcheck_response\u001b[49m\u001b[43m(\u001b[49m\u001b[43mresponse\u001b[49m\u001b[43m)\u001b[49m\n\u001b[1;32m    436\u001b[0m     response[\u001b[38;5;124m'\u001b[39m\u001b[38;5;124mvalue\u001b[39m\u001b[38;5;124m'\u001b[39m] \u001b[38;5;241m=\u001b[39m \u001b[38;5;28mself\u001b[39m\u001b[38;5;241m.\u001b[39m_unwrap_value(\n\u001b[1;32m    437\u001b[0m         response\u001b[38;5;241m.\u001b[39mget(\u001b[38;5;124m'\u001b[39m\u001b[38;5;124mvalue\u001b[39m\u001b[38;5;124m'\u001b[39m, \u001b[38;5;28;01mNone\u001b[39;00m))\n\u001b[1;32m    438\u001b[0m     \u001b[38;5;28;01mreturn\u001b[39;00m response\n",
      "File \u001b[0;32m~/anaconda3/envs/disney/lib/python3.10/site-packages/selenium/webdriver/remote/errorhandler.py:247\u001b[0m, in \u001b[0;36mErrorHandler.check_response\u001b[0;34m(self, response)\u001b[0m\n\u001b[1;32m    245\u001b[0m         alert_text \u001b[38;5;241m=\u001b[39m value[\u001b[38;5;124m'\u001b[39m\u001b[38;5;124malert\u001b[39m\u001b[38;5;124m'\u001b[39m]\u001b[38;5;241m.\u001b[39mget(\u001b[38;5;124m'\u001b[39m\u001b[38;5;124mtext\u001b[39m\u001b[38;5;124m'\u001b[39m)\n\u001b[1;32m    246\u001b[0m     \u001b[38;5;28;01mraise\u001b[39;00m exception_class(message, screen, stacktrace, alert_text)  \u001b[38;5;66;03m# type: ignore[call-arg]  # mypy is not smart enough here\u001b[39;00m\n\u001b[0;32m--> 247\u001b[0m \u001b[38;5;28;01mraise\u001b[39;00m exception_class(message, screen, stacktrace)\n",
      "\u001b[0;31mNoSuchElementException\u001b[0m: Message: no such element: Unable to locate element: {\"method\":\"xpath\",\"selector\":\"//*[@id=\"did-ui-view\"]/div/section/section/form\"}\n  (Session info: chrome=103.0.5060.114)\nStacktrace:\n#0 0x555562098b13 <unknown>\n#1 0x555561e9f688 <unknown>\n#2 0x555561ed6cc7 <unknown>\n#3 0x555561ed6e91 <unknown>\n#4 0x555561f09e34 <unknown>\n#5 0x555561ef48dd <unknown>\n#6 0x555561f07b94 <unknown>\n#7 0x555561ef47a3 <unknown>\n#8 0x555561eca0ea <unknown>\n#9 0x555561ecb225 <unknown>\n#10 0x5555620e02dd <unknown>\n#11 0x5555620e42c7 <unknown>\n#12 0x5555620ca22e <unknown>\n#13 0x5555620e50a8 <unknown>\n#14 0x5555620bebc0 <unknown>\n#15 0x5555621016c8 <unknown>\n#16 0x555562101848 <unknown>\n#17 0x55556211bc0d <unknown>\n#18 0x7f76738b0609 <unknown>\n"
     ]
    }
   ],
   "source": [
    "username= browser.find_element(by=By.XPATH, value='//*[@id=\"did-ui-view\"]/div/section/section/form')\n",
    "querySelector('[aria-label=\"Username or Email Address\"]')\n",
    "# browser = browser.find_element(by=By.XPATH, value=\"//input[@type='email']\")\n",
    "# password = driver.find_element(by=By.XPATH, value='//*[@id=\"did-ui-view\"]/div/section/section/form/section/div[2]/div/label/span[2]/input')\n",
    "# submit = driver.find_element(by=By.XPATH, value='//*[@id=\"did-ui-view\"]/div/section/section/form/section/div[3]/button')\n",
    "# browser.send_keys(\"house@brenesfinancial.com\")\n",
    "# password.send_keys(\"MyStr3@m437\")\n",
    "\n",
    "#did-ui-view > div > section > section > form > section > div:nth-child(1) > div > label > span.input-wrapper > input)\n",
    "# submit.click()"
   ]
  },
  {
   "cell_type": "code",
   "execution_count": null,
   "id": "400d57f2",
   "metadata": {},
   "outputs": [],
   "source": []
  },
  {
   "cell_type": "code",
   "execution_count": null,
   "id": "08eab6e9",
   "metadata": {},
   "outputs": [],
   "source": []
  },
  {
   "cell_type": "code",
   "execution_count": null,
   "id": "2535d2b9",
   "metadata": {},
   "outputs": [],
   "source": []
  },
  {
   "cell_type": "code",
   "execution_count": null,
   "id": "3d8369a1",
   "metadata": {},
   "outputs": [],
   "source": [
    "# test = driver.find_element(by=By.XPATH, value='//*[@id=\"finderDetailsContainer-90001248;entityType=restaurant\"]/div[1]/finder-aag/div/div[2]/div/div[2]/finder-date-picker-wrapper/div/finder-calendar')"
   ]
  },
  {
   "cell_type": "code",
   "execution_count": null,
   "id": "6a7ce0eb",
   "metadata": {},
   "outputs": [],
   "source": []
  },
  {
   "cell_type": "code",
   "execution_count": 75,
   "id": "f2e6a32d",
   "metadata": {},
   "outputs": [],
   "source": []
  },
  {
   "cell_type": "code",
   "execution_count": 76,
   "id": "b9f6de03",
   "metadata": {},
   "outputs": [],
   "source": []
  },
  {
   "cell_type": "code",
   "execution_count": null,
   "id": "be61c1a7",
   "metadata": {},
   "outputs": [],
   "source": []
  },
  {
   "cell_type": "code",
   "execution_count": null,
   "id": "a652eb6d",
   "metadata": {},
   "outputs": [],
   "source": [
    "document.querySelector(\"#finderDetailsContainer-90001248\\\\;entityType\\\\=restaurant > div.upper-container.ng-tns-c170-2 > finder-aag > div > div.details.ng-tns-c82-3 > div > div.schedule.ng-tns-c82-3.ng-star-inserted > finder-date-picker-wrapper > div > finder-calendar\")"
   ]
  },
  {
   "cell_type": "code",
   "execution_count": null,
   "id": "84130606",
   "metadata": {},
   "outputs": [],
   "source": [
    ".querySelector(\"#container > finder-calendar \")"
   ]
  },
  {
   "cell_type": "code",
   "execution_count": 71,
   "id": "219fa69f",
   "metadata": {},
   "outputs": [],
   "source": [
    "test = \"\"\" return document \n",
    ".querySelector(\"#finderDetailsContainer-90001248\\\\;entityType\\\\=restaurant > div.upper-container.ng-tns-c170-2 > finder-aag > div > div.details.ng-tns-c82-3 > div > div.schedule.ng-tns-c82-3.ng-star-inserted > finder-date-picker-wrapper > div > finder-calendar\")\"\"\"\n",
    "\n"
   ]
  },
  {
   "cell_type": "code",
   "execution_count": 58,
   "id": "76da3150",
   "metadata": {},
   "outputs": [
    {
     "name": "stdout",
     "output_type": "stream",
     "text": [
      "None\n"
     ]
    }
   ],
   "source": [
    "driver.find_element_by_xpath('//button[@name='&amp;lid=WDW_Detail_Dining_WednesdayJuly132022'])"
   ]
  },
  {
   "cell_type": "code",
   "execution_count": 61,
   "id": "7961cde3",
   "metadata": {},
   "outputs": [
    {
     "ename": "AttributeError",
     "evalue": "'WebDriver' object has no attribute 'find_element_by_xpath'",
     "output_type": "error",
     "traceback": [
      "\u001b[0;31m---------------------------------------------------------------------------\u001b[0m",
      "\u001b[0;31mAttributeError\u001b[0m                            Traceback (most recent call last)",
      "Input \u001b[0;32mIn [61]\u001b[0m, in \u001b[0;36m<cell line: 1>\u001b[0;34m()\u001b[0m\n\u001b[0;32m----> 1\u001b[0m \u001b[43mdriver\u001b[49m\u001b[38;5;241;43m.\u001b[39;49m\u001b[43mfind_element_by_xpath\u001b[49m(\u001b[38;5;124m'\u001b[39m\u001b[38;5;124m//*[@id=\u001b[39m\u001b[38;5;124m\"\u001b[39m\u001b[38;5;124mfinderDetailsContainer-90001248;entityType=restaurant\u001b[39m\u001b[38;5;124m\"\u001b[39m\u001b[38;5;124m]/div[1]/finder-aag/div/div[2]/div/div[2]/finder-date-picker-wrapper/div/finder-calendar\u001b[39m\u001b[38;5;124m'\u001b[39m)\n",
      "\u001b[0;31mAttributeError\u001b[0m: 'WebDriver' object has no attribute 'find_element_by_xpath'"
     ]
    }
   ],
   "source": [
    "driver.find_element_by_xpath('//*[@id=\"finderDetailsContainer-90001248;entityType=restaurant\"]/div[1]/finder-aag/div/div[2]/div/div[2]/finder-date-picker-wrapper/div/finder-calendar')"
   ]
  },
  {
   "cell_type": "code",
   "execution_count": 72,
   "id": "68dddbc3",
   "metadata": {},
   "outputs": [],
   "source": [
    "\n",
    "\n"
   ]
  },
  {
   "cell_type": "code",
   "execution_count": 74,
   "id": "41683714",
   "metadata": {},
   "outputs": [],
   "source": [
    "# test2 = driver.execute_script(test)\n",
    "test.click()\n"
   ]
  },
  {
   "cell_type": "code",
   "execution_count": null,
   "id": "d81a5c44",
   "metadata": {},
   "outputs": [],
   "source": [
    "document.querySelector(\"#finderDetailsContainer-90001248\\\\;entityType\\\\=restaurant > div.upper-container.ng-tns-c170-2 > finder-aag > div > div.details.ng-tns-c82-3 > div > div.schedule.ng-tns-c82-3.ng-star-inserted > finder-date-picker-wrapper > div > finder-calendar > div > div.calendar-content > table > tbody > tr:nth-child(3) > td.calendar-cell.date-2022-07-16.ng-star-inserted > a\")"
   ]
  },
  {
   "cell_type": "code",
   "execution_count": 16,
   "id": "8367df53",
   "metadata": {},
   "outputs": [
    {
     "ename": "InvalidElementStateException",
     "evalue": "Message: invalid element state: Failed to execute 'querySelector' on 'Document': '#finderDetailsContainer-90001248;entityType=restaurant > div.upper-container.ng-tns-c170-2 > finder-aag > div > div.details.ng-tns-c82-3 > div > div.schedule.ng-tns-c82-3.ng-star-inserted > finder-date-picker-wrapper > div > finder-calendar > div > div.calendar-content > table > tbody > tr:nth-child(3) > td.calendar-cell.date-2022-07-16.selected.ng-star-inserted > a' is not a valid selector.\n  (Session info: chrome=103.0.5060.114)\nStacktrace:\n#0 0x561c590eab13 <unknown>\n#1 0x561c58ef1688 <unknown>\n#2 0x561c58ef44e7 <unknown>\n#3 0x561c58ef438b <unknown>\n#4 0x561c58ef4f22 <unknown>\n#5 0x561c58f5a773 <unknown>\n#6 0x561c58f468b2 <unknown>\n#7 0x561c58f59b94 <unknown>\n#8 0x561c58f467a3 <unknown>\n#9 0x561c58f1c0ea <unknown>\n#10 0x561c58f1d225 <unknown>\n#11 0x561c591322dd <unknown>\n#12 0x561c591362c7 <unknown>\n#13 0x561c5911c22e <unknown>\n#14 0x561c591370a8 <unknown>\n#15 0x561c59110bc0 <unknown>\n#16 0x561c591536c8 <unknown>\n#17 0x561c59153848 <unknown>\n#18 0x561c5916dc0d <unknown>\n#19 0x7fcf30a3d609 <unknown>\n",
     "output_type": "error",
     "traceback": [
      "\u001b[0;31m---------------------------------------------------------------------------\u001b[0m",
      "\u001b[0;31mInvalidElementStateException\u001b[0m              Traceback (most recent call last)",
      "Input \u001b[0;32mIn [16]\u001b[0m, in \u001b[0;36m<cell line: 6>\u001b[0;34m()\u001b[0m\n\u001b[1;32m      1\u001b[0m \u001b[38;5;66;03m# Change date of calendar to 16th\u001b[39;00m\n\u001b[1;32m      2\u001b[0m \u001b[38;5;66;03m# document.querySelector(\"#finderDetailsContainer-90001248\\\\;entityType\\\\=restaurant > div.upper-container.ng-tns-c170-2 > finder-aag > div > div.details.ng-tns-c82-3 > div > div.schedule.ng-tns-c82-3.ng-star-inserted > finder-date-picker-wrapper > div > finder-calendar > div > div.calendar-content > table > tbody > tr:nth-child(3) > td.calendar-cell.date-2022-07-16.ng-star-inserted\")\u001b[39;00m\n\u001b[1;32m      3\u001b[0m selectDate \u001b[38;5;241m=\u001b[39m \u001b[38;5;124m\"\"\"\u001b[39m\u001b[38;5;124m return document\u001b[39m\n\u001b[1;32m      4\u001b[0m \u001b[38;5;124m.querySelector(\u001b[39m\u001b[38;5;124m\"\u001b[39m\u001b[38;5;124m#finderDetailsContainer-90001248\u001b[39m\u001b[38;5;130;01m\\\\\u001b[39;00m\u001b[38;5;124m;entityType\u001b[39m\u001b[38;5;130;01m\\\\\u001b[39;00m\u001b[38;5;124m=restaurant > div.upper-container.ng-tns-c170-2 > finder-aag > div > div.details.ng-tns-c82-3 > div > div.schedule.ng-tns-c82-3.ng-star-inserted > finder-date-picker-wrapper > div > finder-calendar > div > div.calendar-content > table > tbody > tr:nth-child(3) > td.calendar-cell.date-2022-07-16.selected.ng-star-inserted > a\u001b[39m\u001b[38;5;124m\"\u001b[39m\u001b[38;5;124m)\u001b[39m\n\u001b[1;32m      5\u001b[0m \u001b[38;5;124m\"\"\"\u001b[39m\n\u001b[0;32m----> 6\u001b[0m \u001b[43mdriver\u001b[49m\u001b[38;5;241;43m.\u001b[39;49m\u001b[43mexecute_script\u001b[49m\u001b[43m(\u001b[49m\u001b[43mselectDate\u001b[49m\u001b[43m)\u001b[49m\n\u001b[1;32m      7\u001b[0m selectDate\u001b[38;5;241m.\u001b[39mclick()\n",
      "File \u001b[0;32m~/anaconda3/envs/disney/lib/python3.10/site-packages/selenium/webdriver/remote/webdriver.py:493\u001b[0m, in \u001b[0;36mWebDriver.execute_script\u001b[0;34m(self, script, *args)\u001b[0m\n\u001b[1;32m    490\u001b[0m converted_args \u001b[38;5;241m=\u001b[39m \u001b[38;5;28mlist\u001b[39m(args)\n\u001b[1;32m    491\u001b[0m command \u001b[38;5;241m=\u001b[39m Command\u001b[38;5;241m.\u001b[39mW3C_EXECUTE_SCRIPT\n\u001b[0;32m--> 493\u001b[0m \u001b[38;5;28;01mreturn\u001b[39;00m \u001b[38;5;28;43mself\u001b[39;49m\u001b[38;5;241;43m.\u001b[39;49m\u001b[43mexecute\u001b[49m\u001b[43m(\u001b[49m\u001b[43mcommand\u001b[49m\u001b[43m,\u001b[49m\u001b[43m \u001b[49m\u001b[43m{\u001b[49m\n\u001b[1;32m    494\u001b[0m \u001b[43m    \u001b[49m\u001b[38;5;124;43m'\u001b[39;49m\u001b[38;5;124;43mscript\u001b[39;49m\u001b[38;5;124;43m'\u001b[39;49m\u001b[43m:\u001b[49m\u001b[43m \u001b[49m\u001b[43mscript\u001b[49m\u001b[43m,\u001b[49m\n\u001b[1;32m    495\u001b[0m \u001b[43m    \u001b[49m\u001b[38;5;124;43m'\u001b[39;49m\u001b[38;5;124;43margs\u001b[39;49m\u001b[38;5;124;43m'\u001b[39;49m\u001b[43m:\u001b[49m\u001b[43m \u001b[49m\u001b[43mconverted_args\u001b[49m\u001b[43m}\u001b[49m\u001b[43m)\u001b[49m[\u001b[38;5;124m'\u001b[39m\u001b[38;5;124mvalue\u001b[39m\u001b[38;5;124m'\u001b[39m]\n",
      "File \u001b[0;32m~/anaconda3/envs/disney/lib/python3.10/site-packages/selenium/webdriver/remote/webdriver.py:435\u001b[0m, in \u001b[0;36mWebDriver.execute\u001b[0;34m(self, driver_command, params)\u001b[0m\n\u001b[1;32m    433\u001b[0m response \u001b[38;5;241m=\u001b[39m \u001b[38;5;28mself\u001b[39m\u001b[38;5;241m.\u001b[39mcommand_executor\u001b[38;5;241m.\u001b[39mexecute(driver_command, params)\n\u001b[1;32m    434\u001b[0m \u001b[38;5;28;01mif\u001b[39;00m response:\n\u001b[0;32m--> 435\u001b[0m     \u001b[38;5;28;43mself\u001b[39;49m\u001b[38;5;241;43m.\u001b[39;49m\u001b[43merror_handler\u001b[49m\u001b[38;5;241;43m.\u001b[39;49m\u001b[43mcheck_response\u001b[49m\u001b[43m(\u001b[49m\u001b[43mresponse\u001b[49m\u001b[43m)\u001b[49m\n\u001b[1;32m    436\u001b[0m     response[\u001b[38;5;124m'\u001b[39m\u001b[38;5;124mvalue\u001b[39m\u001b[38;5;124m'\u001b[39m] \u001b[38;5;241m=\u001b[39m \u001b[38;5;28mself\u001b[39m\u001b[38;5;241m.\u001b[39m_unwrap_value(\n\u001b[1;32m    437\u001b[0m         response\u001b[38;5;241m.\u001b[39mget(\u001b[38;5;124m'\u001b[39m\u001b[38;5;124mvalue\u001b[39m\u001b[38;5;124m'\u001b[39m, \u001b[38;5;28;01mNone\u001b[39;00m))\n\u001b[1;32m    438\u001b[0m     \u001b[38;5;28;01mreturn\u001b[39;00m response\n",
      "File \u001b[0;32m~/anaconda3/envs/disney/lib/python3.10/site-packages/selenium/webdriver/remote/errorhandler.py:247\u001b[0m, in \u001b[0;36mErrorHandler.check_response\u001b[0;34m(self, response)\u001b[0m\n\u001b[1;32m    245\u001b[0m         alert_text \u001b[38;5;241m=\u001b[39m value[\u001b[38;5;124m'\u001b[39m\u001b[38;5;124malert\u001b[39m\u001b[38;5;124m'\u001b[39m]\u001b[38;5;241m.\u001b[39mget(\u001b[38;5;124m'\u001b[39m\u001b[38;5;124mtext\u001b[39m\u001b[38;5;124m'\u001b[39m)\n\u001b[1;32m    246\u001b[0m     \u001b[38;5;28;01mraise\u001b[39;00m exception_class(message, screen, stacktrace, alert_text)  \u001b[38;5;66;03m# type: ignore[call-arg]  # mypy is not smart enough here\u001b[39;00m\n\u001b[0;32m--> 247\u001b[0m \u001b[38;5;28;01mraise\u001b[39;00m exception_class(message, screen, stacktrace)\n",
      "\u001b[0;31mInvalidElementStateException\u001b[0m: Message: invalid element state: Failed to execute 'querySelector' on 'Document': '#finderDetailsContainer-90001248;entityType=restaurant > div.upper-container.ng-tns-c170-2 > finder-aag > div > div.details.ng-tns-c82-3 > div > div.schedule.ng-tns-c82-3.ng-star-inserted > finder-date-picker-wrapper > div > finder-calendar > div > div.calendar-content > table > tbody > tr:nth-child(3) > td.calendar-cell.date-2022-07-16.selected.ng-star-inserted > a' is not a valid selector.\n  (Session info: chrome=103.0.5060.114)\nStacktrace:\n#0 0x561c590eab13 <unknown>\n#1 0x561c58ef1688 <unknown>\n#2 0x561c58ef44e7 <unknown>\n#3 0x561c58ef438b <unknown>\n#4 0x561c58ef4f22 <unknown>\n#5 0x561c58f5a773 <unknown>\n#6 0x561c58f468b2 <unknown>\n#7 0x561c58f59b94 <unknown>\n#8 0x561c58f467a3 <unknown>\n#9 0x561c58f1c0ea <unknown>\n#10 0x561c58f1d225 <unknown>\n#11 0x561c591322dd <unknown>\n#12 0x561c591362c7 <unknown>\n#13 0x561c5911c22e <unknown>\n#14 0x561c591370a8 <unknown>\n#15 0x561c59110bc0 <unknown>\n#16 0x561c591536c8 <unknown>\n#17 0x561c59153848 <unknown>\n#18 0x561c5916dc0d <unknown>\n#19 0x7fcf30a3d609 <unknown>\n"
     ]
    }
   ],
   "source": [
    "# Change date of calendar to 16th\n",
    "# document.querySelector(\"#finderDetailsContainer-90001248\\\\;entityType\\\\=restaurant > div.upper-container.ng-tns-c170-2 > finder-aag > div > div.details.ng-tns-c82-3 > div > div.schedule.ng-tns-c82-3.ng-star-inserted > finder-date-picker-wrapper > div > finder-calendar > div > div.calendar-content > table > tbody > tr:nth-child(3) > td.calendar-cell.date-2022-07-16.ng-star-inserted\")\n",
    "selectDate = \"\"\" return document\n",
    ".querySelector(\"#finderDetailsContainer-90001248\\\\;entityType\\\\=restaurant > div.upper-container.ng-tns-c170-2 > finder-aag > div > div.details.ng-tns-c82-3 > div > div.schedule.ng-tns-c82-3.ng-star-inserted > finder-date-picker-wrapper > div > finder-calendar > div > div.calendar-content > table > tbody > tr:nth-child(3) > td.calendar-cell.date-2022-07-16.selected.ng-star-inserted > a\")\n",
    "\"\"\"\n",
    "driver.execute_script(selectDate)\n",
    "selectDate.click()"
   ]
  },
  {
   "cell_type": "code",
   "execution_count": 4,
   "id": "2ed0f314",
   "metadata": {},
   "outputs": [],
   "source": [
    "# click check reservations "
   ]
  },
  {
   "cell_type": "code",
   "execution_count": null,
   "id": "8ded3058",
   "metadata": {},
   "outputs": [],
   "source": [
    "# log in "
   ]
  }
 ],
 "metadata": {
  "kernelspec": {
   "display_name": "Python 3 (ipykernel)",
   "language": "python",
   "name": "python3"
  },
  "language_info": {
   "codemirror_mode": {
    "name": "ipython",
    "version": 3
   },
   "file_extension": ".py",
   "mimetype": "text/x-python",
   "name": "python",
   "nbconvert_exporter": "python",
   "pygments_lexer": "ipython3",
   "version": "3.10.4"
  }
 },
 "nbformat": 4,
 "nbformat_minor": 5
}
