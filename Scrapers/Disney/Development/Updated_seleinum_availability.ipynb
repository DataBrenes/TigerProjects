{
 "cells": [
  {
   "cell_type": "code",
   "execution_count": 145,
   "id": "bd7e6087",
   "metadata": {},
   "outputs": [
    {
     "name": "stdout",
     "output_type": "stream",
     "text": [
      "\n"
     ]
    }
   ],
   "source": [
    "from selenium import webdriver\n",
    "from selenium.webdriver.chrome.service import Service\n",
    "from webdriver_manager.chrome import ChromeDriverManager\n",
    "from providers import PROVIDERS\n",
    "import check_available as ck\n",
    "from time import sleep\n",
    "import send_text as txt\n",
    "# from importlib import reload\n",
    "# reload(ck)\n",
    "\n",
    "# instatiate browser and open page\n",
    "\n",
    "\n",
    "\n"
   ]
  },
  {
   "cell_type": "code",
   "execution_count": 146,
   "id": "9654c516",
   "metadata": {},
   "outputs": [],
   "source": []
  },
  {
   "cell_type": "markdown",
   "id": "aaaaac24",
   "metadata": {},
   "source": [
    "# Date Picker and Park Picker"
   ]
  },
  {
   "cell_type": "code",
   "execution_count": 72,
   "id": "b92608ed",
   "metadata": {},
   "outputs": [
    {
     "name": "stdout",
     "output_type": "stream",
     "text": [
      "What is the the first day of Disney?  mm/dd/yyyy\n",
      "07/25/2022\n"
     ]
    }
   ],
   "source": [
    "firstday = input('What is the the first day of Disney?  mm/dd/yyyy\\n')     # \\n ---> newline  ---> It causes a line break\n",
    "first = datetime.datetime.strptime(firstday, '%m/%d/%Y')"
   ]
  },
  {
   "cell_type": "code",
   "execution_count": 73,
   "id": "4d41dd0b",
   "metadata": {},
   "outputs": [
    {
     "name": "stdout",
     "output_type": "stream",
     "text": [
      "What is the the first day of Disney?  mm/dd/yyyy\n",
      "08/02/2022\n"
     ]
    }
   ],
   "source": [
    "lastday = input('What is the the first day of Disney?  mm/dd/yyyy\\n')     # \\n ---> newline  ---> It causes a line break\n",
    "last = datetime.datetime.strptime(lastday, '%m/%d/%Y')"
   ]
  },
  {
   "cell_type": "code",
   "execution_count": 83,
   "id": "fb16ff46",
   "metadata": {},
   "outputs": [
    {
     "name": "stdout",
     "output_type": "stream",
     "text": [
      "What park are you going to on Monday, July 25, 2022?  MK , EP , AK , HS \n",
      "MK\n",
      "What park are you going to on Tuesday, July 26, 2022?  MK , EP , AK , HS \n",
      "AK\n",
      "What park are you going to on Wednesday, July 27, 2022?  MK , EP , AK , HS \n",
      "HS\n",
      "What park are you going to on Thursday, July 28, 2022?  MK , EP , AK , HS \n",
      "EP\n",
      "What park are you going to on Friday, July 29, 2022?  MK , EP , AK , HS \n",
      "EP\n",
      "What park are you going to on Saturday, July 30, 2022?  MK , EP , AK , HS \n",
      "MK\n",
      "What park are you going to on Sunday, July 31, 2022?  MK , EP , AK , HS \n",
      "AK\n",
      "What park are you going to on Monday, August 01, 2022?  MK , EP , AK , HS \n",
      "MK\n",
      "What park are you going to on Tuesday, August 02, 2022?  MK , EP , AK , HS \n",
      "AK\n"
     ]
    }
   ],
   "source": [
    "Park_Picker(diz_range(first,last)\n"
   ]
  },
  {
   "cell_type": "code",
   "execution_count": 147,
   "id": "fde1d432",
   "metadata": {},
   "outputs": [
    {
     "data": {
      "text/plain": [
       "{'Monday, July 25, 2022': 'Magic Kingdom',\n",
       " 'Tuesday, July 26, 2022': 'Animal Kingdom',\n",
       " 'Wednesday, July 27, 2022': 'Hollywood Studios',\n",
       " 'Thursday, July 28, 2022': 'Epcot',\n",
       " 'Friday, July 29, 2022': 'Epcot',\n",
       " 'Saturday, July 30, 2022': 'Magic Kingdom',\n",
       " 'Sunday, July 31, 2022': 'Animal Kingdom',\n",
       " 'Monday, August 01, 2022': 'Magic Kingdom',\n",
       " 'Tuesday, August 02, 2022': 'Animal Kingdom'}"
      ]
     },
     "execution_count": 147,
     "metadata": {},
     "output_type": "execute_result"
    }
   ],
   "source": [
    "park_dates"
   ]
  },
  {
   "cell_type": "code",
   "execution_count": 86,
   "id": "a7ce3c27",
   "metadata": {},
   "outputs": [],
   "source": [
    "def Park_Picker(diz_dates):\n",
    "    global park_dates\n",
    "    park_dates ={}    \n",
    "    num = len(diz_dates)\n",
    "    while num > 0:\n",
    "        for d in diz_dates:\n",
    "            num=-1\n",
    "            p_date = d.strftime(\"%A, %B %d, %Y\")\n",
    "            park = input('What park are you going to on ' + str(p_date)+'?  MK , EP , AK , HS \\n') \n",
    "            if park.upper() == 'MK':\n",
    "                park_dates[p_date] = 'Magic Kingdom'\n",
    "            elif park.upper() == 'EP':\n",
    "                park_dates[p_date] = 'EPCOT'\n",
    "            elif park.upper() == 'AK':\n",
    "                park_dates[p_date] = 'Animal Kingdom'\n",
    "            elif park.upper() == 'HS':\n",
    "                park_dates[p_date] = 'Hollywood Studios'        \n",
    "            next\n",
    "    return park_dates\n",
    "#     Wednesday, July 13, 20"
   ]
  },
  {
   "cell_type": "code",
   "execution_count": 77,
   "id": "4b1391ca",
   "metadata": {},
   "outputs": [],
   "source": [
    "def diz_range(start,stop):\n",
    "#     global diz_dates # If you want to use this outside of functions     \n",
    "    diz_dates = []\n",
    "    diff = (stop-start).days\n",
    "    for i in range(diff+1):\n",
    "        day = start + datetime.timedelta(days=i)\n",
    "        diz_dates.append(day)\n",
    "    return diz_dates"
   ]
  },
  {
   "cell_type": "code",
   "execution_count": 134,
   "id": "1cc8a215",
   "metadata": {},
   "outputs": [],
   "source": [
    "# Peices \n",
    "from selenium import webdriver\n",
    "from selenium.webdriver.common.by import By\n",
    "alert = None\n",
    "park_list = []\n",
    "\n",
    "\n",
    "CheckAll = \"\"\" return document\n",
    ".querySelector(\"#container > app-availability-calendar > awakening-calendar\").shadowRoot\n",
    ".querySelectorAll(\"#calendarContainer > wdat-calendar > wdat-date\")\"\"\"\n",
    "\n",
    "all_dates= driver.execute_script(CheckAll)"
   ]
  },
  {
   "cell_type": "code",
   "execution_count": 117,
   "id": "f3051c43",
   "metadata": {},
   "outputs": [
    {
     "data": {
      "text/plain": [
       "dict"
      ]
     },
     "execution_count": 117,
     "metadata": {},
     "output_type": "execute_result"
    }
   ],
   "source": []
  },
  {
   "cell_type": "code",
   "execution_count": 120,
   "id": "6604bf38",
   "metadata": {},
   "outputs": [
    {
     "name": "stdout",
     "output_type": "stream",
     "text": [
      "Monday, July 25, 2022\n",
      "Tuesday, July 26, 2022\n",
      "Wednesday, July 27, 2022\n",
      "Thursday, July 28, 2022\n",
      "Friday, July 29, 2022\n",
      "Saturday, July 30, 2022\n",
      "Sunday, July 31, 2022\n",
      "Monday, August 01, 2022\n",
      "Tuesday, August 02, 2022\n"
     ]
    }
   ],
   "source": []
  },
  {
   "cell_type": "code",
   "execution_count": 122,
   "id": "a9fb0e24",
   "metadata": {},
   "outputs": [],
   "source": []
  },
  {
   "cell_type": "code",
   "execution_count": null,
   "id": "810e5963",
   "metadata": {},
   "outputs": [],
   "source": []
  },
  {
   "cell_type": "code",
   "execution_count": 123,
   "id": "9a177222",
   "metadata": {},
   "outputs": [],
   "source": []
  },
  {
   "cell_type": "code",
   "execution_count": 124,
   "id": "17992bee",
   "metadata": {},
   "outputs": [
    {
     "data": {
      "text/plain": [
       "dict_keys(['Monday, July 25, 2022', 'Tuesday, July 26, 2022', 'Wednesday, July 27, 2022', 'Thursday, July 28, 2022', 'Friday, July 29, 2022', 'Saturday, July 30, 2022', 'Sunday, July 31, 2022'])"
      ]
     },
     "execution_count": 124,
     "metadata": {},
     "output_type": "execute_result"
    }
   ],
   "source": [
    "date_ele.keys()"
   ]
  },
  {
   "cell_type": "code",
   "execution_count": null,
   "id": "d1f7db52",
   "metadata": {},
   "outputs": [],
   "source": []
  },
  {
   "cell_type": "code",
   "execution_count": 7,
   "id": "abaff662",
   "metadata": {},
   "outputs": [
    {
     "ename": "UnboundLocalError",
     "evalue": "local variable 'sun' referenced before assignment",
     "output_type": "error",
     "traceback": [
      "\u001b[0;31m---------------------------------------------------------------------------\u001b[0m",
      "\u001b[0;31mUnboundLocalError\u001b[0m                         Traceback (most recent call last)",
      "Input \u001b[0;32mIn [7]\u001b[0m, in \u001b[0;36m<cell line: 2>\u001b[0;34m()\u001b[0m\n\u001b[1;32m      1\u001b[0m num_list \u001b[38;5;241m=\u001b[39m [[\u001b[38;5;124m'\u001b[39m\u001b[38;5;124m7346455056\u001b[39m\u001b[38;5;124m'\u001b[39m,\u001b[38;5;124m\"\u001b[39m\u001b[38;5;124mT-Mobile\u001b[39m\u001b[38;5;124m\"\u001b[39m],[\u001b[38;5;124m'\u001b[39m\u001b[38;5;124m7346455056\u001b[39m\u001b[38;5;124m'\u001b[39m,\u001b[38;5;124m\"\u001b[39m\u001b[38;5;124mT-Mobile\u001b[39m\u001b[38;5;124m\"\u001b[39m]]\n\u001b[0;32m----> 2\u001b[0m Sunday\u001b[38;5;241m=\u001b[39m \u001b[43mck\u001b[49m\u001b[38;5;241;43m.\u001b[39;49m\u001b[43mavailable\u001b[49m\u001b[43m(\u001b[49m\u001b[43mbrowser\u001b[49m\u001b[43m,\u001b[49m\u001b[38;5;124;43m'\u001b[39;49m\u001b[38;5;124;43mSunday\u001b[39;49m\u001b[38;5;124;43m'\u001b[39;49m\u001b[43m,\u001b[49m\u001b[38;5;124;43m'\u001b[39;49m\u001b[38;5;124;43mmagic\u001b[39;49m\u001b[38;5;124;43m'\u001b[39;49m\u001b[43m)\u001b[49m\n\u001b[1;32m      3\u001b[0m Monday\u001b[38;5;241m=\u001b[39m ck\u001b[38;5;241m.\u001b[39mavailable(browser,\u001b[38;5;124m'\u001b[39m\u001b[38;5;124mMonday\u001b[39m\u001b[38;5;124m'\u001b[39m,\u001b[38;5;124m'\u001b[39m\u001b[38;5;124mholly\u001b[39m\u001b[38;5;124m'\u001b[39m)\n",
      "File \u001b[0;32m/mnt/c/Users/brene/OneDrive - Grand Canyon University/DATASCIENCE/Documentation/Documentation_5_25_20/TigerTeamAnalytics/Projects/Scrapers/Disney/Development/check_available.py:29\u001b[0m, in \u001b[0;36mavailable\u001b[0;34m(driver, day, park)\u001b[0m\n\u001b[1;32m     26\u001b[0m         \u001b[38;5;66;03m# print(\"found the date \"+new)  \u001b[39;00m\n\u001b[1;32m     28\u001b[0m \u001b[38;5;28;01mif\u001b[39;00m day\u001b[38;5;241m.\u001b[39mlower() \u001b[38;5;241m==\u001b[39m \u001b[38;5;124m'\u001b[39m\u001b[38;5;124msunday\u001b[39m\u001b[38;5;124m'\u001b[39m:\n\u001b[0;32m---> 29\u001b[0m     parkday \u001b[38;5;241m=\u001b[39m \u001b[43msun\u001b[49m\n\u001b[1;32m     30\u001b[0m \u001b[38;5;28;01mif\u001b[39;00m day\u001b[38;5;241m.\u001b[39mlower() \u001b[38;5;241m==\u001b[39m \u001b[38;5;124m'\u001b[39m\u001b[38;5;124mmonday\u001b[39m\u001b[38;5;124m'\u001b[39m:\n\u001b[1;32m     31\u001b[0m     parkday \u001b[38;5;241m=\u001b[39m mon\n",
      "\u001b[0;31mUnboundLocalError\u001b[0m: local variable 'sun' referenced before assignment"
     ]
    }
   ],
   "source": [
    "# num_list = [['7346455056',\"T-Mobile\"],['7346455056',\"T-Mobile\"]]\n",
    "# Sunday= ck.available(browser,'Sunday','magic')\n",
    "# Monday= ck.available(browser,'Monday','holly') \n",
    "\n",
    "# if Sunday:\n",
    "#     txt.send(num_list,Sunday.encode('utf-8'))\n",
    "# if Monday:\n",
    "#     txt.send(num_list,Monday.encode('utf-8'))\n",
    "\n",
    "# browser.close()"
   ]
  },
  {
   "cell_type": "markdown",
   "id": "c4f17058",
   "metadata": {},
   "source": [
    "## New find available "
   ]
  },
  {
   "cell_type": "code",
   "execution_count": 89,
   "id": "25d3ba05",
   "metadata": {},
   "outputs": [],
   "source": []
  },
  {
   "cell_type": "code",
   "execution_count": 148,
   "id": "26516c5e",
   "metadata": {},
   "outputs": [],
   "source": [
    "# def available(driver,day,park):\n",
    "alert = None\n",
    "park_list = []\n",
    "\n",
    "CheckAll = \"\"\" return document\n",
    ".querySelector(\"#container > app-availability-calendar > awakening-calendar\").shadowRoot\n",
    ".querySelectorAll(\"#calendarContainer > wdat-calendar > wdat-date\")\"\"\"\n",
    "\n",
    "all_dates= driver.execute_script(CheckAll)"
   ]
  },
  {
   "cell_type": "code",
   "execution_count": 111,
   "id": "be79121b",
   "metadata": {},
   "outputs": [],
   "source": [
    "# all_dates\n"
   ]
  },
  {
   "cell_type": "code",
   "execution_count": 149,
   "id": "4906ee84",
   "metadata": {},
   "outputs": [
    {
     "name": "stdout",
     "output_type": "stream",
     "text": [
      "selected Tuesday, July 12, 2022\n",
      "Wednesday, July 13, 2022\n",
      "Thursday, July 14, 2022\n",
      "Friday, July 15, 2022\n",
      "Saturday, July 16, 2022\n",
      "Sunday, July 17, 2022\n",
      "Monday, July 18, 2022\n",
      "Tuesday, July 19, 2022\n",
      "Wednesday, July 20, 2022\n",
      "Thursday, July 21, 2022\n",
      "Friday, July 22, 2022\n",
      "Saturday, July 23, 2022\n",
      "Sunday, July 24, 2022\n",
      "Monday, July 25, 2022\n",
      "Tuesday, July 26, 2022\n",
      "Wednesday, July 27, 2022\n",
      "Thursday, July 28, 2022\n",
      "Friday, July 29, 2022\n",
      "Saturday, July 30, 2022\n",
      "Sunday, July 31, 2022\n"
     ]
    }
   ],
   "source": [
    "for date in all_dates:\n",
    "    new = date.get_attribute(\"aria-label\")\n",
    "    print(new)"
   ]
  },
  {
   "cell_type": "code",
   "execution_count": 214,
   "id": "b2fa47c5",
   "metadata": {},
   "outputs": [],
   "source": [
    "# TODO \n",
    "# Get the list of days interested in travel - Done \n",
    "# Get list of what parks on what day - Done \n",
    "# Select All dates from calendar - DONE *** Did not do anything for multiple months \n",
    "for date in all_dates:\n",
    "    new = date.get_attribute(\"aria-label\") # \n",
    "# Need to check in this value is IN the date list \n",
    "pdlist = park_dates.keys()\n",
    "# this creates the list of elements to click per day\n",
    "date_ele = {}\n",
    "for date in all_dates:\n",
    "    new = date.get_attribute(\"aria-label\")\n",
    "    if new in pdlist:\n",
    "        # if the value is in the list then save as key date and element\n",
    "        date_ele[new] = date\n",
    "# for date in date_ele click and check availability \n",
    "# returns park_avail\n",
    "park_avail = find_park_avail(pdlist,date_ele)\n",
    "# finds parks not available for date \n",
    "# returns alert \n",
    "not_avail = find_missing(park_dates,park_avail)"
   ]
  },
  {
   "cell_type": "code",
   "execution_count": 252,
   "id": "a0eab10a",
   "metadata": {},
   "outputs": [
    {
     "name": "stdout",
     "output_type": "stream",
     "text": [
      "Monday, July 25, 2022 is in dict_keys(['Monday, July 25, 2022', 'Tuesday, July 26, 2022', 'Wednesday, July 27, 2022', 'Thursday, July 28, 2022', 'Friday, July 29, 2022', 'Saturday, July 30, 2022', 'Sunday, July 31, 2022', 'Monday, August 01, 2022', 'Tuesday, August 02, 2022'])\n",
      "Tuesday, July 26, 2022 is in dict_keys(['Monday, July 25, 2022', 'Tuesday, July 26, 2022', 'Wednesday, July 27, 2022', 'Thursday, July 28, 2022', 'Friday, July 29, 2022', 'Saturday, July 30, 2022', 'Sunday, July 31, 2022', 'Monday, August 01, 2022', 'Tuesday, August 02, 2022'])\n",
      "Wednesday, July 27, 2022 is in dict_keys(['Monday, July 25, 2022', 'Tuesday, July 26, 2022', 'Wednesday, July 27, 2022', 'Thursday, July 28, 2022', 'Friday, July 29, 2022', 'Saturday, July 30, 2022', 'Sunday, July 31, 2022', 'Monday, August 01, 2022', 'Tuesday, August 02, 2022'])\n",
      "Thursday, July 28, 2022 is in dict_keys(['Monday, July 25, 2022', 'Tuesday, July 26, 2022', 'Wednesday, July 27, 2022', 'Thursday, July 28, 2022', 'Friday, July 29, 2022', 'Saturday, July 30, 2022', 'Sunday, July 31, 2022', 'Monday, August 01, 2022', 'Tuesday, August 02, 2022'])\n",
      "Friday, July 29, 2022 is in dict_keys(['Monday, July 25, 2022', 'Tuesday, July 26, 2022', 'Wednesday, July 27, 2022', 'Thursday, July 28, 2022', 'Friday, July 29, 2022', 'Saturday, July 30, 2022', 'Sunday, July 31, 2022', 'Monday, August 01, 2022', 'Tuesday, August 02, 2022'])\n",
      "Saturday, July 30, 2022 is in dict_keys(['Monday, July 25, 2022', 'Tuesday, July 26, 2022', 'Wednesday, July 27, 2022', 'Thursday, July 28, 2022', 'Friday, July 29, 2022', 'Saturday, July 30, 2022', 'Sunday, July 31, 2022', 'Monday, August 01, 2022', 'Tuesday, August 02, 2022'])\n"
     ]
    }
   ],
   "source": [
    "for date in all_dates:\n",
    "    new = date.get_attribute(\"aria-label\")\n",
    "    if new in pdlist:\n",
    "        # if the value is in the list then save as key date and element\n",
    "        print(new +' is in ' + str(pdlist))\n",
    "        date_ele[new] = date"
   ]
  },
  {
   "cell_type": "code",
   "execution_count": 137,
   "id": "27434a2e",
   "metadata": {},
   "outputs": [],
   "source": [
    "date_ele['Monday, July 25, 2022'].click()"
   ]
  },
  {
   "cell_type": "code",
   "execution_count": 212,
   "id": "75116e98",
   "metadata": {},
   "outputs": [],
   "source": [
    "def find_park_avail(pdlist,date_ele):\n",
    "    park_avail = {} # for each date click \n",
    "    for d in pdlist:\n",
    "        park_list = []\n",
    "        try:\n",
    "            date_ele[d].click()\n",
    "            # This block looks at the range for DAY CLICKED and removes the ones that say \"does not have\"\n",
    "        # saves the rest in park_list \n",
    "            for i in range(1,5):     \n",
    "                sub = 'does not have'\n",
    "                query= \"\"\"return document\n",
    "                .querySelector(\"#container > app-availability-calendar > awakening-availability-information\").shadowRoot\n",
    "                .querySelector(\"#parkAvailabilityContainer > div:nth-child(\"\"\"+str(i)+\"\"\") > dprd-icon\")\"\"\"\n",
    "                status = driver.execute_script(query).get_attribute(\"aria-label\")\n",
    "                if sub not in status:\n",
    "                    park_list.append(status)\n",
    "            # save availibility and date dictionary\n",
    "            park_avail[d] = park_list\n",
    "        except: \n",
    "            None \n",
    "    return park_avail"
   ]
  },
  {
   "cell_type": "code",
   "execution_count": 213,
   "id": "ce8f3d46",
   "metadata": {},
   "outputs": [],
   "source": [
    "def find_missing(park_dates,park_avail):\n",
    "    alert = {}\n",
    "    for p_d in park_dates.keys():\n",
    "        park_pick = park_dates[p_d]\n",
    "        try:\n",
    "            if len(park_avail[p_d]) < 4:\n",
    "                if park_pick not in park_avail[p_d]:\n",
    "                    alert[p_d] = park_pick \n",
    "        except:\n",
    "            None\n",
    "    return alert"
   ]
  },
  {
   "cell_type": "code",
   "execution_count": 244,
   "id": "defd377c",
   "metadata": {},
   "outputs": [
    {
     "data": {
      "text/plain": [
       "{'Tuesday, July 26, 2022': <selenium.webdriver.remote.webelement.WebElement (session=\"385d466cae617ced783769b16401ccb9\", element=\"f37b50c9-fe9f-47dc-8b54-e80b8a5693cc\")>,\n",
       " 'Wednesday, July 27, 2022': <selenium.webdriver.remote.webelement.WebElement (session=\"385d466cae617ced783769b16401ccb9\", element=\"682870c1-24d5-41cb-97f8-bb1e0132cbcf\")>,\n",
       " 'Thursday, July 28, 2022': <selenium.webdriver.remote.webelement.WebElement (session=\"385d466cae617ced783769b16401ccb9\", element=\"f2077dc3-0bfc-4271-a301-889446b42196\")>,\n",
       " 'Friday, July 29, 2022': <selenium.webdriver.remote.webelement.WebElement (session=\"385d466cae617ced783769b16401ccb9\", element=\"2b0c3658-2f92-499d-96ab-3a69f4a2b3b4\")>,\n",
       " 'Saturday, July 30, 2022': <selenium.webdriver.remote.webelement.WebElement (session=\"385d466cae617ced783769b16401ccb9\", element=\"d89f1385-db7c-41f6-94c9-6a97b4f233bf\")>,\n",
       " 'Sunday, July 31, 2022': <selenium.webdriver.remote.webelement.WebElement (session=\"385d466cae617ced783769b16401ccb9\", element=\"2045b0f1-1d0f-4b51-912b-5d0e786bb9a9\")>}"
      ]
     },
     "execution_count": 244,
     "metadata": {},
     "output_type": "execute_result"
    }
   ],
   "source": [
    "# pdlist\n",
    "# park_avail\n",
    "# date_ele['Monday, July 25, 2022']\n",
    "date_ele"
   ]
  },
  {
   "cell_type": "code",
   "execution_count": 230,
   "id": "2050c924",
   "metadata": {},
   "outputs": [
    {
     "name": "stdout",
     "output_type": "stream",
     "text": [
      "Monday, July 25, 2022\n"
     ]
    },
    {
     "ename": "KeyError",
     "evalue": "'Monday, July 25, 2022'",
     "output_type": "error",
     "traceback": [
      "\u001b[0;31m---------------------------------------------------------------------------\u001b[0m",
      "\u001b[0;31mKeyError\u001b[0m                                  Traceback (most recent call last)",
      "Input \u001b[0;32mIn [230]\u001b[0m, in \u001b[0;36m<cell line: 2>\u001b[0;34m()\u001b[0m\n\u001b[1;32m      3\u001b[0m \u001b[38;5;28mprint\u001b[39m(p_d)\n\u001b[1;32m      4\u001b[0m park_pick \u001b[38;5;241m=\u001b[39m park_dates[p_d]    \n\u001b[0;32m----> 5\u001b[0m \u001b[38;5;28mprint\u001b[39m(\u001b[38;5;28mlen\u001b[39m(\u001b[43mpark_avail\u001b[49m\u001b[43m[\u001b[49m\u001b[43mp_d\u001b[49m\u001b[43m]\u001b[49m))\n\u001b[1;32m      6\u001b[0m \u001b[38;5;28;01mif\u001b[39;00m \u001b[38;5;28mlen\u001b[39m(park_avail[p_d]) \u001b[38;5;241m<\u001b[39m \u001b[38;5;241m4\u001b[39m:\n\u001b[1;32m      7\u001b[0m     \u001b[38;5;28;01mif\u001b[39;00m park_pick \u001b[38;5;129;01mnot\u001b[39;00m \u001b[38;5;129;01min\u001b[39;00m park_avail[p_d]:\n",
      "\u001b[0;31mKeyError\u001b[0m: 'Monday, July 25, 2022'"
     ]
    }
   ],
   "source": [
    "test = {}\n",
    "for p_d in park_dates.keys():\n",
    "    print(p_d)\n",
    "    park_pick = park_dates[p_d]    \n",
    "    print(len(park_avail[p_d]))\n",
    "    if len(park_avail[p_d]) < 4:\n",
    "        if park_pick not in park_avail[p_d]:\n",
    "            test[p_d] = park_pick \n",
    "#     except:\n",
    "#         None"
   ]
  },
  {
   "cell_type": "code",
   "execution_count": 223,
   "id": "c4498a89",
   "metadata": {},
   "outputs": [
    {
     "data": {
      "text/plain": [
       "'Magic Kingdom'"
      ]
     },
     "execution_count": 223,
     "metadata": {},
     "output_type": "execute_result"
    }
   ],
   "source": [
    "park_dates['Monday, July 25, 2022']"
   ]
  },
  {
   "cell_type": "code",
   "execution_count": 185,
   "id": "edc6ecb9",
   "metadata": {},
   "outputs": [],
   "source": [
    "alert_list ={}\n",
    "for p_d in park_dates.keys():\n",
    "    park_pick = park_dates[p_d]\n",
    "#     print(park_pick)\n",
    "    try:\n",
    "        for a in park_avail[p_d]:\n",
    "            if park_pick in a:\n",
    "                None\n",
    "            else:\n",
    "                alert_list[p_d] = park_pick\n",
    "#                 print(park_pick+' is not availble on ' + p_d)\n",
    "    except:\n",
    "        None"
   ]
  },
  {
   "cell_type": "code",
   "execution_count": 209,
   "id": "91ccfda1",
   "metadata": {},
   "outputs": [
    {
     "data": {
      "text/plain": [
       "{'Monday, July 25, 2022': 'Magic Kingdom'}"
      ]
     },
     "execution_count": 209,
     "metadata": {},
     "output_type": "execute_result"
    }
   ],
   "source": []
  },
  {
   "cell_type": "code",
   "execution_count": 211,
   "id": "31604889",
   "metadata": {},
   "outputs": [],
   "source": []
  },
  {
   "cell_type": "code",
   "execution_count": 172,
   "id": "2a05049b",
   "metadata": {},
   "outputs": [
    {
     "name": "stdout",
     "output_type": "stream",
     "text": [
      "Disney’s Animal Kingdom has reservations available.\n"
     ]
    }
   ],
   "source": [
    "# parklest just has the availability for that day does not state what day \n",
    "# I should be able to marry the two dictionries by date \n",
    "for a in park_avail['Tuesday, July 26, 2022']:\n",
    "    if park_pick in a:\n",
    "        print(a)"
   ]
  },
  {
   "cell_type": "code",
   "execution_count": null,
   "id": "e33fdc08",
   "metadata": {},
   "outputs": [],
   "source": [
    "# This block looks at the range for DAY CLICKED and removes the ones that say \"does not have\"\n",
    "# saves the rest in park_list \n",
    "    for i in range(1,5):     \n",
    "        sub = 'does not have'\n",
    "        query= \"\"\"return document\n",
    "        .querySelector(\"#container > app-availability-calendar > awakening-availability-information\").shadowRoot\n",
    "        .querySelector(\"#parkAvailabilityContainer > div:nth-child(\"\"\"+str(i)+\"\"\") > dprd-icon\")\"\"\"\n",
    "        status = driver.execute_script(query).get_attribute(\"aria-label\")\n",
    "        if sub not in status:\n",
    "            park_list.append(status)\n",
    "#             print(status)"
   ]
  },
  {
   "cell_type": "code",
   "execution_count": 99,
   "id": "75744e5c",
   "metadata": {},
   "outputs": [],
   "source": [
    "\n",
    "    # parse this to make it cleaner. Check for actual month, day year\n",
    "    if new == 'Wednesday, July 13, 2022':\n",
    "        webelem = date"
   ]
  },
  {
   "cell_type": "code",
   "execution_count": null,
   "id": "27ad4f0e",
   "metadata": {},
   "outputs": [],
   "source": [
    "so i need to "
   ]
  },
  {
   "cell_type": "code",
   "execution_count": 102,
   "id": "0de1d7bb",
   "metadata": {},
   "outputs": [],
   "source": [
    "webelem.get_attribute(\"aria-label\")\n",
    "webelem.click()"
   ]
  },
  {
   "cell_type": "code",
   "execution_count": 103,
   "id": "ad5d7a85",
   "metadata": {},
   "outputs": [],
   "source": []
  },
  {
   "cell_type": "code",
   "execution_count": 105,
   "id": "b29226d1",
   "metadata": {},
   "outputs": [
    {
     "data": {
      "text/plain": [
       "'Disney’s Hollywood Studios does not have reservations available.'"
      ]
     },
     "execution_count": 105,
     "metadata": {},
     "output_type": "execute_result"
    }
   ],
   "source": []
  },
  {
   "cell_type": "code",
   "execution_count": null,
   "id": "50ee18f1",
   "metadata": {},
   "outputs": [],
   "source": []
  },
  {
   "cell_type": "code",
   "execution_count": null,
   "id": "4b3bbb60",
   "metadata": {},
   "outputs": [],
   "source": [
    "park \n",
    "day \n",
    "date"
   ]
  },
  {
   "cell_type": "code",
   "execution_count": null,
   "id": "19c71041",
   "metadata": {},
   "outputs": [],
   "source": [
    "parkday.get_attribute(\"aria-label\")"
   ]
  },
  {
   "cell_type": "code",
   "execution_count": 96,
   "id": "7afa5439",
   "metadata": {},
   "outputs": [
    {
     "ename": "AttributeError",
     "evalue": "'str' object has no attribute 'get_attribute'",
     "output_type": "error",
     "traceback": [
      "\u001b[0;31m---------------------------------------------------------------------------\u001b[0m",
      "\u001b[0;31mAttributeError\u001b[0m                            Traceback (most recent call last)",
      "Input \u001b[0;32mIn [96]\u001b[0m, in \u001b[0;36m<cell line: 1>\u001b[0;34m()\u001b[0m\n\u001b[0;32m----> 1\u001b[0m \u001b[43mnew\u001b[49m\u001b[38;5;241;43m.\u001b[39;49m\u001b[43mget_attribute\u001b[49m(\u001b[38;5;124m\"\u001b[39m\u001b[38;5;124maria-label\u001b[39m\u001b[38;5;124m\"\u001b[39m)\n",
      "\u001b[0;31mAttributeError\u001b[0m: 'str' object has no attribute 'get_attribute'"
     ]
    }
   ],
   "source": [
    "new.get_attribute(\"aria-label\")"
   ]
  },
  {
   "cell_type": "code",
   "execution_count": null,
   "id": "944dd1d5",
   "metadata": {},
   "outputs": [],
   "source": []
  },
  {
   "cell_type": "code",
   "execution_count": null,
   "id": "9920a0bd",
   "metadata": {},
   "outputs": [],
   "source": [
    "from selenium import webdriver\n",
    "from selenium.webdriver.common.by import By\n",
    "from time import sleep\n",
    "\n",
    "\n",
    "def available(driver,day,park):\n",
    "    alert = None\n",
    "    park_list = []\n",
    "\n",
    "    CheckAll = \"\"\" return document\n",
    "    .querySelector(\"#container > app-availability-calendar > awakening-calendar\").shadowRoot\n",
    "    .querySelectorAll(\"#calendarContainer > wdat-calendar > wdat-date\")\"\"\"\n",
    "\n",
    "    all_dates= driver.execute_script(CheckAll)\n",
    "# this blocks loops through all the dates on the calendar and if it matches saves the date\n",
    "    for date in all_dates:\n",
    "        new = date.get_attribute(\"aria-label\")\n",
    "        # parse this to make it cleaner. Check for actual month, day year\n",
    "        if new == 'Sunday, May 29, 2022':\n",
    "            sun = date\n",
    "            # print(\"found the date \"+new)\n",
    "        if new == 'Monday, May 30, 2022':\n",
    "            mon = date\n",
    "            # print(\"found the date \"+new)   \n",
    "        if new == 'Sunday, May 22, 2022':\n",
    "            test = date\n",
    "            # print(\"found the date \"+new)  \n",
    "            \n",
    "# Takes in the day and saves it as park day\n",
    "    if day.lower() == 'sunday':\n",
    "        parkday = sun\n",
    "    if day.lower() == 'monday':\n",
    "        parkday = mon\n",
    "    if day.lower() == 'test':\n",
    "        parkday = test\n",
    "\n",
    "# This sets the park day from short to what is in the query  \n",
    "    if park.lower() == 'magic':\n",
    "        condition = 'Magic Kingdom'\n",
    "    if park.lower() == 'holly':\n",
    "        condition = 'Hollywood Studios'\n",
    "    if park.lower() == 'animal':\n",
    "        condition = 'Animal Kingdom'\n",
    "    if park.lower() == 'epcot':\n",
    "        condition = 'EPCOT'\n",
    "    \n",
    "    # CheckDay = \"\"\" return document\n",
    "    # .querySelector(\"#container > app-availability-calendar > awakening-calendar\").shadowRoot\n",
    "    # .querySelector(\"#calendarContainer > wdat-calendar > wdat-date:nth-child(\"\"\"+str(num)+\"\"\"\")\"\"\"\n",
    "    \n",
    "    # date_run= driver.execute_script(CheckDay)\n",
    "    date = parkday.get_attribute(\"aria-label\")\n",
    "    park_list.append(date)\n",
    "#     print(date)\n",
    "    parkday.click()   \n",
    "    sleep(3)\n",
    "    \n",
    "    for i in range(1,5):     \n",
    "        sub = 'does not have'\n",
    "        query= \"\"\"return document\n",
    "        .querySelector(\"#container > app-availability-calendar > awakening-availability-information\").shadowRoot\n",
    "        .querySelector(\"#parkAvailabilityContainer > div:nth-child(\"\"\"+str(i)+\"\"\") > dprd-icon\")\"\"\"\n",
    "        status = driver.execute_script(query).get_attribute(\"aria-label\")\n",
    "        if sub not in status:\n",
    "            park_list.append(status)\n",
    "#             print(status)\n",
    "            \n",
    "    for a in park_list:\n",
    "        if condition in a:\n",
    "            alert =\"On \"+park_list[0]+' '+a\n",
    "    message = alert\n",
    "    return message   "
   ]
  }
 ],
 "metadata": {
  "kernelspec": {
   "display_name": "Python 3 (ipykernel)",
   "language": "python",
   "name": "python3"
  },
  "language_info": {
   "codemirror_mode": {
    "name": "ipython",
    "version": 3
   },
   "file_extension": ".py",
   "mimetype": "text/x-python",
   "name": "python",
   "nbconvert_exporter": "python",
   "pygments_lexer": "ipython3",
   "version": "3.10.4"
  }
 },
 "nbformat": 4,
 "nbformat_minor": 5
}
