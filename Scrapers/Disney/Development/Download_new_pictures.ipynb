{
 "cells": [
  {
   "cell_type": "code",
   "execution_count": 328,
   "id": "736339c5",
   "metadata": {},
   "outputs": [
    {
     "name": "stdout",
     "output_type": "stream",
     "text": [
      "\n"
     ]
    }
   ],
   "source": [
    "from selenium import webdriver\n",
    "from selenium.webdriver.chrome.service import Service\n",
    "from webdriver_manager.chrome import ChromeDriverManager\n",
    "from selenium.webdriver.common.by import By\n",
    "from selenium.webdriver.support.ui import WebDriverWait\n",
    "from selenium.webdriver.common.keys import Keys\n",
    "from selenium.webdriver.support import expected_conditions as EC\n",
    "from time import sleep\n",
    "import json\n",
    "import pandas as pd\n",
    "browser = webdriver.Chrome(service=Service(ChromeDriverManager().install()))"
   ]
  },
  {
   "cell_type": "code",
   "execution_count": 329,
   "id": "d77c166c",
   "metadata": {},
   "outputs": [],
   "source": [
    "# Login\n",
    "browser.get(\"https://disneyworld.disney.go.com/photopass/gallery\")\n",
    "sleep(10)\n",
    "Disney_Login(browser,\"house@brenesfinancial.com\",\"MyStr3@m437\")\n",
    "sleep(15)\n",
    "browser.get(\"https://disneyworld.disney.go.com/photopass/gallery\")\n",
    "sleep(5)"
   ]
  },
  {
   "cell_type": "code",
   "execution_count": 330,
   "id": "8e46a030",
   "metadata": {},
   "outputs": [],
   "source": [
    "# scroll to bottom of page so all the pages show up\n",
    "browser.execute_script(\"window.scrollTo(0,document.body.scrollHeight)\")\n",
    "sleep(5)"
   ]
  },
  {
   "cell_type": "code",
   "execution_count": 331,
   "id": "e3bd9b61",
   "metadata": {},
   "outputs": [
    {
     "name": "stdout",
     "output_type": "stream",
     "text": [
      "Last Row is 101\n"
     ]
    }
   ],
   "source": [
    "pic_ct=find_row_ct(browser)"
   ]
  },
  {
   "cell_type": "code",
   "execution_count": 332,
   "id": "90b0674f",
   "metadata": {},
   "outputs": [],
   "source": [
    "df=build_df(browser,pic_ct)"
   ]
  },
  {
   "cell_type": "code",
   "execution_count": 333,
   "id": "2bb09737",
   "metadata": {},
   "outputs": [],
   "source": [
    "file='./pics_downloaded.csv'\n",
    "new_pic=find_new(df,file)"
   ]
  },
  {
   "cell_type": "markdown",
   "id": "7ffb0dec",
   "metadata": {},
   "source": [
    "# Select and download"
   ]
  },
  {
   "cell_type": "code",
   "execution_count": 340,
   "id": "03aad9ba",
   "metadata": {},
   "outputs": [
    {
     "name": "stdout",
     "output_type": "stream",
     "text": [
      "26 added to comleted list\n",
      "New total =234\n",
      "26 added to comleted list\n",
      "New total =260\n",
      "4 added to comleted list\n",
      "New total =264\n"
     ]
    },
    {
     "ename": "NoSuchElementException",
     "evalue": "Message: no such element: Unable to locate element: {\"method\":\"xpath\",\"selector\":\"//*[@id=\"gallery\"]/app-gallery-header/div/app-photopass-selected-media-gallery/div/div/div/div/div[1]/button[2]\"}\n  (Session info: chrome=103.0.5060.114)\nStacktrace:\n#0 0x55d2e98cdcd3 <unknown>\n#1 0x55d2e96d5968 <unknown>\n#2 0x55d2e970cfd7 <unknown>\n#3 0x55d2e970d1a1 <unknown>\n#4 0x55d2e9740154 <unknown>\n#5 0x55d2e972abdd <unknown>\n#6 0x55d2e973dea8 <unknown>\n#7 0x55d2e972aaa3 <unknown>\n#8 0x55d2e97003fa <unknown>\n#9 0x55d2e9701555 <unknown>\n#10 0x55d2e99152bd <unknown>\n#11 0x55d2e9919418 <unknown>\n#12 0x55d2e98ff36e <unknown>\n#13 0x55d2e991a078 <unknown>\n#14 0x55d2e98f3bb0 <unknown>\n#15 0x55d2e9936d58 <unknown>\n#16 0x55d2e9936ed8 <unknown>\n#17 0x55d2e9950cfd <unknown>\n#18 0x7fc5d3f4e609 <unknown>\n",
     "output_type": "error",
     "traceback": [
      "\u001b[0;31m---------------------------------------------------------------------------\u001b[0m",
      "\u001b[0;31mNoSuchElementException\u001b[0m                    Traceback (most recent call last)",
      "Input \u001b[0;32mIn [340]\u001b[0m, in \u001b[0;36m<cell line: 3>\u001b[0;34m()\u001b[0m\n\u001b[1;32m     19\u001b[0m         check_box(browser,r[\u001b[38;5;124m'\u001b[39m\u001b[38;5;124mrow\u001b[39m\u001b[38;5;124m'\u001b[39m],r[\u001b[38;5;124m'\u001b[39m\u001b[38;5;124mitem_num\u001b[39m\u001b[38;5;124m'\u001b[39m])\n\u001b[1;32m     20\u001b[0m dl_but\u001b[38;5;241m=\u001b[39m\u001b[38;5;124m'\u001b[39m\u001b[38;5;124m//*[@id=\u001b[39m\u001b[38;5;124m\"\u001b[39m\u001b[38;5;124mgallery\u001b[39m\u001b[38;5;124m\"\u001b[39m\u001b[38;5;124m]/app-gallery-header/div/app-photopass-selected-media-gallery/div/div/div/div/div[1]/button[2]\u001b[39m\u001b[38;5;124m'\u001b[39m\n\u001b[0;32m---> 21\u001b[0m download\u001b[38;5;241m=\u001b[39m\u001b[43mbrowser\u001b[49m\u001b[38;5;241;43m.\u001b[39;49m\u001b[43mfind_element\u001b[49m\u001b[43m(\u001b[49m\u001b[43mby\u001b[49m\u001b[38;5;241;43m=\u001b[39;49m\u001b[43mBy\u001b[49m\u001b[38;5;241;43m.\u001b[39;49m\u001b[43mXPATH\u001b[49m\u001b[43m,\u001b[49m\u001b[43mvalue\u001b[49m\u001b[38;5;241;43m=\u001b[39;49m\u001b[43mdl_but\u001b[49m\u001b[43m)\u001b[49m\n\u001b[1;32m     22\u001b[0m download\u001b[38;5;241m.\u001b[39mclick()\n\u001b[1;32m     23\u001b[0m sleep(\u001b[38;5;241m10\u001b[39m)\n",
      "File \u001b[0;32m~/anaconda3/envs/scrapers/lib/python3.10/site-packages/selenium/webdriver/remote/webdriver.py:857\u001b[0m, in \u001b[0;36mWebDriver.find_element\u001b[0;34m(self, by, value)\u001b[0m\n\u001b[1;32m    854\u001b[0m     by \u001b[38;5;241m=\u001b[39m By\u001b[38;5;241m.\u001b[39mCSS_SELECTOR\n\u001b[1;32m    855\u001b[0m     value \u001b[38;5;241m=\u001b[39m \u001b[38;5;124m'\u001b[39m\u001b[38;5;124m[name=\u001b[39m\u001b[38;5;124m\"\u001b[39m\u001b[38;5;132;01m%s\u001b[39;00m\u001b[38;5;124m\"\u001b[39m\u001b[38;5;124m]\u001b[39m\u001b[38;5;124m'\u001b[39m \u001b[38;5;241m%\u001b[39m value\n\u001b[0;32m--> 857\u001b[0m \u001b[38;5;28;01mreturn\u001b[39;00m \u001b[38;5;28;43mself\u001b[39;49m\u001b[38;5;241;43m.\u001b[39;49m\u001b[43mexecute\u001b[49m\u001b[43m(\u001b[49m\u001b[43mCommand\u001b[49m\u001b[38;5;241;43m.\u001b[39;49m\u001b[43mFIND_ELEMENT\u001b[49m\u001b[43m,\u001b[49m\u001b[43m \u001b[49m\u001b[43m{\u001b[49m\n\u001b[1;32m    858\u001b[0m \u001b[43m    \u001b[49m\u001b[38;5;124;43m'\u001b[39;49m\u001b[38;5;124;43musing\u001b[39;49m\u001b[38;5;124;43m'\u001b[39;49m\u001b[43m:\u001b[49m\u001b[43m \u001b[49m\u001b[43mby\u001b[49m\u001b[43m,\u001b[49m\n\u001b[1;32m    859\u001b[0m \u001b[43m    \u001b[49m\u001b[38;5;124;43m'\u001b[39;49m\u001b[38;5;124;43mvalue\u001b[39;49m\u001b[38;5;124;43m'\u001b[39;49m\u001b[43m:\u001b[49m\u001b[43m \u001b[49m\u001b[43mvalue\u001b[49m\u001b[43m}\u001b[49m\u001b[43m)\u001b[49m[\u001b[38;5;124m'\u001b[39m\u001b[38;5;124mvalue\u001b[39m\u001b[38;5;124m'\u001b[39m]\n",
      "File \u001b[0;32m~/anaconda3/envs/scrapers/lib/python3.10/site-packages/selenium/webdriver/remote/webdriver.py:435\u001b[0m, in \u001b[0;36mWebDriver.execute\u001b[0;34m(self, driver_command, params)\u001b[0m\n\u001b[1;32m    433\u001b[0m response \u001b[38;5;241m=\u001b[39m \u001b[38;5;28mself\u001b[39m\u001b[38;5;241m.\u001b[39mcommand_executor\u001b[38;5;241m.\u001b[39mexecute(driver_command, params)\n\u001b[1;32m    434\u001b[0m \u001b[38;5;28;01mif\u001b[39;00m response:\n\u001b[0;32m--> 435\u001b[0m     \u001b[38;5;28;43mself\u001b[39;49m\u001b[38;5;241;43m.\u001b[39;49m\u001b[43merror_handler\u001b[49m\u001b[38;5;241;43m.\u001b[39;49m\u001b[43mcheck_response\u001b[49m\u001b[43m(\u001b[49m\u001b[43mresponse\u001b[49m\u001b[43m)\u001b[49m\n\u001b[1;32m    436\u001b[0m     response[\u001b[38;5;124m'\u001b[39m\u001b[38;5;124mvalue\u001b[39m\u001b[38;5;124m'\u001b[39m] \u001b[38;5;241m=\u001b[39m \u001b[38;5;28mself\u001b[39m\u001b[38;5;241m.\u001b[39m_unwrap_value(\n\u001b[1;32m    437\u001b[0m         response\u001b[38;5;241m.\u001b[39mget(\u001b[38;5;124m'\u001b[39m\u001b[38;5;124mvalue\u001b[39m\u001b[38;5;124m'\u001b[39m, \u001b[38;5;28;01mNone\u001b[39;00m))\n\u001b[1;32m    438\u001b[0m     \u001b[38;5;28;01mreturn\u001b[39;00m response\n",
      "File \u001b[0;32m~/anaconda3/envs/scrapers/lib/python3.10/site-packages/selenium/webdriver/remote/errorhandler.py:247\u001b[0m, in \u001b[0;36mErrorHandler.check_response\u001b[0;34m(self, response)\u001b[0m\n\u001b[1;32m    245\u001b[0m         alert_text \u001b[38;5;241m=\u001b[39m value[\u001b[38;5;124m'\u001b[39m\u001b[38;5;124malert\u001b[39m\u001b[38;5;124m'\u001b[39m]\u001b[38;5;241m.\u001b[39mget(\u001b[38;5;124m'\u001b[39m\u001b[38;5;124mtext\u001b[39m\u001b[38;5;124m'\u001b[39m)\n\u001b[1;32m    246\u001b[0m     \u001b[38;5;28;01mraise\u001b[39;00m exception_class(message, screen, stacktrace, alert_text)  \u001b[38;5;66;03m# type: ignore[call-arg]  # mypy is not smart enough here\u001b[39;00m\n\u001b[0;32m--> 247\u001b[0m \u001b[38;5;28;01mraise\u001b[39;00m exception_class(message, screen, stacktrace)\n",
      "\u001b[0;31mNoSuchElementException\u001b[0m: Message: no such element: Unable to locate element: {\"method\":\"xpath\",\"selector\":\"//*[@id=\"gallery\"]/app-gallery-header/div/app-photopass-selected-media-gallery/div/div/div/div/div[1]/button[2]\"}\n  (Session info: chrome=103.0.5060.114)\nStacktrace:\n#0 0x55d2e98cdcd3 <unknown>\n#1 0x55d2e96d5968 <unknown>\n#2 0x55d2e970cfd7 <unknown>\n#3 0x55d2e970d1a1 <unknown>\n#4 0x55d2e9740154 <unknown>\n#5 0x55d2e972abdd <unknown>\n#6 0x55d2e973dea8 <unknown>\n#7 0x55d2e972aaa3 <unknown>\n#8 0x55d2e97003fa <unknown>\n#9 0x55d2e9701555 <unknown>\n#10 0x55d2e99152bd <unknown>\n#11 0x55d2e9919418 <unknown>\n#12 0x55d2e98ff36e <unknown>\n#13 0x55d2e991a078 <unknown>\n#14 0x55d2e98f3bb0 <unknown>\n#15 0x55d2e9936d58 <unknown>\n#16 0x55d2e9936ed8 <unknown>\n#17 0x55d2e9950cfd <unknown>\n#18 0x7fc5d3f4e609 <unknown>\n"
     ]
    }
   ],
   "source": [
    "browser.execute_script(\"window.scrollTo(0,document.body.scrollHeight)\")\n",
    "sleep(5)\n",
    "while len(new_pic) > 0:\n",
    "    new_pic=find_new(df,file)\n",
    "    dl_group = new_pic[0:26]\n",
    "    last_row=None\n",
    "    for i,r in dl_group.iterrows():\n",
    "        current=r['row']\n",
    "    #     print(current)\n",
    "        if current == last_row:\n",
    "            None\n",
    "        else:\n",
    "            last_row=current\n",
    "            body = browser.find_element(By.CSS_SELECTOR, 'body')\n",
    "            body.send_keys(Keys.PAGE_DOWN)   \n",
    "\n",
    "        media_type=r['img/vid']\n",
    "        if media_type == 'img':\n",
    "            check_box(browser,r['row'],r['item_num'])\n",
    "    dl_but='//*[@id=\"gallery\"]/app-gallery-header/div/app-photopass-selected-media-gallery/div/div/div/div/div[1]/button[2]'\n",
    "    download=browser.find_element(by=By.XPATH,value=dl_but)\n",
    "    download.click()\n",
    "    sleep(10)\n",
    "    mark_downloaded(file,dl_group)\n",
    "    browser.get(\"https://disneyworld.disney.go.com/photopass/gallery\")\n",
    "    browser.execute_script(\"window.scrollTo(0,document.body.scrollHeight)\")\n",
    "    sleep(5)\n",
    "    browser.execute_script(\"window.scrollTo(0,document.body.scrollHeight)\")"
   ]
  },
  {
   "cell_type": "code",
   "execution_count": null,
   "id": "a8e03f3c",
   "metadata": {},
   "outputs": [],
   "source": []
  },
  {
   "cell_type": "code",
   "execution_count": 245,
   "id": "90676a11",
   "metadata": {},
   "outputs": [
    {
     "ename": "TypeError",
     "evalue": "'function' object is not subscriptable",
     "output_type": "error",
     "traceback": [
      "\u001b[0;31m---------------------------------------------------------------------------\u001b[0m",
      "\u001b[0;31mTypeError\u001b[0m                                 Traceback (most recent call last)",
      "Input \u001b[0;32mIn [245]\u001b[0m, in \u001b[0;36m<cell line: 1>\u001b[0;34m()\u001b[0m\n\u001b[0;32m----> 1\u001b[0m \u001b[43mfind_new\u001b[49m\u001b[43m[\u001b[49m\u001b[38;5;241;43m0\u001b[39;49m\u001b[43m:\u001b[49m\u001b[38;5;241;43m1\u001b[39;49m\u001b[43m]\u001b[49m\n",
      "\u001b[0;31mTypeError\u001b[0m: 'function' object is not subscriptable"
     ]
    }
   ],
   "source": [
    "find_new[0:1]"
   ]
  },
  {
   "cell_type": "code",
   "execution_count": 325,
   "id": "8d8ff9a1",
   "metadata": {},
   "outputs": [
    {
     "data": {
      "text/plain": [
       "78"
      ]
     },
     "execution_count": 325,
     "metadata": {},
     "output_type": "execute_result"
    }
   ],
   "source": []
  },
  {
   "cell_type": "code",
   "execution_count": 192,
   "id": "c88a7e19",
   "metadata": {},
   "outputs": [],
   "source": [
    "# import os \n",
    "# os.listdir(os.getcwd())"
   ]
  },
  {
   "cell_type": "code",
   "execution_count": 239,
   "id": "886bee5f",
   "metadata": {},
   "outputs": [],
   "source": [
    "# donedf=df[0:0]\n",
    "# donedf.to_csv('pics_downloaded.csv', index=False)"
   ]
  },
  {
   "cell_type": "code",
   "execution_count": 228,
   "id": "e8af3639",
   "metadata": {},
   "outputs": [],
   "source": [
    "file='./pics_downloaded.csv'\n",
    "def find_new(df,completed_file):\n",
    "    dl = pd.read_csv(completed_file)\n",
    "    frames = [df, dl]\n",
    "    result = pd.concat(frames)\n",
    "    # drop duplicates won't work on timestamp fields. make string\n",
    "    result['date']=result['date'].astype(str) \n",
    "    # we want to drop all dupes since we are looking for unique so keep=false instead of keep=\"first\"\n",
    "    result.drop_duplicates(keep=False, inplace=True) \n",
    "    return result  "
   ]
  },
  {
   "cell_type": "code",
   "execution_count": 323,
   "id": "d5c24164",
   "metadata": {},
   "outputs": [],
   "source": [
    "def mark_downloaded(file,df):\n",
    "    dl = pd.read_csv(file)\n",
    "    frames = [df, dl]\n",
    "    result = pd.concat(frames)\n",
    "    result.to_csv('pics_downloaded.csv', index=False)\n",
    "    print(str(len(df))+\" added to comleted list\")\n",
    "    print(\"New total =\"+str(len(result)))    "
   ]
  },
  {
   "cell_type": "code",
   "execution_count": 241,
   "id": "3e692fb6",
   "metadata": {},
   "outputs": [],
   "source": [
    "newpics=find_new(df,file)"
   ]
  },
  {
   "cell_type": "code",
   "execution_count": 242,
   "id": "8aebbec1",
   "metadata": {},
   "outputs": [
    {
     "data": {
      "text/html": [
       "<div>\n",
       "<style scoped>\n",
       "    .dataframe tbody tr th:only-of-type {\n",
       "        vertical-align: middle;\n",
       "    }\n",
       "\n",
       "    .dataframe tbody tr th {\n",
       "        vertical-align: top;\n",
       "    }\n",
       "\n",
       "    .dataframe thead th {\n",
       "        text-align: right;\n",
       "    }\n",
       "</style>\n",
       "<table border=\"1\" class=\"dataframe\">\n",
       "  <thead>\n",
       "    <tr style=\"text-align: right;\">\n",
       "      <th></th>\n",
       "      <th>row</th>\n",
       "      <th>item_num</th>\n",
       "      <th>location</th>\n",
       "      <th>media-id</th>\n",
       "      <th>guest-media-id</th>\n",
       "      <th>date</th>\n",
       "      <th>img/vid</th>\n",
       "    </tr>\n",
       "  </thead>\n",
       "  <tbody>\n",
       "    <tr>\n",
       "      <th>0</th>\n",
       "      <td>row-0</td>\n",
       "      <td>1</td>\n",
       "      <td>Morocco at Epcot</td>\n",
       "      <td>872816020</td>\n",
       "      <td>1315352456</td>\n",
       "      <td>2022-07-18 23:47:41+00:00</td>\n",
       "      <td>img</td>\n",
       "    </tr>\n",
       "  </tbody>\n",
       "</table>\n",
       "</div>"
      ],
      "text/plain": [
       "     row item_num          location   media-id guest-media-id  \\\n",
       "0  row-0        1  Morocco at Epcot  872816020     1315352456   \n",
       "\n",
       "                        date img/vid  \n",
       "0  2022-07-18 23:47:41+00:00     img  "
      ]
     },
     "execution_count": 242,
     "metadata": {},
     "output_type": "execute_result"
    }
   ],
   "source": [
    "newpics[0:1]"
   ]
  },
  {
   "cell_type": "code",
   "execution_count": null,
   "id": "fd47a817",
   "metadata": {},
   "outputs": [],
   "source": [
    "first_pic=browser.find_element(by=By.XPATH,value='//*[@id=\"row-0\"]/app-media-grid-item[1]/a')"
   ]
  },
  {
   "cell_type": "code",
   "execution_count": 223,
   "id": "41278e7d",
   "metadata": {},
   "outputs": [
    {
     "data": {
      "text/plain": [
       "264"
      ]
     },
     "execution_count": 223,
     "metadata": {},
     "output_type": "execute_result"
    }
   ],
   "source": [
    "dl = pd.read_csv(file)\n",
    "frames = [df, dl]\n",
    "concat = pd.concat(frames)\n",
    "concat['date']=concat['date'].astype(str) # drop duplicates won't work on timestamp fields. make string\n",
    "concat.drop_duplicates(keep=\"first\", inplace=True)\n",
    "len(concat)\n",
    "# len(result.drop_duplicates())"
   ]
  },
  {
   "cell_type": "code",
   "execution_count": 215,
   "id": "54564b99",
   "metadata": {},
   "outputs": [],
   "source": [
    "result"
   ]
  },
  {
   "cell_type": "code",
   "execution_count": 202,
   "id": "22ce4aa7",
   "metadata": {},
   "outputs": [
    {
     "data": {
      "text/plain": [
       "269"
      ]
     },
     "execution_count": 202,
     "metadata": {},
     "output_type": "execute_result"
    }
   ],
   "source": [
    "result.drop_duplicates()"
   ]
  },
  {
   "cell_type": "code",
   "execution_count": 203,
   "id": "9976ab03",
   "metadata": {},
   "outputs": [
    {
     "data": {
      "text/html": [
       "<div>\n",
       "<style scoped>\n",
       "    .dataframe tbody tr th:only-of-type {\n",
       "        vertical-align: middle;\n",
       "    }\n",
       "\n",
       "    .dataframe tbody tr th {\n",
       "        vertical-align: top;\n",
       "    }\n",
       "\n",
       "    .dataframe thead th {\n",
       "        text-align: right;\n",
       "    }\n",
       "</style>\n",
       "<table border=\"1\" class=\"dataframe\">\n",
       "  <thead>\n",
       "    <tr style=\"text-align: right;\">\n",
       "      <th></th>\n",
       "      <th>row</th>\n",
       "      <th>item_num</th>\n",
       "      <th>location</th>\n",
       "      <th>media-id</th>\n",
       "      <th>guest-media-id</th>\n",
       "      <th>date</th>\n",
       "      <th>img/vid</th>\n",
       "    </tr>\n",
       "  </thead>\n",
       "  <tbody>\n",
       "    <tr>\n",
       "      <th>0</th>\n",
       "      <td>row-0</td>\n",
       "      <td>1</td>\n",
       "      <td>Morocco at Epcot</td>\n",
       "      <td>872816020</td>\n",
       "      <td>1315352456</td>\n",
       "      <td>2022-07-18 23:47:41+00:00</td>\n",
       "      <td>img</td>\n",
       "    </tr>\n",
       "    <tr>\n",
       "      <th>1</th>\n",
       "      <td>row-0</td>\n",
       "      <td>2</td>\n",
       "      <td>Morocco at Epcot</td>\n",
       "      <td>872808759</td>\n",
       "      <td>1315356033</td>\n",
       "      <td>2022-07-18 23:30:17+00:00</td>\n",
       "      <td>img</td>\n",
       "    </tr>\n",
       "    <tr>\n",
       "      <th>2</th>\n",
       "      <td>row-0</td>\n",
       "      <td>3</td>\n",
       "      <td>Morocco at Epcot</td>\n",
       "      <td>872808696</td>\n",
       "      <td>1315345012</td>\n",
       "      <td>2022-07-18 23:29:57+00:00</td>\n",
       "      <td>img</td>\n",
       "    </tr>\n",
       "    <tr>\n",
       "      <th>3</th>\n",
       "      <td>row-1</td>\n",
       "      <td>1</td>\n",
       "      <td>Morocco at Epcot</td>\n",
       "      <td>872808519</td>\n",
       "      <td>1315344837</td>\n",
       "      <td>2022-07-18 23:29:55+00:00</td>\n",
       "      <td>img</td>\n",
       "    </tr>\n",
       "    <tr>\n",
       "      <th>4</th>\n",
       "      <td>row-1</td>\n",
       "      <td>2</td>\n",
       "      <td>Morocco at Epcot</td>\n",
       "      <td>872808773</td>\n",
       "      <td>1315345099</td>\n",
       "      <td>2022-07-18 23:29:54+00:00</td>\n",
       "      <td>img</td>\n",
       "    </tr>\n",
       "  </tbody>\n",
       "</table>\n",
       "</div>"
      ],
      "text/plain": [
       "     row  item_num          location   media-id  guest-media-id  \\\n",
       "0  row-0         1  Morocco at Epcot  872816020      1315352456   \n",
       "1  row-0         2  Morocco at Epcot  872808759      1315356033   \n",
       "2  row-0         3  Morocco at Epcot  872808696      1315345012   \n",
       "3  row-1         1  Morocco at Epcot  872808519      1315344837   \n",
       "4  row-1         2  Morocco at Epcot  872808773      1315345099   \n",
       "\n",
       "                        date img/vid  \n",
       "0  2022-07-18 23:47:41+00:00     img  \n",
       "1  2022-07-18 23:30:17+00:00     img  \n",
       "2  2022-07-18 23:29:57+00:00     img  \n",
       "3  2022-07-18 23:29:55+00:00     img  \n",
       "4  2022-07-18 23:29:54+00:00     img  "
      ]
     },
     "execution_count": 203,
     "metadata": {},
     "output_type": "execute_result"
    }
   ],
   "source": [
    "dl"
   ]
  },
  {
   "cell_type": "code",
   "execution_count": 205,
   "id": "31edf43a",
   "metadata": {},
   "outputs": [
    {
     "data": {
      "text/html": [
       "<div>\n",
       "<style scoped>\n",
       "    .dataframe tbody tr th:only-of-type {\n",
       "        vertical-align: middle;\n",
       "    }\n",
       "\n",
       "    .dataframe tbody tr th {\n",
       "        vertical-align: top;\n",
       "    }\n",
       "\n",
       "    .dataframe thead th {\n",
       "        text-align: right;\n",
       "    }\n",
       "</style>\n",
       "<table border=\"1\" class=\"dataframe\">\n",
       "  <thead>\n",
       "    <tr style=\"text-align: right;\">\n",
       "      <th></th>\n",
       "      <th>row</th>\n",
       "      <th>item_num</th>\n",
       "      <th>location</th>\n",
       "      <th>media-id</th>\n",
       "      <th>guest-media-id</th>\n",
       "      <th>date</th>\n",
       "      <th>img/vid</th>\n",
       "    </tr>\n",
       "  </thead>\n",
       "  <tbody>\n",
       "    <tr>\n",
       "      <th>0</th>\n",
       "      <td>row-0</td>\n",
       "      <td>1</td>\n",
       "      <td>Morocco at Epcot</td>\n",
       "      <td>872816020</td>\n",
       "      <td>1315352456</td>\n",
       "      <td>2022-07-18 23:47:41+00:00</td>\n",
       "      <td>img</td>\n",
       "    </tr>\n",
       "    <tr>\n",
       "      <th>1</th>\n",
       "      <td>row-0</td>\n",
       "      <td>2</td>\n",
       "      <td>Morocco at Epcot</td>\n",
       "      <td>872808759</td>\n",
       "      <td>1315356033</td>\n",
       "      <td>2022-07-18 23:30:17+00:00</td>\n",
       "      <td>img</td>\n",
       "    </tr>\n",
       "    <tr>\n",
       "      <th>2</th>\n",
       "      <td>row-0</td>\n",
       "      <td>3</td>\n",
       "      <td>Morocco at Epcot</td>\n",
       "      <td>872808696</td>\n",
       "      <td>1315345012</td>\n",
       "      <td>2022-07-18 23:29:57+00:00</td>\n",
       "      <td>img</td>\n",
       "    </tr>\n",
       "    <tr>\n",
       "      <th>3</th>\n",
       "      <td>row-1</td>\n",
       "      <td>1</td>\n",
       "      <td>Morocco at Epcot</td>\n",
       "      <td>872808519</td>\n",
       "      <td>1315344837</td>\n",
       "      <td>2022-07-18 23:29:55+00:00</td>\n",
       "      <td>img</td>\n",
       "    </tr>\n",
       "    <tr>\n",
       "      <th>4</th>\n",
       "      <td>row-1</td>\n",
       "      <td>2</td>\n",
       "      <td>Morocco at Epcot</td>\n",
       "      <td>872808773</td>\n",
       "      <td>1315345099</td>\n",
       "      <td>2022-07-18 23:29:54+00:00</td>\n",
       "      <td>img</td>\n",
       "    </tr>\n",
       "    <tr>\n",
       "      <th>...</th>\n",
       "      <td>...</td>\n",
       "      <td>...</td>\n",
       "      <td>...</td>\n",
       "      <td>...</td>\n",
       "      <td>...</td>\n",
       "      <td>...</td>\n",
       "      <td>...</td>\n",
       "    </tr>\n",
       "    <tr>\n",
       "      <th>0</th>\n",
       "      <td>row-0</td>\n",
       "      <td>1</td>\n",
       "      <td>Morocco at Epcot</td>\n",
       "      <td>872816020</td>\n",
       "      <td>1315352456</td>\n",
       "      <td>2022-07-18 23:47:41+00:00</td>\n",
       "      <td>img</td>\n",
       "    </tr>\n",
       "    <tr>\n",
       "      <th>1</th>\n",
       "      <td>row-0</td>\n",
       "      <td>2</td>\n",
       "      <td>Morocco at Epcot</td>\n",
       "      <td>872808759</td>\n",
       "      <td>1315356033</td>\n",
       "      <td>2022-07-18 23:30:17+00:00</td>\n",
       "      <td>img</td>\n",
       "    </tr>\n",
       "    <tr>\n",
       "      <th>2</th>\n",
       "      <td>row-0</td>\n",
       "      <td>3</td>\n",
       "      <td>Morocco at Epcot</td>\n",
       "      <td>872808696</td>\n",
       "      <td>1315345012</td>\n",
       "      <td>2022-07-18 23:29:57+00:00</td>\n",
       "      <td>img</td>\n",
       "    </tr>\n",
       "    <tr>\n",
       "      <th>3</th>\n",
       "      <td>row-1</td>\n",
       "      <td>1</td>\n",
       "      <td>Morocco at Epcot</td>\n",
       "      <td>872808519</td>\n",
       "      <td>1315344837</td>\n",
       "      <td>2022-07-18 23:29:55+00:00</td>\n",
       "      <td>img</td>\n",
       "    </tr>\n",
       "    <tr>\n",
       "      <th>4</th>\n",
       "      <td>row-1</td>\n",
       "      <td>2</td>\n",
       "      <td>Morocco at Epcot</td>\n",
       "      <td>872808773</td>\n",
       "      <td>1315345099</td>\n",
       "      <td>2022-07-18 23:29:54+00:00</td>\n",
       "      <td>img</td>\n",
       "    </tr>\n",
       "  </tbody>\n",
       "</table>\n",
       "<p>269 rows × 7 columns</p>\n",
       "</div>"
      ],
      "text/plain": [
       "      row  item_num          location   media-id  guest-media-id  \\\n",
       "0   row-0         1  Morocco at Epcot  872816020      1315352456   \n",
       "1   row-0         2  Morocco at Epcot  872808759      1315356033   \n",
       "2   row-0         3  Morocco at Epcot  872808696      1315345012   \n",
       "3   row-1         1  Morocco at Epcot  872808519      1315344837   \n",
       "4   row-1         2  Morocco at Epcot  872808773      1315345099   \n",
       "..    ...       ...               ...        ...             ...   \n",
       "0   row-0         1  Morocco at Epcot  872816020      1315352456   \n",
       "1   row-0         2  Morocco at Epcot  872808759      1315356033   \n",
       "2   row-0         3  Morocco at Epcot  872808696      1315345012   \n",
       "3   row-1         1  Morocco at Epcot  872808519      1315344837   \n",
       "4   row-1         2  Morocco at Epcot  872808773      1315345099   \n",
       "\n",
       "                         date img/vid  \n",
       "0   2022-07-18 23:47:41+00:00     img  \n",
       "1   2022-07-18 23:30:17+00:00     img  \n",
       "2   2022-07-18 23:29:57+00:00     img  \n",
       "3   2022-07-18 23:29:55+00:00     img  \n",
       "4   2022-07-18 23:29:54+00:00     img  \n",
       "..                        ...     ...  \n",
       "0   2022-07-18 23:47:41+00:00     img  \n",
       "1   2022-07-18 23:30:17+00:00     img  \n",
       "2   2022-07-18 23:29:57+00:00     img  \n",
       "3   2022-07-18 23:29:55+00:00     img  \n",
       "4   2022-07-18 23:29:54+00:00     img  \n",
       "\n",
       "[269 rows x 7 columns]"
      ]
     },
     "execution_count": 205,
     "metadata": {},
     "output_type": "execute_result"
    }
   ],
   "source": [
    "result"
   ]
  },
  {
   "cell_type": "code",
   "execution_count": 158,
   "id": "07871421",
   "metadata": {},
   "outputs": [],
   "source": [
    "frames = [df, donedf]\n",
    "result = pd.concat(frames)"
   ]
  },
  {
   "cell_type": "code",
   "execution_count": 168,
   "id": "13d26b67",
   "metadata": {},
   "outputs": [],
   "source": [
    "result=result.drop_duplicates()"
   ]
  },
  {
   "cell_type": "code",
   "execution_count": 169,
   "id": "bbf1930e",
   "metadata": {},
   "outputs": [
    {
     "data": {
      "text/plain": [
       "264"
      ]
     },
     "execution_count": 169,
     "metadata": {},
     "output_type": "execute_result"
    }
   ],
   "source": [
    "len(result)"
   ]
  },
  {
   "cell_type": "code",
   "execution_count": 161,
   "id": "37c668cc",
   "metadata": {},
   "outputs": [
    {
     "data": {
      "text/html": [
       "<div>\n",
       "<style scoped>\n",
       "    .dataframe tbody tr th:only-of-type {\n",
       "        vertical-align: middle;\n",
       "    }\n",
       "\n",
       "    .dataframe tbody tr th {\n",
       "        vertical-align: top;\n",
       "    }\n",
       "\n",
       "    .dataframe thead th {\n",
       "        text-align: right;\n",
       "    }\n",
       "</style>\n",
       "<table border=\"1\" class=\"dataframe\">\n",
       "  <thead>\n",
       "    <tr style=\"text-align: right;\">\n",
       "      <th></th>\n",
       "      <th>row</th>\n",
       "      <th>item_num</th>\n",
       "      <th>location</th>\n",
       "      <th>media-id</th>\n",
       "      <th>guest-media-id</th>\n",
       "      <th>date</th>\n",
       "      <th>img/vid</th>\n",
       "    </tr>\n",
       "  </thead>\n",
       "  <tbody>\n",
       "    <tr>\n",
       "      <th>0</th>\n",
       "      <td>row-0</td>\n",
       "      <td>1</td>\n",
       "      <td>Morocco at Epcot</td>\n",
       "      <td>872816020</td>\n",
       "      <td>1315352456</td>\n",
       "      <td>2022-07-18 23:47:41+00:00</td>\n",
       "      <td>img</td>\n",
       "    </tr>\n",
       "    <tr>\n",
       "      <th>1</th>\n",
       "      <td>row-0</td>\n",
       "      <td>2</td>\n",
       "      <td>Morocco at Epcot</td>\n",
       "      <td>872808759</td>\n",
       "      <td>1315356033</td>\n",
       "      <td>2022-07-18 23:30:17+00:00</td>\n",
       "      <td>img</td>\n",
       "    </tr>\n",
       "    <tr>\n",
       "      <th>2</th>\n",
       "      <td>row-0</td>\n",
       "      <td>3</td>\n",
       "      <td>Morocco at Epcot</td>\n",
       "      <td>872808696</td>\n",
       "      <td>1315345012</td>\n",
       "      <td>2022-07-18 23:29:57+00:00</td>\n",
       "      <td>img</td>\n",
       "    </tr>\n",
       "    <tr>\n",
       "      <th>3</th>\n",
       "      <td>row-1</td>\n",
       "      <td>1</td>\n",
       "      <td>Morocco at Epcot</td>\n",
       "      <td>872808519</td>\n",
       "      <td>1315344837</td>\n",
       "      <td>2022-07-18 23:29:55+00:00</td>\n",
       "      <td>img</td>\n",
       "    </tr>\n",
       "    <tr>\n",
       "      <th>4</th>\n",
       "      <td>row-1</td>\n",
       "      <td>2</td>\n",
       "      <td>Morocco at Epcot</td>\n",
       "      <td>872808773</td>\n",
       "      <td>1315345099</td>\n",
       "      <td>2022-07-18 23:29:54+00:00</td>\n",
       "      <td>img</td>\n",
       "    </tr>\n",
       "  </tbody>\n",
       "</table>\n",
       "</div>"
      ],
      "text/plain": [
       "     row  item_num          location   media-id  guest-media-id  \\\n",
       "0  row-0         1  Morocco at Epcot  872816020      1315352456   \n",
       "1  row-0         2  Morocco at Epcot  872808759      1315356033   \n",
       "2  row-0         3  Morocco at Epcot  872808696      1315345012   \n",
       "3  row-1         1  Morocco at Epcot  872808519      1315344837   \n",
       "4  row-1         2  Morocco at Epcot  872808773      1315345099   \n",
       "\n",
       "                       date img/vid  \n",
       "0 2022-07-18 23:47:41+00:00     img  \n",
       "1 2022-07-18 23:30:17+00:00     img  \n",
       "2 2022-07-18 23:29:57+00:00     img  \n",
       "3 2022-07-18 23:29:55+00:00     img  \n",
       "4 2022-07-18 23:29:54+00:00     img  "
      ]
     },
     "execution_count": 161,
     "metadata": {},
     "output_type": "execute_result"
    }
   ],
   "source": [
    "duplicate = result['guest-media-id'].duplicated()\n",
    "result[duplicate]"
   ]
  },
  {
   "cell_type": "code",
   "execution_count": 147,
   "id": "a46941af",
   "metadata": {},
   "outputs": [],
   "source": [
    "# SCRUB \n",
    "duplicate = df['guest-media-id'].duplicated()"
   ]
  },
  {
   "cell_type": "code",
   "execution_count": 151,
   "id": "5a7ec3ac",
   "metadata": {},
   "outputs": [],
   "source": [
    "donedf=df['guest-media-id'][0:5]"
   ]
  },
  {
   "cell_type": "code",
   "execution_count": 149,
   "id": "ff73636c",
   "metadata": {},
   "outputs": [
    {
     "data": {
      "text/html": [
       "<div>\n",
       "<style scoped>\n",
       "    .dataframe tbody tr th:only-of-type {\n",
       "        vertical-align: middle;\n",
       "    }\n",
       "\n",
       "    .dataframe tbody tr th {\n",
       "        vertical-align: top;\n",
       "    }\n",
       "\n",
       "    .dataframe thead th {\n",
       "        text-align: right;\n",
       "    }\n",
       "</style>\n",
       "<table border=\"1\" class=\"dataframe\">\n",
       "  <thead>\n",
       "    <tr style=\"text-align: right;\">\n",
       "      <th></th>\n",
       "      <th>row</th>\n",
       "      <th>item_num</th>\n",
       "      <th>location</th>\n",
       "      <th>media-id</th>\n",
       "      <th>guest-media-id</th>\n",
       "      <th>date</th>\n",
       "      <th>img/vid</th>\n",
       "    </tr>\n",
       "  </thead>\n",
       "  <tbody>\n",
       "  </tbody>\n",
       "</table>\n",
       "</div>"
      ],
      "text/plain": [
       "Empty DataFrame\n",
       "Columns: [row, item_num, location, media-id, guest-media-id, date, img/vid]\n",
       "Index: []"
      ]
     },
     "execution_count": 149,
     "metadata": {},
     "output_type": "execute_result"
    }
   ],
   "source": [
    "df[duplicate]"
   ]
  },
  {
   "cell_type": "code",
   "execution_count": 135,
   "id": "606f22e0",
   "metadata": {},
   "outputs": [],
   "source": [
    "def build_df(browser,pic_ct):\n",
    "    my_pics =[]\n",
    "    # build dataframe\n",
    "    for r in pic_ct.keys():\n",
    "        for p in range(pic_ct[r]):\n",
    "            pic_num=p+1\n",
    "            val='//*[@id=\"'+r+'\"]/app-media-grid-item['+str(pic_num)+']/a'\n",
    "            pic=browser.find_element(by=By.XPATH,value=val)\n",
    "            pic_element ={\n",
    "                    \"row\" : r,\n",
    "                    \"item_num\": pic_num,\n",
    "                    \"location\":pic.get_attribute('encounter-name'),\n",
    "                    \"media-id\":pic.get_attribute('media-id'),\n",
    "                    \"guest-media-id\": pic.get_attribute('data-guest-media-id'),\n",
    "                    \"date\": pic.get_attribute('capture-date'),\n",
    "                    \"img/vid\":pic.get_attribute('role')\n",
    "                    }\n",
    "            my_pics.append(pic_element)\n",
    "            convert=json.dumps(my_pics)\n",
    "            pics_df=pd.read_json(convert)\n",
    "    return pics_df"
   ]
  },
  {
   "cell_type": "code",
   "execution_count": 133,
   "id": "f742ab4d",
   "metadata": {},
   "outputs": [
    {
     "data": {
      "text/html": [
       "<div>\n",
       "<style scoped>\n",
       "    .dataframe tbody tr th:only-of-type {\n",
       "        vertical-align: middle;\n",
       "    }\n",
       "\n",
       "    .dataframe tbody tr th {\n",
       "        vertical-align: top;\n",
       "    }\n",
       "\n",
       "    .dataframe thead th {\n",
       "        text-align: right;\n",
       "    }\n",
       "</style>\n",
       "<table border=\"1\" class=\"dataframe\">\n",
       "  <thead>\n",
       "    <tr style=\"text-align: right;\">\n",
       "      <th></th>\n",
       "      <th>row</th>\n",
       "      <th>item_num</th>\n",
       "      <th>location</th>\n",
       "      <th>media-id</th>\n",
       "      <th>guest-media-id</th>\n",
       "      <th>date</th>\n",
       "      <th>img/vid</th>\n",
       "    </tr>\n",
       "  </thead>\n",
       "  <tbody>\n",
       "    <tr>\n",
       "      <th>0</th>\n",
       "      <td>row-0</td>\n",
       "      <td>1</td>\n",
       "      <td>Morocco at Epcot</td>\n",
       "      <td>872816020</td>\n",
       "      <td>1315352456</td>\n",
       "      <td>2022-07-18 23:47:41+00:00</td>\n",
       "      <td>img</td>\n",
       "    </tr>\n",
       "    <tr>\n",
       "      <th>1</th>\n",
       "      <td>row-0</td>\n",
       "      <td>2</td>\n",
       "      <td>Morocco at Epcot</td>\n",
       "      <td>872808759</td>\n",
       "      <td>1315356033</td>\n",
       "      <td>2022-07-18 23:30:17+00:00</td>\n",
       "      <td>img</td>\n",
       "    </tr>\n",
       "    <tr>\n",
       "      <th>2</th>\n",
       "      <td>row-0</td>\n",
       "      <td>3</td>\n",
       "      <td>Morocco at Epcot</td>\n",
       "      <td>872808696</td>\n",
       "      <td>1315345012</td>\n",
       "      <td>2022-07-18 23:29:57+00:00</td>\n",
       "      <td>img</td>\n",
       "    </tr>\n",
       "    <tr>\n",
       "      <th>3</th>\n",
       "      <td>row-1</td>\n",
       "      <td>1</td>\n",
       "      <td>Morocco at Epcot</td>\n",
       "      <td>872808519</td>\n",
       "      <td>1315344837</td>\n",
       "      <td>2022-07-18 23:29:55+00:00</td>\n",
       "      <td>img</td>\n",
       "    </tr>\n",
       "    <tr>\n",
       "      <th>4</th>\n",
       "      <td>row-1</td>\n",
       "      <td>2</td>\n",
       "      <td>Morocco at Epcot</td>\n",
       "      <td>872808773</td>\n",
       "      <td>1315345099</td>\n",
       "      <td>2022-07-18 23:29:54+00:00</td>\n",
       "      <td>img</td>\n",
       "    </tr>\n",
       "    <tr>\n",
       "      <th>...</th>\n",
       "      <td>...</td>\n",
       "      <td>...</td>\n",
       "      <td>...</td>\n",
       "      <td>...</td>\n",
       "      <td>...</td>\n",
       "      <td>...</td>\n",
       "      <td>...</td>\n",
       "    </tr>\n",
       "    <tr>\n",
       "      <th>259</th>\n",
       "      <td>row-100</td>\n",
       "      <td>3</td>\n",
       "      <td>Epcot</td>\n",
       "      <td>762961635</td>\n",
       "      <td>1201323984</td>\n",
       "      <td>2021-10-15 16:18:15+00:00</td>\n",
       "      <td>img</td>\n",
       "    </tr>\n",
       "    <tr>\n",
       "      <th>260</th>\n",
       "      <td>row-100</td>\n",
       "      <td>4</td>\n",
       "      <td>Epcot</td>\n",
       "      <td>762961636</td>\n",
       "      <td>1201323983</td>\n",
       "      <td>2021-10-15 16:18:14+00:00</td>\n",
       "      <td>img</td>\n",
       "    </tr>\n",
       "    <tr>\n",
       "      <th>261</th>\n",
       "      <td>row-101</td>\n",
       "      <td>1</td>\n",
       "      <td>Epcot</td>\n",
       "      <td>762961631</td>\n",
       "      <td>1201323982</td>\n",
       "      <td>2021-10-15 16:18:13+00:00</td>\n",
       "      <td>img</td>\n",
       "    </tr>\n",
       "    <tr>\n",
       "      <th>262</th>\n",
       "      <td>row-101</td>\n",
       "      <td>2</td>\n",
       "      <td>Epcot</td>\n",
       "      <td>762961641</td>\n",
       "      <td>1201323981</td>\n",
       "      <td>2021-10-15 16:18:12+00:00</td>\n",
       "      <td>img</td>\n",
       "    </tr>\n",
       "    <tr>\n",
       "      <th>263</th>\n",
       "      <td>row-101</td>\n",
       "      <td>3</td>\n",
       "      <td>Main Street Train Station</td>\n",
       "      <td>298210453</td>\n",
       "      <td>908308270</td>\n",
       "      <td>2019-08-01 16:30:20+00:00</td>\n",
       "      <td>video</td>\n",
       "    </tr>\n",
       "  </tbody>\n",
       "</table>\n",
       "<p>264 rows × 7 columns</p>\n",
       "</div>"
      ],
      "text/plain": [
       "         row  item_num                   location   media-id  guest-media-id  \\\n",
       "0      row-0         1           Morocco at Epcot  872816020      1315352456   \n",
       "1      row-0         2           Morocco at Epcot  872808759      1315356033   \n",
       "2      row-0         3           Morocco at Epcot  872808696      1315345012   \n",
       "3      row-1         1           Morocco at Epcot  872808519      1315344837   \n",
       "4      row-1         2           Morocco at Epcot  872808773      1315345099   \n",
       "..       ...       ...                        ...        ...             ...   \n",
       "259  row-100         3                      Epcot  762961635      1201323984   \n",
       "260  row-100         4                      Epcot  762961636      1201323983   \n",
       "261  row-101         1                      Epcot  762961631      1201323982   \n",
       "262  row-101         2                      Epcot  762961641      1201323981   \n",
       "263  row-101         3  Main Street Train Station  298210453       908308270   \n",
       "\n",
       "                         date img/vid  \n",
       "0   2022-07-18 23:47:41+00:00     img  \n",
       "1   2022-07-18 23:30:17+00:00     img  \n",
       "2   2022-07-18 23:29:57+00:00     img  \n",
       "3   2022-07-18 23:29:55+00:00     img  \n",
       "4   2022-07-18 23:29:54+00:00     img  \n",
       "..                        ...     ...  \n",
       "259 2021-10-15 16:18:15+00:00     img  \n",
       "260 2021-10-15 16:18:14+00:00     img  \n",
       "261 2021-10-15 16:18:13+00:00     img  \n",
       "262 2021-10-15 16:18:12+00:00     img  \n",
       "263 2019-08-01 16:30:20+00:00   video  \n",
       "\n",
       "[264 rows x 7 columns]"
      ]
     },
     "execution_count": 133,
     "metadata": {},
     "output_type": "execute_result"
    }
   ],
   "source": [
    "\n",
    "\n"
   ]
  },
  {
   "cell_type": "code",
   "execution_count": 110,
   "id": "ac7a48d5",
   "metadata": {},
   "outputs": [],
   "source": [
    "first_pic=browser.find_element(by=By.XPATH,value='//*[@id=\"row-0\"]/app-media-grid-item[1]/a')"
   ]
  },
  {
   "cell_type": "code",
   "execution_count": 74,
   "id": "8896df88",
   "metadata": {},
   "outputs": [],
   "source": [
    "sec_pic=browser.find_element(by=By.XPATH,value='//*[@id=\"row-0\"]/app-media-grid-item[1]/a/div[2]/div/img')"
   ]
  },
  {
   "cell_type": "code",
   "execution_count": 45,
   "id": "2700fcfa",
   "metadata": {},
   "outputs": [],
   "source": [
    "third_pic=browser.find_element(by=By.XPATH,value='//*[@id=\"row-0\"]/app-media-grid-item[2]/a/div[2]/div/img')\n",
    "third_pic.click()"
   ]
  },
  {
   "cell_type": "code",
   "execution_count": 38,
   "id": "3c941d30",
   "metadata": {},
   "outputs": [],
   "source": [
    "# first_pic.click()\n",
    "sec_pic.click()"
   ]
  },
  {
   "cell_type": "code",
   "execution_count": 46,
   "id": "fcba20d1",
   "metadata": {},
   "outputs": [
    {
     "name": "stdout",
     "output_type": "stream",
     "text": [
      "1\n",
      "2\n",
      "3\n"
     ]
    },
    {
     "ename": "NoSuchElementException",
     "evalue": "Message: no such element: Unable to locate element: {\"method\":\"xpath\",\"selector\":\"//*[@id=\"row-0\"]/app-media-grid-item[4]/a/div[2]/div/img\"}\n  (Session info: chrome=103.0.5060.114)\nStacktrace:\n#0 0x557bc360ecd3 <unknown>\n#1 0x557bc3416968 <unknown>\n#2 0x557bc344dfd7 <unknown>\n#3 0x557bc344e1a1 <unknown>\n#4 0x557bc3481154 <unknown>\n#5 0x557bc346bbdd <unknown>\n#6 0x557bc347eea8 <unknown>\n#7 0x557bc346baa3 <unknown>\n#8 0x557bc34413fa <unknown>\n#9 0x557bc3442555 <unknown>\n#10 0x557bc36562bd <unknown>\n#11 0x557bc365a418 <unknown>\n#12 0x557bc364036e <unknown>\n#13 0x557bc365b078 <unknown>\n#14 0x557bc3634bb0 <unknown>\n#15 0x557bc3677d58 <unknown>\n#16 0x557bc3677ed8 <unknown>\n#17 0x557bc3691cfd <unknown>\n#18 0x7feee034c609 <unknown>\n",
     "output_type": "error",
     "traceback": [
      "\u001b[0;31m---------------------------------------------------------------------------\u001b[0m",
      "\u001b[0;31mNoSuchElementException\u001b[0m                    Traceback (most recent call last)",
      "Input \u001b[0;32mIn [46]\u001b[0m, in \u001b[0;36m<cell line: 1>\u001b[0;34m()\u001b[0m\n\u001b[1;32m      1\u001b[0m \u001b[38;5;28;01mfor\u001b[39;00m i \u001b[38;5;129;01min\u001b[39;00m \u001b[38;5;28mrange\u001b[39m(\u001b[38;5;241m6\u001b[39m):\n\u001b[1;32m      2\u001b[0m     i\u001b[38;5;241m=\u001b[39mi\u001b[38;5;241m+\u001b[39m\u001b[38;5;241m1\u001b[39m\n\u001b[0;32m----> 3\u001b[0m     checkbox\u001b[38;5;241m=\u001b[39m\u001b[43mbrowser\u001b[49m\u001b[38;5;241;43m.\u001b[39;49m\u001b[43mfind_element\u001b[49m\u001b[43m(\u001b[49m\u001b[43mby\u001b[49m\u001b[38;5;241;43m=\u001b[39;49m\u001b[43mBy\u001b[49m\u001b[38;5;241;43m.\u001b[39;49m\u001b[43mXPATH\u001b[49m\u001b[43m,\u001b[49m\u001b[43mvalue\u001b[49m\u001b[38;5;241;43m=\u001b[39;49m\u001b[38;5;124;43m'\u001b[39;49m\u001b[38;5;124;43m//*[@id=\u001b[39;49m\u001b[38;5;124;43m\"\u001b[39;49m\u001b[38;5;124;43mrow-0\u001b[39;49m\u001b[38;5;124;43m\"\u001b[39;49m\u001b[38;5;124;43m]/app-media-grid-item[\u001b[39;49m\u001b[38;5;124;43m'\u001b[39;49m\u001b[38;5;241;43m+\u001b[39;49m\u001b[38;5;28;43mstr\u001b[39;49m\u001b[43m(\u001b[49m\u001b[43mi\u001b[49m\u001b[43m)\u001b[49m\u001b[38;5;241;43m+\u001b[39;49m\u001b[38;5;124;43m'\u001b[39;49m\u001b[38;5;124;43m]/a/div[2]/div/img\u001b[39;49m\u001b[38;5;124;43m'\u001b[39;49m\u001b[43m)\u001b[49m\n\u001b[1;32m      4\u001b[0m     checkbox\u001b[38;5;241m.\u001b[39mclick()\n\u001b[1;32m      5\u001b[0m     \u001b[38;5;28mprint\u001b[39m(i)\n",
      "File \u001b[0;32m~/anaconda3/envs/scrapers/lib/python3.10/site-packages/selenium/webdriver/remote/webdriver.py:857\u001b[0m, in \u001b[0;36mWebDriver.find_element\u001b[0;34m(self, by, value)\u001b[0m\n\u001b[1;32m    854\u001b[0m     by \u001b[38;5;241m=\u001b[39m By\u001b[38;5;241m.\u001b[39mCSS_SELECTOR\n\u001b[1;32m    855\u001b[0m     value \u001b[38;5;241m=\u001b[39m \u001b[38;5;124m'\u001b[39m\u001b[38;5;124m[name=\u001b[39m\u001b[38;5;124m\"\u001b[39m\u001b[38;5;132;01m%s\u001b[39;00m\u001b[38;5;124m\"\u001b[39m\u001b[38;5;124m]\u001b[39m\u001b[38;5;124m'\u001b[39m \u001b[38;5;241m%\u001b[39m value\n\u001b[0;32m--> 857\u001b[0m \u001b[38;5;28;01mreturn\u001b[39;00m \u001b[38;5;28;43mself\u001b[39;49m\u001b[38;5;241;43m.\u001b[39;49m\u001b[43mexecute\u001b[49m\u001b[43m(\u001b[49m\u001b[43mCommand\u001b[49m\u001b[38;5;241;43m.\u001b[39;49m\u001b[43mFIND_ELEMENT\u001b[49m\u001b[43m,\u001b[49m\u001b[43m \u001b[49m\u001b[43m{\u001b[49m\n\u001b[1;32m    858\u001b[0m \u001b[43m    \u001b[49m\u001b[38;5;124;43m'\u001b[39;49m\u001b[38;5;124;43musing\u001b[39;49m\u001b[38;5;124;43m'\u001b[39;49m\u001b[43m:\u001b[49m\u001b[43m \u001b[49m\u001b[43mby\u001b[49m\u001b[43m,\u001b[49m\n\u001b[1;32m    859\u001b[0m \u001b[43m    \u001b[49m\u001b[38;5;124;43m'\u001b[39;49m\u001b[38;5;124;43mvalue\u001b[39;49m\u001b[38;5;124;43m'\u001b[39;49m\u001b[43m:\u001b[49m\u001b[43m \u001b[49m\u001b[43mvalue\u001b[49m\u001b[43m}\u001b[49m\u001b[43m)\u001b[49m[\u001b[38;5;124m'\u001b[39m\u001b[38;5;124mvalue\u001b[39m\u001b[38;5;124m'\u001b[39m]\n",
      "File \u001b[0;32m~/anaconda3/envs/scrapers/lib/python3.10/site-packages/selenium/webdriver/remote/webdriver.py:435\u001b[0m, in \u001b[0;36mWebDriver.execute\u001b[0;34m(self, driver_command, params)\u001b[0m\n\u001b[1;32m    433\u001b[0m response \u001b[38;5;241m=\u001b[39m \u001b[38;5;28mself\u001b[39m\u001b[38;5;241m.\u001b[39mcommand_executor\u001b[38;5;241m.\u001b[39mexecute(driver_command, params)\n\u001b[1;32m    434\u001b[0m \u001b[38;5;28;01mif\u001b[39;00m response:\n\u001b[0;32m--> 435\u001b[0m     \u001b[38;5;28;43mself\u001b[39;49m\u001b[38;5;241;43m.\u001b[39;49m\u001b[43merror_handler\u001b[49m\u001b[38;5;241;43m.\u001b[39;49m\u001b[43mcheck_response\u001b[49m\u001b[43m(\u001b[49m\u001b[43mresponse\u001b[49m\u001b[43m)\u001b[49m\n\u001b[1;32m    436\u001b[0m     response[\u001b[38;5;124m'\u001b[39m\u001b[38;5;124mvalue\u001b[39m\u001b[38;5;124m'\u001b[39m] \u001b[38;5;241m=\u001b[39m \u001b[38;5;28mself\u001b[39m\u001b[38;5;241m.\u001b[39m_unwrap_value(\n\u001b[1;32m    437\u001b[0m         response\u001b[38;5;241m.\u001b[39mget(\u001b[38;5;124m'\u001b[39m\u001b[38;5;124mvalue\u001b[39m\u001b[38;5;124m'\u001b[39m, \u001b[38;5;28;01mNone\u001b[39;00m))\n\u001b[1;32m    438\u001b[0m     \u001b[38;5;28;01mreturn\u001b[39;00m response\n",
      "File \u001b[0;32m~/anaconda3/envs/scrapers/lib/python3.10/site-packages/selenium/webdriver/remote/errorhandler.py:247\u001b[0m, in \u001b[0;36mErrorHandler.check_response\u001b[0;34m(self, response)\u001b[0m\n\u001b[1;32m    245\u001b[0m         alert_text \u001b[38;5;241m=\u001b[39m value[\u001b[38;5;124m'\u001b[39m\u001b[38;5;124malert\u001b[39m\u001b[38;5;124m'\u001b[39m]\u001b[38;5;241m.\u001b[39mget(\u001b[38;5;124m'\u001b[39m\u001b[38;5;124mtext\u001b[39m\u001b[38;5;124m'\u001b[39m)\n\u001b[1;32m    246\u001b[0m     \u001b[38;5;28;01mraise\u001b[39;00m exception_class(message, screen, stacktrace, alert_text)  \u001b[38;5;66;03m# type: ignore[call-arg]  # mypy is not smart enough here\u001b[39;00m\n\u001b[0;32m--> 247\u001b[0m \u001b[38;5;28;01mraise\u001b[39;00m exception_class(message, screen, stacktrace)\n",
      "\u001b[0;31mNoSuchElementException\u001b[0m: Message: no such element: Unable to locate element: {\"method\":\"xpath\",\"selector\":\"//*[@id=\"row-0\"]/app-media-grid-item[4]/a/div[2]/div/img\"}\n  (Session info: chrome=103.0.5060.114)\nStacktrace:\n#0 0x557bc360ecd3 <unknown>\n#1 0x557bc3416968 <unknown>\n#2 0x557bc344dfd7 <unknown>\n#3 0x557bc344e1a1 <unknown>\n#4 0x557bc3481154 <unknown>\n#5 0x557bc346bbdd <unknown>\n#6 0x557bc347eea8 <unknown>\n#7 0x557bc346baa3 <unknown>\n#8 0x557bc34413fa <unknown>\n#9 0x557bc3442555 <unknown>\n#10 0x557bc36562bd <unknown>\n#11 0x557bc365a418 <unknown>\n#12 0x557bc364036e <unknown>\n#13 0x557bc365b078 <unknown>\n#14 0x557bc3634bb0 <unknown>\n#15 0x557bc3677d58 <unknown>\n#16 0x557bc3677ed8 <unknown>\n#17 0x557bc3691cfd <unknown>\n#18 0x7feee034c609 <unknown>\n"
     ]
    }
   ],
   "source": [
    "for i in range(6):\n",
    "    i=i+1\n",
    "    checkbox=browser.find_element(by=By.XPATH,value='//*[@id=\"row-0\"]/app-media-grid-item['+str(i)+']/a/div[2]/div/img')\n",
    "    checkbox.click()\n",
    "    print(i)    "
   ]
  },
  {
   "cell_type": "code",
   "execution_count": 58,
   "id": "f27fb443",
   "metadata": {},
   "outputs": [],
   "source": [
    "media_grid=browser.find_element(by=By.XPATH,value='//*[@id=\"gallery\"]/div[1]/div/div/app-media-grid/div/app-media-grid-layout')"
   ]
  },
  {
   "cell_type": "code",
   "execution_count": 59,
   "id": "94829602",
   "metadata": {},
   "outputs": [
    {
     "data": {
      "text/plain": [
       "selenium.webdriver.remote.webelement.WebElement"
      ]
     },
     "execution_count": 59,
     "metadata": {},
     "output_type": "execute_result"
    }
   ],
   "source": [
    "type(media_grid)"
   ]
  },
  {
   "cell_type": "code",
   "execution_count": null,
   "id": "b6931b84",
   "metadata": {},
   "outputs": [],
   "source": [
    "l = driver.findElements(By.className(\"store-details\"));"
   ]
  },
  {
   "cell_type": "code",
   "execution_count": 60,
   "id": "07699b54",
   "metadata": {},
   "outputs": [],
   "source": [
    "test=browser.find_element(By.CLASS_NAME, \"grid\")"
   ]
  },
  {
   "cell_type": "code",
   "execution_count": 62,
   "id": "11857cc5",
   "metadata": {},
   "outputs": [
    {
     "data": {
      "text/plain": [
       "''"
      ]
     },
     "execution_count": 62,
     "metadata": {},
     "output_type": "execute_result"
    }
   ],
   "source": [
    "test."
   ]
  },
  {
   "cell_type": "code",
   "execution_count": 111,
   "id": "a04f6014",
   "metadata": {},
   "outputs": [
    {
     "name": "stdout",
     "output_type": "stream",
     "text": [
      "Morocco at Epcot\n",
      "872816020\n",
      "2022-07-18T23:47:41Z\n",
      "1315352456\n",
      "img\n"
     ]
    }
   ],
   "source": [
    "pic_element ={\n",
    "    \"row\" : row_id,\n",
    "    \"item_num\": pic_num,\n",
    "    \"location\":pic.get_attribute('encounter-name'),\n",
    "    \"media-id\":pic.get_attribute('media-id'),\n",
    "    \"guest-media-id\": pic.get_attribute('data-guest-media-id'),\n",
    "    \"date\": pic.get_attribute('capture-date'),\n",
    "    \"img/vid\":pic.get_attribute('role')\n",
    "}"
   ]
  },
  {
   "cell_type": "code",
   "execution_count": 86,
   "id": "7dd15e67",
   "metadata": {},
   "outputs": [],
   "source": [
    "sec_pic=browser.find_element(by=By.XPATH,value='//*[@id=\"row-0\"]/app-media-grid-item[2]/a')"
   ]
  },
  {
   "cell_type": "code",
   "execution_count": 83,
   "id": "4388159a",
   "metadata": {},
   "outputs": [
    {
     "name": "stdout",
     "output_type": "stream",
     "text": [
      "Morocco at Epcot\n",
      "872808759\n",
      "2022-07-18T23:30:17Z\n",
      "1315356033\n",
      "Epcot\n"
     ]
    }
   ],
   "source": [
    "print(sec_pic.get_attribute('encounter-name'))\n",
    "print(sec_pic.get_attribute('media-id'))\n",
    "print(sec_pic.get_attribute('capture-date'))\n",
    "print(sec_pic.get_attribute('data-guest-media-id'))\n",
    "print(sec_pic.get_attribute('data-media-park'))"
   ]
  },
  {
   "cell_type": "code",
   "execution_count": 88,
   "id": "58450f7f",
   "metadata": {},
   "outputs": [
    {
     "data": {
      "text/plain": [
       "False"
      ]
     },
     "execution_count": 88,
     "metadata": {},
     "output_type": "execute_result"
    }
   ],
   "source": [
    "sec_pic.is_selected()"
   ]
  },
  {
   "cell_type": "code",
   "execution_count": 16,
   "id": "8b0a2148",
   "metadata": {},
   "outputs": [
    {
     "name": "stdout",
     "output_type": "stream",
     "text": [
      "Help on WebElement in module selenium.webdriver.remote.webelement object:\n",
      "\n",
      "class WebElement(BaseWebElement)\n",
      " |  WebElement(parent, id_)\n",
      " |  \n",
      " |  Represents a DOM element.\n",
      " |  \n",
      " |  Generally, all interesting operations that interact with a document will be\n",
      " |  performed through this interface.\n",
      " |  \n",
      " |  All method calls will do a freshness check to ensure that the element\n",
      " |  reference is still valid.  This essentially determines whether or not the\n",
      " |  element is still attached to the DOM.  If this test fails, then an\n",
      " |  ``StaleElementReferenceException`` is thrown, and all future calls to this\n",
      " |  instance will fail.\n",
      " |  \n",
      " |  Method resolution order:\n",
      " |      WebElement\n",
      " |      BaseWebElement\n",
      " |      builtins.object\n",
      " |  \n",
      " |  Methods defined here:\n",
      " |  \n",
      " |  __eq__(self, element)\n",
      " |      Return self==value.\n",
      " |  \n",
      " |  __hash__(self)\n",
      " |      Return hash(self).\n",
      " |  \n",
      " |  __init__(self, parent, id_)\n",
      " |      Initialize self.  See help(type(self)) for accurate signature.\n",
      " |  \n",
      " |  __ne__(self, element)\n",
      " |      Return self!=value.\n",
      " |  \n",
      " |  __repr__(self)\n",
      " |      Return repr(self).\n",
      " |  \n",
      " |  clear(self) -> 'None'\n",
      " |      Clears the text if it's a text entry element.\n",
      " |  \n",
      " |  click(self) -> 'None'\n",
      " |      Clicks the element.\n",
      " |  \n",
      " |  find_element(self, by='id', value=None) -> 'WebElement'\n",
      " |      Find an element given a By strategy and locator.\n",
      " |      \n",
      " |      :Usage:\n",
      " |          ::\n",
      " |      \n",
      " |              element = element.find_element(By.ID, 'foo')\n",
      " |      \n",
      " |      :rtype: WebElement\n",
      " |  \n",
      " |  find_elements(self, by='id', value=None) -> 'list[WebElement]'\n",
      " |      Find elements given a By strategy and locator.\n",
      " |      \n",
      " |      :Usage:\n",
      " |          ::\n",
      " |      \n",
      " |              element = element.find_elements(By.CLASS_NAME, 'foo')\n",
      " |      \n",
      " |      :rtype: list of WebElement\n",
      " |  \n",
      " |  get_attribute(self, name) -> 'str'\n",
      " |      Gets the given attribute or property of the element.\n",
      " |      \n",
      " |      This method will first try to return the value of a property with the\n",
      " |      given name. If a property with that name doesn't exist, it returns the\n",
      " |      value of the attribute with the same name. If there's no attribute with\n",
      " |      that name, ``None`` is returned.\n",
      " |      \n",
      " |      Values which are considered truthy, that is equals \"true\" or \"false\",\n",
      " |      are returned as booleans.  All other non-``None`` values are returned\n",
      " |      as strings.  For attributes or properties which do not exist, ``None``\n",
      " |      is returned.\n",
      " |      \n",
      " |      To obtain the exact value of the attribute or property,\n",
      " |      use :func:`~selenium.webdriver.remote.BaseWebElement.get_dom_attribute` or\n",
      " |      :func:`~selenium.webdriver.remote.BaseWebElement.get_property` methods respectively.\n",
      " |      \n",
      " |      :Args:\n",
      " |          - name - Name of the attribute/property to retrieve.\n",
      " |      \n",
      " |      Example::\n",
      " |      \n",
      " |          # Check if the \"active\" CSS class is applied to an element.\n",
      " |          is_active = \"active\" in target_element.get_attribute(\"class\")\n",
      " |  \n",
      " |  get_dom_attribute(self, name) -> 'str'\n",
      " |      Gets the given attribute of the element. Unlike :func:`~selenium.webdriver.remote.BaseWebElement.get_attribute`,\n",
      " |      this method only returns attributes declared in the element's HTML markup.\n",
      " |      \n",
      " |      :Args:\n",
      " |          - name - Name of the attribute to retrieve.\n",
      " |      \n",
      " |      :Usage:\n",
      " |          ::\n",
      " |      \n",
      " |              text_length = target_element.get_dom_attribute(\"class\")\n",
      " |  \n",
      " |  get_property(self, name) -> 'str | bool | WebElement | dict'\n",
      " |      Gets the given property of the element.\n",
      " |      \n",
      " |      :Args:\n",
      " |          - name - Name of the property to retrieve.\n",
      " |      \n",
      " |      :Usage:\n",
      " |          ::\n",
      " |      \n",
      " |              text_length = target_element.get_property(\"text_length\")\n",
      " |  \n",
      " |  is_displayed(self) -> 'bool'\n",
      " |      Whether the element is visible to a user.\n",
      " |  \n",
      " |  is_enabled(self) -> 'bool'\n",
      " |      Returns whether the element is enabled.\n",
      " |  \n",
      " |  is_selected(self) -> 'bool'\n",
      " |      Returns whether the element is selected.\n",
      " |      \n",
      " |      Can be used to check if a checkbox or radio button is selected.\n",
      " |  \n",
      " |  screenshot(self, filename) -> 'bool'\n",
      " |      Saves a screenshot of the current element to a PNG image file. Returns\n",
      " |         False if there is any IOError, else returns True. Use full paths in\n",
      " |         your filename.\n",
      " |      \n",
      " |      :Args:\n",
      " |       - filename: The full path you wish to save your screenshot to. This\n",
      " |         should end with a `.png` extension.\n",
      " |      \n",
      " |      :Usage:\n",
      " |          ::\n",
      " |      \n",
      " |              element.screenshot('/Screenshots/foo.png')\n",
      " |  \n",
      " |  send_keys(self, *value) -> 'None'\n",
      " |      Simulates typing into the element.\n",
      " |      \n",
      " |      :Args:\n",
      " |          - value - A string for typing, or setting form fields.  For setting\n",
      " |            file inputs, this could be a local file path.\n",
      " |      \n",
      " |      Use this to send simple key events or to fill out form fields::\n",
      " |      \n",
      " |          form_textfield = driver.find_element(By.NAME, 'username')\n",
      " |          form_textfield.send_keys(\"admin\")\n",
      " |      \n",
      " |      This can also be used to set file inputs.\n",
      " |      \n",
      " |      ::\n",
      " |      \n",
      " |          file_input = driver.find_element(By.NAME, 'profilePic')\n",
      " |          file_input.send_keys(\"path/to/profilepic.gif\")\n",
      " |          # Generally it's better to wrap the file path in one of the methods\n",
      " |          # in os.path to return the actual path to support cross OS testing.\n",
      " |          # file_input.send_keys(os.path.abspath(\"path/to/profilepic.gif\"))\n",
      " |  \n",
      " |  submit(self)\n",
      " |      Submits a form.\n",
      " |  \n",
      " |  value_of_css_property(self, property_name) -> 'str'\n",
      " |      The value of a CSS property.\n",
      " |  \n",
      " |  ----------------------------------------------------------------------\n",
      " |  Readonly properties defined here:\n",
      " |  \n",
      " |  accessible_name\n",
      " |      Returns the ARIA Level of the current webelement\n",
      " |  \n",
      " |  aria_role\n",
      " |      Returns the ARIA role of the current web element\n",
      " |  \n",
      " |  id\n",
      " |      Internal ID used by selenium.\n",
      " |      \n",
      " |      This is mainly for internal use. Simple use cases such as checking if 2\n",
      " |      webelements refer to the same element, can be done using ``==``::\n",
      " |      \n",
      " |          if element1 == element2:\n",
      " |              print(\"These 2 are equal\")\n",
      " |  \n",
      " |  location\n",
      " |      The location of the element in the renderable canvas.\n",
      " |  \n",
      " |  location_once_scrolled_into_view\n",
      " |      THIS PROPERTY MAY CHANGE WITHOUT WARNING. Use this to discover\n",
      " |      where on the screen an element is so that we can click it. This method\n",
      " |      should cause the element to be scrolled into view.\n",
      " |      \n",
      " |      Returns the top lefthand corner location on the screen, or ``None`` if\n",
      " |      the element is not visible.\n",
      " |  \n",
      " |  parent\n",
      " |      Internal reference to the WebDriver instance this element was found from.\n",
      " |  \n",
      " |  rect\n",
      " |      A dictionary with the size and location of the element.\n",
      " |  \n",
      " |  screenshot_as_base64\n",
      " |      Gets the screenshot of the current element as a base64 encoded string.\n",
      " |      \n",
      " |      :Usage:\n",
      " |          ::\n",
      " |      \n",
      " |              img_b64 = element.screenshot_as_base64\n",
      " |  \n",
      " |  screenshot_as_png\n",
      " |      Gets the screenshot of the current element as a binary data.\n",
      " |      \n",
      " |      :Usage:\n",
      " |          ::\n",
      " |      \n",
      " |              element_png = element.screenshot_as_png\n",
      " |  \n",
      " |  shadow_root\n",
      " |      Returns a shadow root of the element if there is one or an error. Only works from\n",
      " |      Chromium 96 onwards. Previous versions of Chromium based browsers will throw an\n",
      " |      assertion exception.\n",
      " |      \n",
      " |      :Returns:\n",
      " |        - ShadowRoot object or\n",
      " |        - NoSuchShadowRoot - if no shadow root was attached to element\n",
      " |  \n",
      " |  size\n",
      " |      The size of the element.\n",
      " |  \n",
      " |  tag_name\n",
      " |      This element's ``tagName`` property.\n",
      " |  \n",
      " |  text\n",
      " |      The text of the element.\n",
      " |  \n",
      " |  ----------------------------------------------------------------------\n",
      " |  Data and other attributes defined here:\n",
      " |  \n",
      " |  __abstractmethods__ = frozenset()\n",
      " |  \n",
      " |  ----------------------------------------------------------------------\n",
      " |  Data descriptors inherited from BaseWebElement:\n",
      " |  \n",
      " |  __dict__\n",
      " |      dictionary for instance variables (if defined)\n",
      " |  \n",
      " |  __weakref__\n",
      " |      list of weak references to the object (if defined)\n",
      "\n"
     ]
    }
   ],
   "source": [
    "help(first_pic)"
   ]
  },
  {
   "cell_type": "code",
   "execution_count": null,
   "id": "e3c62108",
   "metadata": {},
   "outputs": [],
   "source": []
  },
  {
   "cell_type": "code",
   "execution_count": null,
   "id": "6b7f0c7f",
   "metadata": {},
   "outputs": [],
   "source": []
  },
  {
   "cell_type": "code",
   "execution_count": null,
   "id": "e9736512",
   "metadata": {},
   "outputs": [],
   "source": []
  },
  {
   "cell_type": "code",
   "execution_count": null,
   "id": "f7c3fae3",
   "metadata": {},
   "outputs": [],
   "source": []
  },
  {
   "cell_type": "code",
   "execution_count": null,
   "id": "b7ffdc38",
   "metadata": {},
   "outputs": [],
   "source": []
  },
  {
   "cell_type": "code",
   "execution_count": null,
   "id": "d96cc2a6",
   "metadata": {},
   "outputs": [],
   "source": []
  },
  {
   "cell_type": "code",
   "execution_count": 6,
   "id": "be359cac",
   "metadata": {},
   "outputs": [],
   "source": [
    " def Disney_Login(browser,un,pw):   \n",
    "    # intiate iframe and login\n",
    "    browser.get('https://disneyworld.disney.go.com/login?appRedirect=%2F')\n",
    "    WebDriverWait(browser, 20).until(EC.frame_to_be_available_and_switch_to_it((By.XPATH,\"//iframe[@id='disneyid-iframe']\")))\n",
    "    username = WebDriverWait(browser, 20).until(EC.element_to_be_clickable((By.XPATH, \"//input[@aria-label='Username or Email Address']\")))\n",
    "    password = WebDriverWait(browser, 20).until(EC.element_to_be_clickable((By.XPATH,\"//input[@type='password']\" )))\n",
    "    username.send_keys(un)\n",
    "    password.send_keys(pw)\n",
    "    submit=browser.find_element(by=By.XPATH, value='//*[@id=\"did-ui-view\"]/div/section/section/form/section/div[3]/button')\n",
    "    submit.click()\n",
    "    sleep(10)"
   ]
  },
  {
   "cell_type": "code",
   "execution_count": 91,
   "id": "cc72a2ad",
   "metadata": {},
   "outputs": [],
   "source": [
    "row_pic_ct ={}\n",
    "try:\n",
    "    for i in range(5):\n",
    "        pic_row = i\n",
    "        for p in range(5):\n",
    "            val='//*[@id=\"row-'+str(i)+'\"]/app-media-grid-item['+str(p)+']/a'\n",
    "            try:\n",
    "                browser.find_element(by=By.XPATH,value=val)\n",
    "                row_pic_ct[pic_row] = p\n",
    "            except: None\n",
    "except: None           \n",
    "    "
   ]
  },
  {
   "cell_type": "code",
   "execution_count": 92,
   "id": "adbe334e",
   "metadata": {},
   "outputs": [
    {
     "data": {
      "text/plain": [
       "{0: 3, 1: 4, 2: 3, 3: 2, 4: 2}"
      ]
     },
     "execution_count": 92,
     "metadata": {},
     "output_type": "execute_result"
    }
   ],
   "source": [
    "row_pic_ct"
   ]
  },
  {
   "cell_type": "code",
   "execution_count": 114,
   "id": "1b6a34ac",
   "metadata": {},
   "outputs": [],
   "source": [
    " def find_row_ct(browser):\n",
    "    row_pic_ct ={}\n",
    "    row_exists=True\n",
    "    pic_row=0\n",
    "    while(row_exists):\n",
    "        row_id='row-'+str(pic_row)\n",
    "        try:\n",
    "            find_row=browser.find_element(by=By.XPATH,value='//*[@id=\"'+row_id+'\"]')\n",
    "            for p in range(5):\n",
    "                val='//*[@id=\"row-'+str(pic_row)+'\"]/app-media-grid-item['+str(p)+']/a'\n",
    "                try:\n",
    "                    browser.find_element(by=By.XPATH,value=val)\n",
    "                    row_pic_ct[row_id] = p\n",
    "                except: None        \n",
    "        except:\n",
    "            row_exists=False\n",
    "            last_row=pic_row-1\n",
    "            print(\"Last Row is \" + str(last_row))\n",
    "        pic_row+=1\n",
    "    return row_pic_ct"
   ]
  },
  {
   "cell_type": "code",
   "execution_count": 291,
   "id": "9dd7aa8d",
   "metadata": {},
   "outputs": [],
   "source": [
    "def check_box(browser,row,p_num):\n",
    "    from selenium.webdriver.common.keys import Keys\n",
    "    val='//*[@id=\"'+row+'\"]/app-media-grid-item['+str(p_num)+']/a/div[2]/div/img'\n",
    "    checkbox=browser.find_element(by=By.XPATH,value=val)\n",
    "    checkbox.click()\n",
    "\n",
    "#     checkbox.send_keys(Keys.PAGE_DOWN);"
   ]
  },
  {
   "cell_type": "code",
   "execution_count": 290,
   "id": "dabad31c",
   "metadata": {},
   "outputs": [],
   "source": [
    "body = browser.find_element(By.CSS_SELECTOR, 'body')\n",
    "body.send_keys(Keys.PAGE_DOWN)"
   ]
  },
  {
   "cell_type": "code",
   "execution_count": 289,
   "id": "b21e5541",
   "metadata": {},
   "outputs": [
    {
     "data": {
      "text/plain": [
       "<selenium.webdriver.remote.webelement.WebElement (session=\"a855efd5b6c9cea554f2602ed037a592\", element=\"bbe24309-95e3-4f57-9a69-4c60b4d5fa7e\")>"
      ]
     },
     "execution_count": 289,
     "metadata": {},
     "output_type": "execute_result"
    }
   ],
   "source": [
    "browser.find_element(by=By.XPATH,value='//*[@id=\"row-0\"]/app-media-grid-item[1]/a')"
   ]
  },
  {
   "cell_type": "code",
   "execution_count": null,
   "id": "1200d55a",
   "metadata": {},
   "outputs": [],
   "source": []
  }
 ],
 "metadata": {
  "kernelspec": {
   "display_name": "Python 3 (ipykernel)",
   "language": "python",
   "name": "python3"
  },
  "language_info": {
   "codemirror_mode": {
    "name": "ipython",
    "version": 3
   },
   "file_extension": ".py",
   "mimetype": "text/x-python",
   "name": "python",
   "nbconvert_exporter": "python",
   "pygments_lexer": "ipython3",
   "version": "3.10.4"
  }
 },
 "nbformat": 4,
 "nbformat_minor": 5
}
