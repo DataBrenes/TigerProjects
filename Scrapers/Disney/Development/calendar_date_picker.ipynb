{
 "cells": [
  {
   "cell_type": "code",
   "execution_count": 1,
   "id": "e9d64818",
   "metadata": {},
   "outputs": [],
   "source": [
    "from tkinter import *\n",
    "from tkcalendar import Calendar\n",
    "\n",
    "# creating an object of tkinter\n",
    "\n",
    "tkobj = Tk()\n",
    "\n",
    "# setting up the geomentry\n",
    "\n",
    "tkobj.geometry(\"400x400\")\n",
    "tkobj.title(\"Calendar picker\")\n",
    "#creating a calender object\n",
    "\n",
    "tkc = Calendar(tkobj,selectmode = \"day\",year=2022,month=1,date=1)\n",
    "\n",
    "#display on main window\n",
    "tkc.pack(pady=40)\n",
    "\n",
    "# getting date from the calendar \n",
    "\n",
    "def fetch_date():\n",
    "    date.config(text = \"Selected Date is: \" + tkc.get_date())\n",
    "\n",
    "#add button to load the date clicked on calendar\n",
    "\n",
    "but = Button(tkobj,text=\"Select Date\",command=fetch_date, bg=\"black\", fg='white')\n",
    "#displaying button on the main display\n",
    "but.pack()\n",
    "#Label for showing date on main display\n",
    "date = Label(tkobj,text=\"\",bg='black',fg='white')\n",
    "date.pack(pady=20)\n",
    "#starting the object\n",
    "tkobj.mainloop()"
   ]
  },
  {
   "cell_type": "code",
   "execution_count": 3,
   "id": "d25f9d75",
   "metadata": {},
   "outputs": [
    {
     "name": "stdout",
     "output_type": "stream",
     "text": [
      "[datetime.date(2022, 7, 25), datetime.date(2022, 7, 26), datetime.date(2022, 7, 27), datetime.date(2022, 7, 28)]\n"
     ]
    }
   ],
   "source": [
    "# Another example \n",
    "from tkinter import *\n",
    "import tkcalendar\n",
    "from datetime import timedelta\n",
    "\n",
    "root = Tk()\n",
    "\n",
    "def date_range(start,stop):\n",
    "    global dates # If you want to use this outside of functions\n",
    "     \n",
    "    dates = []\n",
    "    diff = (stop-start).days\n",
    "    for i in range(diff+1):\n",
    "        day = start + timedelta(days=i)\n",
    "        dates.append(day)\n",
    "    if dates:\n",
    "        print(dates) # Print it, or even make it global to access it outside this\n",
    "    else:\n",
    "        print('Make sure the end date is later than start date')\n",
    "\n",
    "date1 = tkcalendar.DateEntry(root)\n",
    "date1.pack(padx=10,pady=10)\n",
    "\n",
    "date2 = tkcalendar.DateEntry(root)\n",
    "date2.pack(padx=10,pady=10)\n",
    "\n",
    "Button(root,text='Find range',command=lambda: date_range(date1.get_date(),date2.get_date())).pack() \n",
    "\n",
    "root.mainloop()"
   ]
  },
  {
   "cell_type": "code",
   "execution_count": null,
   "id": "35628ea8",
   "metadata": {},
   "outputs": [],
   "source": []
  }
 ],
 "metadata": {
  "kernelspec": {
   "display_name": "Python 3 (ipykernel)",
   "language": "python",
   "name": "python3"
  },
  "language_info": {
   "codemirror_mode": {
    "name": "ipython",
    "version": 3
   },
   "file_extension": ".py",
   "mimetype": "text/x-python",
   "name": "python",
   "nbconvert_exporter": "python",
   "pygments_lexer": "ipython3",
   "version": "3.10.4"
  }
 },
 "nbformat": 4,
 "nbformat_minor": 5
}
