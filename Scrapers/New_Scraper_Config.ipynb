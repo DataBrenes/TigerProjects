{
 "cells": [
  {
   "cell_type": "markdown",
   "id": "e8934fc8",
   "metadata": {},
   "source": [
    "## Make sure these work in terminal \n",
    "    google-chrome\n",
    "    google-chrome --version\n",
    "    which chromedriver # should be /usr/bin/chromedriver\n",
    "    \n",
    "    If not follow steps below\n",
    "    "
   ]
  },
  {
   "cell_type": "code",
   "execution_count": 1,
   "id": "e56109f8",
   "metadata": {},
   "outputs": [
    {
     "name": "stdout",
     "output_type": "stream",
     "text": [
      "\n"
     ]
    }
   ],
   "source": [
    "from selenium import webdriver\n",
    "from selenium.webdriver.chrome.service import Service\n",
    "from webdriver_manager.chrome import ChromeDriverManager\n",
    "\n",
    "driver = webdriver.Chrome(service=Service(ChromeDriverManager().install()))\n",
    "driver.get(\"https://www.google.com\")"
   ]
  },
  {
   "cell_type": "markdown",
   "id": "0aa65aa6",
   "metadata": {},
   "source": [
    "# If new system or new environment use these steps to make sure things are up and running"
   ]
  },
  {
   "cell_type": "markdown",
   "id": "cf57b6a0",
   "metadata": {},
   "source": [
    "## VcXsrv for selenium and wsl display\n",
    "sudo apt install xfce4 xfce4-goodies\n",
    "when prompted choose lightdm\n",
    "sudo apt-get install -y curl unzip xvfb libxi6 libgconf-2-4"
   ]
  },
  {
   "cell_type": "markdown",
   "id": "3e2575d4",
   "metadata": {},
   "source": [
    "## Install chrome if not installed\n",
    "wget https://dl.google.com/linux/direct/google-chrome-stable_current_amd64.deb\n",
    "sudo apt install ./google-chrome-stable_current_amd64.deb\n",
    "** \n",
    "Verify it works \n",
    "`google-chrome --version`"
   ]
  },
  {
   "cell_type": "markdown",
   "id": "b1ead3d2",
   "metadata": {},
   "source": [
    "## Install Chrome Driver\n",
    "``` old one use 103 \n",
    "wget https://chromedriver.storage.googleapis.com/86.0.4240.22/chromedriver_linux64.zip  \n",
    "```\n",
    "\n",
    "wget https://chromedriver.storage.googleapis.com/103.0.5060.53/chromedriver_linux64.zip\n",
    "unzip chromedriver_linux64.zip\n",
    "sudo mv chromedriver /usr/bin/chromedriver\n",
    "sudo chown root:root /usr/bin/chromedriver\n",
    "sudo chmod +x /usr/bin/chromedriver\n",
    "\n",
    "which chromedriver # should be /usr/bin/chromedriver\n",
    "\n",
    "export DISPLAY=$(cat /etc/resolv.conf | grep nameserver | awk '{print $2; exit;}'):0.0\n",
    "\n",
    "### test chrome \n",
    "`google-chrome`"
   ]
  },
  {
   "cell_type": "code",
   "execution_count": null,
   "id": "1922397d",
   "metadata": {},
   "outputs": [],
   "source": []
  }
 ],
 "metadata": {
  "kernelspec": {
   "display_name": "Python 3 (ipykernel)",
   "language": "python",
   "name": "python3"
  },
  "language_info": {
   "codemirror_mode": {
    "name": "ipython",
    "version": 3
   },
   "file_extension": ".py",
   "mimetype": "text/x-python",
   "name": "python",
   "nbconvert_exporter": "python",
   "pygments_lexer": "ipython3",
   "version": "3.10.4"
  }
 },
 "nbformat": 4,
 "nbformat_minor": 5
}
